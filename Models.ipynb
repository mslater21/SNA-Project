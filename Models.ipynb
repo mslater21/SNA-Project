{
 "cells": [
  {
   "cell_type": "code",
   "execution_count": 46,
   "id": "abfa5120",
   "metadata": {},
   "outputs": [],
   "source": [
    "import networkx as nx, matplotlib.pyplot as plt\n",
    "import numpy as np, pandas as pd\n",
    "import math"
   ]
  },
  {
   "cell_type": "code",
   "execution_count": 47,
   "id": "ec84bf64",
   "metadata": {},
   "outputs": [],
   "source": [
    "df = pd.read_csv('C:/Users/saich/OneDrive/Desktop/SNA/project/Data.csv')"
   ]
  },
  {
   "cell_type": "code",
   "execution_count": 82,
   "id": "420edc43",
   "metadata": {},
   "outputs": [],
   "source": [
    "GT = nx.Graph()\n",
    "GT.add_nodes_from(df['character'].tolist(),bipartite=1,node_color='w',alpha=0.4,node_shape='d')"
   ]
  },
  {
   "cell_type": "code",
   "execution_count": 83,
   "id": "28f13d04",
   "metadata": {},
   "outputs": [],
   "source": [
    "GT.add_nodes_from(df['title'].tolist(),bipartite=0,  node_color='red', alpha=0.4, node_shape='s')\n",
    "for i in range(len(df.index)):\n",
    "    GT.add_edge(df.at[i,'title'],df.at[i,'character'])"
   ]
  },
  {
   "cell_type": "code",
   "execution_count": 84,
   "id": "6743580a",
   "metadata": {},
   "outputs": [],
   "source": [
    "character_nodes = {n for n, d in GT.nodes(data=True) if d['bipartite'] == 1}\n",
    "title_nodes = set(GT) - character_nodes"
   ]
  },
  {
   "cell_type": "code",
   "execution_count": 85,
   "id": "3705e893",
   "metadata": {},
   "outputs": [
    {
     "data": {
      "text/plain": [
       "1860"
      ]
     },
     "execution_count": 85,
     "metadata": {},
     "output_type": "execute_result"
    }
   ],
   "source": [
    "len(character_nodes) # number of characters"
   ]
  },
  {
   "cell_type": "code",
   "execution_count": 86,
   "id": "316d7f46",
   "metadata": {},
   "outputs": [
    {
     "data": {
      "text/plain": [
       "60"
      ]
     },
     "execution_count": 86,
     "metadata": {},
     "output_type": "execute_result"
    }
   ],
   "source": [
    "len(title_nodes) # titles count"
   ]
  },
  {
   "cell_type": "code",
   "execution_count": 87,
   "id": "57049a1e",
   "metadata": {},
   "outputs": [
    {
     "data": {
      "text/plain": [
       "2307"
      ]
     },
     "execution_count": 87,
     "metadata": {},
     "output_type": "execute_result"
    }
   ],
   "source": [
    "len(GT.edges)"
   ]
  },
  {
   "cell_type": "code",
   "execution_count": 9,
   "id": "5a9b72d6",
   "metadata": {},
   "outputs": [
    {
     "data": {
      "image/png": "[encoded data removed]",
      "text/plain": [
       "<Figure size 432x288 with 1 Axes>"
      ]
     },
     "metadata": {},
     "output_type": "display_data"
    }
   ],
   "source": [
    "pos = nx.spring_layout(GT)\n",
    "nx.draw(GT)"
   ]
  },
  {
   "cell_type": "code",
   "execution_count": 54,
   "id": "c94c750d",
   "metadata": {},
   "outputs": [
    {
     "data": {
      "text/plain": [
       "['Iron Man',\n",
       " 'Iron Man 2',\n",
       " 'The Avengers',\n",
       " 'Iron Man 3',\n",
       " 'Avengers: Age of Ultron',\n",
       " 'Captain America: Civil War',\n",
       " 'Spider-Man: Homecoming',\n",
       " 'Avengers: Infinity War',\n",
       " 'Avengers: Endgame']"
      ]
     },
     "execution_count": 54,
     "metadata": {},
     "output_type": "execute_result"
    }
   ],
   "source": [
    "list(GT.neighbors('Tony Stark'))\n",
    "#List of Marvel movies Tony Stark acted"
   ]
  },
  {
   "cell_type": "code",
   "execution_count": 55,
   "id": "0f524025",
   "metadata": {},
   "outputs": [
    {
     "data": {
      "text/plain": [
       "['Tony Stark',\n",
       " 'Thor',\n",
       " 'Bruce Banner',\n",
       " 'Steve Rogers',\n",
       " 'Natasha Romanoff',\n",
       " 'Clint Barton',\n",
       " 'Ultron',\n",
       " 'Nick Fury',\n",
       " 'James Rhodes',\n",
       " 'Pietro Maximoff',\n",
       " 'Wanda Maximoff',\n",
       " 'Jarvis',\n",
       " 'Maria Hill',\n",
       " 'Sam Wilson',\n",
       " 'Peggy Carter',\n",
       " 'Heimdall',\n",
       " 'Laura Barton',\n",
       " 'Erik Selvig',\n",
       " 'Dr. Helen Cho',\n",
       " 'Strucker',\n",
       " 'Ulysses Klaue',\n",
       " 'Madame B',\n",
       " 'Stan Lee',\n",
       " 'Dr. List',\n",
       " 'Fortress Soldier',\n",
       " 'Strucker Mercenary',\n",
       " 'Zrinka',\n",
       " 'Costel',\n",
       " 'Sokovian Acid Student',\n",
       " 'Cooper Barton',\n",
       " 'Lila Barton',\n",
       " 'Friday',\n",
       " 'Nathaniel Pietro Barton']"
      ]
     },
     "execution_count": 55,
     "metadata": {},
     "output_type": "execute_result"
    }
   ],
   "source": [
    "list(GT.neighbors('Avengers: Age of Ultron'))\n",
    "#Main characters in the Avengers: Age of Ultron"
   ]
  },
  {
   "cell_type": "code",
   "execution_count": 56,
   "id": "0e94a1cb",
   "metadata": {},
   "outputs": [],
   "source": [
    "# To find the Similarities between the nodes\n",
    "def Jaccard_Cosine_Smlrty(G,l):\n",
    "    num = list(set([n for n in G.neighbors(l[0])]) & set([m for m in G.neighbors(l[1])]))\n",
    "    print('Common between the',l[0],'and', l[1],'are', num)\n",
    "    denom_j = list(set([n for n in G.neighbors(l[0])] + [m for m in G.neighbors(l[1])]))\n",
    "    print('Jaccard Similarity is ', len(num)/len(denom_j))\n",
    "    denom_c = math.sqrt(len([n for n in G.neighbors(l[0])])*len([n for n in G.neighbors(l[1])]))\n",
    "    print('Cosine Similarity is', len(num)/denom_c)"
   ]
  },
  {
   "cell_type": "code",
   "execution_count": 57,
   "id": "4a6ea3d2",
   "metadata": {},
   "outputs": [
    {
     "name": "stdout",
     "output_type": "stream",
     "text": [
      "Common between the Tony Stark and Steve Rogers are ['Captain America: Civil War', 'Avengers: Age of Ultron', 'Avengers: Infinity War', 'The Avengers', 'Avengers: Endgame']\n",
      "Jaccard Similarity is  0.4166666666666667\n",
      "Cosine Similarity is 0.5892556509887896\n"
     ]
    }
   ],
   "source": [
    "l = ['Tony Stark','Steve Rogers']\n",
    "Jaccard_Cosine_Smlrty(GT,l)"
   ]
  },
  {
   "cell_type": "code",
   "execution_count": 58,
   "id": "77130acd",
   "metadata": {},
   "outputs": [
    {
     "name": "stdout",
     "output_type": "stream",
     "text": [
      "Common between the Avengers: Age of Ultron and Avengers: Endgame are ['Bruce Banner', 'Natasha Romanoff', 'Thor', 'James Rhodes', 'Friday', 'Steve Rogers', 'Peggy Carter', 'Laura Barton', 'Lila Barton', 'Clint Barton', 'Sam Wilson', 'Cooper Barton', 'Jarvis', 'Wanda Maximoff', 'Nick Fury', 'Maria Hill', 'Tony Stark']\n",
      "Jaccard Similarity is  0.21794871794871795\n",
      "Cosine Similarity is 0.3758340350425746\n"
     ]
    }
   ],
   "source": [
    "l2= ['Avengers: Age of Ultron', 'Avengers: Endgame']\n",
    "Jaccard_Cosine_Smlrty(GT,l2)"
   ]
  },
  {
   "cell_type": "markdown",
   "id": "0a97e99b",
   "metadata": {},
   "source": [
    "Isolated Components"
   ]
  },
  {
   "cell_type": "code",
   "execution_count": 59,
   "id": "741449e1",
   "metadata": {},
   "outputs": [
    {
     "data": {
      "text/plain": [
       "3"
      ]
     },
     "execution_count": 59,
     "metadata": {},
     "output_type": "execute_result"
    }
   ],
   "source": [
    "# isolated components\n",
    "i= nx.number_connected_components(GT)\n",
    "i"
   ]
  },
  {
   "cell_type": "code",
   "execution_count": 60,
   "id": "ab7d25ad",
   "metadata": {},
   "outputs": [
    {
     "data": {
      "text/plain": [
       "[<networkx.classes.graph.Graph at 0x1a2f224e100>,\n",
       " <networkx.classes.graph.Graph at 0x1a2f21cb970>,\n",
       " <networkx.classes.graph.Graph at 0x1a2f21cbcd0>]"
      ]
     },
     "execution_count": 60,
     "metadata": {},
     "output_type": "execute_result"
    }
   ],
   "source": [
    "[GT.subgraph(c).copy() for c in nx.connected_components(GT)]"
   ]
  },
  {
   "cell_type": "code",
   "execution_count": 61,
   "id": "fad1246f",
   "metadata": {},
   "outputs": [
    {
     "data": {
      "text/plain": [
       "{'Azarel',\n",
       " 'Barasso',\n",
       " 'Billy Swan',\n",
       " 'Elsa Bloodstone',\n",
       " 'Jack Russell',\n",
       " 'Jovan',\n",
       " 'Liorn',\n",
       " 'Ted (The Man-Thing)',\n",
       " 'The Flaming Tuba',\n",
       " 'Ulysses Bloodstone',\n",
       " 'Verussa',\n",
       " 'Werewolf by Night'}"
      ]
     },
     "execution_count": 61,
     "metadata": {},
     "output_type": "execute_result"
    }
   ],
   "source": [
    "#Isolated component\n",
    "nx.node_connected_component(GT,'Werewolf by Night')"
   ]
  },
  {
   "cell_type": "code",
   "execution_count": 62,
   "id": "8fc41e95",
   "metadata": {},
   "outputs": [
    {
     "data": {
      "text/plain": [
       "{'Agent Blake',\n",
       " 'Agent Jasper Sitwell',\n",
       " 'Bennie Pollock',\n",
       " 'Claire Weiss',\n",
       " 'Marvel One-Shot: Item 47'}"
      ]
     },
     "execution_count": 62,
     "metadata": {},
     "output_type": "execute_result"
    }
   ],
   "source": [
    "nx.node_connected_component(GT,\"Marvel One-Shot: Item 47\")"
   ]
  },
  {
   "cell_type": "code",
   "execution_count": 63,
   "id": "8fb79cf5",
   "metadata": {},
   "outputs": [
    {
     "data": {
      "image/png": "[encoded data removed]",
      "text/plain": [
       "<Figure size 432x288 with 1 Axes>"
      ]
     },
     "metadata": {},
     "output_type": "display_data"
    }
   ],
   "source": [
    "#Isolated Network of Werewolf team \n",
    "G_Werewolf = nx.Graph()\n",
    "for i in range(len(df.index)):\n",
    "    if (df.at[i,'title'] == 'Werewolf by Night'):\n",
    "        G_Werewolf.add_edge(df.at[i,'title'],df.at[i,'character'])\n",
    "nx.draw(G_Werewolf,with_labels=True, font_color='black')"
   ]
  },
  {
   "cell_type": "code",
   "execution_count": 64,
   "id": "c08b76d1",
   "metadata": {},
   "outputs": [
    {
     "data": {
      "image/png": "[encoded data removed]",
      "text/plain": [
       "<Figure size 432x288 with 1 Axes>"
      ]
     },
     "metadata": {},
     "output_type": "display_data"
    }
   ],
   "source": [
    "G_Oneshot = nx.Graph()\n",
    "for i in range(len(df.index)):\n",
    "    if (df.at[i,'title'] == 'Marvel One-Shot: Item 47'):\n",
    "        G_Oneshot.add_edge(df.at[i,'title'],df.at[i,'character'])\n",
    "nx.draw(G_Oneshot,with_labels=True, font_color='black')"
   ]
  },
  {
   "cell_type": "code",
   "execution_count": 65,
   "id": "d7a9fabd",
   "metadata": {},
   "outputs": [],
   "source": [
    "def deg_dst(G7): # degree distribution of titles and characters\n",
    "    degrees = [G7.degree(n) for n in title_nodes]\n",
    "    deg,freq = np.unique(degrees,return_counts=True)\n",
    "    plt.plot(deg,freq,label = 'title degree distribution')\n",
    "    plt.legend()\n",
    "    plt.show()\n",
    "    degrees1 = [G7.degree(n) for n in character_nodes]\n",
    "    deg1,freq1 = np.unique(degrees1,return_counts=True)\n",
    "    plt.plot(deg1,freq1,label = 'characters degree distribution')\n",
    "    plt.legend()\n",
    "    plt.show()\n",
    "def avg_deg_cc(G): # average degree and clustering co-efficient\n",
    "    avg_cc_G = nx.transitivity(G)\n",
    "    avg_deg_G = G.degree()\n",
    "    deg_sum_G =0\n",
    "    for j in list(avg_deg_G):\n",
    "        deg_sum_G += j[1]\n",
    "    avg_deg_G =  deg_sum_G/len(G.nodes())\n",
    "    return (avg_deg_G, avg_cc_G)"
   ]
  },
  {
   "cell_type": "code",
   "execution_count": 66,
   "id": "b0006d3d",
   "metadata": {},
   "outputs": [],
   "source": [
    "avg_deg_, avg_clstrng_ = avg_deg_cc(GT) \n",
    "#print('Average degree of Network', avg_deg_,'clustering co-efficient', avg_clstrng_)"
   ]
  },
  {
   "cell_type": "code",
   "execution_count": 67,
   "id": "6f436477",
   "metadata": {},
   "outputs": [],
   "source": [
    "num = 0 \n",
    "for c in nx.connected_components(GT):\n",
    "    num += nx.average_shortest_path_length(GT.subgraph(c))*len(GT.subgraph(c))"
   ]
  },
  {
   "cell_type": "code",
   "execution_count": 68,
   "id": "88252bd1",
   "metadata": {},
   "outputs": [],
   "source": [
    "GT_avg_path = num/len(GT.nodes())"
   ]
  },
  {
   "cell_type": "code",
   "execution_count": 69,
   "id": "9aef66cf",
   "metadata": {},
   "outputs": [
    {
     "name": "stdout",
     "output_type": "stream",
     "text": [
      "MU Network \n",
      " \n",
      "Average degree 2.403125\n",
      "Average path 4.81965255871013\n",
      "Average clusteirng 0.0009916895257868273\n"
     ]
    }
   ],
   "source": [
    "print(\"MU Network \\n \")\n",
    "print(\"Average degree\" ,avg_deg_ )\n",
    "print(\"Average path\",GT_avg_path)\n",
    "print(\"Average clusteirng\", avg_clstrng_)"
   ]
  },
  {
   "cell_type": "code",
   "execution_count": 26,
   "id": "7f328fa9",
   "metadata": {},
   "outputs": [
    {
     "data": {
      "image/png": "[encoded data removed]",
      "text/plain": [
       "<Figure size 432x288 with 1 Axes>"
      ]
     },
     "metadata": {
      "needs_background": "light"
     },
     "output_type": "display_data"
    },
    {
     "data": {
      "image/png": "[encoded data removed]",
      "text/plain": [
       "<Figure size 432x288 with 1 Axes>"
      ]
     },
     "metadata": {
      "needs_background": "light"
     },
     "output_type": "display_data"
    }
   ],
   "source": [
    "deg_dst(GT)"
   ]
  },
  {
   "cell_type": "code",
   "execution_count": 27,
   "id": "6c45fac3",
   "metadata": {},
   "outputs": [],
   "source": [
    "#des = [GT.degree(n) for n in title_nodes]\n",
    "titles_dict ={}\n",
    "characters_dict={}\n",
    "for n in title_nodes: \n",
    "    titles_dict.update({n:GT.degree(n)})\n",
    "for n in character_nodes:\n",
    "    characters_dict.update({n:GT.degree(n)})  \n",
    "#list(des)"
   ]
  },
  {
   "cell_type": "code",
   "execution_count": 28,
   "id": "d56fa37d",
   "metadata": {},
   "outputs": [
    {
     "name": "stdout",
     "output_type": "stream",
     "text": [
      "Chracters degree {'Uncle Rasheed': 1, 'Kevin Singleton': 1, 'Carla Talbot': 1, 'Reporter 2': 1, 'Alisha Whitley': 1, 'Senator Ellen Nadeer': 1, 'Orville': 1, 'Reva Connors': 2, 'Catherine Starr': 1, 'Leland Owlsley': 1, 'Dr. Noah Burstein': 1, 'Geiger': 1, 'James Montgomery Falsworth': 1, 'D.W. Griffith': 1, 'Karolina Dean': 1, 'Kree Doctor': 1, 'Adina Johnson': 1, 'Domingo Colon': 1, 'Zip': 1, 'Hernan Alvarez': 1, 'Nonna Manfredi': 1, \"Meredith's Mother\": 1, 'Rebel Leader': 1, 'Philip Cabroni': 1, 'Officer Fitzgibbon': 1, 'General Rick Stoner': 1, 'Gao Lei': 1, 'Tomas': 1, 'Young Hope': 1, 'Steve Wilson': 1, 'Sway Calloway': 1, 'Vin-Tak': 1, 'Birdie': 1, 'Edwin Abbott': 1, 'Yinsen': 1, 'Sonya': 1, 'Toad': 1, 'Char': 1, 'Dave': 3, 'Zuri': 1, 'Dr. List': 2, 'Russell Feldman': 1, 'Dr. Seth Honicky': 1, 'J. Jonah Jameson': 2, 'News Reporter': 1, 'Captain Carter': 1, 'Kourtney': 1, 'Todd Chesterfield': 1, 'Lieutenant Perez': 1, 'Heimdall': 6, 'Young Gordon': 1, 'Drax': 5, 'Sugar': 1, 'Norm': 1, 'Marcus Daniels': 1, 'Hangar Guard #2': 1, 'Jan': 1, 'Tweaky': 1, 'Karun': 1, 'Schneider': 1, 'Joaquin Torres': 1, 'Agent Baylin': 1, 'Agent Monti': 1, 'JARVIS': 3, 'Sprite': 1, 'Beta': 1, 'Coach Wilson': 2, 'Claire Weiss': 1, 'Aunt Cindy': 1, 'Dr. Hamid Madani': 1, 'Sunjna Nadeer': 1, 'Crystal': 1, 'Agent Phelps': 1, 'Young Adult Cottonmouth': 1, 'Jake Nelson': 1, 'Gretchen': 1, 'Rooster': 1, 'Latimer Zyl': 1, 'Roy Olsky': 1, 'Norex': 1, 'Emma': 1, 'Ruihua': 1, 'Rosalind Price': 1, 'Older Man': 1, 'Karnak': 1, 'Gilmore Hodge': 1, 'Elihas Starr': 1, 'Colonel': 1, 'Brett Mahoney': 1, 'Agent Calderon': 1, 'Jakob Nystrom': 1, 'Julie Barnes': 1, 'Michael Kemp': 1, 'Alex Wilder': 1, 'Officer Derrick Jackson': 1, 'Dennis the Mailman': 1, 'Evita Fusilier': 1, 'Antonia': 1, 'Kate': 1, 'Detective Sgt. Thompson': 1, 'Robert Gonzales': 1, 'Melinda May': 1, 'Ronnie Chang': 1, 'Lennox': 1, 'Josh': 1, 'Jacques Dernier': 1, 'Snowflake': 1, 'Dr. Hank Pym': 2, \"Alphonso 'Mack' Mackenzie\": 1, 'Bron-Char': 1, 'Ulysses Bloodstone': 1, 'Male Prostitute': 1, 'Doctor Zakarian': 1, 'Rintrah': 1, 'Dana Stryker': 1, 'Mrs. Elizabeth De Luca': 1, 'MIT Assistant Vice Chancellor': 1, 'Arthur': 1, 'Shirley': 1, 'Motel Clerk': 1, 'Bethany': 1, 'Antoine': 1, 'Sylvie': 1, 'Stone': 1, 'Reid Pearson': 1, 'Elektra Natchios': 2, 'Stoner Chronicom': 1, 'Caretaker': 1, 'Taryan': 1, 'Paxton Page': 1, 'Spectre 2': 1, 'Secretary of State Thaddeus Ross': 1, 'Joseph Danvers': 1, 'Agent Johnson': 1, 'Luke Jacobson': 1, 'Catering Captain Gary': 1, 'Sana': 1, 'Senator Stern': 2, 'Darnell': 1, 'Dr. Nic West': 1, 'Judge Price': 1, 'Pepper Potts': 8, 'Officer Fuchs': 1, 'Carson Wolf': 1, 'Andre': 1, 'Bill Fisk': 1, 'Iridia': 1, 'Jason': 1, 'Chris Adler': 1, 'Nomble': 1, 'Maynard': 1, 'Sheriff Hardin': 1, 'Vice President Rodriguez': 1, 'Jeffrey Mace': 1, 'Nicole': 1, 'Security Chief Liu': 1, 'Steven Benowitz': 1, 'Theo': 1, 'Gor': 1, 'Spectre 3': 1, 'Chad': 1, 'Trevor Slattery': 3, 'Maria Hill': 7, 'Isodyne Receptionist': 1, 'Taserface': 2, 'Kingpin': 1, 'Neda Kazemi': 1, 'Jack Murdock': 1, 'Anansi': 1, 'Nicole Mackenzie': 1, 'Dr. Ivchenko': 1, 'Abomination': 1, 'Baby Groot': 2, 'Robin Hinton': 1, 'Casey': 1, 'Batroc': 1, 'Sebastian Derik': 1, 'Xavin': 1, 'Corpsman Dey': 1, 'Curtis Hoyle': 1, 'Bruno': 2, 'John Pilgrim': 1, 'Benny': 1, 'Octavian Bloom': 1, 'Bronaja': 1, \"Jimmy 'The Bear'\": 1, 'Liam Walsh': 1, 'Callie Hannigan': 1, 'Esther Falb': 1, 'Klev': 1, 'Tiny': 2, 'Dr. Bruner': 1, 'Master Guang Bo': 1, 'Triton': 1, 'Shane Larson': 1, 'Hamir': 1, 'Pretorious Pryce': 1, 'Young Tandy': 1, 'Lieutenant Evans': 1, 'Qolpakc': 1, 'Buyer': 1, 'Elena': 1, 'Morris Walters': 1, 'George Bach': 1, 'FSO Agent': 1, 'State Senator Asa Henderson': 1, 'Eldrac': 1, 'Joey Gutierrez': 1, 'Haruto Yakimura': 1, 'Agent Rivera': 1, 'Copper': 1, '12 Year Old Danny': 1, 'D.A. Samantha Reyes': 1, 'Santino': 1, 'Young Adult Pop': 1, 'Georges Batroc': 2, 'Jemma Simmons': 1, 'Kincaid': 1, 'Det. Oscar Clemons': 1, 'Agent McCafferty': 1, 'Beautiful Woman': 1, 'Cusi': 1, 'Habooska the Horrible': 1, 'Maureen Denton': 1, 'Shameek Smith': 1, 'Blonde Zealot': 1, 'Dan Hartlett': 1, 'Holden': 1, 'Thomas Blaskowski': 1, 'Ned Leeds': 3, 'Yondu': 2, 'Tony Stark': 9, 'Agent Doyle': 1, 'Ben': 2, 'Julien Beckers': 1, 'Col. Morty Bennett': 1, 'Mr. Dell': 2, 'Druig': 1, 'Secretary Ross': 4, 'John Hammer': 1, 'Felix Manning': 1, 'Comanche': 1, 'Dr. Lawrence': 1, 'Sheikh Abdullah': 1, 'Detective Mark Bailey': 1, 'Louise Thompson': 1, 'Chauncey': 1, 'Janice': 1, 'Radovan Bernivig': 1, 'Father Lantom': 2, 'Loyolis': 1, 'Agent Daisy Johnson': 1, 'Doctor Stephen Strange': 1, \"Henry 'Pop' Hunter\": 1, 'Sam Wilson': 6, 'Young Kilgrave': 1, 'Scientist Morocco 2': 1, 'Mr. Berkowitz': 1, 'Roxy Glass': 1, 'Detective Dorsey': 1, 'Inspector Priscilla Ridley': 1, 'Mrs. Hart': 1, 'Agent Pinksy': 1, 'Amy': 1, 'Friday': 4, 'Bek': 1, 'Agent Blackwell': 1, 'Bobby Fish': 1, 'Mistress': 1, 'Amalia Chavez': 1, 'Sharon Carter': 3, 'Smithsonian Guard': 1, 'Tess': 1, 'Flint': 1, 'Matt Murdock': 3, 'Debbie': 1, 'Murakami': 1, 'Dennis Bukowski': 1, 'Alonso Barber': 1, 'General Jacobs': 1, 'Cricket': 1, 'Sister Maggie': 1, 'Eli Morrow': 1, 'Beth Quinn': 1, 'Andre Deschaine': 1, 'Tommy Maximoff': 2, 'Enrique': 1, 'Carina': 1, 'Francis': 1, 'Donald Hooper': 1, 'Little Kazi': 1, 'Skinny Steve': 1, 'Ana Silva': 1, 'Mac Gargan': 1, 'Oksana': 1, 'Yasmin': 1, 'Archer Cavallo': 1, 'Liorn': 1, 'The Flaming Tuba': 1, 'Mrs. Lee': 1, 'Bereet': 1, 'Hai-Qing Yang': 2, 'Senator Cherryh': 1, 'Mystery Woman': 1, 'Stanley': 1, 'Dr. Grady': 1, 'Wendy Spector': 1, 'Airman Richardson': 1, 'Seema Nadeem': 1, 'Gabriel Soto': 1, 'Cop': 1, 'Peng': 1, 'Committee Chairperson': 1, \"T'Chaka\": 2, 'Elliot': 1, 'Selim': 1, 'Uatu': 1, 'Karla Faye Gideon': 1, 'Roger Dooley': 1, 'Miriam': 1, 'D.K.': 1, 'Dove': 1, 'Jarvis': 4, 'Ronald Garcia': 1, 'Dylan': 1, 'Ruby': 2, 'Okoye': 4, 'Falcon': 1, 'Anton Petrov': 1, 'Benjamin Donovan': 2, 'Denarian Saal': 1, 'Crawley': 1, 'Det. Sgt. Brett Mahoney': 1, 'Ian Boothby': 1, 'Maria Castle': 1, 'Alexander Pierce': 2, 'Nurse Brad': 1, 'Isaiah': 1, 'Carol': 1, 'Owais': 1, 'Eugene': 1, 'Atarah': 1, 'Barbara Shlottman': 1, 'Catherine Wilder': 1, 'Tina': 1, 'Vido Arocho': 1, 'The Other': 1, 'Tye': 1, 'Delores': 1, 'Charles Hinton': 1, 'William Lopez': 1, 'Young Quill': 1, 'Sunil Bakshi': 1, 'Isaac': 1, 'Styler': 1, 'Zeus': 1, 'Ott': 1, 'Doris Toomes': 1, 'Brett Latour': 1, 'Agent Tyler': 1, 'Uzman': 1, 'Deputy Murphy': 1, 'Dr. Gregory Tepper': 1, 'Foggy Nelson': 4, 'Marc Spector': 1, 'David Ellerh': 1, \"Maitre d'\": 1, 'Crony': 1, 'Lord Thornally': 1, 'Elias Spector': 1, 'Dr. Garrison': 1, 'Lerato': 1, \"Maximillian 'Max' Tatum\": 1, 'Donna': 1, 'Auntie Chantelle': 1, 'Cassie Lang': 2, 'Abby': 1, 'L.T. Koenig': 1, 'Toshiro Mori': 1, 'Noah': 2, 'Young Sana': 1, 'Miles Van Ert': 1, 'Officer Anderson': 1, 'Malekith': 1, 'Jon Jon': 1, 'Dale Yorkes': 1, 'Armand III': 1, 'Dr. Arnim Zola': 3, 'Oscar Arocho': 1, 'Ben Urich': 1, 'Alice Hernandez': 1, 'Mr. Cardozo': 1, 'Edison Po': 1, 'Patricia Wilson': 1, 'Dr. Gallo': 1, 'Dr. Leslie Hansen': 1, 'Will Daniels': 1, 'Loretta Dooley': 1, 'Cassandra': 1, 'Tyesha': 1, 'Rick': 3, 'Agent Delancey': 1, 'William Ginter Riva': 2, 'John McIver': 1, 'C-Money': 1, 'Nate': 1, 'Max Dillon': 1, 'Agent Thomas': 1, 'Dana': 1, 'Archeologist': 1, 'Hannah': 1, 'Jack Thompson': 1, 'Porcupine': 1, 'Maury Tuttlebaum': 1, 'Phineas Mason': 1, 'Thomas Nash': 1, 'Tat': 1, 'Adrian': 1, 'Bridget': 1, 'Gamora': 5, 'Ringmaster': 1, 'Mr. Ho': 1, 'Sasha Demidov': 1, 'Mary Walker': 1, 'Leonard': 1, \"Daisy 'Skye' Johnson\": 1, 'Viro': 1, 'Mrs. Zeller': 1, 'Graham': 1, 'Meredith Quill': 2, 'Charles Wallace': 1, 'Tony Caine': 1, 'Ernesto The Barber': 1, 'Kaecilius': 1, 'Agent Jones': 1, 'Nakia': 2, 'Katie Thompson': 1, 'Misty Knight': 3, 'Lonnie Wilson': 1, 'Zrinka': 1, 'Maria Stark': 1, 'Lawrence Wilkins': 1, 'Samuel Voss': 1, 'Ivan Vanko': 1, 'Thomas Gloucester': 1, 'Ellen King': 1, 'Maya Hansen': 1, 'Agent Blake': 1, 'Michelle Raymond': 1, 'Vicar': 1, 'Frank': 2, 'Scientist Morocco 1': 1, 'General Fischer': 1, 'Agent Moore': 1, 'Gina': 1, 'Rose': 1, 'Nick Fury': 11, 'Agent Flynn': 1, 'Watchdog Victor': 1, 'Pat Kiernan': 4, 'Rollo': 1, 'Betty Carver (Radio Actor)': 1, 'Santino Noguera': 1, 'Xialing': 1, 'James Rhodes': 5, 'Elena Rodriguez': 1, 'James Wesley': 1, 'Mr. Kazemi': 1, 'Vaughn': 1, 'Darius': 1, 'Tony Diaz': 1, 'Nurse Smith': 1, 'Mr. Hillman': 1, 'Soldier #1': 1, 'Fortress Soldier': 1, 'Tilda Johnson': 1, 'Weems': 1, 'Dr. Samberly': 1, 'Agent Quan': 1, 'Dr. Jazuat': 1, \"'Pistol Pete' Stokes\": 1, 'Thomas Ward': 1, 'Todd': 3, 'Jane Foster': 5, 'Agent Hauer': 1, 'Connie Lin': 1, 'Lisa Castle': 1, 'Costel': 1, 'Briggs': 1, 'Kilgrave': 1, 'Warden Riggle': 1, 'Female Prostitute': 1, 'Cole': 1, 'Grandpa': 1, 'Robert Minoru': 1, 'Dr. Van Kempen': 1, 'Gorgon': 1, 'Charles Bradley': 1, 'Cornelius P. Willows': 1, 'Agent Burleigh': 1, 'Skeevy Guy': 1, 'Red Skull (Stonekeeper)': 2, 'Young Elektra': 1, 'Protester #2': 1, 'Harold Simcoe': 1, 'Leo Fitz': 1, 'Liz': 1, 'Lieutenant James Rhodes': 1, 'Ho Yinsen': 1, 'Qajax': 1, 'Agent Markham': 1, 'President Ellis': 3, 'Graciela Aguirre': 1, 'Dr. Kozlov': 1, 'Albert Rackham': 1, 'Professor Steger': 1, 'Donnie Gill': 1, 'Zainab': 1, 'Brick': 2, 'Marcus': 1, 'Arthur Walsh': 1, 'Heather': 1, 'Chase Brunski': 1, 'Kree Captain': 1, 'Gunner': 2, 'Koko': 1, 'Dr. Broussard': 1, 'Young Janet': 1, 'Talos': 2, 'Sheldon': 1, 'Ancient Shop Manager': 1, 'Stick': 2, 'Frank Levin': 1, 'Elena Chavez': 1, 'Edwin Dunlap': 1, 'Lash': 1, 'Male Reporter': 1, 'Jack Rollins': 1, 'Aunt May': 1, 'Giyera': 1, 'Michael Pilgrim': 1, 'Young Mariah': 1, 'Zack': 1, 'Farah Madani': 1, 'Claire Temple': 5, 'Ahmad': 1, 'Danny Rand': 3, 'Lead SVR Agent': 1, 'Keith': 1, 'Private Tilden': 1, 'Barb': 1, 'Lopes': 1, 'Dreykov': 1, 'Hela': 1, 'Billy': 2, 'Kimball': 1, 'Young Natasha': 1, 'Felix': 1, 'Judge Cynthia Batzer': 1, 'Candace': 1, 'Yori': 1, 'Topaz': 2, 'Honest Eddie': 1, 'Tech': 1, 'Peter Quill': 6, 'Oeznik': 1, 'Ikaris': 1, 'Bennie Pollock': 1, 'Ned': 3, 'Miguel': 2, 'Audrey Eastman': 1, 'Walt Cooper': 1, 'Mr. Edwards': 1, 'Billy Maximoff': 2, 'Yusef Hadad': 1, 'Vanchat': 1, 'Agent Ryan': 1, 'Roscoe Sweeney': 1, 'Elsa Bloodstone': 1, 'Dagger': 2, 'Teenage Carl Lucas': 1, 'Stephanie aka Billie': 1, 'Xu Wenwu': 1, 'Donny Blaze': 1, 'Henry Yip': 1, 'Kro': 1, 'Otis Johnson': 1, 'Young Medusa': 1, 'Francine': 1, 'Sandi Ann': 1, 'MJ': 2, 'Spectre 1': 1, 'Officer': 1, 'Jimmy Mackenzie': 1, 'Yelena Belova': 1, 'Grandmaster': 2, 'Layla El-Faouly': 1, 'Greg Pressfield': 1, 'Holt': 1, 'Mama Mabel': 1, 'Jackson Brice': 1, 'Ex-Hydra Follower #1': 1, 'Daniel Gibson': 1, 'Barasso': 1, 'Ethan': 1, 'Herman Schultz': 1, 'Agent Piper': 1, 'Debonair Gentleman': 1, \"Agent O'Brien\": 1, 'Gary': 1, 'Rafael Hernandez': 1, 'Theo Nelson': 1, 'Yon-Rogg': 1, 'Marilyn': 2, 'Bobbi Morse': 1, 'Elias': 1, \"Arturo 'El Rey' Gomez III\": 1, 'Madame Gao': 3, \"N'Jobu\": 1, 'Faith Evans': 1, 'Agent Kaminsky': 1, 'Brock Rumlow': 4, 'Eric Hong': 1, 'Mordo': 1, 'Mr. Cobbwell': 1, 'Shaun': 1, 'Andrew Brandt': 1, 'Ace Peterson': 1, 'General Androvich': 1, 'Captain Tom Ridenhour': 1, 'Silvio': 1, 'Young Molly': 1, 'Adrian Toomes': 1, 'Patrick': 1, 'Vanessa Marianna': 1, 'Drea Powell': 1, 'Jaco': 1, 'Tone': 1, 'Cecilio': 1, 'Billy Koenig': 1, 'Cindy': 2, 'Hugo': 1, 'Additional Voices': 1, 'Reese': 1, 'Daniel Sousa': 2, 'Jovan': 1, 'Chuck Donelan': 1, 'Manuel Silva': 1, 'Grotto': 1, 'Leet Brannis': 1, 'Herman': 1, 'Megan Henderson': 1, 'Wong': 7, 'Sinara': 1, 'Young Maximus': 1, 'Major Kathleen Sparr': 1, 'Lulu': 1, 'Victoria Hand': 1, 'Alex Wesley': 1, 'Ted': 1, 'Dapper Dan': 1, 'Detective Blake': 1, 'Durant': 1, 'Flint Marko': 1, 'Dr. Grant': 1, 'Violet': 1, 'Vision': 3, 'Raza': 1, 'Armed Guard': 1, \"Lt. Col. James 'Rhodey' Rhodes\": 2, 'Dr. Weiss': 1, 'Karli Morgenthau': 1, 'Officer Pike': 1, 'Chip Womack': 1, 'Agent Phil Coulson': 1, 'Mouse': 2, 'Officer Carvalho': 1, 'Eric Fraser': 1, 'Pedro The Bartender': 1, 'Josie': 1, 'Agent Butch Wallace': 1, 'Petra Larsen': 1, 'Kith Lyonne': 1, 'Alisa Jones': 1, 'Amy Minoru': 1, 'Agent Cale': 1, 'Gedrick': 1, 'Pete Boggs': 1, 'Clint': 1, 'Cloak': 2, 'Zev': 1, 'Harley Keener': 1, 'Mr. Delmar': 2, 'Young Gideon Malick': 1, 'Kyle': 1, 'Mr. Zhang': 1, 'Eir': 1, 'Edward Tate': 1, 'Madame B': 1, 'Pip the Troll': 1, 'Susan Ellerh': 1, 'Lewis Walcott': 1, 'Kevin': 1, 'Makani': 1, 'Ruben': 1, 'Agent Jasper Sitwell': 1, 'Torx': 1, 'Agent Coulson': 8, 'Detective Flores': 1, 'Detective Rafael Scarfe': 1, 'Anne Marie Hoag': 1, 'Edwin Jarvis': 1, 'Dum Dum Dugan': 3, 'Christine Palmer': 1, 'Semyon': 1, 'Dr. Abraham Erskine': 1, \"Raymond 'Piranha' Jones\": 1, 'Limbani': 1, 'Bobbi': 1, 'Samuel Sterns': 1, 'Hank': 1, 'Norma': 1, 'Jesse Fletcher': 1, 'Royal Guard Sergeant': 1, 'Thena': 1, 'Frank Castle Jr.': 1, 'Yat-Sen': 1, 'Colonel Victor Ramon': 2, 'Zylak': 1, 'Joseph Manfredi': 1, 'Ms. Warren': 1, 'Baal-Gad': 1, 'Megan McClaren': 1, 'Mita Nansari': 1, 'Agent Mike Li': 1, 'Wanda Maximoff': 6, 'Zhi': 1, 'Daniel Drumm': 1, 'Sammy': 1, 'Jonathan Pangborn': 1, 'Cassie': 1, 'Nazi General': 1, 'Hydra Buyer': 1, 'Greaseball': 1, 'Tina Adams': 1, 'Kenneth Turgeon': 1, 'Agent Harris': 1, 'Lia': 1, 'Ravonna Renslayer': 1, 'Joan Rivers': 1, 'Hank Pym': 2, 'Betty Brant': 2, 'Sara': 1, 'The Seamstress': 1, 'Agent Brandon Gamble': 1, 'Laura Hayward': 1, 'Red Dagger': 1, 'Billy Swan': 1, 'Luther Banks': 1, 'Tawni': 1, 'Unique': 1, 'Agent Sitwell': 3, 'Peanut Vendor': 1, 'Ghost Rider': 1, 'Manny': 1, 'Francis Noche': 1, 'Maria Rodriguez': 1, 'Colonel Chester Phillips': 1, 'Tinker': 1, 'Jason Ionello': 1, 'Agent Deever': 1, 'Anderson Schultz': 1, 'Stephanie Malick': 1, 'Inn Keeper': 1, 'Russell': 1, 'Gabe Reyes': 1, 'Michael': 1, 'Nathan Bowen': 1, 'Agent Alvarez': 1, 'Watchdog Alpha': 1, 'Duane Porter': 1, 'Howard the Duck': 2, 'Asgardian Stagehand': 1, 'Skaar': 1, 'Gillian': 1, 'Nigel Garrison': 1, 'Lexi Raymond': 1, 'Erik Selvig': 3, 'Len Sirkes': 1, 'Najma': 1, 'Carl Creel': 1, 'Kebo': 1, \"Meredith's Brother\": 1, 'Melvin Potter': 1, 'Aubree Richards': 1, 'Laurent Lyonne': 1, 'Karen': 1, 'Steve Scott': 1, 'Agent Slate': 1, 'Agent Rick Ramirez': 1, 'Soo': 1, 'Taweret': 1, 'Miek': 1, 'Agent Julian': 1, 'Tyr': 1, 'Ray Nadeem': 1, 'Khonshu Performer': 1, 'Dr. Curt Connors': 1, 'Charles': 1, 'Dr. Tiboldt': 1, 'Volstagg': 3, 'Ebony Maw': 3, 'Mayan': 1, 'Viola': 1, 'Dr. Franklin Hall': 1, 'Guterman': 1, 'John Epps': 1, 'Chronicom': 1, 'Malcolm Ducasse': 2, 'Felix Blake': 1, 'David': 1, 'Huhtar': 1, 'George Talbot': 1, 'Sonia': 1, 'Aamir': 1, 'Pizza Poppa': 1, 'John Mackenzie': 1, 'Tommy Chang': 1, 'Goon Three': 1, 'Silke': 1, 'Samantha Reyes': 1, 'Lilla Mackenzie': 1, 'Gef': 1, 'Natasha Romanoff': 8, 'Tucker Shockley': 1, 'Eliza': 1, 'Luanne': 1, 'Saracen': 1, 'Savin': 1, 'Tillman': 1, 'Carol Denvers': 1, 'Agent Vega': 1, 'Maximus': 1, '12 Year Old Davos': 1, 'Bynum': 1, 'Norman Osborn': 1, 'Etta Lucas': 1, 'Mike on a Bike': 1, 'Dante Chapman': 1, 'Madisynn': 1, 'Carlos': 2, 'Kate Bishop': 1, 'Melissa Bowen': 1, 'Ying Nan': 1, 'Lindsay': 1, 'Jen': 1, 'Burrows': 1, \"Anthony 'AWOL' Wall\": 1, 'Khonshu': 1, 'Jennifer Fisher': 1, 'Brad Davis': 1, 'Groot': 4, 'Sharon': 1, 'Strucker Mercenary': 1, 'Hugh Jones': 1, 'Detective Imada': 1, 'Joel Spurlock': 1, 'Valentina Allegra de Fontaine': 1, 'Nico': 1, 'Glenn Talbot': 1, 'Chief Bernie': 1, 'Young Hank': 1, 'Davos': 1, 'Wendy': 2, 'Hogun': 3, 'Clint Barton': 6, 'Blondie': 1, 'Jamel Shabazz': 1, 'Jimmy Woo': 2, 'Yuchen': 1, 'Anton Ivanov': 1, 'Thunderball': 1, 'Skurge': 1, 'Odin': 3, 'Francisco Rodriguez': 1, 'Stan Gibson': 1, 'Kurt': 3, 'Sarah Wilson': 1, 'Night Waitress': 1, 'Reno': 1, 'Young Xialing': 1, 'Pam': 1, 'Recruit #1': 1, 'Ovechkin': 1, 'Martinex': 1, 'Natalie Rushman/Natasha Romanoff': 1, 'Lieutenant Decker': 1, 'Hero Torfan': 1, 'Agent Weaver': 1, 'Archbishop Terrazi': 1, 'Camper #4': 1, 'Tina Minoru': 2, 'Sakas': 1, 'Kirk Vogel': 1, 'James Lucas': 1, 'Hirochi': 1, \"Colleen O'Brien\": 1, 'Young Trish': 1, 'Leo Lieberman': 1, 'Robin': 1, 'Watchdog Oscar': 1, 'Beverly': 1, 'Agent Lumley': 1, 'Peter Scarborough': 1, \"O'Bengh\": 1, 'Agent More': 1, 'Nesbitt': 1, 'Engine Pirate': 1, 'Sally': 2, 'Maria': 1, 'Mikayla': 1, 'Vilca': 1, 'Squabbles aka Reggie': 1, 'Anibal Izqueda': 1, 'Agent Shaw': 1, 'Karine': 1, 'Jerry': 2, 'Destiny': 1, 'Solomon': 1, 'Nathaniel Pietro Barton': 1, 'Razor Fist': 1, 'Holden Radcliffe': 1, 'Cameraman': 1, 'Loan Officer': 1, 'Olga Pachinko': 1, 'Erik Killmonger': 2, 'Dr. Christina Raynor': 1, 'Detective Nandi Tyler': 1, 'El Aguila': 1, 'Jonah': 1, 'Erik Gelden': 1, 'Valkyrie': 2, 'Agent Leo Fitz': 1, 'Young Matt': 1, 'John Garrett': 1, 'Dr. Fitzgibbon': 1, 'Dane Whitman': 1, 'Dwight Frye': 1, 'Bronwyn': 1, 'Bailiff': 1, 'Miriam Fry': 1, 'Chancellor Hui': 1, 'Arnim Zola': 1, 'Quinton the Great': 1, 'Sequoia': 1, 'Officer Stuart': 1, 'Thomas Roberts': 2, 'Auntie Ruby': 1, \"General 'Thunderbolt' Ross\": 1, 'Cooper Barton': 3, 'Alan': 1, 'Mrs. Hillman': 1, 'Mrs. Vistain': 1, 'Doris': 1, 'ESU Lieutenant Mario Green': 1, 'Professor Charles Xavier': 1, 'Will Adams': 1, 'Lieutenant Ferrara': 1, 'Kamar-Taj Teacher': 1, 'Raina': 1, 'Zoha': 1, 'Uncle Tucker': 1, 'Anitolov': 1, 'Sofia': 1, 'Hasan': 1, 'Brandt': 1, 'Cadet Officer': 1, 'Calvin Chadwick': 1, 'Dr. Marcus Benson': 1, 'FBI Agent Jurmain': 1, 'Sokovian Acid Student': 1, 'Akihiko': 1, 'Brandon': 1, 'The Vicar': 1, 'Young Dex': 1, \"T'Challa\": 5, 'Christiane Amanpour': 1, 'Heinz Kruger': 1, \"Robert 'Whizzer' Coleman\": 1, 'Chronicom Hunter #1': 1, 'Grant Ward': 1, 'Aida': 1, 'Mariah Dillard': 1, 'Shepard': 1, 'Wyatt': 1, 'Sif': 4, 'Martha': 1, 'Azarel': 1, 'Ward Meachum': 1, 'Dr. Pascal Vega': 1, 'Agent Lim': 1, 'Aaron Davis': 1, 'Eitri': 1, \"Wilfredo 'Chico' Diaz\": 1, 'Leslie Dean': 1, 'Zaya Okonjo': 1, 'Keely': 1, 'General Andaz': 1, 'Janet Stein': 1, 'Sissy Garcia': 1, 'Biff': 1, 'Andrew Garner': 1, 'Baron Mordo': 1, 'C.J. Powell': 1, \"Benjamin 'Dex' Poindexter\": 1, 'Marlena Olin': 1, 'Holo': 1, 'Rufus': 1, 'Katya': 1, 'Joy Meachum': 1, 'Ayesha': 1, 'Agent Hart': 1, 'Hope Mackenzie': 1, 'Young Gamora': 1, 'Finn': 2, 'Michelle': 1, 'Aunt Mindy': 1, 'Mr. Kitson': 1, 'Derek Bishop': 1, 'Retch': 1, 'Detective': 1, 'Agent Anderson': 2, 'Sneeper Madame': 1, 'Navid': 1, 'Alex Tilden': 1, 'Rockwell': 1, 'Nathi Zuma': 1, 'Anatoly': 1, 'May Parker': 4, \"Jiaying's Assistant\": 1, 'Selvig': 2, 'Ador': 1, 'Hunter B-15': 1, 'Agent Winn': 1, 'Alya': 1, 'Tony stark': 1, 'Mother': 1, 'Victor Stein': 1, 'Mrs. Davis': 1, 'Scientist': 1, 'Pablo': 1, 'Lucian': 1, 'Maria Rambeau': 1, 'Queen Ramonada': 1, 'Yondu Udonta': 1, 'Actor Odin': 1, 'Black Bolt': 2, 'Vincent': 1, 'Ian': 1, 'Locus': 1, 'Agent Foster': 1, \"Isabelle 'Izzy' Hartley\": 1, 'Jack': 1, 'Master Hamir': 1, 'Carl Lucas': 1, 'Miss Minutes': 1, 'Grills': 1, 'Louise': 1, 'Charlie': 1, 'Kitang': 1, 'French Pirate #1': 1, 'Wilson Fisk': 1, 'Detective Sunday': 1, 'Ayo': 3, 'Nikki Ramos': 1, 'Mobius': 1, 'Avalon': 1, 'Happy Hogan': 8, 'Flash Thompson': 3, 'Young Danny Rand': 1, 'Polly Hinton': 1, 'Colonel Flynn': 1, 'Cab Driver': 1, 'BB': 1, 'Enoch': 1, 'Senator Stan Ori': 1, 'Sergei': 2, 'Izel': 1, 'Pulsus': 1, 'Damon Boone': 1, 'Adam Cross': 1, 'Leticia': 1, 'Cass': 1, 'Brian Jones': 1, 'Officer Bowie': 1, 'Zach': 1, 'Eiffel': 1, 'Victoria': 1, 'Thomas': 2, 'Lt. Carpenter': 1, 'Amit': 1, 'Victoria Helstrom': 1, 'Akela Amador': 1, 'Alexei': 1, 'Maya Lopez': 1, 'Emil Blonsky': 1, 'Diego': 3, 'E.D.I.T.H.': 1, 'Vladimir Ranskahov': 1, 'Agent Diaz': 1, 'Agent Noelle Walters': 1, 'Mrs. Yang': 1, 'Special Agent Sonya Falsworth': 1, 'Sivian Foreman': 1, 'Serious Man': 1, 'Steve Danvers': 1, 'David Angar': 1, 'Olaf': 1, 'FDNY Paramedic': 1, 'Serene Inhuman': 1, 'Reed Richards': 1, 'Agent Harlan': 1, 'Lori Henson': 1, \"Detective Brigid O'Reilly\": 1, 'Wendell Rand': 1, 'Albert': 1, 'Torre': 1, 'Christopher Roth': 1, 'Zemo': 1, 'Seymour': 1, 'Chris Yen': 1, 'Tiago': 1, 'King Agon': 1, 'Gene Hernandez': 1, 'Ronan': 2, 'Airman Whitley': 1, 'Dwayne Blaskowski': 1, 'Geoffrey Wilder': 1, 'Dr. Louise Hastings': 1, 'Guard': 1, 'Hex': 1, 'Young Black Bolt': 1, \"King T'Chaka\": 1, 'Arthur Harrow': 1, 'Jano': 1, 'Lucio': 1, 'Detective Costa': 1, 'Luis': 2, 'Sandra': 1, 'Vinny': 1, 'Sheldon McFee': 1, 'Anna Nelson': 1, 'Sam Stein': 1, 'Tyler': 1, 'Joe the Orderly': 1, 'Shuri': 4, 'Kusack': 1, 'Dr. Wilton': 1, 'Michelle Caldwell': 1, 'Young Elena': 1, 'Eugene Patilio': 1, 'Captain William Dole': 1, 'Chen': 1, 'Lila Barton': 3, 'Reporter': 1, 'Gordon': 1, 'Dog of Hell': 1, 'Dr. Irene Bickell': 1, 'Xiao Chen': 1, 'Frigga': 4, 'Bakuto': 2, 'Gorr': 1, 'Cull Obsidian': 1, 'Wendy Ross-Hogarth': 1, 'Makkari': 1, 'Hameed': 1, 'Officer Zbyszewski': 1, 'Sinara Guard': 1, 'Ana Helstrom': 1, 'Brunette Zealot': 1, 'Calvin Zabo': 1, 'On Set Groot': 1, 'Jones': 1, 'Jolene Spivey': 1, 'Montalban': 1, 'Anon': 1, 'Gale': 1, 'Dr. Eileen Mercer': 1, 'Chief Ronnie Velasco': 1, 'Aisha': 1, 'Agent Jemma Simmons': 1, 'Qasim Zaghlul': 1, 'Joseph Bauer': 1, 'Agent Mulcahey': 1, 'Bret Johnson': 1, 'Grace': 1, 'Rosalie Carbone': 2, 'Mrs. Mahoney': 1, 'Nova Prime': 1, 'Megan': 1, 'Topher': 1, 'Colleen Wing': 3, 'Basha': 1, 'Griffin Sinclair': 1, 'Mancini': 1, 'Police Officer #1': 1, 'Yatzil': 1, 'Pax': 1, 'Ultron': 3, 'Agent Fisher': 2, 'Agent Wahl': 1, 'Agent Garrett': 1, 'Kingo': 1, 'Agent Keller': 1, \"Sergeant Jacob 'Jake' Smith\": 1, 'Ahmad Zubair': 1, 'Betty': 1, 'America Chavez': 1, 'Gert Yorkes': 1, 'Obadiah Stane': 2, 'Josh Elliott': 1, 'Assistant': 2, 'Soledad': 1, 'Kevin Page': 1, 'Doctor Wu': 1, 'Michael Carter': 1, 'Detective Tomas Ciancio': 1, 'Dallas Wyatt': 1, 'Director Tyler Hayward': 1, 'Lee': 1, 'Shawna Lynde': 1, 'Jim Morita': 2, 'Ava': 2, 'Corvus Glaive': 2, 'Hipster Earl': 1, 'Eric Ambrose': 1, 'Lemuel Pilgrim': 1, 'Dr. Torres': 1, 'Mordis': 1, 'Detective Rivera': 1, 'Trooper': 1, 'Rosie': 1, 'Shawn': 1, 'Heavy': 1, 'Sal Blaskowski': 1, 'Jiaying': 1, 'Nikola': 1, 'Parish Landman': 1, 'Actor Hela': 1, 'Mama Donya': 1, 'Clay Wilson': 1, 'Rebecca Pilgrim': 1, 'Monica Rambeau': 1, 'Agent Rodriguez': 1, 'Jennifer Walters': 1, 'Detective Lemieux': 1, 'Zach Lieberman': 1, 'Franklin Delano Roosevelt': 1, 'Mina Hess': 1, 'Thembi Wallace': 3, 'Crixon': 1, 'Anton': 1, 'Mitchell Carson': 1, 'Wilma Cully': 1, 'Lance Hunter': 1, 'Karen Page': 3, 'Brendan': 1, 'Director Kenneth': 1, 'Molly Hernandez': 1, 'Cajun': 1, 'Alistair Fitz': 1, 'Agent Kim': 1, 'Olivia Walker': 1, 'Bobby': 2, 'Major Allen': 1, 'The Ancient One': 3, 'Marion James': 1, 'Zoe': 1, 'Frederick': 1, 'Agent Barbour': 1, 'Yelena': 1, 'Roy Healy': 1, 'Burnell': 1, 'Donald': 1, 'Albert Thompson': 1, 'Aldrich Killian': 1, 'Happy Sam Sawyer': 1, 'Boyle': 1, 'Auran': 1, 'Vijay Nadeer': 1, 'Caldwell': 1, 'Baron Von Strucker': 1, 'David Lieberman': 1, 'Titania': 1, 'White Power Dave': 1, 'Gregory Sallinger': 1, 'AJ': 1, 'Antoine Triplett': 1, 'A.U.S.A. Colin Dunbar': 1, 'The Weasel': 1, 'Marlene Fisk': 1, 'Young Ana': 1, 'Lei Kung': 1, 'Anton Mogart': 1, 'Li': 2, 'Luca Russo': 1, 'Ayla': 1, 'Sol Rama': 1, 'Darrell Mitchell': 1, 'Howard Stark': 8, 'Alicia': 1, 'Justin': 1, 'Hank Sanderson': 1, 'Maggie': 1, 'Stirling': 1, \"Qasim's Translator\": 1, \"Mortimer 'Mr. Fish' Norris\": 1, 'He Who Remains': 1, 'John Walker': 1, 'Fletcher Heggs': 1, 'Lorelei': 1, 'Agent Ford': 2, 'Sonny Burch': 1, \"Agent Alphonso 'Mack' Mackenzie\": 1, 'Gabe Jones': 1, 'Krista Dumont': 1, 'Stacey Yorkes': 1, 'Armand VII': 1, 'Kropsky': 1, 'Mike Peterson': 1, 'Lars': 1, 'Maddie': 1, 'Will Simpson': 1, 'Lieutenant Lucas': 1, 'Taylor': 1, 'Englishman': 1, 'Louisa Delgado': 1, 'Phil Jones': 1, 'Phil Coulson': 1, 'Dr. Fine': 1, 'Main Guard': 1, 'Justis Ambrose': 1, 'Agent Arinori': 1, 'Battlestar': 1, 'Dr. Bill Foster': 1, 'Lian May': 1, 'Mitchell Ellison': 2, 'Justin Boden': 1, 'Sergei Konchevsky': 1, 'Malachi': 1, 'Marcus Scarlotti': 1, 'Auntie Ingrid': 1, 'French Radio Pirate': 1, 'Joe': 2, 'Pietro Maximoff': 2, 'Jasper Sitwell': 2, 'Papa': 1, 'Spud': 1, 'Justin Hammer': 2, 'Laura': 1, 'Rudy': 1, 'Dr. Helen Cho': 1, 'Brian Hayward': 1, 'Police Officer': 1, 'J.B.': 1, 'Lloyd Rathman': 1, 'Gigi': 1, 'Deputy Ken Ogden': 1, 'French Pirate #2': 1, 'Lucas': 1, 'Nobu': 1, 'Miles Lydon': 1, 'Chan Ho Yin': 1, 'Paripan': 1, 'Prison Guard': 1, 'Baron Zemo': 1, 'Dr. Nicodemus West': 1, 'Auntie Zara': 1, 'Darryl': 2, 'Julia Price': 1, 'Philip': 1, 'Sersi': 1, 'Werner von Strucker': 1, 'Francisco': 1, 'The Baroness': 1, 'Missy': 1, 'Bjorn': 1, 'Uncle Timmy Nelson': 1, 'Peter Lyonne': 1, 'The Broker': 1, 'Grill': 1, 'Elaine Walters': 1, 'Genesis': 1, 'Agent Jacobson': 1, 'Steve Rogers': 8, 'Alpha Dog': 1, 'Cousin Ched': 1, 'Dr. Chung': 1, 'Trevor Khan': 1, 'Leah': 1, 'Heather Rand': 1, 'Daimon Helstrom': 1, 'Admiral Jolnes': 1, 'Fandral': 3, 'Diaz': 1, 'Thanos': 3, 'Tullk': 1, 'Man-Bull': 1, 'Undersecretary Walter Thomas': 1, 'Frances': 1, 'Young Antonia': 1, 'Jasper Evans': 1, 'King Laufey': 1, 'Long-Haired Gambler': 1, \"Agent O'Connor\": 1, 'Councilman Singh': 1, \"Young T'Challa\": 1, 'Mrs. Shelby': 1, 'Officer Pickett': 1, 'Ingrid': 1, 'Sophia': 1, 'Spider': 1, 'Nichelle': 1, 'Dr. Lingenfelter': 1, 'Robert': 1, 'Chris Murray': 1, 'Agent Nathanson': 1, 'Detective Defford': 1, 'Virgil': 1, 'Jimbo': 1, 'Frank Castle': 2, 'Roger Browning': 1, 'Gene Burchell': 1, 'William May': 1, 'Janet Van Dyne': 3, 'Chief Duchamp': 1, 'Waipo': 1, 'Peter Parker': 8, \"W'Kabi\": 1, 'Agent Crawford': 1, 'Mark Higgins': 1, 'Daniel Whitehall': 1, 'Pryce Cheng': 1, 'Teenage Willis Stryker': 1, 'Ulysses Klaue': 3, 'Fariha': 1, 'Radio Announcer': 1, 'Senator Boynton': 1, 'Ariann': 1, 'Neville': 1, 'Janis': 1, 'SAC Tammy Hattley': 1, 'Eliza Schultz': 1, 'Little Maya': 1, 'Verussa': 1, \"Brianna 'Berry' Gelden\": 1, 'Rocket': 6, 'Alpha': 1, 'William Rawlins': 1, 'Actor Loki': 1, 'George Kotsiopoulos': 1, 'Derek': 1, 'Officer Cooper': 1, 'Senator Gaius Ponarian': 1, 'Sowande': 1, 'George Stephanopoulos': 1, 'Protester #1': 1, 'José': 1, 'Sarah Lieberman': 1, 'Young Jessica': 1, 'Dum-Dum Dugan': 1, 'Marci Stahl': 2, 'Darcy': 1, 'Jeremy': 1, 'Eros': 1, 'Forger': 1, 'Professor Elliot Randolph': 1, 'Big Chief Roland Duplantier': 1, 'Estella': 1, 'Wrecker': 1, 'General Cole': 1, 'Lady Karaba': 1, 'Inez Green': 1, 'Kaya': 1, 'Quentin Beck': 1, 'Vladimir': 1, 'Dinah Madani': 1, 'John': 2, 'Morgan Stark': 1, 'Ross Lieutenant': 1, 'Dale': 2, 'Agent King': 1, 'Katy': 1, 'Keith Spivey': 1, 'Detective Andrew Henry': 1, 'Case': 1, 'Vernon Masters': 1, 'Father Sean Okamoto': 1, 'Paul': 1, 'Bernie Walker': 1, 'Cosmo the Space Dog': 1, 'Young Daimon': 1, 'Tobias': 1, 'Ignacio': 1, 'Kraglin': 4, 'Director Jeffrey Mace': 1, 'Lana': 1, 'Major': 1, 'Bob Shlottman': 1, 'Brahl': 1, 'Candice Lee': 1, 'Oscar': 1, 'Ursa': 1, 'Javier': 1, 'Ivan Hess': 1, 'Doyle': 1, 'Livvie': 1, 'Gerald Sharpe': 1, 'Agent Wellers': 1, 'Randy': 1, 'Wendell Levi': 1, 'Agent Davis': 1, 'Dr. Patel': 1, \"Timothy 'Dum Dum' Dugan\": 1, 'Roger': 1, 'Torrance': 1, \"Wilfred 'Freddy' Malick\": 1, 'Dr. Evan Declan': 1, 'Saleem': 1, 'General Hale': 1, 'Marta': 1, 'Angry Man': 1, 'Judge Amanda Garmon': 1, 'Linda': 1, 'Shane': 1, 'Maggie Lang': 1, 'Scott Lang': 6, 'Clair': 1, 'Prime Minister Olshenko': 1, 'Yama': 1, 'Abu Bakaar': 1, 'Amy Bendix': 1, 'Bryce': 1, 'Christian Ward': 1, 'Detective Connors': 1, 'Jin Lin': 1, 'Senator Brandt': 1, 'Korath': 3, 'Mrs. Chen': 1, 'Rex': 1, 'Black Sky': 1, 'Maston-Dar': 1, 'Frank Dean': 1, 'Principal Morita': 1, 'Dr. Andrew Lee': 1, 'Bartender': 1, 'General Joe Greller': 1, 'Young Bill': 1, 'Ruben Mackenzie': 1, 'Asgard Tourist': 1, 'Doctor David Kurata': 1, 'Halfnut': 1, 'Priya': 1, 'Morgan le Fay': 1, 'Stewart': 1, 'Bar Monkey': 1, 'Actor Thor': 1, 'Monica Rambeau (11 Years Old)': 1, 'Rowan Hamilton': 1, 'Rory': 1, 'Bert Hunter': 1, 'Soh-Larr': 1, 'Alexandra Reid': 1, 'Peggy Carter': 8, 'Agnes': 1, 'Kamran': 1, 'Holden Holliway': 1, 'Female Reporter': 1, 'Crank': 1, 'Agent Rebecca Stevens': 1, 'Aunt Melanie': 1, 'Eddie Axton': 1, 'Hercules': 1, 'Lincoln Campbell': 1, 'Eva Belyakov': 1, 'Iwua': 1, 'Knox': 1, 'Fiz': 1, 'Hek-Sel': 1, 'Stan Lee': 3, 'Kyle Zeller': 1, 'Everett K. Ross': 3, 'Bruce Banner': 8, 'Lucy Bauer': 1, 'Nathaniel Malick': 1, 'Young Tyrone': 1, 'Tim Maguire': 1, 'Edward Nelson': 1, 'Narblik': 1, 'The Collector': 3, 'Aunt Jeanie': 1, 'Crispus Thug': 1, 'Canelo': 1, 'Shannon': 1, \"Augustus 'Pug' Pugliese\": 1, 'Kamala Khan': 1, 'Rhodey': 2, 'Amos': 1, 'Angie Martinelli': 1, 'Mika Prada': 1, 'Phastos': 1, \"O'Connor\": 1, 'Aisha Axton': 1, 'Korg': 4, 'Dutton': 1, 'Concierge': 1, 'The Sheikh': 1, 'Jack Russell': 1, 'Agent Stoltz': 1, 'Sara Haines': 1, 'Colonel Ray Schoonover': 1, 'Neils': 1, 'J.T. James': 1, 'Audrey Nathan': 1, 'Gideon Shaw': 1, 'Agent Melinda May': 1, 'Getty': 1, 'Death Dealer': 1, 'Kthara': 1, 'Paxton': 2, 'Young Carol (13 Years Old)': 1, 'Adamo Dioli': 1, 'Diontey': 1, 'Trok': 1, 'Esther': 1, 'Vic Jusufi': 1, 'Strucker': 1, 'Choo Choo Broussard': 1, 'Darryl the Tour Guide': 1, 'Yusuf': 1, 'Arishem': 1, 'Richie': 1, 'Hope Van Dyne': 4, 'Idaho': 1, 'Supreme Intelligence': 1, 'Aito': 1, 'King Yakan': 1, 'Captain Betty Audrey': 1, 'Agent Oliver': 1, 'David Schultz': 1, 'Aiko': 1, 'Carol Danvers': 2, 'On-Set She-Hulk Reference': 1, 'Surtur': 2, 'Blake Tower': 2, 'Becca': 1, 'Ellis': 1, 'Dr. Erskine': 1, 'Matias': 1, 'Councilman Rockwell': 1, 'Melina': 1, 'Adian Younge': 1, 'Ego': 2, 'Eli Bradley': 1, 'Ammit': 1, 'Chase Stein': 1, 'Chief Wellins': 1, 'Linda Chao': 1, 'Ana Jarvis': 1, 'Jerome Deschamps': 1, 'Betty Ross': 2, 'Jack Duquesne': 1, 'Turk Barrett': 4, 'Faulnak': 1, 'Armed S.H.I.E.L.D. Guard': 1, 'Martina': 1, 'Jeri Hogarth': 4, 'Nebula': 6, 'Detective Hoffman': 1, \"James Buchanan 'Bucky' Barnes\": 1, 'Seth Dormer': 1, 'Father Joshua Crow': 1, 'Councilwoman Hawley': 1, 'Young Yelena': 1, 'Trish Walker': 3, 'Gideon Malick': 1, 'John Donnelly': 1, 'Dr. Christine Palmer': 2, 'Bill Maher': 1, 'Specialist Cameron Klein': 1, 'Dr. Karl Malus': 1, 'Baker': 1, 'Dornfeld': 1, 'Dr. Goodman': 1, 'Tamar': 1, 'Ted (The Man-Thing)': 1, 'Kalinda Porter': 1, 'Alex Doobin': 1, 'Stakar Ogord': 1, 'Tooms': 1, 'Mr. Wilson': 1, 'Mason': 1, 'Sami Nadeem': 1, 'Josh Miller': 1, 'Lord Manzini': 1, 'Dr. Streiten': 1, 'Agent Yauch': 1, 'Voice of The Incredible Hulk': 1, 'Mr. Harrington': 3, 'Isaiah Bradley': 1, 'Pedestrian': 1, 'Jackson': 2, 'Laura Barton': 3, 'Christine Everhart': 4, 'Proxima Midnight': 2, 'Aadam': 1, 'Doctor Ford': 1, 'Deke Shaw': 1, 'Chen Wu': 1, 'On-Set Rocket': 2, 'Bucky Barnes': 6, 'Ian Quinn': 1, 'Muneeba': 1, 'Minn-Erva': 1, 'FSB Commander': 1, 'Abe': 1, 'Nurse Billy': 1, 'Flora': 1, 'Young Pym': 1, 'Agent Jackson': 1, 'Kree Watch Commander': 1, 'Sibyl': 1, 'Mysterious Man': 1, 'General Gabriel': 1, 'Dmitry': 1, 'Dr. Stephen Strange': 5, 'Herb': 1, 'Audrey': 1, 'Mr. Immortal': 1, 'George Ashland': 1, 'Ramonada': 2, 'Doctor Evans': 1, 'Sam': 1, 'Randall Spector': 1, 'Lady Sif': 1, 'Paul Edmonds': 1, 'Andrea Morales': 1, 'Councilman Yen': 1, 'Agent Mack': 1, 'Hank Thompson': 1, \"M'Baku\": 3, 'Ryhno': 1, 'Agent Fox': 1, 'Gabriella Rosetti': 1, 'Billy Russo': 1, 'Algrim': 1, 'Aura': 1, 'Nico Minoru': 1, 'Jace Montero': 1, 'King Valkyrie': 1, 'Detective Caudle': 1, 'Goon One': 1, 'Otto Mink': 1, 'Medusa': 1, 'Whitney Frost': 1, 'Rebel Skrull leader Gravik': 1, 'Leon': 1, 'Carlo Eastman': 1, 'Lila': 1, 'Att-Lass': 1, 'Strieber': 1, 'Horuz': 1, 'Detective Prendergast': 1, 'Jason Wilkes': 1, 'Agent Prince': 1, 'Darcy Lewis': 4, 'Nathaniel Barton': 2, 'Darren Cross': 2, 'Government Official': 1, 'Officer Carl Nussbaumer': 1, 'Luke': 1, 'Dottie Underwood': 1, 'Victor': 2, 'Caleb': 1, \"Cliff 'Method Man' Smith\": 1, 'Agent Tanner': 1, 'Larry': 1, 'Harold Meachum': 1, 'Danny': 1, 'Colonel Ernst Mueller': 1, 'Isabela Alvarez': 1, 'Nicholas Lee': 1, 'Queen Rynda': 1, 'Father': 1, 'DeeDee': 1, 'Flash': 1, 'Ray Krzeminski': 1, 'Kazi': 1, 'Tall Zealot': 1, 'Kerry Duggan': 1, 'Selwyn': 1, 'Eleanor Bishop': 1, 'Dovich': 1, 'Senator Atwood': 1, 'Susanna': 1, \"Meredith's Best Friend\": 1, 'Kara Lynn Palamas': 1, 'Tibor': 1, 'Sebastian': 1, 'Robyn': 1, 'Elena Cardenas': 1, 'Young Ava': 1, 'Dottie Jones': 1, 'Dimitri': 1, 'Mallory Book': 1, 'Dr. Otto Octavius': 1, \"Elena 'Yo-Yo' Rodriguez\": 1, 'Young Wilson Fisk': 1, 'Johann Schmidt': 1, 'Detective Donnie Chang': 1, 'Willis Stryker': 1, 'Boy': 1, 'Brunette Woman': 1, 'Bus Driver': 1, 'Millennial Megan': 1, 'Kasius': 1, 'Qovas': 1, 'Uncle Bud': 1, 'Young Grant': 1, 'Camilla Reyes': 1, 'John Bruno': 1, 'Jackson Norris': 1, 'The Amazing Mertz': 1, 'Mantis': 4, \"Dontrell 'Cockroach' Hamilton\": 1, 'Ivan': 1, 'Oblo': 1, 'Runa': 1, 'Tom': 1, 'Dorothy': 1, 'Father Delgado': 1, 'D-Nice': 1, 'Kora': 1, 'Ajak': 1, 'Najaf': 1, 'Agent Cleary': 2, 'Computer Tech': 1, 'Dr. Gabe Krasner': 1, 'Clea': 1, 'Deputy Dobbs': 1, 'Saanvi Nadeem': 1, 'Gilgamesh': 1, 'Cornell Stokes': 1, 'Officer Kennedy': 1, 'Hope Shlottman': 1, 'Emily Deville': 1, 'Cameron Tate': 1, 'Yuri Zaikin': 1, 'Agent Maria Hill': 1, 'Coach Alphona': 1}\n",
      "\n",
      " titles degree {'Iron Fist': 56, 'The Incredible Hulk': 11, 'Jessica Jones': 126, 'Iron Man 2': 15, 'Thor': 29, 'Avengers: Age of Ultron': 33, 'Thor: Ragnarok': 16, 'Marvel One-Shot: Agent Carter': 4, 'Marvel One-Shot: The Consultant': 3, 'Guardians of the Galaxy Vol. 2': 27, 'Luke Cage': 138, 'The Falcon and the Winter Soldier': 44, 'Marvel One-Shot: All Hail the King': 7, 'Shang-Chi and the Legend of the Ten Rings': 21, 'Black Panther': 16, 'Runaways': 53, 'Spider-Man: Homecoming': 33, 'I Am Groot': 3, 'Guardians of the Galaxy': 26, 'Thor: The Dark World': 22, 'Captain America: Civil War': 25, 'Hawkeye': 30, 'The Defenders': 29, 'Doctor Strange': 23, 'Captain America: The Winter Soldier': 27, 'Agents of S.H.I.E.L.D.: Slingshot': 12, 'Agents of S.H.I.E.L.D.': 491, 'Avengers: Infinity War': 45, 'Daredevil': 129, 'WHIH News Front': 6, 'Ant-Man': 22, 'She-Hulk: Attorney at Law': 44, 'Iron Man 3': 23, 'The Avengers': 19, 'Marvel One-Shot: Item 47': 4, 'Ms. Marvel': 34, 'WandaVision': 19, 'Helstrom': 30, 'Captain America: The First Avenger': 17, 'Ant-Man and the Wasp': 26, 'Cloak & Dagger': 38, 'Moon Knight': 23, 'Secret Invasion': 9, 'What If...?': 74, 'Black Widow': 18, 'Spider-Man: Far from Home': 28, 'Spider-Man: No Way Home': 21, \"Peter's To-Do List\": 4, 'The Punisher': 66, 'Inhumans': 41, 'Agent Carter': 67, \"Marvel One-Shot: A Funny Thing Happened on the Way to Thor's Hammer\": 1, 'Thor: Love and Thunder': 28, 'Iron Man': 14, 'Doctor Strange in the Multiverse of Madness': 27, 'Eternals': 22, 'Avengers: Endgame': 62, 'Loki': 16, 'Captain Marvel': 24, 'Werewolf by Night': 11}\n"
     ]
    }
   ],
   "source": [
    "#Degrees of Titles and characters\n",
    "print('Chracters degree',characters_dict)\n",
    "print('\\n titles degree',titles_dict)"
   ]
  },
  {
   "cell_type": "markdown",
   "id": "4717581e",
   "metadata": {},
   "source": [
    "### Random Simlated graph"
   ]
  },
  {
   "cell_type": "code",
   "execution_count": 29,
   "id": "afdd94a2",
   "metadata": {},
   "outputs": [
    {
     "name": "stdout",
     "output_type": "stream",
     "text": [
      "Random model probability value 0.0012522798332464827 and length of nodes 1920\n"
     ]
    }
   ],
   "source": [
    "GT_p = avg_deg_ /(len(GT.nodes())-1) # caliculating probability\n",
    "GT_nodes=len(GT.nodes())\n",
    "print('Random model probability value',GT_p, 'and length of nodes', GT_nodes)"
   ]
  },
  {
   "cell_type": "code",
   "execution_count": 30,
   "id": "e4b340c6",
   "metadata": {},
   "outputs": [],
   "source": [
    "GT_sim_rndm = nx.gnp_random_graph(GT_nodes, GT_p)"
   ]
  },
  {
   "cell_type": "code",
   "execution_count": 31,
   "id": "7a2c71aa",
   "metadata": {},
   "outputs": [],
   "source": [
    "# Simulated Random \n",
    "avg_deg_sim, avg_clstrng_sim =  avg_deg_cc(GT_sim_rndm)"
   ]
  },
  {
   "cell_type": "code",
   "execution_count": 32,
   "id": "6d9f40af",
   "metadata": {},
   "outputs": [
    {
     "data": {
      "text/plain": [
       "0.0023584905660377358"
      ]
     },
     "execution_count": 32,
     "metadata": {},
     "output_type": "execute_result"
    }
   ],
   "source": [
    "avg_clstrng_sim"
   ]
  },
  {
   "cell_type": "markdown",
   "id": "82905003",
   "metadata": {},
   "source": [
    "Isoloated graphs in network"
   ]
  },
  {
   "cell_type": "code",
   "execution_count": 33,
   "id": "2b1ac8fe",
   "metadata": {},
   "outputs": [
    {
     "data": {
      "text/plain": [
       "226"
      ]
     },
     "execution_count": 33,
     "metadata": {},
     "output_type": "execute_result"
    }
   ],
   "source": [
    "i= nx.number_connected_components(GT_sim_rndm)\n",
    "i"
   ]
  },
  {
   "cell_type": "code",
   "execution_count": 34,
   "id": "88a51644",
   "metadata": {},
   "outputs": [],
   "source": [
    "num = 0 \n",
    "for c in nx.connected_components(GT_sim_rndm):\n",
    "    num += nx.average_shortest_path_length(GT_sim_rndm.subgraph(c))*len(GT_sim_rndm.subgraph(c))\n",
    "GT_sim_avg_path = num/len(GT_sim_rndm.nodes())"
   ]
  },
  {
   "cell_type": "code",
   "execution_count": 35,
   "id": "cb5d87b1",
   "metadata": {},
   "outputs": [
    {
     "name": "stdout",
     "output_type": "stream",
     "text": [
      "Random Simulated MU Network \n",
      " \n",
      "Average degree 2.3177083333333335\n",
      "Average path 7.4617126132930505\n",
      "Average clusteirng 0.0023584905660377358\n"
     ]
    }
   ],
   "source": [
    "print(\"Random Simulated MU Network \\n \")\n",
    "print(\"Average degree\" ,avg_deg_sim)\n",
    "print(\"Average path\", GT_sim_avg_path)\n",
    "print(\"Average clusteirng\", avg_clstrng_sim)\n"
   ]
  },
  {
   "cell_type": "markdown",
   "id": "6c4e5c35",
   "metadata": {},
   "source": [
    "MU Network \n",
    " \n",
    "Average degree 2.403125\n",
    "Average path 4.81965255871013\n",
    "Average clusteirng 0.0009916895257868273\n",
    "\n",
    "Average path is 1.55 times the average path of Random Model Graph \n",
    "CLustering co-efficient is 2.37 times the CLustering co-efficient of Random graph"
   ]
  },
  {
   "cell_type": "markdown",
   "id": "0271b3d9",
   "metadata": {},
   "source": [
    "### Small World"
   ]
  },
  {
   "cell_type": "code",
   "execution_count": 36,
   "id": "ba4fbefc",
   "metadata": {},
   "outputs": [],
   "source": [
    "#Lattice Grah generation\n",
    "def lattice_graph(G,avg_deg):\n",
    "    GLat_3 = nx.Graph()\n",
    "    GLat_3sh = []\n",
    "    nodes_count = len(G)#len(G.nodes())\n",
    "    for i in (range(nodes_count)): \n",
    "      GLat_3.add_node(i)\n",
    "      GLat_3sh.append(i)\n",
    "    new_connections = round(avg_deg/2)\n",
    "    for i in GLat_3sh:\n",
    "        nbhr = []\n",
    "        j=i+1\n",
    "        for k in range(new_connections):\n",
    "            if j in GLat_3.nodes():\n",
    "                nbhr.append(j)\n",
    "            else:\n",
    "                j = j - len(GLat_3.nodes)\n",
    "                nbhr.append(j)\n",
    "            j+=1 \n",
    "        for j in nbhr:\n",
    "            if (GLat_3.has_edge(i,j)==False): \n",
    "                GLat_3.add_edge(i,j)  \n",
    "    return GLat_3"
   ]
  },
  {
   "cell_type": "code",
   "execution_count": 37,
   "id": "89176b40",
   "metadata": {},
   "outputs": [
    {
     "name": "stdout",
     "output_type": "stream",
     "text": [
      "1920\n"
     ]
    }
   ],
   "source": [
    "# MU lattice\n",
    "Lat_MU = lattice_graph(GT,avg_deg_)\n",
    "print(len(Lat_MU.edges()))"
   ]
  },
  {
   "cell_type": "code",
   "execution_count": 38,
   "id": "7aa0e881",
   "metadata": {},
   "outputs": [
    {
     "data": {
      "image/png": "[encoded data removed]",
      "text/plain": [
       "<Figure size 432x288 with 1 Axes>"
      ]
     },
     "metadata": {},
     "output_type": "display_data"
    }
   ],
   "source": [
    "nx.draw(Lat_MU)"
   ]
  },
  {
   "cell_type": "code",
   "execution_count": 39,
   "id": "1fb358a6",
   "metadata": {},
   "outputs": [
    {
     "name": "stdout",
     "output_type": "stream",
     "text": [
      "lattice Twitch clustering 0\n"
     ]
    },
    {
     "ename": "ZeroDivisionError",
     "evalue": "float division by zero",
     "output_type": "error",
     "traceback": [
      "\u001b[1;31m---------------------------------------------------------------------------\u001b[0m",
      "\u001b[1;31mZeroDivisionError\u001b[0m                         Traceback (most recent call last)",
      "Input \u001b[1;32mIn [39]\u001b[0m, in \u001b[0;36m<cell line: 4>\u001b[1;34m()\u001b[0m\n\u001b[0;32m      1\u001b[0m avg_clstrng_Lat_MU \u001b[38;5;241m=\u001b[39m nx\u001b[38;5;241m.\u001b[39mtransitivity(Lat_MU)\n\u001b[0;32m      2\u001b[0m \u001b[38;5;28mprint\u001b[39m(\u001b[38;5;124m\"\u001b[39m\u001b[38;5;124mlattice Twitch clustering\u001b[39m\u001b[38;5;124m\"\u001b[39m, avg_clstrng_Lat_MU)\n\u001b[1;32m----> 4\u001b[0m BT \u001b[38;5;241m=\u001b[39m \u001b[38;5;241m1\u001b[39m\u001b[38;5;241m-\u001b[39m((\u001b[43mavg_clstrng_\u001b[49m\u001b[38;5;241;43m/\u001b[39;49m\u001b[43mavg_clstrng_Lat_MU\u001b[49m) \u001b[38;5;241m*\u001b[39m\u001b[38;5;241m*\u001b[39m (\u001b[38;5;241m1.\u001b[39m\u001b[38;5;241m/\u001b[39m\u001b[38;5;241m3.\u001b[39m))\n\u001b[0;32m      5\u001b[0m \u001b[38;5;28mprint\u001b[39m(\u001b[38;5;124m\"\u001b[39m\u001b[38;5;124mNumber of nodes\u001b[39m\u001b[38;5;124m\"\u001b[39m, \u001b[38;5;28mlen\u001b[39m(GT\u001b[38;5;241m.\u001b[39mnodes), \u001b[38;5;124m\"\u001b[39m\u001b[38;5;130;01m\\n\u001b[39;00m\u001b[38;5;124m mean degree\u001b[39m\u001b[38;5;124m\"\u001b[39m,avg_deg_,\u001b[38;5;124m\"\u001b[39m\u001b[38;5;130;01m\\n\u001b[39;00m\u001b[38;5;124m parameter\u001b[39m\u001b[38;5;124m\"\u001b[39m,BT)\n",
      "\u001b[1;31mZeroDivisionError\u001b[0m: float division by zero"
     ]
    }
   ],
   "source": [
    "avg_clstrng_Lat_MU = nx.transitivity(Lat_MU)\n",
    "print(\"lattice Twitch clustering\", avg_clstrng_Lat_MU)\n",
    "\n",
    "BT = 1-((avg_clstrng_/avg_clstrng_Lat_MU) ** (1./3.))\n",
    "print(\"Number of nodes\", len(GT.nodes), \"\\n mean degree\",avg_deg_,\"\\n parameter\",BT)\n"
   ]
  },
  {
   "cell_type": "markdown",
   "id": "cc4e2ef0",
   "metadata": {},
   "source": [
    "### Preferential Algorithm"
   ]
  },
  {
   "cell_type": "markdown",
   "id": "8bba5fb9",
   "metadata": {},
   "source": [
    "#### Connecting 'Marvel One-Shot: Item 47' and 'Werewolf by Night' clusters' actors (nodes) to the base cluster based on the Preferential Algorithm Method \n",
    "#### Comparing the clustering co-efficient, average path and degree distribution of new network with the actual MU network "
   ]
  },
  {
   "cell_type": "code",
   "execution_count": 88,
   "id": "0263d7fc",
   "metadata": {},
   "outputs": [
    {
     "data": {
      "text/plain": [
       "['Jack Russell',\n",
       " 'Elsa Bloodstone',\n",
       " 'Verussa',\n",
       " 'Jovan',\n",
       " 'Azarel',\n",
       " 'Liorn',\n",
       " 'Barasso',\n",
       " 'Billy Swan',\n",
       " 'Ted (The Man-Thing)',\n",
       " 'The Flaming Tuba',\n",
       " 'Ulysses Bloodstone',\n",
       " 'Claire Weiss',\n",
       " 'Bennie Pollock',\n",
       " 'Agent Jasper Sitwell',\n",
       " 'Agent Blake']"
      ]
     },
     "execution_count": 88,
     "metadata": {},
     "output_type": "execute_result"
    }
   ],
   "source": [
    "new_nodes = list(GT.neighbors('Werewolf by Night'))\n",
    "new_nodes2= list(GT.neighbors('Marvel One-Shot: Item 47'))\n",
    "for i in new_nodes2: new_nodes.append(i)\n",
    "new_nodes # Nodes (actors) adding to the base cluster"
   ]
  },
  {
   "cell_type": "code",
   "execution_count": 89,
   "id": "092e0e67",
   "metadata": {},
   "outputs": [
    {
     "name": "stdout",
     "output_type": "stream",
     "text": [
      "Node count in actual MU network 1920\n",
      "Removing the nodes included to 'Marvel One-Shot: Item 47' and 'Werewolf by Night 15\n",
      "Node count after removing 'Marvel One-Shot: Item 47' and 'Werewolf by Night' nodes from the MU network 1903\n"
     ]
    }
   ],
   "source": [
    "# Removing 'Marvel One-Shot: Item 47' and 'Werewolf by Night' clusters from the main graph\n",
    "print(\"Node count in actual MU network\",len(GT.nodes()))\n",
    "print(\"Removing the nodes included to 'Marvel One-Shot: Item 47' and 'Werewolf by Night\",len(new_nodes))\n",
    "for i in new_nodes: GT.remove_node(i)\n",
    "GT.remove_node('Marvel One-Shot: Item 47')\n",
    "GT.remove_node('Werewolf by Night')\n",
    "print(\"Node count after removing 'Marvel One-Shot: Item 47' and 'Werewolf by Night' nodes from the MU network\",len(GT.nodes()))"
   ]
  },
  {
   "cell_type": "code",
   "execution_count": 72,
   "id": "5359c1d5",
   "metadata": {},
   "outputs": [
    {
     "name": "stdout",
     "output_type": "stream",
     "text": [
      "MU Network \n",
      " \n",
      "Average degree 2.403125\n",
      "Average path 4.81965255871013\n",
      "Average clusteirng 0.0009916895257868273\n"
     ]
    }
   ],
   "source": [
    "print(\"MU Network \\n \")\n",
    "print(\"Average degree\" ,avg_deg_ )\n",
    "print(\"Average path\",GT_avg_path)\n",
    "print(\"Average clusteirng\", avg_clstrng_)"
   ]
  },
  {
   "cell_type": "code",
   "execution_count": 103,
   "id": "b6ef6b02",
   "metadata": {},
   "outputs": [],
   "source": [
    "def PAM(G,avg_deg,new_nodes):\n",
    "    node_count=len(G.nodes())\n",
    "    G_PAM = nx.Graph\n",
    "    G_PAM = G.copy()\n",
    "    i = node_count-1\n",
    "    G_node_list = np.array((G.nodes()))\n",
    "    #node probability\n",
    "    node_prob =[]\n",
    "    for n in G.nodes():\n",
    "        prob = G.degree(n)/(2*len(G.edges()))\n",
    "        node_prob.append(prob)\n",
    "#node_prob\n",
    "    \n",
    "    for n in range(len(new_nodes)):\n",
    "        i = np.random.choice(new_nodes)\n",
    "        G_PAM.add_node(i)\n",
    "        while (G_PAM.degree(i)!=round(avg_deg)):\n",
    "            j=np.random.choice(G_node_list, p= node_prob)\n",
    "            print(i,j,G_PAM.degree(i))\n",
    "            G_PAM.add_edge(i,j)\n",
    "        new_nodes.remove(i) \n",
    "        \n",
    "    return G_PAM    "
   ]
  },
  {
   "cell_type": "code",
   "execution_count": 104,
   "id": "4e62ba1f",
   "metadata": {},
   "outputs": [
    {
     "name": "stdout",
     "output_type": "stream",
     "text": [
      "The Flaming Tuba Iron Fist 0\n",
      "The Flaming Tuba Leah 1\n",
      "Claire Weiss Cornell Stokes 0\n",
      "Claire Weiss Melvin Potter 1\n",
      "Liorn Ovechkin 0\n",
      "Liorn Polly Hinton 1\n",
      "Elsa Bloodstone Luke Cage 0\n",
      "Elsa Bloodstone Avengers: Endgame 1\n",
      "Agent Jasper Sitwell Briggs 0\n",
      "Agent Jasper Sitwell The Falcon and the Winter Soldier 1\n",
      "Azarel Eliza Schultz 0\n",
      "Azarel Daredevil 1\n",
      "Billy Swan Hawkeye 0\n",
      "Billy Swan Thor 1\n",
      "Agent Blake Spider-Man: Far from Home 0\n",
      "Agent Blake Qasim's Translator 1\n",
      "Verussa Luke Cage 0\n",
      "Verussa Avengers: Endgame 1\n",
      "Ted (The Man-Thing) Spider 0\n",
      "Ted (The Man-Thing) Taserface 1\n",
      "Barasso Daredevil 0\n",
      "Barasso Daredevil 1\n",
      "Barasso Zip 1\n",
      "Jovan Jennifer Walters 0\n",
      "Jovan Jessica Jones 1\n",
      "Bennie Pollock Ms. Marvel 0\n",
      "Bennie Pollock Trish Walker 1\n",
      "Jack Russell Secret Invasion 0\n",
      "Jack Russell Graham 1\n",
      "Ulysses Bloodstone Ryhno 0\n",
      "Ulysses Bloodstone Sunil Bakshi 1\n"
     ]
    }
   ],
   "source": [
    "PAM_MU = PAM(GT,avg_deg_,new_nodes)"
   ]
  },
  {
   "cell_type": "code",
   "execution_count": 105,
   "id": "78ec63fb",
   "metadata": {},
   "outputs": [],
   "source": [
    "# PAM - MU avg deg n clustering \n",
    "avg_deg_PAM, avg_clstrng_PAM = avg_deg_cc(PAM_MU)"
   ]
  },
  {
   "cell_type": "code",
   "execution_count": 106,
   "id": "2cf09529",
   "metadata": {},
   "outputs": [],
   "source": [
    "# PAM - MU Graph avg path\n",
    "PAM_avg_path= nx.average_shortest_path_length(PAM_MU)"
   ]
  },
  {
   "cell_type": "code",
   "execution_count": 107,
   "id": "28246d02",
   "metadata": {},
   "outputs": [
    {
     "name": "stdout",
     "output_type": "stream",
     "text": [
      "PAM-MU Graph \n",
      " \n",
      "Average degree 2.421272158498436\n",
      "Average path 4.802810917954333\n",
      "Average clusteirng 0.000986051124732584\n"
     ]
    }
   ],
   "source": [
    "print(\"PAM-MU Graph \\n \")\n",
    "print(\"Average degree\" ,avg_deg_PAM )\n",
    "print(\"Average path\", PAM_avg_path)\n",
    "print(\"Average clusteirng\", avg_clstrng_PAM)"
   ]
  },
  {
   "cell_type": "code",
   "execution_count": null,
   "id": "6cdf4208",
   "metadata": {},
   "outputs": [],
   "source": [
    "MU Network \n",
    " \n",
    "Average degree 2.403125\n",
    "Average path 4.81965255871013\n",
    "Average clusteirng 0.0009916895257868273"
   ]
  },
  {
   "cell_type": "code",
   "execution_count": 108,
   "id": "f0e0c9e2",
   "metadata": {},
   "outputs": [
    {
     "name": "stdout",
     "output_type": "stream",
     "text": [
      "1918\n"
     ]
    }
   ],
   "source": [
    "print(len(PAM_MU))"
   ]
  },
  {
   "cell_type": "code",
   "execution_count": null,
   "id": "d5cba3f5",
   "metadata": {},
   "outputs": [],
   "source": []
  }
 ],
 "metadata": {
  "kernelspec": {
   "display_name": "Python 3 (ipykernel)",
   "language": "python",
   "name": "python3"
  },
  "language_info": {
   "codemirror_mode": {
    "name": "ipython",
    "version": 3
   },
   "file_extension": ".py",
   "mimetype": "text/x-python",
   "name": "python",
   "nbconvert_exporter": "python",
   "pygments_lexer": "ipython3",
   "version": "3.9.12"
  }
 },
 "nbformat": 4,
 "nbformat_minor": 5
}
