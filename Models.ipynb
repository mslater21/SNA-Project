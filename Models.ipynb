{
 "cells": [
  {
   "cell_type": "code",
   "execution_count": 1,
   "id": "abfa5120",
   "metadata": {},
   "outputs": [],
   "source": [
    "import networkx as nx, matplotlib.pyplot as plt\n",
    "import numpy as np, pandas as pd\n",
    "import math"
   ]
  },
  {
   "cell_type": "code",
   "execution_count": 2,
   "id": "ec84bf64",
   "metadata": {},
   "outputs": [],
   "source": [
    "df = pd.read_csv('C:/Users/saich/OneDrive/Desktop/SNA/project/Data.csv')"
   ]
  },
  {
   "cell_type": "code",
   "execution_count": 3,
   "id": "420edc43",
   "metadata": {},
   "outputs": [],
   "source": [
    "GT = nx.Graph()\n",
    "GT.add_nodes_from(df['character'].tolist(),bipartite=1,node_color='w',alpha=0.4,node_shape='d')"
   ]
  },
  {
   "cell_type": "code",
   "execution_count": 4,
   "id": "28f13d04",
   "metadata": {},
   "outputs": [],
   "source": [
    "GT.add_nodes_from(df['title'].tolist(),bipartite=0,  node_color='red', alpha=0.4, node_shape='s')\n",
    "for i in range(len(df.index)):\n",
    "    GT.add_edge(df.at[i,'title'],df.at[i,'character'])"
   ]
  },
  {
   "cell_type": "code",
   "execution_count": 5,
   "id": "6743580a",
   "metadata": {},
   "outputs": [],
   "source": [
    "character_nodes = {n for n, d in GT.nodes(data=True) if d['bipartite'] == 1}\n",
    "title_nodes = set(GT) - character_nodes"
   ]
  },
  {
   "cell_type": "code",
   "execution_count": 6,
   "id": "3705e893",
   "metadata": {},
   "outputs": [
    {
     "data": {
      "text/plain": [
       "1860"
      ]
     },
     "execution_count": 6,
     "metadata": {},
     "output_type": "execute_result"
    }
   ],
   "source": [
    "len(character_nodes) # number of characters"
   ]
  },
  {
   "cell_type": "code",
   "execution_count": 7,
   "id": "316d7f46",
   "metadata": {},
   "outputs": [
    {
     "data": {
      "text/plain": [
       "60"
      ]
     },
     "execution_count": 7,
     "metadata": {},
     "output_type": "execute_result"
    }
   ],
   "source": [
    "len(title_nodes) # titles count"
   ]
  },
  {
   "cell_type": "code",
   "execution_count": 8,
   "id": "57049a1e",
   "metadata": {},
   "outputs": [
    {
     "data": {
      "text/plain": [
       "2307"
      ]
     },
     "execution_count": 8,
     "metadata": {},
     "output_type": "execute_result"
    }
   ],
   "source": [
    "len(GT.edges)"
   ]
  },
  {
   "cell_type": "code",
   "execution_count": 9,
   "id": "5a9b72d6",
   "metadata": {},
   "outputs": [
    {
     "data": {
      "image/png": "[encoded data removed]",
      "text/plain": [
       "<Figure size 432x288 with 1 Axes>"
      ]
     },
     "metadata": {},
     "output_type": "display_data"
    }
   ],
   "source": [
    "pos = nx.spring_layout(GT)\n",
    "nx.draw(GT)"
   ]
  },
  {
   "cell_type": "code",
   "execution_count": 10,
   "id": "c94c750d",
   "metadata": {},
   "outputs": [
    {
     "data": {
      "text/plain": [
       "['Iron Man',\n",
       " 'Iron Man 2',\n",
       " 'The Avengers',\n",
       " 'Iron Man 3',\n",
       " 'Avengers: Age of Ultron',\n",
       " 'Captain America: Civil War',\n",
       " 'Spider-Man: Homecoming',\n",
       " 'Avengers: Infinity War',\n",
       " 'Avengers: Endgame']"
      ]
     },
     "execution_count": 10,
     "metadata": {},
     "output_type": "execute_result"
    }
   ],
   "source": [
    "list(GT.neighbors('Tony Stark'))\n",
    "#List of Marvel movies Tony Stark acted"
   ]
  },
  {
   "cell_type": "code",
   "execution_count": 11,
   "id": "0f524025",
   "metadata": {},
   "outputs": [
    {
     "data": {
      "text/plain": [
       "['Tony Stark',\n",
       " 'Thor',\n",
       " 'Bruce Banner',\n",
       " 'Steve Rogers',\n",
       " 'Natasha Romanoff',\n",
       " 'Clint Barton',\n",
       " 'Ultron',\n",
       " 'Nick Fury',\n",
       " 'James Rhodes',\n",
       " 'Pietro Maximoff',\n",
       " 'Wanda Maximoff',\n",
       " 'Jarvis',\n",
       " 'Maria Hill',\n",
       " 'Sam Wilson',\n",
       " 'Peggy Carter',\n",
       " 'Heimdall',\n",
       " 'Laura Barton',\n",
       " 'Erik Selvig',\n",
       " 'Dr. Helen Cho',\n",
       " 'Strucker',\n",
       " 'Ulysses Klaue',\n",
       " 'Madame B',\n",
       " 'Stan Lee',\n",
       " 'Dr. List',\n",
       " 'Fortress Soldier',\n",
       " 'Strucker Mercenary',\n",
       " 'Zrinka',\n",
       " 'Costel',\n",
       " 'Sokovian Acid Student',\n",
       " 'Cooper Barton',\n",
       " 'Lila Barton',\n",
       " 'Friday',\n",
       " 'Nathaniel Pietro Barton']"
      ]
     },
     "execution_count": 11,
     "metadata": {},
     "output_type": "execute_result"
    }
   ],
   "source": [
    "list(GT.neighbors('Avengers: Age of Ultron'))\n",
    "#Main characters in the Avengers: Age of Ultron"
   ]
  },
  {
   "cell_type": "code",
   "execution_count": 12,
   "id": "0e94a1cb",
   "metadata": {},
   "outputs": [],
   "source": [
    "# To find the Similarities between the nodes\n",
    "def Jaccard_Cosine_Smlrty(G,l):\n",
    "    num = list(set([n for n in G.neighbors(l[0])]) & set([m for m in G.neighbors(l[1])]))\n",
    "    print('Common between the',l[0],'and', l[1],'are', num)\n",
    "    denom_j = list(set([n for n in G.neighbors(l[0])] + [m for m in G.neighbors(l[1])]))\n",
    "    print('Jaccard Similarity is ', len(num)/len(denom_j))\n",
    "    denom_c = math.sqrt(len([n for n in G.neighbors(l[0])])*len([n for n in G.neighbors(l[1])]))\n",
    "    print('Cosine Similarity is', len(num)/denom_c)"
   ]
  },
  {
   "cell_type": "code",
   "execution_count": 13,
   "id": "4a6ea3d2",
   "metadata": {},
   "outputs": [
    {
     "name": "stdout",
     "output_type": "stream",
     "text": [
      "Common between the Tony Stark and Steve Rogers are ['Avengers: Age of Ultron', 'Captain America: Civil War', 'Avengers: Endgame', 'The Avengers', 'Avengers: Infinity War']\n",
      "Jaccard Similarity is  0.4166666666666667\n",
      "Cosine Similarity is 0.5892556509887896\n"
     ]
    }
   ],
   "source": [
    "l = ['Tony Stark','Steve Rogers']\n",
    "Jaccard_Cosine_Smlrty(GT,l)"
   ]
  },
  {
   "cell_type": "code",
   "execution_count": 14,
   "id": "77130acd",
   "metadata": {},
   "outputs": [
    {
     "name": "stdout",
     "output_type": "stream",
     "text": [
      "Common between the Avengers: Age of Ultron and Avengers: Endgame are ['Steve Rogers', 'Wanda Maximoff', 'Jarvis', 'Laura Barton', 'Lila Barton', 'Natasha Romanoff', 'James Rhodes', 'Clint Barton', 'Bruce Banner', 'Tony Stark', 'Nick Fury', 'Cooper Barton', 'Maria Hill', 'Thor', 'Friday', 'Peggy Carter', 'Sam Wilson']\n",
      "Jaccard Similarity is  0.21794871794871795\n",
      "Cosine Similarity is 0.3758340350425746\n"
     ]
    }
   ],
   "source": [
    "l2= ['Avengers: Age of Ultron', 'Avengers: Endgame']\n",
    "Jaccard_Cosine_Smlrty(GT,l2)"
   ]
  },
  {
   "cell_type": "markdown",
   "id": "0a97e99b",
   "metadata": {},
   "source": [
    "Isolated Components"
   ]
  },
  {
   "cell_type": "code",
   "execution_count": 15,
   "id": "741449e1",
   "metadata": {},
   "outputs": [
    {
     "data": {
      "text/plain": [
       "3"
      ]
     },
     "execution_count": 15,
     "metadata": {},
     "output_type": "execute_result"
    }
   ],
   "source": [
    "# isolated components\n",
    "i= nx.number_connected_components(GT)\n",
    "i"
   ]
  },
  {
   "cell_type": "code",
   "execution_count": 16,
   "id": "ab7d25ad",
   "metadata": {},
   "outputs": [
    {
     "data": {
      "text/plain": [
       "[<networkx.classes.graph.Graph at 0x1d28e5cf790>,\n",
       " <networkx.classes.graph.Graph at 0x1d28e5d0040>,\n",
       " <networkx.classes.graph.Graph at 0x1d28e5d0eb0>]"
      ]
     },
     "execution_count": 16,
     "metadata": {},
     "output_type": "execute_result"
    }
   ],
   "source": [
    "[GT.subgraph(c).copy() for c in nx.connected_components(GT)]"
   ]
  },
  {
   "cell_type": "code",
   "execution_count": 17,
   "id": "fad1246f",
   "metadata": {},
   "outputs": [
    {
     "data": {
      "text/plain": [
       "{'Azarel',\n",
       " 'Barasso',\n",
       " 'Billy Swan',\n",
       " 'Elsa Bloodstone',\n",
       " 'Jack Russell',\n",
       " 'Jovan',\n",
       " 'Liorn',\n",
       " 'Ted (The Man-Thing)',\n",
       " 'The Flaming Tuba',\n",
       " 'Ulysses Bloodstone',\n",
       " 'Verussa',\n",
       " 'Werewolf by Night'}"
      ]
     },
     "execution_count": 17,
     "metadata": {},
     "output_type": "execute_result"
    }
   ],
   "source": [
    "#Isolated component\n",
    "nx.node_connected_component(GT,'Werewolf by Night')"
   ]
  },
  {
   "cell_type": "code",
   "execution_count": 18,
   "id": "8fc41e95",
   "metadata": {},
   "outputs": [
    {
     "data": {
      "text/plain": [
       "{'Agent Blake',\n",
       " 'Agent Jasper Sitwell',\n",
       " 'Bennie Pollock',\n",
       " 'Claire Weiss',\n",
       " 'Marvel One-Shot: Item 47'}"
      ]
     },
     "execution_count": 18,
     "metadata": {},
     "output_type": "execute_result"
    }
   ],
   "source": [
    "nx.node_connected_component(GT,\"Marvel One-Shot: Item 47\")"
   ]
  },
  {
   "cell_type": "code",
   "execution_count": 19,
   "id": "8fb79cf5",
   "metadata": {},
   "outputs": [
    {
     "data": {
      "image/png": "[encoded data removed]",
      "text/plain": [
       "<Figure size 432x288 with 1 Axes>"
      ]
     },
     "metadata": {},
     "output_type": "display_data"
    }
   ],
   "source": [
    "#Isolated Network of Werewolf team \n",
    "G_Werewolf = nx.Graph()\n",
    "for i in range(len(df.index)):\n",
    "    if (df.at[i,'title'] == 'Werewolf by Night'):\n",
    "        G_Werewolf.add_edge(df.at[i,'title'],df.at[i,'character'])\n",
    "nx.draw(G_Werewolf,with_labels=True, font_color='black')"
   ]
  },
  {
   "cell_type": "code",
   "execution_count": 20,
   "id": "c08b76d1",
   "metadata": {},
   "outputs": [
    {
     "data": {
      "image/png": "[encoded data removed]",
      "text/plain": [
       "<Figure size 432x288 with 1 Axes>"
      ]
     },
     "metadata": {},
     "output_type": "display_data"
    }
   ],
   "source": [
    "G_Oneshot = nx.Graph()\n",
    "for i in range(len(df.index)):\n",
    "    if (df.at[i,'title'] == 'Marvel One-Shot: Item 47'):\n",
    "        G_Oneshot.add_edge(df.at[i,'title'],df.at[i,'character'])\n",
    "nx.draw(G_Oneshot,with_labels=True, font_color='black')"
   ]
  },
  {
   "cell_type": "code",
   "execution_count": 21,
   "id": "d7a9fabd",
   "metadata": {},
   "outputs": [],
   "source": [
    "def deg_dst(G7): # degree distribution of titles and characters\n",
    "    degrees = [G7.degree(n) for n in title_nodes]\n",
    "    deg,freq = np.unique(degrees,return_counts=True)\n",
    "    plt.plot(deg,freq,label = 'title degree distribution')\n",
    "    plt.legend()\n",
    "    plt.show()\n",
    "    degrees1 = [G7.degree(n) for n in character_nodes]\n",
    "    deg1,freq1 = np.unique(degrees1,return_counts=True)\n",
    "    plt.plot(deg1,freq1,label = 'characters degree distribution')\n",
    "    plt.legend()\n",
    "    plt.show()\n",
    "def avg_deg_cc(G): # average degree and clustering co-efficient\n",
    "    avg_cc_G = nx.transitivity(G)\n",
    "    avg_deg_G = G.degree()\n",
    "    deg_sum_G =0\n",
    "    for j in list(avg_deg_G):\n",
    "        deg_sum_G += j[1]\n",
    "    avg_deg_G =  deg_sum_G/len(G.nodes())\n",
    "    return (avg_deg_G, avg_cc_G)"
   ]
  },
  {
   "cell_type": "code",
   "execution_count": 22,
   "id": "b0006d3d",
   "metadata": {},
   "outputs": [],
   "source": [
    "avg_deg_, avg_clstrng_ = avg_deg_cc(GT) \n",
    "#print('Average degree of Network', avg_deg_,'clustering co-efficient', avg_clstrng_)"
   ]
  },
  {
   "cell_type": "code",
   "execution_count": 23,
   "id": "6f436477",
   "metadata": {},
   "outputs": [],
   "source": [
    "num = 0 \n",
    "for c in nx.connected_components(GT):\n",
    "    num += nx.average_shortest_path_length(GT.subgraph(c))*len(GT.subgraph(c))"
   ]
  },
  {
   "cell_type": "code",
   "execution_count": 24,
   "id": "88252bd1",
   "metadata": {},
   "outputs": [],
   "source": [
    "GT_avg_path = num/len(GT.nodes())"
   ]
  },
  {
   "cell_type": "code",
   "execution_count": 25,
   "id": "9aef66cf",
   "metadata": {},
   "outputs": [
    {
     "name": "stdout",
     "output_type": "stream",
     "text": [
      "MU Network \n",
      " \n",
      "Average degree 2.403125\n",
      "Average path 4.81965255871013\n",
      "Average clusteirng 0.0009916895257868273\n"
     ]
    }
   ],
   "source": [
    "print(\"MU Network \\n \")\n",
    "print(\"Average degree\" ,avg_deg_ )\n",
    "print(\"Average path\",GT_avg_path)\n",
    "print(\"Average clusteirng\", avg_clstrng_)"
   ]
  },
  {
   "cell_type": "code",
   "execution_count": 26,
   "id": "7f328fa9",
   "metadata": {},
   "outputs": [
    {
     "data": {
      "image/png": "[encoded data removed]",
      "text/plain": [
       "<Figure size 432x288 with 1 Axes>"
      ]
     },
     "metadata": {
      "needs_background": "light"
     },
     "output_type": "display_data"
    },
    {
     "data": {
      "image/png": "[encoded data removed]",
      "text/plain": [
       "<Figure size 432x288 with 1 Axes>"
      ]
     },
     "metadata": {
      "needs_background": "light"
     },
     "output_type": "display_data"
    }
   ],
   "source": [
    "deg_dst(GT)"
   ]
  },
  {
   "cell_type": "code",
   "execution_count": 27,
   "id": "6c45fac3",
   "metadata": {},
   "outputs": [],
   "source": [
    "#des = [GT.degree(n) for n in title_nodes]\n",
    "titles_dict ={}\n",
    "characters_dict={}\n",
    "for n in title_nodes: \n",
    "    titles_dict.update({n:GT.degree(n)})\n",
    "for n in character_nodes:\n",
    "    characters_dict.update({n:GT.degree(n)})  \n",
    "#list(des)"
   ]
  },
  {
   "cell_type": "code",
   "execution_count": 28,
   "id": "d56fa37d",
   "metadata": {},
   "outputs": [
    {
     "name": "stdout",
     "output_type": "stream",
     "text": [
      "Chracters degree {'Nazi General': 1, 'Elliot': 1, 'Qasim Zaghlul': 1, 'Wendy Ross-Hogarth': 1, 'Detective Blake': 1, 'Aiko': 1, 'Yat-Sen': 1, 'Alex Wesley': 1, 'Hydra Buyer': 1, 'Ryhno': 1, 'Marc Spector': 1, 'Miles Van Ert': 1, 'Police Officer #1': 1, 'Hela': 1, 'Norma': 1, 'Sheldon McFee': 1, 'Baron Mordo': 1, 'Luca Russo': 1, 'Dorothy': 1, 'Dr. Seth Honicky': 1, 'Gilgamesh': 1, 'Eva Belyakov': 1, 'Dr. Gregory Tepper': 1, 'D.K.': 1, 'Joe the Orderly': 1, 'Agent Lumley': 1, 'SAC Tammy Hattley': 1, 'Santino': 1, 'Bryce': 1, 'Cousin Ched': 1, 'Agent Stoltz': 1, 'Goon One': 1, 'Armand VII': 1, \"N'Jobu\": 1, 'Sana': 1, 'Sissy Garcia': 1, 'Olga Pachinko': 1, 'Gina': 1, 'Ariann': 1, 'Dr. List': 2, 'Agent Cale': 1, 'Cassie': 1, 'The Seamstress': 1, 'Lucas': 1, 'Jack Russell': 1, 'Manny': 1, 'Eiffel': 1, 'Silke': 1, 'Darren Cross': 2, 'Agent Nathanson': 1, 'Jackson Norris': 1, 'French Pirate #2': 1, 'On-Set Rocket': 2, 'Lincoln Campbell': 1, 'Harold Simcoe': 1, 'Randy': 1, 'Matt Murdock': 3, 'Zuri': 1, 'Leah': 1, 'Councilman Rockwell': 1, 'Vice President Rodriguez': 1, 'Skeevy Guy': 1, 'Neils': 1, 'Radio Announcer': 1, 'Lila': 1, 'Titania': 1, 'Tinker': 1, 'Vido Arocho': 1, 'Mike on a Bike': 1, \"Maitre d'\": 1, 'Mariah Dillard': 1, 'Yondu': 2, 'Owais': 1, 'Ivan': 1, 'Eleanor Bishop': 1, 'Copper': 1, 'Sinara': 1, 'Jack Murdock': 1, 'Att-Lass': 1, 'Luther Banks': 1, 'Hek-Sel': 1, 'Agent Piper': 1, 'Megan': 1, 'Kropsky': 1, 'Joseph Bauer': 1, 'Major': 1, 'Young Kilgrave': 1, 'Wendell Levi': 1, 'Nesbitt': 1, 'Peter Quill': 6, 'Senator Ellen Nadeer': 1, 'Kamar-Taj Teacher': 1, 'Agent Jasper Sitwell': 1, 'Agent Davis': 1, 'Lexi Raymond': 1, 'Grandpa': 1, 'Alisa Jones': 1, 'General Jacobs': 1, 'Kurt': 3, 'Little Maya': 1, 'Diaz': 1, 'Lisa Castle': 1, 'Genesis': 1, 'Ivan Vanko': 1, 'Airman Whitley': 1, 'Officer Cooper': 1, 'Young Xialing': 1, 'Watchdog Oscar': 1, 'Rudy': 1, 'State Senator Asa Henderson': 1, 'Burnell': 1, 'Hope Shlottman': 1, 'Monica Rambeau (11 Years Old)': 1, 'Agent Anderson': 2, 'Gamora': 5, 'Bobbi Morse': 1, 'Stone': 1, 'Agent Jackson': 1, 'Camilla Reyes': 1, 'Maynard': 1, 'Liorn': 1, 'Andrew Garner': 1, 'Judge Amanda Garmon': 1, 'Trish Walker': 3, 'Scientist Morocco 1': 1, 'Detective Nandi Tyler': 1, 'Father Joshua Crow': 1, \"Lt. Col. James 'Rhodey' Rhodes\": 2, 'Father Sean Okamoto': 1, 'Katya': 1, 'Noah': 2, 'Claire Weiss': 1, 'Young Black Bolt': 1, 'Jonathan Pangborn': 1, 'Rocket': 6, 'Mrs. Lee': 1, 'Russell': 1, 'Warden Riggle': 1, 'Man-Bull': 1, 'Priya': 1, 'Uatu': 1, 'Elias Spector': 1, 'Catherine Starr': 1, 'Roy Olsky': 1, 'Nate': 1, 'Victoria Helstrom': 1, 'Darryl the Tour Guide': 1, 'Ernesto The Barber': 1, 'Sharon': 1, 'Agent Burleigh': 1, 'Pryce Cheng': 1, \"James Buchanan 'Bucky' Barnes\": 1, 'Vladimir Ranskahov': 1, 'Malcolm Ducasse': 2, 'Grotto': 1, 'Vision': 3, 'Agent Thomas': 1, 'Mr. Kazemi': 1, 'Durant': 1, 'John': 2, 'Concierge': 1, 'Dana Stryker': 1, 'Young Adult Pop': 1, 'Tibor': 1, 'Tat': 1, 'Paxton Page': 1, 'Paul': 1, 'Christine Everhart': 4, 'Clint': 1, 'Reva Connors': 2, 'Laura Hayward': 1, \"Robert 'Whizzer' Coleman\": 1, 'Faith Evans': 1, 'Dr. Marcus Benson': 1, 'Sammy': 1, 'Millennial Megan': 1, 'Thanos': 3, 'Randall Spector': 1, 'Steve Wilson': 1, 'Dapper Dan': 1, 'John Mackenzie': 1, 'Henry Yip': 1, 'Malekith': 1, 'Mobius': 1, 'Agent Jacobson': 1, 'Ian': 1, 'Dr. Helen Cho': 1, 'Victoria Hand': 1, 'Victor Stein': 1, 'Yinsen': 1, 'Olivia Walker': 1, 'Dallas Wyatt': 1, 'Agent Phelps': 1, 'Vijay Nadeer': 1, 'Miss Minutes': 1, 'Elektra Natchios': 2, 'Etta Lucas': 1, 'Bob Shlottman': 1, 'Medusa': 1, 'Jarvis': 4, 'Justis Ambrose': 1, 'Agent Leo Fitz': 1, 'Thena': 1, 'Herman': 1, 'Joel Spurlock': 1, 'Huhtar': 1, 'Lila Barton': 3, 'Stoner Chronicom': 1, 'Clay Wilson': 1, 'Julia Price': 1, 'Tim Maguire': 1, 'Agent Garrett': 1, 'Ancient Shop Manager': 1, 'John Garrett': 1, 'Audrey': 1, 'Agent Jemma Simmons': 1, 'Zemo': 1, 'Jeffrey Mace': 1, 'Sharon Carter': 3, 'Herman Schultz': 1, 'Ellen King': 1, 'Serious Man': 1, 'Carl Creel': 1, 'Ingrid': 1, 'Beth Quinn': 1, 'Pam': 1, 'Kate Bishop': 1, 'Gabe Reyes': 1, 'Dog of Hell': 1, 'Morgan le Fay': 1, 'King Valkyrie': 1, 'Aubree Richards': 1, 'Colonel Victor Ramon': 2, 'Marlene Fisk': 1, 'Specialist Cameron Klein': 1, 'Wendell Rand': 1, 'Vinny': 1, 'Cloak': 2, 'John Donnelly': 1, 'Dovich': 1, 'Gedrick': 1, 'Theo Nelson': 1, 'Avalon': 1, 'Agent Prince': 1, 'Georges Batroc': 2, 'Erik Killmonger': 2, 'Edwin Dunlap': 1, 'Shepard': 1, 'Patrick': 1, 'Reese': 1, 'Squabbles aka Reggie': 1, 'Agent Jones': 1, 'Mrs. Chen': 1, 'Volstagg': 3, 'Antonia': 1, 'Angry Man': 1, 'Catering Captain Gary': 1, 'Sylvie': 1, 'Carol Danvers': 2, 'George Ashland': 1, 'Spectre 2': 1, 'Yondu Udonta': 1, 'Algrim': 1, 'Dr. Eileen Mercer': 1, 'Diontey': 1, 'Khonshu': 1, 'Hasan': 1, 'Kraglin': 4, 'Molly Hernandez': 1, 'Bynum': 1, 'Seymour': 1, 'Brett Mahoney': 1, 'Anderson Schultz': 1, 'James Rhodes': 5, 'Morgan Stark': 1, 'Finn': 2, 'Francine': 1, 'Fortress Soldier': 1, 'Young Molly': 1, 'Mordo': 1, 'Steve Scott': 1, 'Razor Fist': 1, 'Philip': 1, 'Colonel Chester Phillips': 1, 'Agent Butch Wallace': 1, 'Actor Loki': 1, 'Trok': 1, 'Dennis Bukowski': 1, 'David Schultz': 1, 'Neville': 1, 'Anne Marie Hoag': 1, 'Agent Mulcahey': 1, 'Lopes': 1, 'Chris Adler': 1, 'Deputy Ken Ogden': 1, 'Spectre 1': 1, 'Amy': 1, 'Victor': 2, 'Alicia': 1, 'Ayla': 1, 'Agent Julian': 1, 'Qolpakc': 1, 'Bret Johnson': 1, 'Stick': 2, 'General Gabriel': 1, \"Jiaying's Assistant\": 1, 'Norex': 1, 'Lerato': 1, 'Katie Thompson': 1, 'Gregory Sallinger': 1, 'L.T. Koenig': 1, 'Kingo': 1, 'Sonya': 1, 'The Collector': 3, 'Toshiro Mori': 1, 'Uncle Bud': 1, 'Kourtney': 1, 'Shameek Smith': 1, 'Trooper': 1, 'Mrs. Hart': 1, 'Holt': 1, \"Benjamin 'Dex' Poindexter\": 1, 'Melvin Potter': 1, 'Tech': 1, 'Eric Ambrose': 1, 'Queen Rynda': 1, 'Karolina Dean': 1, 'Nikki Ramos': 1, 'General Cole': 1, \"Isabelle 'Izzy' Hartley\": 1, 'Aisha': 1, 'Becca': 1, 'Agent Kaminsky': 1, 'William May': 1, 'FBI Agent Jurmain': 1, 'Graciela Aguirre': 1, 'Lia': 1, 'Gabe Jones': 1, 'Canelo': 1, 'Rufus': 1, 'Ulysses Bloodstone': 1, 'George Stephanopoulos': 1, 'Tina Adams': 1, 'Director Jeffrey Mace': 1, 'Detective Flores': 1, 'Actor Thor': 1, 'Director Tyler Hayward': 1, 'Leland Owlsley': 1, 'Roxy Glass': 1, 'Bar Monkey': 1, 'Phil Jones': 1, 'Norman Osborn': 1, 'Agent Fisher': 2, 'Joey Gutierrez': 1, 'Felix': 1, 'Agent Blake': 1, 'Victoria': 1, 'Rosalie Carbone': 2, 'Yelena': 1, 'Dr. Karl Malus': 1, 'Miguel': 2, 'Meredith Quill': 2, 'Elena Cardenas': 1, 'Surtur': 2, 'Daniel Whitehall': 1, 'Leticia': 1, 'Tullk': 1, 'Akela Amador': 1, 'Zack': 1, 'Happy Sam Sawyer': 1, 'Sasha Demidov': 1, 'Zev': 1, 'Dr. Torres': 1, 'Deputy Murphy': 1, 'Phineas Mason': 1, 'Benny': 1, 'Cop': 1, 'Christiane Amanpour': 1, 'Ayesha': 1, 'Leo Lieberman': 1, 'Farah Madani': 1, 'Sowande': 1, 'Muneeba': 1, 'Wendy': 2, 'Kerry Duggan': 1, 'Tall Zealot': 1, 'Agent Rick Ramirez': 1, 'Lash': 1, 'Dr. Louise Hastings': 1, 'Clint Barton': 6, 'Officer Derrick Jackson': 1, 'Bereet': 1, 'Felix Blake': 1, 'Dr. Lawrence': 1, 'Max Dillon': 1, 'Mouse': 2, 'Makani': 1, 'Maggie': 1, 'Yatzil': 1, 'Lord Manzini': 1, 'Gorr': 1, 'Alexandra Reid': 1, 'Liz': 1, 'Vernon Masters': 1, 'Bakuto': 2, 'Flash': 1, 'Anton Petrov': 1, 'Strucker': 1, 'Lt. Carpenter': 1, 'Lei Kung': 1, 'Dimitri': 1, 'Alex Wilder': 1, 'Captain Tom Ridenhour': 1, 'Madisynn': 1, 'Colleen Wing': 3, 'Zip': 1, 'Nigel Garrison': 1, 'Wong': 7, 'Coach Wilson': 2, 'Montalban': 1, 'Joseph Manfredi': 1, 'Valkyrie': 2, 'Dr. Abraham Erskine': 1, 'Doris Toomes': 1, 'Agent Harlan': 1, 'Colonel Flynn': 1, 'Carlo Eastman': 1, 'Duane Porter': 1, 'Saanvi Nadeem': 1, 'Cab Driver': 1, 'Doris': 1, 'Tooms': 1, 'Alex Tilden': 1, 'Officer Carvalho': 1, 'Detective Mark Bailey': 1, 'Carlos': 2, 'Dr. Gabe Krasner': 1, 'Captain Carter': 1, 'Tess': 1, 'Gale': 1, 'Miles Lydon': 1, 'Gilmore Hodge': 1, 'Paxton': 2, 'Amit': 1, 'Vaughn': 1, 'Senator Stan Ori': 1, 'Norm': 1, 'Steve Danvers': 1, \"Qasim's Translator\": 1, 'Alice Hernandez': 1, 'Jace Montero': 1, 'Soledad': 1, 'Jen': 1, 'Donnie Gill': 1, 'Computer Tech': 1, 'Darcy Lewis': 4, 'Reno': 1, 'Agent Cleary': 2, 'Agent Markham': 1, 'Greaseball': 1, 'Quinton the Great': 1, 'Heimdall': 6, 'Armed S.H.I.E.L.D. Guard': 1, 'Wrecker': 1, 'Mrs. Elizabeth De Luca': 1, 'Wilson Fisk': 1, 'Choo Choo Broussard': 1, 'Arnim Zola': 1, 'Prison Guard': 1, 'Ott': 1, 'Aida': 1, 'Agent Daisy Johnson': 1, 'Zach': 1, 'Louise': 1, 'Adrian': 1, 'Shawn': 1, 'Carol': 1, 'Xialing': 1, 'Silvio': 1, 'Ned': 3, 'Lieutenant Lucas': 1, 'Friday': 4, 'Gunner': 2, 'Ronan': 2, 'Brick': 2, 'Mama Mabel': 1, 'Kincaid': 1, 'Strieber': 1, 'Mr. Zhang': 1, \"Maximillian 'Max' Tatum\": 1, 'Leonard': 1, 'Asgard Tourist': 1, 'Jin Lin': 1, 'Akihiko': 1, 'Glenn Talbot': 1, 'Krista Dumont': 1, 'Mama Donya': 1, 'Howard the Duck': 2, 'D.W. Griffith': 1, 'Nakia': 2, 'Lian May': 1, 'Englishman': 1, 'Debonair Gentleman': 1, 'Sibyl': 1, 'Jason': 1, 'Hernan Alvarez': 1, 'Agent Slate': 1, 'Arthur Harrow': 1, 'Eitri': 1, 'Hope Van Dyne': 4, 'Elena Chavez': 1, 'Yuchen': 1, 'Strucker Mercenary': 1, 'Beautiful Woman': 1, 'Yama': 1, 'Kirk Vogel': 1, 'Mr. Kitson': 1, 'Amos': 1, 'Auntie Zara': 1, 'Barasso': 1, 'Jemma Simmons': 1, 'Marion James': 1, 'Hank': 1, 'Older Man': 1, 'Thomas Blaskowski': 1, 'Hameed': 1, 'Candice Lee': 1, 'Pax': 1, 'Jones': 1, 'Dana': 1, 'Selvig': 2, 'Curtis Hoyle': 1, 'Ajak': 1, 'Government Official': 1, 'Casey': 1, 'Erik Selvig': 3, 'Albert Thompson': 1, 'Whitney Frost': 1, 'Marcus': 1, 'Reid Pearson': 1, 'Isaac': 1, 'Black Bolt': 2, 'Dr. Fine': 1, 'Chuck Donelan': 1, 'Mordis': 1, 'Teenage Willis Stryker': 1, 'Graham': 1, 'Agent Hart': 1, 'Maggie Lang': 1, 'FSB Commander': 1, 'Mr. Wilson': 1, 'Young Ava': 1, 'Ross Lieutenant': 1, 'Ace Peterson': 1, 'Voice of The Incredible Hulk': 1, 'Baby Groot': 2, 'Soo': 1, 'Tyler': 1, 'Dottie Jones': 1, 'Greg Pressfield': 1, 'Anon': 1, 'Eli Morrow': 1, 'Mrs. Vistain': 1, 'Amy Bendix': 1, 'Spectre 3': 1, 'Octavian Bloom': 1, 'Robin Hinton': 1, 'Young Maximus': 1, 'Agent Weaver': 1, 'Bruno': 2, 'Agent Pinksy': 1, 'Hugo': 1, 'Agent Rodriguez': 1, 'Carol Denvers': 1, 'Olaf': 1, 'J.T. James': 1, 'Agent McCafferty': 1, 'Lindsay': 1, 'Agent Tyler': 1, 'Atarah': 1, 'Uzman': 1, 'Kenneth Turgeon': 1, 'Chief Wellins': 1, 'Undersecretary Walter Thomas': 1, 'Basha': 1, 'Protester #2': 1, 'Agent Vega': 1, 'Agent Quan': 1, 'Christine Palmer': 1, 'Lead SVR Agent': 1, 'Keith': 1, 'Delores': 1, 'Lonnie Wilson': 1, 'May Parker': 4, 'Yon-Rogg': 1, 'Dr. Noah Burstein': 1, 'Aunt Mindy': 1, 'Eddie Axton': 1, \"Meredith's Best Friend\": 1, 'Master Guang Bo': 1, \"Colleen O'Brien\": 1, 'Mr. Dell': 2, 'Dave': 3, 'Walt Cooper': 1, 'Ovechkin': 1, 'John McIver': 1, '12 Year Old Danny': 1, 'Recruit #1': 1, 'Archeologist': 1, 'Eliza': 1, 'Martinex': 1, 'Ward Meachum': 1, 'Ruby': 2, 'Chronicom Hunter #1': 1, 'Kree Captain': 1, 'Malachi': 1, 'Young Daimon': 1, 'Navid': 1, 'Night Waitress': 1, 'Dr. Leslie Hansen': 1, 'Daimon Helstrom': 1, 'Francis': 1, 'Kyle Zeller': 1, 'Cull Obsidian': 1, 'Young Gideon Malick': 1, 'Dr. Fitzgibbon': 1, 'Ego': 2, 'Stan Lee': 3, 'Vilca': 1, 'Thomas Ward': 1, 'Hope Mackenzie': 1, 'Dr. Ivchenko': 1, 'Korg': 4, 'Bobbi': 1, 'Karine': 1, 'Hex': 1, 'Mac Gargan': 1, 'Enrique': 1, 'Jasper Sitwell': 2, 'Agent Diaz': 1, 'Male Prostitute': 1, 'Gillian': 1, 'Young Danny Rand': 1, 'MIT Assistant Vice Chancellor': 1, 'Michael Carter': 1, 'Taryan': 1, 'Hogun': 3, 'Michael Pilgrim': 1, 'Happy Hogan': 8, 'Saracen': 1, 'Corvus Glaive': 2, 'Shawna Lynde': 1, 'Darnell': 1, 'He Who Remains': 1, 'Guterman': 1, 'Haruto Yakimura': 1, 'Skurge': 1, 'Bronwyn': 1, 'Ned Leeds': 3, 'Detective Donnie Chang': 1, 'Shane': 1, 'General Androvich': 1, 'Janet Stein': 1, 'Giyera': 1, 'Dr. Nicodemus West': 1, 'Vladimir': 1, 'Pete Boggs': 1, 'Agent Rivera': 1, 'Kith Lyonne': 1, 'Crank': 1, 'Doctor Zakarian': 1, 'Tomas': 1, 'Mason': 1, 'Felix Manning': 1, 'Eric Fraser': 1, 'Matias': 1, 'Rosalind Price': 1, 'Ivan Hess': 1, 'Mrs. Mahoney': 1, 'Lance Hunter': 1, 'Gabriella Rosetti': 1, 'Dr. Gallo': 1, 'Bek': 1, 'Todd': 3, 'Cornell Stokes': 1, 'Melissa Bowen': 1, 'Larry': 1, 'Detective Imada': 1, 'Holden Holliway': 1, 'Derek Bishop': 1, 'Tawni': 1, 'Elena': 1, 'Officer Zbyszewski': 1, 'Will Simpson': 1, 'Jano': 1, 'Amy Minoru': 1, 'Natalie Rushman/Natasha Romanoff': 1, 'Lee': 1, 'Sergei Konchevsky': 1, 'Luke Jacobson': 1, 'Doyle': 1, 'Aisha Axton': 1, 'Cecilio': 1, 'Waipo': 1, 'Ted': 1, 'Nomble': 1, 'Jennifer Walters': 1, 'Loretta Dooley': 1, 'Goon Three': 1, 'Ringmaster': 1, 'Maria Rodriguez': 1, 'Sarah Wilson': 1, 'Zeus': 1, 'Joan Rivers': 1, 'Agent Monti': 1, 'Ayo': 3, 'Sonia': 1, 'D-Nice': 1, 'Jane Foster': 5, 'Michael Kemp': 1, 'Frigga': 4, 'Agent Arinori': 1, 'Violet': 1, 'Abu Bakaar': 1, 'Armand III': 1, 'Councilwoman Hawley': 1, 'Kusack': 1, 'Shirley': 1, 'Chief Duchamp': 1, 'Caretaker': 1, 'Oscar Arocho': 1, 'Yori': 1, 'Darryl': 2, 'Halfnut': 1, 'Unique': 1, 'Coach Alphona': 1, 'Agent Phil Coulson': 1, 'Detective Rafael Scarfe': 1, 'Tony Diaz': 1, 'Detective Lemieux': 1, 'Detective Hoffman': 1, 'Connie Lin': 1, 'Topher': 1, 'Uncle Timmy Nelson': 1, 'Mrs. Zeller': 1, 'Adian Younge': 1, 'Isodyne Receptionist': 1, 'Asgardian Stagehand': 1, 'Flint': 1, 'Cindy': 2, 'Blonde Zealot': 1, 'Jack Rollins': 1, 'Petra Larsen': 1, 'Chan Ho Yin': 1, 'Cooper Barton': 3, 'Heinz Kruger': 1, 'Rose': 1, 'Darius': 1, 'Captain Betty Audrey': 1, 'Agent Noelle Walters': 1, 'Rhodey': 2, 'Ursa': 1, 'BB': 1, 'Alexei': 1, 'Patricia Wilson': 1, 'Nathaniel Malick': 1, 'Mikayla': 1, 'Heather': 1, 'The Vicar': 1, 'Frank Castle Jr.': 1, 'Agent Mack': 1, 'Nico Minoru': 1, 'Chief Bernie': 1, 'Jackson Brice': 1, 'Tamar': 1, 'Security Chief Liu': 1, 'Xavin': 1, 'Khonshu Performer': 1, 'Wyatt': 1, \"Wilfredo 'Chico' Diaz\": 1, 'Andrew Brandt': 1, 'Ulysses Klaue': 3, 'Hai-Qing Yang': 2, 'Josh': 1, 'Doctor Stephen Strange': 1, 'Special Agent Sonya Falsworth': 1, 'Dum Dum Dugan': 3, 'Yusef Hadad': 1, 'Anton': 1, 'Aaron Davis': 1, 'Morris Walters': 1, \"General 'Thunderbolt' Ross\": 1, 'Auntie Ingrid': 1, 'Young Bill': 1, 'Auntie Chantelle': 1, 'Angie Martinelli': 1, 'Lilla Mackenzie': 1, 'Enoch': 1, 'Leon': 1, 'Roger': 1, 'Char': 1, 'Daniel Sousa': 2, 'Gor': 1, 'Louisa Delgado': 1, 'Sebastian Derik': 1, 'Baker': 1, 'Carina': 1, \"Sergeant Jacob 'Jake' Smith\": 1, 'AJ': 1, 'FDNY Paramedic': 1, 'Mr. Edwards': 1, 'Boy': 1, 'Ramonada': 2, 'Narblik': 1, 'Female Reporter': 1, 'Lloyd Rathman': 1, 'Tillman': 1, 'Nurse Smith': 1, 'Layla El-Faouly': 1, 'Rosie': 1, 'Maureen Denton': 1, 'Major Kathleen Sparr': 1, 'Roy Healy': 1, 'Dane Whitman': 1, 'Nicholas Lee': 1, 'Nobu': 1, 'Jennifer Fisher': 1, 'Maston-Dar': 1, 'Dr. Broussard': 1, 'Edward Tate': 1, 'Auntie Ruby': 1, 'Baron Zemo': 1, 'Erik Gelden': 1, 'Chase Brunski': 1, 'Young Natasha': 1, 'Detective Sgt. Thompson': 1, 'Franklin Delano Roosevelt': 1, 'Kaya': 1, 'Jovan': 1, 'James Wesley': 1, 'Daniel Gibson': 1, 'Queen Ramonada': 1, 'Bobby': 2, 'Betty Ross': 2, 'Dan Hartlett': 1, 'Martina': 1, 'Buyer': 1, 'Bernie Walker': 1, 'Billy Koenig': 1, 'Gabriel Soto': 1, 'Detective Rivera': 1, 'A.U.S.A. Colin Dunbar': 1, 'Rintrah': 1, 'Ahmad': 1, 'The Flaming Tuba': 1, 'Committee Chairperson': 1, 'Xiao Chen': 1, 'Josh Miller': 1, 'William Ginter Riva': 2, 'Polly Hinton': 1, 'Joseph Danvers': 1, 'Michelle Raymond': 1, 'Marlena Olin': 1, 'Karen Page': 3, 'Baal-Gad': 1, 'Kebo': 1, 'Ian Boothby': 1, 'Triton': 1, 'Lieutenant Perez': 1, 'Toad': 1, 'Solomon': 1, 'Edwin Abbott': 1, 'Father Lantom': 2, 'Chronicom': 1, 'Turk Barrett': 4, 'Yusuf': 1, 'Dante Chapman': 1, 'Okoye': 4, 'Supreme Intelligence': 1, 'Cadet Officer': 1, 'Charlie': 1, 'Stanley': 1, 'Wilma Cully': 1, 'Josie': 1, 'Marcus Daniels': 1, 'Paul Edmonds': 1, 'Denarian Saal': 1, 'Agent Yauch': 1, 'Long-Haired Gambler': 1, 'Bartender': 1, 'Nova Prime': 1, 'Danny Rand': 3, 'Crispus Thug': 1, 'DeeDee': 1, 'Heather Rand': 1, 'Faulnak': 1, 'Agent Alvarez': 1, 'Ronnie Chang': 1, 'Boyle': 1, 'Melina': 1, 'Billy Maximoff': 2, 'Elaine Walters': 1, 'Anibal Izqueda': 1, 'Sister Maggie': 1, 'Skinny Steve': 1, 'Kthara': 1, 'General Fischer': 1, 'Richie': 1, 'Elsa Bloodstone': 1, 'Bill Fisk': 1, 'Michelle Caldwell': 1, 'Dr. Tiboldt': 1, 'Mitchell Carson': 1, 'The Broker': 1, \"M'Baku\": 3, 'Mike Peterson': 1, 'Callie Hannigan': 1, 'Watchdog Victor': 1, 'Billy': 2, 'Kro': 1, 'Aunt Cindy': 1, 'Sofia': 1, 'Smithsonian Guard': 1, 'Elihas Starr': 1, 'Mrs. Shelby': 1, 'Emily Deville': 1, 'George Talbot': 1, 'Pulsus': 1, 'Senator Atwood': 1, 'Death Dealer': 1, 'Nonna Manfredi': 1, 'Agent Wellers': 1, 'Hugh Jones': 1, 'Emma': 1, 'Agent King': 1, 'Jim Morita': 2, \"Brianna 'Berry' Gelden\": 1, 'Sara Haines': 1, 'John Hammer': 1, 'Sal Blaskowski': 1, 'Judge Cynthia Batzer': 1, 'Zrinka': 1, 'Jerome Deschamps': 1, 'Beta': 1, 'John Pilgrim': 1, 'Ted (The Man-Thing)': 1, 'Todd Chesterfield': 1, 'Edwin Jarvis': 1, 'E.D.I.T.H.': 1, 'Frank': 2, 'Fiz': 1, 'Peng': 1, 'Idaho': 1, 'Emil Blonsky': 1, 'Gideon Malick': 1, 'Zoe': 1, 'Agent Rebecca Stevens': 1, 'Marci Stahl': 2, 'Detective Sunday': 1, 'Dale': 2, 'Hero Torfan': 1, 'David Lieberman': 1, 'Calvin Chadwick': 1, 'Griffin Sinclair': 1, 'Linda Chao': 1, 'Edison Po': 1, 'Sunil Bakshi': 1, 'Agent Keller': 1, 'Ava': 2, 'Barbara Shlottman': 1, 'Zaya Okonjo': 1, 'Madame Gao': 3, 'George Bach': 1, 'Parish Landman': 1, 'Dale Yorkes': 1, 'Comanche': 1, 'Officer Pike': 1, 'Karli Morgenthau': 1, 'Agent Shaw': 1, 'Otto Mink': 1, 'Peter Scarborough': 1, 'Anton Ivanov': 1, 'Eldrac': 1, 'Dr. Bill Foster': 1, 'Fletcher Heggs': 1, 'Ammit': 1, 'Mother': 1, 'Agent Calderon': 1, 'Biff': 1, 'Danny': 1, 'Joe': 2, 'Cassandra': 1, 'MJ': 2, 'Willis Stryker': 1, 'Amalia Chavez': 1, 'Runa': 1, 'Dr. Erskine': 1, 'Thomas Gloucester': 1, 'Grandmaster': 2, 'Oblo': 1, 'Judge Price': 1, 'Tyesha': 1, 'Vic Jusufi': 1, 'Dr. Chung': 1, 'Li': 2, 'Pizza Poppa': 1, 'Betty Carver (Radio Actor)': 1, 'Maddie': 1, 'Dylan': 1, 'Mita Nansari': 1, 'Trevor Slattery': 3, \"T'Challa\": 5, 'Officer Stuart': 1, 'Red Dagger': 1, 'Agent Deever': 1, 'Charles Bradley': 1, 'Scientist': 1, 'Stephanie Malick': 1, 'Grant Ward': 1, 'Aura': 1, 'Vin-Tak': 1, 'Makkari': 1, 'Knox': 1, 'Eric Hong': 1, 'Werner von Strucker': 1, 'Holden Radcliffe': 1, 'Diego': 3, 'Luanne': 1, 'John Walker': 1, 'Ana Silva': 1, 'Little Kazi': 1, 'Catherine Wilder': 1, 'Paripan': 1, 'Selim': 1, 'FSO Agent': 1, 'Keith Spivey': 1, 'Engine Pirate': 1, 'David Angar': 1, 'Chase Stein': 1, 'King Agon': 1, 'Nurse Brad': 1, 'Justin': 1, 'Nathi Zuma': 1, \"Raymond 'Piranha' Jones\": 1, 'Sol Rama': 1, 'Agent Mike Li': 1, 'Private Tilden': 1, 'Miriam': 1, 'William Rawlins': 1, 'Jason Ionello': 1, 'Detective Costa': 1, 'Bobby Fish': 1, 'Senator Brandt': 1, 'Agent Sitwell': 3, 'Susanna': 1, 'Fandral': 3, 'Brock Rumlow': 4, 'Gao Lei': 1, 'Murakami': 1, 'Thomas Roberts': 2, 'Young Carol (13 Years Old)': 1, 'Beverly': 1, 'Principal Morita': 1, 'Josh Elliott': 1, 'Nurse Billy': 1, 'General Rick Stoner': 1, 'Tiago': 1, 'Senator Gaius Ponarian': 1, 'Officer Carl Nussbaumer': 1, 'General Joe Greller': 1, 'Billy Swan': 1, 'Gert Yorkes': 1, 'Janice': 1, 'Elias': 1, 'Len Sirkes': 1, \"Dontrell 'Cockroach' Hamilton\": 1, 'Lucian': 1, 'Livvie': 1, 'Drax': 5, 'Kaecilius': 1, 'Young Tandy': 1, 'Arishem': 1, 'Hannah': 1, \"Arturo 'El Rey' Gomez III\": 1, 'Peanut Vendor': 1, 'Thomas': 2, 'Gef': 1, 'Lana': 1, 'Jakob Nystrom': 1, 'Yasmin': 1, 'Neda Kazemi': 1, 'Mark Higgins': 1, 'Louise Thompson': 1, 'Mary Walker': 1, 'Lady Karaba': 1, 'Assistant': 2, 'Lucy Bauer': 1, 'Foggy Nelson': 4, 'Father Delgado': 1, 'Bus Driver': 1, 'Viro': 1, 'Young Trish': 1, 'Sokovian Acid Student': 1, 'Falcon': 1, 'Shane Larson': 1, 'Sif': 4, 'Sersi': 1, 'Gigi': 1, 'Phil Coulson': 1, \"Jimmy 'The Bear'\": 1, 'Janet Van Dyne': 3, 'Ana Jarvis': 1, 'General Andaz': 1, \"T'Chaka\": 2, 'Kevin Page': 1, 'Motel Clerk': 1, 'Inn Keeper': 1, 'Valentina Allegra de Fontaine': 1, 'Janis': 1, 'Luis': 2, 'Charles Hinton': 1, 'Ghost Rider': 1, 'Christopher Roth': 1, 'Maria Rambeau': 1, 'Zoha': 1, 'Donna': 1, 'Agent Moore': 1, 'Damon Boone': 1, 'Aito': 1, 'Agent Delancey': 1, 'Lady Sif': 1, 'Mina Hess': 1, 'Young Dex': 1, 'The Baroness': 1, 'Viola': 1, 'Colonel': 1, 'Scott Lang': 6, 'Rafael Hernandez': 1, 'Ruben': 1, 'Marcus Scarlotti': 1, 'Bailiff': 1, 'Melinda May': 1, 'Dum-Dum Dugan': 1, 'Mr. Immortal': 1, 'Cameraman': 1, 'Dr. Weiss': 1, 'Samuel Voss': 1, 'Taserface': 2, 'Dornfeld': 1, 'Oscar': 1, 'Laura': 1, 'Deputy Dobbs': 1, 'Destiny': 1, 'Hank Sanderson': 1, 'Hirochi': 1, 'Agent Brandon Gamble': 1, 'Dr. Evan Declan': 1, 'Eros': 1, 'Officer Pickett': 1, 'Tyr': 1, 'Abomination': 1, 'Sivian Foreman': 1, 'Santino Noguera': 1, 'Agent Ford': 2, 'The Sheikh': 1, 'D.A. Samantha Reyes': 1, 'Anansi': 1, 'Savin': 1, 'Darcy': 1, 'Doctor Ford': 1, 'William Lopez': 1, 'Topaz': 2, 'Billy Russo': 1, 'Nicole Mackenzie': 1, 'Isaiah': 1, 'Yuri Zaikin': 1, 'Agent Coulson': 8, 'Det. Sgt. Brett Mahoney': 1, 'America Chavez': 1, 'Sara': 1, 'Aldrich Killian': 1, 'King Laufey': 1, 'Blake Tower': 2, 'Sam Stein': 1, 'Professor Charles Xavier': 1, 'Lieutenant Evans': 1, 'Adam Cross': 1, 'Agent Foster': 1, \"Detective Brigid O'Reilly\": 1, 'Ruihua': 1, 'Caleb': 1, 'Cricket': 1, 'Doctor Wu': 1, 'Zainab': 1, 'Tilda Johnson': 1, 'Costel': 1, 'Chancellor Hui': 1, 'Xu Wenwu': 1, 'Mancini': 1, 'Red Skull (Stonekeeper)': 2, \"O'Bengh\": 1, 'Auran': 1, 'Detective Defford': 1, \"Timothy 'Dum Dum' Dugan\": 1, 'ESU Lieutenant Mario Green': 1, 'Agent Barbour': 1, 'Darrell Mitchell': 1, 'Stacey Yorkes': 1, 'Iwua': 1, 'Dr. Lingenfelter': 1, 'Ahmad Zubair': 1, 'Samuel Sterns': 1, 'Donny Blaze': 1, 'Dr. Wilton': 1, 'Pedestrian': 1, 'Chief Ronnie Velasco': 1, 'Sinara Guard': 1, 'Director Kenneth': 1, 'Mayan': 1, 'Jolene Spivey': 1, 'Johann Schmidt': 1, 'Agent More': 1, 'Alexander Pierce': 2, 'General Hale': 1, 'Linda': 1, 'Luke': 1, 'Jacques Dernier': 1, 'Pietro Maximoff': 2, 'Mrs. Hillman': 1, 'Dr. Grady': 1, 'Stewart': 1, 'Roger Dooley': 1, 'Ying Nan': 1, 'Koko': 1, 'Mr. Delmar': 2, 'Karun': 1, 'The Other': 1, 'Pip the Troll': 1, 'Loan Officer': 1, 'Councilman Singh': 1, 'Dmitry': 1, 'Detective Andrew Henry': 1, 'Young Antonia': 1, \"Mortimer 'Mr. Fish' Norris\": 1, 'C.J. Powell': 1, 'Agent Flynn': 1, 'Esther Falb': 1, 'Styler': 1, 'Clair': 1, 'Marta': 1, 'The Ancient One': 3, 'Brandon': 1, 'Sprite': 1, 'Dr. Franklin Hall': 1, 'Anton Mogart': 1, 'Fariha': 1, 'Lucio': 1, 'Stan Gibson': 1, 'Chauncey': 1, 'Detective Dorsey': 1, 'Serene Inhuman': 1, 'Lennox': 1, 'Obadiah Stane': 2, 'Lori Henson': 1, 'Locus': 1, 'Master Hamir': 1, 'Ikaris': 1, 'Ray Krzeminski': 1, 'Flash Thompson': 3, 'Ian Quinn': 1, 'Agent Harris': 1, 'Aadam': 1, 'Lorelei': 1, 'Lemuel Pilgrim': 1, 'Doctor Evans': 1, 'Antoine Triplett': 1, 'Mr. Berkowitz': 1, 'Oeznik': 1, 'José': 1, 'Father': 1, 'Kimball': 1, 'Brett Latour': 1, 'Batroc': 1, 'Adrian Toomes': 1, 'Thembi Wallace': 3, 'Alpha Dog': 1, 'Alpha': 1, 'Odin': 3, 'Dr. Otto Octavius': 1, 'Iridia': 1, 'Jimmy Mackenzie': 1, 'Rebel Leader': 1, 'Donald Hooper': 1, 'Hank Thompson': 1, 'Main Guard': 1, 'Bethany': 1, 'Cornelius P. Willows': 1, 'Admiral Jolnes': 1, 'Minn-Erva': 1, 'Crawley': 1, 'Professor Elliot Randolph': 1, 'Lulu': 1, 'Brunette Woman': 1, 'Young Hope': 1, 'Elena Rodriguez': 1, 'Battlestar': 1, 'Candace': 1, 'Albert Rackham': 1, 'Snowflake': 1, 'Philip Cabroni': 1, 'Actor Hela': 1, 'Officer': 1, 'Quentin Beck': 1, 'Dr. Arnim Zola': 3, 'Cass': 1, \"Alphonso 'Mack' Mackenzie\": 1, 'Gene Hernandez': 1, 'Forger': 1, 'Raina': 1, 'Gerald Sharpe': 1, 'Papa': 1, 'Vanchat': 1, 'Councilman Yen': 1, 'Ms. Warren': 1, 'Ana Helstrom': 1, 'Protester #1': 1, 'Aunt May': 1, 'Francisco': 1, 'Agent Johnson': 1, 'Shuri': 4, 'JARVIS': 3, 'Rowan Hamilton': 1, 'Cole': 1, 'James Montgomery Falsworth': 1, 'Michelle': 1, 'Qovas': 1, 'Kree Watch Commander': 1, 'Jack Duquesne': 1, 'Soldier #1': 1, 'Dwayne Blaskowski': 1, 'Alex Doobin': 1, 'Evita Fusilier': 1, 'Bill Maher': 1, 'Young Jessica': 1, 'Burrows': 1, 'Groot': 4, 'Brian Hayward': 1, 'Karen': 1, 'Shaun': 1, 'Domingo Colon': 1, 'Sandi Ann': 1, 'Dr. Andrew Lee': 1, 'John Epps': 1, 'Robin': 1, 'Dr. Kozlov': 1, 'Sebastian': 1, 'Ben': 2, 'Gene Burchell': 1, 'Phastos': 1, 'Dwight Frye': 1, 'Zylak': 1, \"Young T'Challa\": 1, 'Will Daniels': 1, 'Agent Crawford': 1, 'Adina Johnson': 1, 'Tone': 1, 'Watchdog Alpha': 1, 'Peter Parker': 8, 'Abe': 1, 'Selwyn': 1, 'Rollo': 1, 'Reed Richards': 1, 'Mystery Woman': 1, 'Case': 1, 'Vanessa Marianna': 1, 'Maria': 1, 'Cassie Lang': 2, 'Jimbo': 1, 'Hamir': 1, 'Major Allen': 1, 'Bennie Pollock': 1, 'Nico': 1, 'Michael': 1, 'Tony Stark': 9, 'Harley Keener': 1, 'Albert': 1, 'French Pirate #1': 1, 'Dr. Pascal Vega': 1, 'Holden': 1, 'Rooster': 1, 'Jackson': 2, 'Jimmy Woo': 2, 'Officer Fitzgibbon': 1, 'Young Mariah': 1, 'Sheikh Abdullah': 1, 'Laurent Lyonne': 1, 'Hunter B-15': 1, 'Thomas Nash': 1, 'Kree Doctor': 1, 'Pedro The Bartender': 1, 'Young Ana': 1, 'Sheldon': 1, 'Grill': 1, 'Grills': 1, 'Klev': 1, 'Dr. Irene Bickell': 1, 'Mistress': 1, 'Brendan': 1, 'Will Adams': 1, 'Male Reporter': 1, 'C-Money': 1, 'Young Yelena': 1, 'Honest Eddie': 1, 'Chad': 1, 'Gary': 1, 'Chris Yen': 1, \"Meredith's Brother\": 1, 'Sarah Lieberman': 1, 'Jasper Evans': 1, 'Charles Wallace': 1, 'Alan': 1, 'Miek': 1, 'Druig': 1, 'Zhi': 1, 'Habooska the Horrible': 1, 'Cajun': 1, \"Agent O'Brien\": 1, 'Detective Connors': 1, 'Calvin Zabo': 1, 'Agent Blackwell': 1, \"Cliff 'Method Man' Smith\": 1, 'Jiaying': 1, 'Julien Beckers': 1, 'James Lucas': 1, 'Eugene Patilio': 1, 'Mrs. Davis': 1, 'Peggy Carter': 8, '12 Year Old Davos': 1, 'Police Officer': 1, 'Rebecca Pilgrim': 1, 'Briggs': 1, 'Officer Fuchs': 1, 'Ho Yinsen': 1, 'J.B.': 1, 'Martha': 1, 'Tobias': 1, 'Bert Hunter': 1, 'Agent Ryan': 1, 'George Kotsiopoulos': 1, 'Aamir': 1, 'Uncle Rasheed': 1, 'Jake Nelson': 1, 'Ethan': 1, 'Mr. Cardozo': 1, 'Barb': 1, 'Reporter 2': 1, 'Otis Johnson': 1, 'Cosmo the Space Dog': 1, 'Alonso Barber': 1, 'Agent Tanner': 1, 'Ex-Hydra Follower #1': 1, 'Frank Dean': 1, 'Rick': 3, 'Justin Hammer': 2, 'Madame B': 1, \"Daisy 'Skye' Johnson\": 1, 'Maria Hill': 7, 'Tucker Shockley': 1, 'Young Gordon': 1, 'Kazi': 1, 'Kingpin': 1, 'Lawrence Wilkins': 1, 'Sami Nadeem': 1, 'Orville': 1, 'Agent Fox': 1, 'Robert Minoru': 1, 'Korath': 3, 'Kilgrave': 1, 'Lewis Walcott': 1, 'Heavy': 1, 'Sheriff Hardin': 1, 'Senator Cherryh': 1, 'Agent Winn': 1, 'Ronald Garcia': 1, 'Russell Feldman': 1, 'Kevin Singleton': 1, 'Rockwell': 1, 'Anitolov': 1, 'Actor Odin': 1, 'Jon Jon': 1, 'Mr. Harrington': 3, 'Harold Meachum': 1, 'Baron Von Strucker': 1, 'Mr. Hillman': 1, 'Agent Maria Hill': 1, 'Brahl': 1, 'Geoffrey Wilder': 1, 'Mysterious Man': 1, 'Dr. Garrison': 1, 'Robert': 1, 'Dinah Madani': 1, 'Carl Lucas': 1, 'Doctor David Kurata': 1, 'Jerry': 2, 'Young Matt': 1, 'Guard': 1, \"'Pistol Pete' Stokes\": 1, 'Sneeper Madame': 1, 'Dr. Bruner': 1, 'The Amazing Mertz': 1, 'Tommy Maximoff': 2, \"W'Kabi\": 1, 'Vincent': 1, 'On Set Groot': 1, 'Andrea Morales': 1, 'Liam Walsh': 1, 'Mallory Book': 1, 'Agent Melinda May': 1, 'Ignacio': 1, 'Dr. Stephen Strange': 5, 'Latimer Zyl': 1, 'Young Elektra': 1, 'Mr. Ho': 1, 'Bruce Banner': 8, 'Dove': 1, 'Javier': 1, 'Carla Talbot': 1, 'Trevor Khan': 1, 'Crony': 1, 'Leet Brannis': 1, 'Howard Stark': 8, 'Robyn': 1, 'Maximus': 1, 'Nathaniel Barton': 2, 'Audrey Nathan': 1, 'Missy': 1, \"Meredith's Mother\": 1, 'Eir': 1, 'Tony stark': 1, 'Captain William Dole': 1, 'Bucky Barnes': 6, 'Detective Caudle': 1, 'Deke Shaw': 1, 'Young Quill': 1, 'Megan McClaren': 1, 'Uncle Tucker': 1, 'Mika Prada': 1, \"Elena 'Yo-Yo' Rodriguez\": 1, 'Peter Lyonne': 1, 'Jonah': 1, 'Black Sky': 1, 'Sophia': 1, 'Isabela Alvarez': 1, 'Professor Steger': 1, 'David': 1, 'Dennis the Mailman': 1, 'Prime Minister Olshenko': 1, 'El Aguila': 1, 'Katy': 1, 'Maria Stark': 1, 'Jack': 1, 'Blondie': 1, 'Tommy Chang': 1, 'Taweret': 1, 'Dr. Jazuat': 1, 'Mitchell Ellison': 2, 'Steve Rogers': 8, 'Colonel Ernst Mueller': 1, 'Hank Pym': 2, 'Archbishop Terrazi': 1, 'Roscoe Sweeney': 1, \"O'Connor\": 1, 'Adamo Dioli': 1, 'Gideon Shaw': 1, 'Estella': 1, 'Detective Tomas Ciancio': 1, 'Benjamin Donovan': 2, 'Maria Castle': 1, 'Armed Guard': 1, \"Agent O'Connor\": 1, 'Alistair Fitz': 1, 'Jeri Hogarth': 4, 'Crystal': 1, 'Arthur': 1, 'Ebony Maw': 3, 'Isaiah Bradley': 1, 'Maya Hansen': 1, 'Joy Meachum': 1, 'Kamala Khan': 1, 'Wanda Maximoff': 6, 'Seema Nadeem': 1, 'Vicar': 1, 'Shannon': 1, 'Dr. Goodman': 1, 'Tina': 1, 'Mantis': 4, 'Schneider': 1, 'Young Wilson Fisk': 1, 'Julie Barnes': 1, 'Everett K. Ross': 3, 'Tweaky': 1, 'Debbie': 1, 'Eugene': 1, 'Nathaniel Pietro Barton': 1, 'Kyle': 1, 'Chen': 1, 'Agent Wahl': 1, 'Jason Wilkes': 1, 'Jan': 1, 'Samantha Reyes': 1, 'Chris Murray': 1, 'Betty': 1, 'Horuz': 1, 'Drea Powell': 1, 'Jamel Shabazz': 1, 'Sakas': 1, 'Ador': 1, 'Jaco': 1, 'Ruben Mackenzie': 1, 'Nick Fury': 11, 'Officer Anderson': 1, 'Jeremy': 1, 'Inez Green': 1, 'Alya': 1, 'Nebula': 6, 'Claire Temple': 5, 'Ellis': 1, 'Miriam Fry': 1, 'Young Tyrone': 1, 'Leslie Dean': 1, 'Stirling': 1, 'Esther': 1, 'Dr. Christina Raynor': 1, 'Grace': 1, 'Loyolis': 1, 'Charles': 1, 'Hercules': 1, 'Dr. Nic West': 1, 'Nicole': 1, 'Brad Davis': 1, 'Dutton': 1, 'Dr. Samberly': 1, 'Agent Lim': 1, 'Detective': 1, 'Gorgon': 1, 'Wendy Spector': 1, 'Agent Kim': 1, 'Najaf': 1, 'Davos': 1, 'Brunette Zealot': 1, 'Corpsman Dey': 1, 'Agent Baylin': 1, 'Col. Morty Bennett': 1, 'Torx': 1, 'Holo': 1, 'Anna Nelson': 1, 'Manuel Silva': 1, 'Dottie Underwood': 1, 'Semyon': 1, 'Pretorious Pryce': 1, 'Sequoia': 1, 'Rex': 1, 'Kara Lynn Palamas': 1, 'Young Sana': 1, 'Ben Urich': 1, 'Senator Boynton': 1, 'Det. Oscar Clemons': 1, \"King T'Chaka\": 1, 'Officer Bowie': 1, 'Sam': 1, 'Young Grant': 1, 'Sam Wilson': 6, 'Rebel Skrull leader Gravik': 1, 'Bronaja': 1, 'Agent Oliver': 1, 'Geiger': 1, 'Frank Levin': 1, 'Dr. Streiten': 1, 'Mrs. Yang': 1, 'Saleem': 1, 'Hipster Earl': 1, 'Eli Bradley': 1, 'Edward Nelson': 1, 'Kamran': 1, 'Big Chief Roland Duplantier': 1, 'Misty Knight': 3, 'Stephanie aka Billie': 1, 'John Bruno': 1, 'Inspector Priscilla Ridley': 1, 'Kevin': 1, 'Torrance': 1, 'Najma': 1, 'Jesse Fletcher': 1, 'Dr. Patel': 1, 'Getty': 1, 'Yelena Belova': 1, 'Clea': 1, 'Talos': 2, 'Brandt': 1, 'Lieutenant Decker': 1, 'President Ellis': 3, 'Spud': 1, 'Dr. Hank Pym': 2, 'Archer Cavallo': 1, 'Qajax': 1, 'Kitang': 1, 'Weems': 1, 'Monica Rambeau': 1, 'Skaar': 1, 'Azarel': 1, 'The Weasel': 1, 'Christian Ward': 1, 'Young Adult Cottonmouth': 1, 'Kalinda Porter': 1, 'Zach Lieberman': 1, 'Pepper Potts': 8, 'Additional Voices': 1, \"Augustus 'Pug' Pugliese\": 1, 'Sunjna Nadeer': 1, 'Thunderball': 1, 'Ultron': 3, 'Sergei': 2, 'Bjorn': 1, 'Pablo': 1, 'Mr. Cobbwell': 1, 'Joaquin Torres': 1, 'Scientist Morocco 2': 1, \"Henry 'Pop' Hunter\": 1, 'Megan Henderson': 1, 'Chen Wu': 1, 'Dr. Christine Palmer': 2, 'Andre': 1, 'Cameron Tate': 1, 'Airman Richardson': 1, 'Eliza Schultz': 1, 'Francisco Rodriguez': 1, 'Taylor': 1, 'Alisha Whitley': 1, 'Agnes': 1, 'Leo Fitz': 1, 'Radovan Bernivig': 1, 'Female Prostitute': 1, 'Frederick': 1, 'Kora': 1, 'Aunt Jeanie': 1, 'Spider': 1, 'Sugar': 1, 'Torre': 1, 'Theo': 1, 'Anatoly': 1, 'Lars': 1, 'Natasha Romanoff': 8, 'Young Elena': 1, 'Young Pym': 1, 'Abby': 1, 'Frank Castle': 2, 'Steven Benowitz': 1, 'Aunt Melanie': 1, 'Secretary Ross': 4, 'Nathan Bowen': 1, 'Seth Dormer': 1, 'Stakar Ogord': 1, 'Flint Marko': 1, 'Lieutenant James Rhodes': 1, 'Nichelle': 1, 'Hangar Guard #2': 1, 'Chip Womack': 1, 'Officer Kennedy': 1, 'Maury Tuttlebaum': 1, 'Herb': 1, 'Young Hank': 1, 'Tye': 1, 'Daniel Drumm': 1, 'Arthur Walsh': 1, 'Nikola': 1, 'Camper #4': 1, 'Derek': 1, 'Rory': 1, 'Ray Nadeem': 1, 'Antoine': 1, 'Brian Jones': 1, 'Sandra': 1, \"Agent Alphonso 'Mack' Mackenzie\": 1, 'Reporter': 1, 'Limbani': 1, 'On-Set She-Hulk Reference': 1, 'Agent Hauer': 1, 'Tom': 1, 'Betty Brant': 2, 'Bron-Char': 1, 'Kate': 1, 'Karnak': 1, 'French Radio Pirate': 1, 'Marilyn': 2, 'Izel': 1, 'Senator Stern': 2, 'Tiny': 2, 'Keely': 1, 'Sway Calloway': 1, 'Oksana': 1, 'Proxima Midnight': 2, 'Sonny Burch': 1, \"Wilfred 'Freddy' Malick\": 1, 'Young Janet': 1, 'Francis Noche': 1, 'Audrey Eastman': 1, 'Dagger': 2, 'Ravonna Renslayer': 1, 'Roger Browning': 1, 'Colonel Ray Schoonover': 1, 'Carson Wolf': 1, 'Maya Lopez': 1, 'Dreykov': 1, 'Raza': 1, 'Soh-Larr': 1, 'White Power Dave': 1, 'Agent Doyle': 1, 'Detective Prendergast': 1, 'Andre Deschaine': 1, 'King Yakan': 1, 'News Reporter': 1, 'Flora': 1, 'Donald': 1, 'Virgil': 1, 'Cusi': 1, 'Crixon': 1, 'Susan Ellerh': 1, 'Pat Kiernan': 4, 'Verussa': 1, 'Bridget': 1, 'Kasius': 1, 'Gretchen': 1, 'Justin Boden': 1, 'Robert Gonzales': 1, 'Birdie': 1, 'Dr. Hamid Madani': 1, 'Sally': 2, 'Royal Guard Sergeant': 1, 'Porcupine': 1, 'Karla Faye Gideon': 1, 'Young Medusa': 1, 'Gordon': 1, 'Jack Thompson': 1, 'Dr. Van Kempen': 1, 'Young Gamora': 1, 'Lieutenant Ferrara': 1, 'Dr. Grant': 1, 'Lord Thornally': 1, 'Tina Minoru': 2, 'J. Jonah Jameson': 2, 'Dr. Curt Connors': 1, 'Laura Barton': 3, 'Teenage Carl Lucas': 1, 'David Ellerh': 1, 'Retch': 1, 'Secretary of State Thaddeus Ross': 1, 'Caldwell': 1, 'Frances': 1, \"Anthony 'AWOL' Wall\": 1, 'Tony Caine': 1}\n",
      "\n",
      " titles degree {'Daredevil': 129, 'Ms. Marvel': 34, 'Agent Carter': 67, 'Thor: The Dark World': 22, 'Guardians of the Galaxy Vol. 2': 27, 'Captain Marvel': 24, 'The Avengers': 19, 'Iron Man': 14, 'Avengers: Infinity War': 45, 'Captain America: The First Avenger': 17, 'Iron Man 3': 23, 'Avengers: Age of Ultron': 33, 'Marvel One-Shot: Item 47': 4, 'Marvel One-Shot: Agent Carter': 4, 'Black Panther': 16, 'Ant-Man': 22, 'Cloak & Dagger': 38, 'Doctor Strange in the Multiverse of Madness': 27, 'Captain America: The Winter Soldier': 27, 'Avengers: Endgame': 62, 'The Punisher': 66, 'Marvel One-Shot: The Consultant': 3, 'Thor: Love and Thunder': 28, 'Iron Man 2': 15, 'Loki': 16, 'Spider-Man: No Way Home': 21, 'Helstrom': 30, 'Guardians of the Galaxy': 26, 'Agents of S.H.I.E.L.D.: Slingshot': 12, 'The Incredible Hulk': 11, 'Black Widow': 18, 'She-Hulk: Attorney at Law': 44, 'I Am Groot': 3, 'Werewolf by Night': 11, 'Shang-Chi and the Legend of the Ten Rings': 21, 'Luke Cage': 138, 'Moon Knight': 23, 'WandaVision': 19, 'Eternals': 22, 'Thor': 29, 'Jessica Jones': 126, 'The Defenders': 29, 'Spider-Man: Far from Home': 28, 'Agents of S.H.I.E.L.D.': 491, \"Marvel One-Shot: A Funny Thing Happened on the Way to Thor's Hammer\": 1, 'Iron Fist': 56, 'Marvel One-Shot: All Hail the King': 7, 'Doctor Strange': 23, 'Thor: Ragnarok': 16, 'Ant-Man and the Wasp': 26, 'Hawkeye': 30, 'Captain America: Civil War': 25, 'What If...?': 74, 'Spider-Man: Homecoming': 33, 'Runaways': 53, \"Peter's To-Do List\": 4, 'Inhumans': 41, 'WHIH News Front': 6, 'The Falcon and the Winter Soldier': 44, 'Secret Invasion': 9}\n"
     ]
    }
   ],
   "source": [
    "#Degrees of Titles and characters\n",
    "print('Chracters degree',characters_dict)\n",
    "print('\\n titles degree',titles_dict)"
   ]
  },
  {
   "cell_type": "markdown",
   "id": "4717581e",
   "metadata": {},
   "source": [
    "### Random Simlated graph"
   ]
  },
  {
   "cell_type": "code",
   "execution_count": 29,
   "id": "afdd94a2",
   "metadata": {},
   "outputs": [
    {
     "name": "stdout",
     "output_type": "stream",
     "text": [
      "Random model probability value 0.0012522798332464827 and length of nodes 1920\n"
     ]
    }
   ],
   "source": [
    "GT_p = avg_deg_ /(len(GT.nodes())-1) # caliculating probability\n",
    "GT_nodes=len(GT.nodes())\n",
    "print('Random model probability value',GT_p, 'and length of nodes', GT_nodes)"
   ]
  },
  {
   "cell_type": "code",
   "execution_count": 30,
   "id": "e4b340c6",
   "metadata": {},
   "outputs": [],
   "source": [
    "GT_sim_rndm = nx.gnp_random_graph(GT_nodes, GT_p)"
   ]
  },
  {
   "cell_type": "code",
   "execution_count": 31,
   "id": "7a2c71aa",
   "metadata": {},
   "outputs": [],
   "source": [
    "# Simulated Random \n",
    "avg_deg_sim, avg_clstrng_sim =  avg_deg_cc(GT_sim_rndm)"
   ]
  },
  {
   "cell_type": "code",
   "execution_count": 32,
   "id": "6d9f40af",
   "metadata": {},
   "outputs": [
    {
     "data": {
      "text/plain": [
       "0.0005388898868331237"
      ]
     },
     "execution_count": 32,
     "metadata": {},
     "output_type": "execute_result"
    }
   ],
   "source": [
    "avg_clstrng_sim"
   ]
  },
  {
   "cell_type": "markdown",
   "id": "82905003",
   "metadata": {},
   "source": [
    "Isoloated graphs in network"
   ]
  },
  {
   "cell_type": "code",
   "execution_count": 33,
   "id": "2b1ac8fe",
   "metadata": {},
   "outputs": [
    {
     "data": {
      "text/plain": [
       "198"
      ]
     },
     "execution_count": 33,
     "metadata": {},
     "output_type": "execute_result"
    }
   ],
   "source": [
    "i= nx.number_connected_components(GT_sim_rndm)\n",
    "i"
   ]
  },
  {
   "cell_type": "code",
   "execution_count": 34,
   "id": "88a51644",
   "metadata": {},
   "outputs": [],
   "source": [
    "num = 0 \n",
    "for c in nx.connected_components(GT_sim_rndm):\n",
    "    num += nx.average_shortest_path_length(GT_sim_rndm.subgraph(c))*len(GT_sim_rndm.subgraph(c))\n",
    "GT_sim_avg_path = num/len(GT_sim_rndm.nodes())"
   ]
  },
  {
   "cell_type": "code",
   "execution_count": 35,
   "id": "cb5d87b1",
   "metadata": {},
   "outputs": [
    {
     "name": "stdout",
     "output_type": "stream",
     "text": [
      "Random Simulated MU Network \n",
      " \n",
      "Average degree 2.415625\n",
      "Average path 7.265663591681485\n",
      "Average clusteirng 0.0005388898868331237\n"
     ]
    }
   ],
   "source": [
    "print(\"Random Simulated MU Network \\n \")\n",
    "print(\"Average degree\" ,avg_deg_sim)\n",
    "print(\"Average path\", GT_sim_avg_path)\n",
    "print(\"Average clusteirng\", avg_clstrng_sim)\n"
   ]
  },
  {
   "cell_type": "markdown",
   "id": "6c4e5c35",
   "metadata": {},
   "source": [
    "MU Network \n",
    " \n",
    "Average degree 2.403125\n",
    "Average path 4.81965255871013\n",
    "Average clusteirng 0.0009916895257868273\n",
    "\n",
    "Average path is 1.55 times the average path of Random Model Graph \n",
    "CLustering co-efficient is 2.37 times the CLustering co-efficient of Random graph"
   ]
  },
  {
   "cell_type": "markdown",
   "id": "0271b3d9",
   "metadata": {},
   "source": [
    "### Small World"
   ]
  },
  {
   "cell_type": "code",
   "execution_count": 36,
   "id": "ba4fbefc",
   "metadata": {},
   "outputs": [],
   "source": [
    "#Lattice Grah generation\n",
    "def lattice_graph(G,avg_deg):\n",
    "    GLat_3 = nx.Graph()\n",
    "    GLat_3sh = []\n",
    "    nodes_count = len(G)#len(G.nodes())\n",
    "    for i in (range(nodes_count)): \n",
    "      GLat_3.add_node(i)\n",
    "      GLat_3sh.append(i)\n",
    "    new_connections = round(avg_deg/2)\n",
    "    for i in GLat_3sh:\n",
    "        nbhr = []\n",
    "        j=i+1\n",
    "        for k in range(new_connections):\n",
    "            if j in GLat_3.nodes():\n",
    "                nbhr.append(j)\n",
    "            else:\n",
    "                j = j - len(GLat_3.nodes)\n",
    "                nbhr.append(j)\n",
    "            j+=1 \n",
    "        for j in nbhr:\n",
    "            if (GLat_3.has_edge(i,j)==False): \n",
    "                GLat_3.add_edge(i,j)  \n",
    "    return GLat_3"
   ]
  },
  {
   "cell_type": "code",
   "execution_count": 37,
   "id": "89176b40",
   "metadata": {},
   "outputs": [
    {
     "name": "stdout",
     "output_type": "stream",
     "text": [
      "1920\n"
     ]
    }
   ],
   "source": [
    "# MU lattice\n",
    "Lat_MU = lattice_graph(GT,avg_deg_)\n",
    "print(len(Lat_MU.edges()))"
   ]
  },
  {
   "cell_type": "code",
   "execution_count": 38,
   "id": "7aa0e881",
   "metadata": {},
   "outputs": [
    {
     "data": {
      "image/png": "[encoded data removed]",
      "text/plain": [
       "<Figure size 432x288 with 1 Axes>"
      ]
     },
     "metadata": {},
     "output_type": "display_data"
    }
   ],
   "source": [
    "nx.draw(Lat_MU)"
   ]
  },
  {
   "cell_type": "code",
   "execution_count": 39,
   "id": "1fb358a6",
   "metadata": {},
   "outputs": [
    {
     "name": "stdout",
     "output_type": "stream",
     "text": [
      "lattice clustering 0\n",
      "As lattice clustering co-efficient is 0, cannot proceed with Small World Model\n"
     ]
    }
   ],
   "source": [
    "avg_clstrng_Lat_MU = nx.transitivity(Lat_MU)\n",
    "print(\"lattice clustering\", avg_clstrng_Lat_MU)\n",
    "\n",
    "if (avg_clstrng_Lat_MU != 0) : \n",
    "    BT = 1-((avg_clstrng_/avg_clstrng_Lat_MU) ** (1./3.))\n",
    "    print(\"Number of nodes\", len(GT.nodes), \"\\n mean degree\",avg_deg_,\"\\n parameter\",BT)\n",
    "else: print('As lattice clustering co-efficient is 0, cannot proceed with Small World Model')\n"
   ]
  },
  {
   "cell_type": "markdown",
   "id": "d4369ff3",
   "metadata": {},
   "source": [
    "### Preferential Algorithm"
   ]
  },
  {
   "cell_type": "markdown",
   "id": "535b1119",
   "metadata": {},
   "source": [
    "#### Connecting 'Marvel One-Shot: Item 47' and 'Werewolf by Night' clusters' actors (nodes) to the base cluster based on the Preferential Algorithm Method \n",
    "#### Comparing the clustering co-efficient, average path and degree distribution of new network with the actual MU network "
   ]
  },
  {
   "cell_type": "code",
   "execution_count": 40,
   "id": "84954164",
   "metadata": {},
   "outputs": [
    {
     "data": {
      "text/plain": [
       "['Jack Russell',\n",
       " 'Elsa Bloodstone',\n",
       " 'Verussa',\n",
       " 'Jovan',\n",
       " 'Azarel',\n",
       " 'Liorn',\n",
       " 'Barasso',\n",
       " 'Billy Swan',\n",
       " 'Ted (The Man-Thing)',\n",
       " 'The Flaming Tuba',\n",
       " 'Ulysses Bloodstone',\n",
       " 'Claire Weiss',\n",
       " 'Bennie Pollock',\n",
       " 'Agent Jasper Sitwell',\n",
       " 'Agent Blake']"
      ]
     },
     "execution_count": 40,
     "metadata": {},
     "output_type": "execute_result"
    }
   ],
   "source": [
    "new_nodes = list(GT.neighbors('Werewolf by Night'))\n",
    "new_nodes2= list(GT.neighbors('Marvel One-Shot: Item 47'))\n",
    "for i in new_nodes2: new_nodes.append(i)\n",
    "new_nodes # Nodes (actors) adding to the base cluster"
   ]
  },
  {
   "cell_type": "code",
   "execution_count": 41,
   "id": "df27161c",
   "metadata": {},
   "outputs": [
    {
     "name": "stdout",
     "output_type": "stream",
     "text": [
      "Node count in actual MU network 1920\n",
      "Removing the nodes included to 'Marvel One-Shot: Item 47' and 'Werewolf by Night 15\n",
      "Node count after removing 'Marvel One-Shot: Item 47' and 'Werewolf by Night' nodes from the MU network 1903\n"
     ]
    }
   ],
   "source": [
    "# Removing 'Marvel One-Shot: Item 47' and 'Werewolf by Night' clusters from the main graph\n",
    "print(\"Node count in actual MU network\",len(GT.nodes()))\n",
    "print(\"Removing the nodes included to 'Marvel One-Shot: Item 47' and 'Werewolf by Night\",len(new_nodes))\n",
    "for i in new_nodes: GT.remove_node(i)\n",
    "GT.remove_node('Marvel One-Shot: Item 47')\n",
    "GT.remove_node('Werewolf by Night')\n",
    "print(\"Node count after removing 'Marvel One-Shot: Item 47' and 'Werewolf by Night' nodes from the MU network\",len(GT.nodes()))"
   ]
  },
  {
   "cell_type": "code",
   "execution_count": 42,
   "id": "682b4676",
   "metadata": {},
   "outputs": [
    {
     "name": "stdout",
     "output_type": "stream",
     "text": [
      "MU Network \n",
      " \n",
      "Average degree 2.403125\n",
      "Average path 4.81965255871013\n",
      "Average clusteirng 0.0009916895257868273\n"
     ]
    }
   ],
   "source": [
    "print(\"MU Network \\n \")\n",
    "print(\"Average degree\" ,avg_deg_ )\n",
    "print(\"Average path\",GT_avg_path)\n",
    "print(\"Average clusteirng\", avg_clstrng_)"
   ]
  },
  {
   "cell_type": "code",
   "execution_count": 43,
   "id": "10f7f604",
   "metadata": {},
   "outputs": [],
   "source": [
    "def PAM(G,avg_deg,new_nodes):\n",
    "    node_count=len(G.nodes())\n",
    "    G_PAM = nx.Graph\n",
    "    G_PAM = G.copy()\n",
    "    i = node_count-1\n",
    "    G_node_list = np.array((G.nodes()))\n",
    "    #node probability\n",
    "    node_prob =[]\n",
    "    for n in G.nodes():\n",
    "        prob = G.degree(n)/(2*len(G.edges()))\n",
    "        node_prob.append(prob)\n",
    "#node_prob\n",
    "    \n",
    "    for n in range(len(new_nodes)):\n",
    "        i = np.random.choice(new_nodes)\n",
    "        G_PAM.add_node(i)\n",
    "        while (G_PAM.degree(i)!=round(avg_deg)):\n",
    "            j=np.random.choice(G_node_list, p= node_prob)\n",
    "            print(i,j,G_PAM.degree(i))\n",
    "            G_PAM.add_edge(i,j)\n",
    "        new_nodes.remove(i) \n",
    "        \n",
    "    return G_PAM    "
   ]
  },
  {
   "cell_type": "code",
   "execution_count": 44,
   "id": "b5331f41",
   "metadata": {},
   "outputs": [
    {
     "name": "stdout",
     "output_type": "stream",
     "text": [
      "Claire Weiss Dave 0\n",
      "Claire Weiss Peter Quill 1\n",
      "Agent Jasper Sitwell Agent McCafferty 0\n",
      "Agent Jasper Sitwell Young Sana 1\n",
      "Ulysses Bloodstone Secret Invasion 0\n",
      "Ulysses Bloodstone Guardians of the Galaxy Vol. 2 1\n",
      "Billy Swan Eric Fraser 0\n",
      "Billy Swan Emma 1\n",
      "Jovan What If...? 0\n",
      "Jovan Agents of S.H.I.E.L.D. 1\n",
      "Barasso Victoria 0\n",
      "Barasso Agents of S.H.I.E.L.D. 1\n",
      "Azarel Agents of S.H.I.E.L.D. 0\n",
      "Azarel Thor 1\n",
      "Liorn Flint 0\n",
      "Liorn Luke Cage 1\n",
      "Agent Blake Shang-Chi and the Legend of the Ten Rings 0\n",
      "Agent Blake Cindy 1\n",
      "Bennie Pollock Ms. Marvel 0\n",
      "Bennie Pollock Captain Marvel 1\n",
      "Jack Russell JARVIS 0\n",
      "Jack Russell Arturo 'El Rey' Gomez III 1\n",
      "Elsa Bloodstone Captain William Dole 0\n",
      "Elsa Bloodstone The Punisher 1\n",
      "Ted (The Man-Thing) What If...? 0\n",
      "Ted (The Man-Thing) Kate 1\n",
      "The Flaming Tuba Qasim Zaghlul 0\n",
      "The Flaming Tuba Agents of S.H.I.E.L.D. 1\n",
      "Verussa Ms. Marvel 0\n",
      "Verussa Agents of S.H.I.E.L.D. 1\n"
     ]
    }
   ],
   "source": [
    "PAM_MU = PAM(GT,avg_deg_,new_nodes)"
   ]
  },
  {
   "cell_type": "code",
   "execution_count": 45,
   "id": "682b73fb",
   "metadata": {},
   "outputs": [],
   "source": [
    "# PAM - MU avg deg n clustering \n",
    "avg_deg_PAM, avg_clstrng_PAM = avg_deg_cc(PAM_MU)"
   ]
  },
  {
   "cell_type": "code",
   "execution_count": 46,
   "id": "dc7f7e6b",
   "metadata": {},
   "outputs": [],
   "source": [
    "# PAM - MU Graph avg path\n",
    "PAM_avg_path= nx.average_shortest_path_length(PAM_MU)"
   ]
  },
  {
   "cell_type": "code",
   "execution_count": 47,
   "id": "67cc5c01",
   "metadata": {},
   "outputs": [
    {
     "name": "stdout",
     "output_type": "stream",
     "text": [
      "PAM-MU Graph \n",
      " \n",
      "Average degree 2.421272158498436\n",
      "Average path 4.835020395419285\n",
      "Average clusteirng 0.0009919843106849253\n"
     ]
    }
   ],
   "source": [
    "print(\"PAM-MU Graph \\n \")\n",
    "print(\"Average degree\" ,avg_deg_PAM )\n",
    "print(\"Average path\", PAM_avg_path)\n",
    "print(\"Average clusteirng\", avg_clstrng_PAM)"
   ]
  },
  {
   "cell_type": "markdown",
   "id": "d43c3a9a",
   "metadata": {},
   "source": [
    "MU Network \n",
    " \n",
    "Average degree 2.403125\n",
    "Average path 4.81965255871013\n",
    "Average clusteirng 0.0009916895257868273"
   ]
  },
  {
   "cell_type": "code",
   "execution_count": 49,
   "id": "d9642d22",
   "metadata": {},
   "outputs": [
    {
     "name": "stdout",
     "output_type": "stream",
     "text": [
      "1918\n"
     ]
    }
   ],
   "source": [
    "print(len(PAM_MU))"
   ]
  },
  {
   "cell_type": "code",
   "execution_count": null,
   "id": "60ae36c7",
   "metadata": {},
   "outputs": [],
   "source": []
  }
 ],
 "metadata": {
  "kernelspec": {
   "display_name": "Python 3 (ipykernel)",
   "language": "python",
   "name": "python3"
  },
  "language_info": {
   "codemirror_mode": {
    "name": "ipython",
    "version": 3
   },
   "file_extension": ".py",
   "mimetype": "text/x-python",
   "name": "python",
   "nbconvert_exporter": "python",
   "pygments_lexer": "ipython3",
   "version": "3.9.12"
  }
 },
 "nbformat": 4,
 "nbformat_minor": 5
}
