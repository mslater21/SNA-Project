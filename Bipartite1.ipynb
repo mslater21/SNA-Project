{
 "cells": [
  {
   "cell_type": "code",
   "execution_count": 1,
   "id": "11aff17e",
   "metadata": {},
   "outputs": [
    {
     "name": "stderr",
     "output_type": "stream",
     "text": [
      "<frozen importlib._bootstrap>:228: RuntimeWarning: scipy._lib.messagestream.MessageStream size changed, may indicate binary incompatibility. Expected 56 from C header, got 64 from PyObject\n"
     ]
    }
   ],
   "source": [
    "import networkx as nx, matplotlib.pyplot as plt\n",
    "import numpy as np, pandas as pd\n",
    "import math, seaborn as sns\n",
    "from scipy import stats\n",
    "from sklearn import cluster as clstr\n",
    "from networkx import edge_betweenness_centrality\n",
    "from networkx.algorithms import community\n",
    "import itertools"
   ]
  },
  {
   "cell_type": "code",
   "execution_count": 2,
   "id": "d88a10b5",
   "metadata": {},
   "outputs": [],
   "source": [
    "df1 = pd.read_csv('C:/Users/saich/OneDrive/Desktop/SNA/project/marvel_characters.csv')\n",
    "df2 = pd.read_csv('C:/Users/saich/OneDrive/Desktop/SNA/project/marvel_titles.csv')"
   ]
  },
  {
   "cell_type": "code",
   "execution_count": 3,
   "id": "22f10e67",
   "metadata": {},
   "outputs": [],
   "source": [
    "GT = nx.Graph()\n",
    "new_G = nx.Graph()\n",
    "#GT.add_nodes_from(df['character'].tolist(),bipartite=1,node_color='w',alpha=0.4,node_shape='d')\n",
    "\n",
    "for index, row in df2.iterrows():\n",
    "  GT.add_node(row['title'] + '*', bipartite=0, media_type=row['type'], release_year=row['release_year'], release_month=row['release_month'], release_day=row['release_day'], rating=row['rating'], length=row['length'], starts=row['stars'], genres=row['genres'])"
   ]
  },
  {
   "cell_type": "code",
   "execution_count": 4,
   "id": "04654591",
   "metadata": {},
   "outputs": [],
   "source": [
    "for index, row in df1.iterrows():\n",
    "  if row['title'] == 'What If...?':\n",
    "    char_name = row['character'] + '-AR'\n",
    "  else:\n",
    "    char_name = row['character']\n",
    "  GT.add_node(char_name, bipartite=1, alias=row['character_alias'], actor=row['actor'])\n",
    "\n",
    "for index, row in df1.iterrows():\n",
    "  if row['title'] == 'What If...?':\n",
    "    char_name = row['character'] + '-AR'\n",
    "  else:\n",
    "    char_name = row['character']\n",
    "  GT.add_edge(row['title'] + '*', char_name)"
   ]
  },
  {
   "cell_type": "code",
   "execution_count": 5,
   "id": "8fd2f0df",
   "metadata": {},
   "outputs": [],
   "source": [
    "character_nodes = {n for n, d in GT.nodes(data=True) if d['bipartite'] == 1}\n",
    "title_nodes = set(GT) - character_nodes "
   ]
  },
  {
   "cell_type": "code",
   "execution_count": 6,
   "id": "1300b90f",
   "metadata": {},
   "outputs": [
    {
     "data": {
      "image/png": "[encoded data removed]",
      "text/plain": [
       "<Figure size 432x288 with 1 Axes>"
      ]
     },
     "metadata": {},
     "output_type": "display_data"
    }
   ],
   "source": [
    "nx.draw(GT)"
   ]
  },
  {
   "cell_type": "code",
   "execution_count": 7,
   "id": "f6fdbde8",
   "metadata": {},
   "outputs": [],
   "source": [
    "def deg_dst(G7): # degree distribution of titles and characters\n",
    "    degrees = [G7.degree(n) for n in title_nodes]\n",
    "    deg,freq = np.unique(degrees,return_counts=True)\n",
    "    plt.plot(deg,freq,label = 'title degree distribution')\n",
    "    plt.legend()\n",
    "    plt.show()\n",
    "    degrees1 = [G7.degree(n) for n in character_nodes]\n",
    "    deg1,freq1 = np.unique(degrees1,return_counts=True)\n",
    "    plt.plot(deg1,freq1,label = 'characters degree distribution')\n",
    "    plt.legend()\n",
    "    plt.show()\n",
    "def avg_deg_cc(G): # average degree and clustering co-efficient\n",
    "    avg_cc_G = nx.transitivity(G)\n",
    "    avg_deg_G = G.degree()\n",
    "    deg_sum_G =0\n",
    "    for j in list(avg_deg_G):\n",
    "        deg_sum_G += j[1]\n",
    "    avg_deg_G =  deg_sum_G/len(G.nodes())\n",
    "    return (avg_deg_G, avg_cc_G)"
   ]
  },
  {
   "cell_type": "code",
   "execution_count": 8,
   "id": "6c5cd2d5",
   "metadata": {},
   "outputs": [],
   "source": [
    "def deg_dst_Graph(G7):\n",
    "    degrees = [G7.degree(n) for n in G7.nodes()]\n",
    "    deg,freq = np.unique(degrees,return_counts=True)\n",
    "    plt.plot(deg,freq,label = 'Total nodes degree distribution')\n",
    "    plt.legend()\n",
    "    plt.show()"
   ]
  },
  {
   "cell_type": "markdown",
   "id": "c2dae819",
   "metadata": {},
   "source": [
    "###  Bi-partite Graph"
   ]
  },
  {
   "cell_type": "code",
   "execution_count": 9,
   "id": "ed6bce60",
   "metadata": {},
   "outputs": [
    {
     "name": "stdout",
     "output_type": "stream",
     "text": [
      "Graph with 794 nodes and 14793 edges\n"
     ]
    }
   ],
   "source": [
    "#copying the graph\n",
    "G_new = nx.bipartite.projected_graph(GT,character_nodes)\n",
    "print(G_new)"
   ]
  },
  {
   "cell_type": "code",
   "execution_count": 10,
   "id": "bc8db855",
   "metadata": {},
   "outputs": [
    {
     "data": {
      "image/png": "[encoded data removed]",
      "text/plain": [
       "<Figure size 432x288 with 1 Axes>"
      ]
     },
     "metadata": {},
     "output_type": "display_data"
    }
   ],
   "source": [
    "nx.draw(G_new)"
   ]
  },
  {
   "cell_type": "code",
   "execution_count": 11,
   "id": "7c9f4008",
   "metadata": {},
   "outputs": [],
   "source": [
    "avg_deg_new, avg_clstrng_new = avg_deg_cc(G_new) \n",
    "num = 0 \n",
    "for c in nx.connected_components(G_new):\n",
    "    num += nx.average_shortest_path_length(G_new.subgraph(c))*len(G_new.subgraph(c))\n",
    "GT_avg_path_new = num/len(G_new.nodes())"
   ]
  },
  {
   "cell_type": "code",
   "execution_count": 12,
   "id": "ede4d10a",
   "metadata": {},
   "outputs": [
    {
     "name": "stdout",
     "output_type": "stream",
     "text": [
      "New Simulated Bi-partite MU Network \n",
      " \n",
      "Average degree 37.26196473551637\n",
      "Average path 2.9716587201631284\n",
      "Average clusteirng 0.7865580748804692\n",
      "Newly generated graph diameter is 5\n"
     ]
    }
   ],
   "source": [
    "print(\"New Simulated Bi-partite MU Network \\n \")\n",
    "print(\"Average degree\" ,avg_deg_new)\n",
    "print(\"Average path\", GT_avg_path_new)\n",
    "print(\"Average clusteirng\", avg_clstrng_new)\n",
    "print(\"Newly generated graph diameter is\", max([max(j.values()) for (i,j) in nx.shortest_path_length(G_new)]))#.subgraph(component)))"
   ]
  },
  {
   "cell_type": "code",
   "execution_count": 13,
   "id": "7e81eac7",
   "metadata": {},
   "outputs": [
    {
     "data": {
      "image/png": "[encoded data removed]",
      "text/plain": [
       "<Figure size 432x288 with 1 Axes>"
      ]
     },
     "metadata": {
      "needs_background": "light"
     },
     "output_type": "display_data"
    }
   ],
   "source": [
    "deg_dst_Graph(G_new)"
   ]
  },
  {
   "cell_type": "markdown",
   "id": "9890eca9",
   "metadata": {},
   "source": [
    "### Random simulated graph for newly generated Bi-partite graph"
   ]
  },
  {
   "cell_type": "code",
   "execution_count": 14,
   "id": "d73fb879",
   "metadata": {},
   "outputs": [
    {
     "name": "stdout",
     "output_type": "stream",
     "text": [
      "Random model probability value 0.04698860622385419 and length of nodes 794\n"
     ]
    }
   ],
   "source": [
    "GT_p = avg_deg_new /(len(G_new.nodes())-1) # caliculating probability\n",
    "GT_nodes=len(G_new.nodes())\n",
    "print('Random model probability value',GT_p, 'and length of nodes', GT_nodes)"
   ]
  },
  {
   "cell_type": "code",
   "execution_count": 15,
   "id": "b6fef3bf",
   "metadata": {},
   "outputs": [],
   "source": [
    "GT_sim_rndm = nx.gnp_random_graph(GT_nodes, GT_p)\n",
    "# Simulated Random \n",
    "avg_deg_sim, avg_clstrng_sim =  avg_deg_cc(GT_sim_rndm)"
   ]
  },
  {
   "cell_type": "markdown",
   "id": "268d9558",
   "metadata": {},
   "source": [
    "### Isolated Graph"
   ]
  },
  {
   "cell_type": "code",
   "execution_count": 16,
   "id": "624cf483",
   "metadata": {},
   "outputs": [
    {
     "data": {
      "text/plain": [
       "1"
      ]
     },
     "execution_count": 16,
     "metadata": {},
     "output_type": "execute_result"
    }
   ],
   "source": [
    "i= nx.number_connected_components(GT_sim_rndm)\n",
    "i"
   ]
  },
  {
   "cell_type": "code",
   "execution_count": 17,
   "id": "497bb8ef",
   "metadata": {},
   "outputs": [],
   "source": [
    "num = 0 \n",
    "for c in nx.connected_components(GT_sim_rndm):\n",
    "    num += nx.average_shortest_path_length(GT_sim_rndm.subgraph(c))*len(GT_sim_rndm.subgraph(c))\n",
    "GT_sim_avg_path = num/len(GT_sim_rndm.nodes())"
   ]
  },
  {
   "cell_type": "code",
   "execution_count": 18,
   "id": "c94923bb",
   "metadata": {},
   "outputs": [
    {
     "name": "stdout",
     "output_type": "stream",
     "text": [
      "Bi-partite Random Simulated MU Network \n",
      " \n",
      "Average degree 37.52141057934509\n",
      "Average path 2.113823410763577\n",
      "Average clusteirng 0.04724413679469155\n"
     ]
    }
   ],
   "source": [
    "print(\"Bi-partite Random Simulated MU Network \\n \")\n",
    "print(\"Average degree\" ,avg_deg_sim)\n",
    "print(\"Average path\", GT_sim_avg_path)\n",
    "print(\"Average clusteirng\", avg_clstrng_sim)"
   ]
  },
  {
   "cell_type": "code",
   "execution_count": 19,
   "id": "b32fea63",
   "metadata": {},
   "outputs": [
    {
     "name": "stdout",
     "output_type": "stream",
     "text": [
      " Average path of Random Model Graph is  0.7113277835105974 times the average path of Marvel Universe\n",
      "Clustering co-efficient of Random graph is 0.060064397408762335 times the Clustering co-efficient of Marvel Uuniverse\n",
      "Newly generated graph diameter is 3\n"
     ]
    }
   ],
   "source": [
    "val1= GT_sim_avg_path/GT_avg_path_new\n",
    "print(' Average path of Random Model Graph is ',val1,'times the average path of Marvel Universe')\n",
    "val2 =  avg_clstrng_sim/avg_clstrng_new\n",
    "print('Clustering co-efficient of Random graph is',val2,'times the Clustering co-efficient of Marvel Uuniverse')\n",
    "print(\"Newly generated graph diameter is\", max([max(j.values()) for (i,j) in nx.shortest_path_length(GT_sim_rndm)]))"
   ]
  },
  {
   "cell_type": "code",
   "execution_count": 20,
   "id": "1fbf2a20",
   "metadata": {},
   "outputs": [
    {
     "data": {
      "image/png": "[encoded data removed]",
      "text/plain": [
       "<Figure size 432x288 with 1 Axes>"
      ]
     },
     "metadata": {
      "needs_background": "light"
     },
     "output_type": "display_data"
    }
   ],
   "source": [
    "deg_dst_Graph(GT_sim_rndm)"
   ]
  },
  {
   "cell_type": "markdown",
   "id": "4b454802",
   "metadata": {},
   "source": [
    "### Prefrential Algorithm Method"
   ]
  },
  {
   "cell_type": "code",
   "execution_count": 21,
   "id": "02b1eb13",
   "metadata": {},
   "outputs": [
    {
     "name": "stdout",
     "output_type": "stream",
     "text": [
      "['Jack Russell', 'Elsa Bloodstone', 'Verussa', 'Jovan', 'Azarel', 'Liorn', 'Barasso', 'Billy Swan', 'Ted (The Man-Thing)', 'The Flaming Tuba', 'Ulysses Bloodstone', 'Marc Spector', 'Arthur Harrow', 'Layla El-Faouly', 'Khonshu', 'Bobbi', 'Billy', 'Taweret', 'Selim', 'Crawley', 'Donna', 'Yatzil', 'J.B.', 'Bek', 'Anton Mogart', 'Wendy Spector', 'Sersi', 'Ikaris', 'Thena', 'Ajak', 'Dane Whitman', 'Kingo', 'Sprite', 'Phastos', 'Makkari', 'Druig', 'Gilgamesh', 'Karun', 'Kro', 'Ben', 'Jack', 'Eros', 'Arishem', 'Daimon Helstrom', 'Ana Helstrom', 'Victoria Helstrom', 'Gabriella Rosetti', 'Dr. Louise Hastings', 'Chris Yen', 'Keith Spivey', 'Father Joshua Crow', 'Finn', 'Esther', 'Bryce', 'Officer Derrick Jackson', 'Ellis', 'Jolene Spivey', 'Alex Tilden', 'Archbishop Terrazi', 'Cameron Tate', 'Lee', 'Kthara', 'Papa', 'Aubree Richards', 'Alex Wilder', 'Nico Minoru', 'Karolina Dean', 'Gert Yorkes', 'Chase Stein', 'Molly Hernandez', 'Catherine Wilder', 'Geoffrey Wilder', 'Janet Stein', 'Victor Stein', 'Stacey Yorkes', 'Dale Yorkes', 'Robert Minoru', 'Leslie Dean', 'Tina Minoru', 'Frank Dean', 'Jonah', 'Xavin', 'Tamar', 'Vaughn', 'Darius', 'Frances', 'Aura', 'Morgan le Fay', \"Anthony 'AWOL' Wall\", 'Eiffel', 'Livvie', 'Detective Flores', 'Bronwyn', 'Destiny Gonzalez', 'Amy Minoru', 'Millennial Megan', 'Susan Ellerh', 'Topher', 'Graciela Aguirre', 'Mike on a Bike', 'Dagger', 'Cloak', 'Dagger', 'Cloak', 'Adina Johnson', \"Detective Brigid O'Reilly\", 'Melissa Bowen', 'Detective Connors', 'Evita Fusilier', 'Otis Johnson', 'Auntie Chantelle', 'Nathan Bowen', 'Lia', 'Mina Hess', 'Andre Deschaine', 'Officer Fuchs', 'Liam Walsh', 'Solomon', 'Peter Scarborough', 'Mikayla Bell', 'Duane Porter', 'Ivan Hess', 'Choo Choo Broussard']\n",
      "123\n"
     ]
    }
   ],
   "source": [
    "new_nodes=list()\n",
    "new_nodes1 = list(GT.neighbors('Werewolf by Night*'))\n",
    "for i in new_nodes1: new_nodes.append(i)\n",
    "new_nodes2= list(GT.neighbors('Moon Knight*'))\n",
    "for i in new_nodes2: new_nodes.append(i)\n",
    "new_nodes3= list(GT.neighbors('Eternals*'))\n",
    "for i in new_nodes3: new_nodes.append(i)\n",
    "new_nodes4= list(GT.neighbors('Helstrom*'))\n",
    "for i in new_nodes4: new_nodes.append(i)\n",
    "new_nodes5 = list(GT.neighbors('Runaways*'))\n",
    "for i in new_nodes5: new_nodes.append(i)\n",
    "new_nodes6 = list(GT.neighbors('Cloak & Dagger*'))\n",
    "for i in new_nodes6: new_nodes.append(i)\n",
    "print(new_nodes) # Nodes (actors) adding to the base cluster\n",
    "print(len(new_nodes))"
   ]
  },
  {
   "cell_type": "code",
   "execution_count": 22,
   "id": "7fb1d741",
   "metadata": {},
   "outputs": [
    {
     "name": "stdout",
     "output_type": "stream",
     "text": [
      "Node count in actual MU network 854\n",
      "Removing the nodes including the small clusters titles 123\n",
      "Node count after removing nodes from the MU network 727\n"
     ]
    }
   ],
   "source": [
    "# Removing 'Moon Knight','Eternals', 'Helstrom', 'Cloak & Dagger' & Runaways' and 'Werewolf by Night' clusters from the main graph\n",
    "GT_p = GT.copy()\n",
    "for i in new_nodes: \n",
    "    if i in GT_p.nodes(): GT_p.remove_node(i)\n",
    "GT_p.remove_node('Moon Knight*')\n",
    "GT_p.remove_node('Eternals*')\n",
    "GT_p.remove_node('Helstrom*')\n",
    "GT_p.remove_node('Cloak & Dagger*') \n",
    "GT_p.remove_node('Runaways*')\n",
    "GT_p.remove_node('Werewolf by Night*')\n",
    "print(\"Node count in actual MU network\",len(GT.nodes()))\n",
    "print(\"Removing the nodes including the small clusters titles\",len(new_nodes))\n",
    "print(\"Node count after removing nodes from the MU network\",len(GT_p.nodes()))"
   ]
  },
  {
   "cell_type": "code",
   "execution_count": 23,
   "id": "310e8fca",
   "metadata": {},
   "outputs": [],
   "source": [
    "def PAM(G,avg_deg,new_nodes):\n",
    "    node_count=len(G.nodes())\n",
    "    G_PAM = nx.Graph\n",
    "    G_PAM = G.copy()\n",
    "    i = node_count-1\n",
    "    G_node_list = np.array((G.nodes()))\n",
    "    #node probability\n",
    "    node_prob =[]\n",
    "    for n in G.nodes():\n",
    "        prob = G.degree(n)/(2*len(G.edges()))\n",
    "        node_prob.append(prob)\n",
    "#node_prob\n",
    "    \n",
    "    for n in range(len(new_nodes)):\n",
    "        i = np.random.choice(new_nodes)\n",
    "        G_PAM.add_node(i)\n",
    "        while (G_PAM.degree(i)!=round(avg_deg)):\n",
    "            j=np.random.choice(G_node_list, p= node_prob)\n",
    "            #print(i,j,G_PAM.degree(i))\n",
    "            G_PAM.add_edge(i,j)\n",
    "        new_nodes.remove(i) \n",
    "        \n",
    "    return G_PAM"
   ]
  },
  {
   "cell_type": "code",
   "execution_count": 24,
   "id": "65b96737",
   "metadata": {},
   "outputs": [],
   "source": [
    "GT_pp = GT.copy()\n",
    "PAM_MU = PAM(GT_p,avg_deg_new,new_nodes)"
   ]
  },
  {
   "cell_type": "code",
   "execution_count": 25,
   "id": "fef5d133",
   "metadata": {},
   "outputs": [
    {
     "name": "stdout",
     "output_type": "stream",
     "text": [
      "848 5496\n",
      "PAM-MU Bi-partite Graph \n",
      " \n",
      "Average degree 12.962264150943396\n",
      "Average path 2.7241457084939076\n",
      "Average clusteirng 0.03529918827670426\n",
      "Bi-partite generated PAM graph diameter is 5\n"
     ]
    }
   ],
   "source": [
    "avg_deg_PAM, avg_clstrng_PAM = avg_deg_cc(PAM_MU)\n",
    "PAM_avg_path= nx.average_shortest_path_length(PAM_MU)\n",
    "print(len(PAM_MU.nodes()), len(PAM_MU.edges()))\n",
    "print(\"PAM-MU Bi-partite Graph \\n \")\n",
    "print(\"Average degree\" ,avg_deg_PAM )\n",
    "print(\"Average path\", PAM_avg_path)\n",
    "print(\"Average clusteirng\", avg_clstrng_PAM)\n",
    "print(\"Bi-partite generated PAM graph diameter is\", max([max(j.values()) for (i,j) in nx.shortest_path_length(PAM_MU)]))"
   ]
  },
  {
   "cell_type": "code",
   "execution_count": 26,
   "id": "7493a3b3",
   "metadata": {},
   "outputs": [
    {
     "name": "stdout",
     "output_type": "stream",
     "text": [
      " Average path of PAM_MU Graph is  0.9167088030702147 times the average path of Marvel Universe\n",
      "Clustering co-efficient of Random graph is 0.044878044487774875 times the Clustering co-efficient of Marvel Uuniverse\n",
      "Newly generated graph diameter is 3\n"
     ]
    }
   ],
   "source": [
    "val1= PAM_avg_path/GT_avg_path_new\n",
    "print(' Average path of PAM_MU Graph is ',val1,'times the average path of Marvel Universe')\n",
    "val2 =  avg_clstrng_PAM/avg_clstrng_new\n",
    "print('Clustering co-efficient of Random graph is',val2,'times the Clustering co-efficient of Marvel Uuniverse')\n",
    "print(\"Newly generated graph diameter is\", max([max(j.values()) for (i,j) in nx.shortest_path_length(GT_sim_rndm)]))"
   ]
  },
  {
   "cell_type": "code",
   "execution_count": 27,
   "id": "0f605ad3",
   "metadata": {},
   "outputs": [
    {
     "data": {
      "image/png": "[encoded data removed]",
      "text/plain": [
       "<Figure size 432x288 with 1 Axes>"
      ]
     },
     "metadata": {
      "needs_background": "light"
     },
     "output_type": "display_data"
    }
   ],
   "source": [
    "deg_dst_Graph(PAM_MU)"
   ]
  },
  {
   "cell_type": "code",
   "execution_count": null,
   "id": "ae3f0929",
   "metadata": {},
   "outputs": [],
   "source": []
  }
 ],
 "metadata": {
  "kernelspec": {
   "display_name": "Python 3 (ipykernel)",
   "language": "python",
   "name": "python3"
  },
  "language_info": {
   "codemirror_mode": {
    "name": "ipython",
    "version": 3
   },
   "file_extension": ".py",
   "mimetype": "text/x-python",
   "name": "python",
   "nbconvert_exporter": "python",
   "pygments_lexer": "ipython3",
   "version": "3.9.12"
  }
 },
 "nbformat": 4,
 "nbformat_minor": 5
}
