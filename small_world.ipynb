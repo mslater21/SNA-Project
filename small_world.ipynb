{
  "nbformat": 4,
  "nbformat_minor": 0,
  "metadata": {
    "colab": {
      "provenance": [],
      "authorship_tag": "ABX9TyMbkbaDM7/iwfyysbTD7C92",
      "include_colab_link": true
    },
    "kernelspec": {
      "name": "python3",
      "display_name": "Python 3"
    },
    "language_info": {
      "name": "python"
    }
  },
  "cells": [
    {
      "cell_type": "markdown",
      "metadata": {
        "id": "view-in-github",
        "colab_type": "text"
      },
      "source": [
        "<a href=\"https://colab.research.google.com/github/mslater21/SNA-Project/blob/main/small_world.ipynb\" target=\"_parent\"><img src=\"https://colab.research.google.com/assets/colab-badge.svg\" alt=\"Open In Colab\"/></a>"
      ]
    },
    {
      "cell_type": "code",
      "execution_count": null,
      "metadata": {
        "id": "jrn2Gd2elsA8"
      },
      "outputs": [],
      "source": [
        "import networkx as nx\n",
        "import pandas as pd\n",
        "import matplotlib.pyplot as plt\n",
        "import numpy as np"
      ]
    },
    {
      "cell_type": "code",
      "source": [
        "characters = pd.read_csv('marvel_characters.csv')\n",
        "titles = pd.read_csv('marvel_titles.csv')"
      ],
      "metadata": {
        "id": "Yt1XbrA8mvBY"
      },
      "execution_count": null,
      "outputs": []
    },
    {
      "cell_type": "code",
      "source": [
        "G = nx.Graph()"
      ],
      "metadata": {
        "id": "MiW6zzNPnl-0"
      },
      "execution_count": null,
      "outputs": []
    },
    {
      "cell_type": "code",
      "source": [
        "for index, row in titles.iterrows():\n",
        "  G.add_node(row['title'] + '*', bipartite=0, media_type=row['type'], release_year=row['release_year'], release_month=row['release_month'], release_day=row['release_day'], rating=row['rating'], length=row['length'], starts=row['stars'], genres=row['genres'])"
      ],
      "metadata": {
        "id": "FieqyxcVnod8"
      },
      "execution_count": null,
      "outputs": []
    },
    {
      "cell_type": "code",
      "source": [
        "for index, row in characters.iterrows():\n",
        "  if row['title'] == 'What If...?':\n",
        "    char_name = row['character'] + '-AR'\n",
        "  else:\n",
        "    char_name = row['character']\n",
        "  G.add_node(char_name, bipartite=1, alias=row['character_alias'], actor=row['actor'])"
      ],
      "metadata": {
        "id": "uyqdPiS8pAFN"
      },
      "execution_count": null,
      "outputs": []
    },
    {
      "cell_type": "code",
      "source": [
        "for index, row in characters.iterrows():\n",
        "  if row['title'] == 'What If...?':\n",
        "    char_name = row['character'] + '-AR'\n",
        "  else:\n",
        "    char_name = row['character']\n",
        "  G.add_edge(row['title'] + '*', char_name)"
      ],
      "metadata": {
        "id": "snuFuUOIpXI4"
      },
      "execution_count": null,
      "outputs": []
    },
    {
      "cell_type": "code",
      "source": [
        "character_nodes = {n for n, d in G.nodes(data=True) if d['bipartite'] == 1}\n",
        "title_nodes = set(new_G) - character_nodes"
      ],
      "metadata": {
        "id": "XlHIZ_Cipo0I"
      },
      "execution_count": null,
      "outputs": []
    },
    {
      "cell_type": "code",
      "source": [
        "nx.is_bipartite(G)"
      ],
      "metadata": {
        "colab": {
          "base_uri": "https://localhost:8080/"
        },
        "id": "DaU6tesryz7h",
        "outputId": "793e8aeb-f9dc-4876-d6c4-a722e3909711"
      },
      "execution_count": null,
      "outputs": [
        {
          "output_type": "execute_result",
          "data": {
            "text/plain": [
              "True"
            ]
          },
          "metadata": {},
          "execution_count": 10
        }
      ]
    },
    {
      "cell_type": "code",
      "source": [
        "G_char = nx.bipartite.projected_graph(G, character_nodes)\n",
        "print(G_char)"
      ],
      "metadata": {
        "colab": {
          "base_uri": "https://localhost:8080/"
        },
        "id": "pmn4MbFKJISS",
        "outputId": "e0c74872-5653-4c0e-94c6-ca77125f4d27"
      },
      "execution_count": null,
      "outputs": [
        {
          "output_type": "stream",
          "name": "stdout",
          "text": [
            "Graph with 1746 nodes and 137160 edges\n"
          ]
        }
      ]
    },
    {
      "cell_type": "code",
      "source": [
        "c = int(np.round(sum([d for (n,d) in nx.degree(G_char)]) / G_char.number_of_nodes()))\n",
        "clustering = nx.average_clustering(G_char)"
      ],
      "metadata": {
        "id": "5ghjfNu1TRbG"
      },
      "execution_count": null,
      "outputs": []
    },
    {
      "cell_type": "code",
      "source": [
        "small_world = nx.Graph()\n",
        "for i in range(G_char.number_of_nodes()):\n",
        "  small_world.add_node(i)\n",
        "  if small_world.number_of_nodes() > 1:\n",
        "    small_world.add_edge(list(small_world.nodes)[-1], list(small_world.nodes)[-2])\n",
        "small_world.add_edge(list(small_world.nodes)[-1], list(small_world.nodes)[0])\n",
        "\n",
        "if c % 2 == 0:\n",
        "  k = c\n",
        "else:\n",
        "  k = c - 1\n"
      ],
      "metadata": {
        "id": "BcvHym_DTRbG"
      },
      "execution_count": null,
      "outputs": []
    },
    {
      "cell_type": "code",
      "source": [
        "print(small_world)"
      ],
      "metadata": {
        "colab": {
          "base_uri": "https://localhost:8080/"
        },
        "id": "yCKClUkeYTEG",
        "outputId": "1584652a-ebe1-4a40-ba4a-5ae6645c67c0"
      },
      "execution_count": null,
      "outputs": [
        {
          "output_type": "stream",
          "name": "stdout",
          "text": [
            "Graph with 794 nodes and 794 edges\n"
          ]
        }
      ]
    },
    {
      "cell_type": "code",
      "source": [
        "# Create lattice\n",
        "size = int(k/2)\n",
        "num_nodes = small_world.number_of_nodes()\n",
        "for node in list(small_world.nodes()):\n",
        "  for i in range(1, size + 1):\n",
        "    if small_world.has_edge(node, node - i) is False and node - i > 0:\n",
        "      small_world.add_edge(node, node - i)\n",
        "  for i in range(1, size + 1):\n",
        "    if node + i < num_nodes:\n",
        "      if small_world.has_edge(node, node + i) is False:\n",
        "        small_world.add_edge(node, node + i)\n",
        "    else:\n",
        "      target = node + i - num_nodes\n",
        "      if small_world.has_edge(node, target) is False:\n",
        "        small_world.add_edge(node, target)"
      ],
      "metadata": {
        "id": "7pmVxfJkTRbG"
      },
      "execution_count": null,
      "outputs": []
    },
    {
      "cell_type": "code",
      "source": [
        "print(small_world)"
      ],
      "metadata": {
        "colab": {
          "base_uri": "https://localhost:8080/"
        },
        "id": "QK4ATO8FYbBY",
        "outputId": "73b48724-044f-472d-d349-5ef2f9bc0606"
      },
      "execution_count": null,
      "outputs": [
        {
          "output_type": "stream",
          "name": "stdout",
          "text": [
            "Graph with 794 nodes and 14292 edges\n"
          ]
        }
      ]
    },
    {
      "cell_type": "code",
      "source": [
        "# Calculate p (beta)\n",
        "c0 = nx.average_clustering(small_world)\n",
        "C = nx.average_clustering(G_char)\n",
        "p = 1 - (C/c0)**(1/3)\n",
        "print(p)"
      ],
      "metadata": {
        "colab": {
          "base_uri": "https://localhost:8080/"
        },
        "outputId": "7a6fa3c3-e945-4e05-f355-74734adb9977",
        "id": "16NN_vFcTRbG"
      },
      "execution_count": null,
      "outputs": [
        {
          "output_type": "stream",
          "name": "stdout",
          "text": [
            "-0.08457597156109453\n"
          ]
        }
      ]
    },
    {
      "cell_type": "code",
      "source": [
        "# Rewire\n",
        "from numpy.random import choice\n",
        "from random import random\n",
        "node_list = list(small_world.nodes())\n",
        "for node in list(small_world.nodes()):\n",
        "  counter = 0\n",
        "  for edge in small_world.edges(node):\n",
        "    counter += 1\n",
        "    if (edge[0] == node and edge[1] > node) or (edge[1] == node and edge[0] > node):\n",
        "      target = choice(node_list)\n",
        "      if target != node and small_world.has_edge(node, target) is False:\n",
        "        if random() < p:\n",
        "          counter += 1\n",
        "          small_world.remove_edge(edge[0], edge[1])\n",
        "          small_world.add_edge(node, target)\n",
        "  # print(counter)\n"
      ],
      "metadata": {
        "id": "HJzQiOB3TRbG"
      },
      "execution_count": null,
      "outputs": []
    },
    {
      "cell_type": "code",
      "source": [
        "# Clustering Coefficient\n",
        "print('Real:', nx.average_clustering(G_char))\n",
        "print('Simulated:', nx.average_clustering(small_world))"
      ],
      "metadata": {
        "colab": {
          "base_uri": "https://localhost:8080/"
        },
        "outputId": "82e6a7a3-2ebe-4b19-f1a2-b58f996bf255",
        "id": "Rvjf9Vt7TRbH"
      },
      "execution_count": null,
      "outputs": [
        {
          "output_type": "stream",
          "name": "stdout",
          "text": [
            "Real: 0.9295057308049337\n",
            "Simulated: 0.7285714285714371\n"
          ]
        }
      ]
    },
    {
      "cell_type": "code",
      "source": [
        "# Average Degree\n",
        "print('Real:', sum([d for (n,d) in nx.degree(G_char)]) / G_char.number_of_nodes())\n",
        "print('Simulated:', sum([d for (n,d) in nx.degree(small_world)]) / small_world.number_of_nodes())"
      ],
      "metadata": {
        "colab": {
          "base_uri": "https://localhost:8080/"
        },
        "outputId": "a79a34e4-2290-4f82-a52b-0c44d26f6ceb",
        "id": "ZUT-xal-TRbH"
      },
      "execution_count": null,
      "outputs": [
        {
          "output_type": "stream",
          "name": "stdout",
          "text": [
            "Real: 37.26196473551637\n",
            "Simulated: 36.0\n"
          ]
        }
      ]
    }
  ]
}