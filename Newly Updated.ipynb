{
 "cells": [
  {
   "cell_type": "code",
   "execution_count": 1,
   "id": "d021b053",
   "metadata": {},
   "outputs": [
    {
     "name": "stderr",
     "output_type": "stream",
     "text": [
      "<frozen importlib._bootstrap>:228: RuntimeWarning: scipy._lib.messagestream.MessageStream size changed, may indicate binary incompatibility. Expected 56 from C header, got 64 from PyObject\n"
     ]
    }
   ],
   "source": [
    "import networkx as nx, matplotlib.pyplot as plt\n",
    "import numpy as np, pandas as pd\n",
    "import math, seaborn as sns\n",
    "from scipy import stats\n",
    "from sklearn import cluster as clstr\n",
    "from networkx import edge_betweenness_centrality\n",
    "from networkx.algorithms import community\n",
    "import itertools"
   ]
  },
  {
   "cell_type": "code",
   "execution_count": 2,
   "id": "e4895748",
   "metadata": {},
   "outputs": [],
   "source": [
    "df1 = pd.read_csv('C:/Users/saich/OneDrive/Desktop/SNA/project/marvel_characters.csv')\n",
    "df2 = pd.read_csv('C:/Users/saich/OneDrive/Desktop/SNA/project/marvel_titles.csv')"
   ]
  },
  {
   "cell_type": "code",
   "execution_count": 3,
   "id": "2a23bd42",
   "metadata": {},
   "outputs": [],
   "source": [
    "GT = nx.Graph()\n",
    "new_G = nx.Graph()\n",
    "#GT.add_nodes_from(df['character'].tolist(),bipartite=1,node_color='w',alpha=0.4,node_shape='d')\n",
    "\n",
    "for index, row in df2.iterrows():\n",
    "  GT.add_node(row['title'] + '*', bipartite=0, media_type=row['type'], release_year=row['release_year'], release_month=row['release_month'], release_day=row['release_day'], rating=row['rating'], length=row['length'], starts=row['stars'], genres=row['genres'])"
   ]
  },
  {
   "cell_type": "code",
   "execution_count": 4,
   "id": "71f00067",
   "metadata": {},
   "outputs": [],
   "source": [
    "for index, row in df1.iterrows():\n",
    "  if row['title'] == 'What If...?':\n",
    "    char_name = row['character'] + '-AR'\n",
    "  else:\n",
    "    char_name = row['character']\n",
    "  GT.add_node(char_name, bipartite=1, alias=row['character_alias'], actor=row['actor'])\n",
    "\n",
    "for index, row in df1.iterrows():\n",
    "  if row['title'] == 'What If...?':\n",
    "    char_name = row['character'] + '-AR'\n",
    "  else:\n",
    "    char_name = row['character']\n",
    "  GT.add_edge(row['title'] + '*', char_name)"
   ]
  },
  {
   "cell_type": "code",
   "execution_count": 5,
   "id": "9a76fdf9",
   "metadata": {},
   "outputs": [],
   "source": [
    "character_nodes = {n for n, d in GT.nodes(data=True) if d['bipartite'] == 1}\n",
    "title_nodes = set(GT) - character_nodes "
   ]
  },
  {
   "cell_type": "code",
   "execution_count": 6,
   "id": "61b6c05b",
   "metadata": {},
   "outputs": [
    {
     "data": {
      "image/png": "[encoded data removed]",
      "text/plain": [
       "<Figure size 432x288 with 1 Axes>"
      ]
     },
     "metadata": {},
     "output_type": "display_data"
    }
   ],
   "source": [
    "nx.draw(GT)"
   ]
  },
  {
   "cell_type": "code",
   "execution_count": 7,
   "id": "580f85f6",
   "metadata": {},
   "outputs": [],
   "source": [
    "def deg_dst(G7): # degree distribution of titles and characters\n",
    "    degrees = [G7.degree(n) for n in title_nodes]\n",
    "    deg,freq = np.unique(degrees,return_counts=True)\n",
    "    plt.plot(deg,freq,label = 'title degree distribution')\n",
    "    plt.legend()\n",
    "    plt.show()\n",
    "    degrees1 = [G7.degree(n) for n in character_nodes]\n",
    "    deg1,freq1 = np.unique(degrees1,return_counts=True)\n",
    "    plt.plot(deg1,freq1,label = 'characters degree distribution')\n",
    "    plt.legend()\n",
    "    plt.show()\n",
    "def avg_deg_cc(G): # average degree and clustering co-efficient\n",
    "    avg_cc_G = nx.transitivity(G)\n",
    "    avg_deg_G = G.degree()\n",
    "    deg_sum_G =0\n",
    "    for j in list(avg_deg_G):\n",
    "        deg_sum_G += j[1]\n",
    "    avg_deg_G =  deg_sum_G/len(G.nodes())\n",
    "    return (avg_deg_G, avg_cc_G)"
   ]
  },
  {
   "cell_type": "code",
   "execution_count": 8,
   "id": "d23dbb1d",
   "metadata": {},
   "outputs": [],
   "source": [
    "def deg_dst_Graph(G7):\n",
    "    degrees = [G7.degree(n) for n in G7.nodes()]\n",
    "    deg,freq = np.unique(degrees,return_counts=True)\n",
    "    plt.plot(deg,freq,label = 'Total nodes degree distribution')\n",
    "    plt.legend()\n",
    "    plt.show()"
   ]
  },
  {
   "cell_type": "markdown",
   "id": "40c84d8f",
   "metadata": {},
   "source": [
    "###  Adding the edges between the characters by considering their common titles"
   ]
  },
  {
   "cell_type": "code",
   "execution_count": 9,
   "id": "60728a85",
   "metadata": {},
   "outputs": [
    {
     "name": "stdout",
     "output_type": "stream",
     "text": [
      "854 1142\n"
     ]
    }
   ],
   "source": [
    "#copying the graph\n",
    "G_new = GT.copy()\n",
    "print(len(G_new.nodes()), len(G_new.edges()))"
   ]
  },
  {
   "cell_type": "code",
   "execution_count": 10,
   "id": "40246083",
   "metadata": {},
   "outputs": [
    {
     "name": "stdout",
     "output_type": "stream",
     "text": [
      "Heimdall Jane Foster 3\n",
      "Heimdall Thor 5\n",
      "Heimdall Volstagg 3\n",
      "Heimdall Hogun 3\n",
      "Heimdall Loki 4\n",
      "Heimdall Bruce Banner 3\n",
      "Heimdall Fandral 3\n",
      "Heimdall Odin 3\n",
      "Heimdall Erik Selvig 4\n",
      "Heimdall Sif 3\n",
      "Heimdall Darcy Lewis 3\n",
      "Vision Wanda Maximoff 3\n",
      "Bucky Barnes Brock Rumlow 3\n",
      "Bucky Barnes Howard Stark 3\n",
      "Bucky Barnes T'Challa 3\n",
      "Bucky Barnes Wanda Maximoff 3\n",
      "Bucky Barnes Tony Stark 3\n",
      "Bucky Barnes Peter Parker 3\n",
      "Bucky Barnes James Rhodes 4\n",
      "Bucky Barnes Natasha Romanoff 4\n",
      "Bucky Barnes Secretary Ross 3\n",
      "Bucky Barnes Friday 3\n",
      "Bucky Barnes Steve Rogers 5\n",
      "Bucky Barnes Nick Fury 3\n",
      "Bucky Barnes Sam Wilson 5\n",
      "Bucky Barnes Johann Schmidt 3\n",
      "Bucky Barnes Peggy Carter 3\n",
      "Okoye M'Baku 3\n",
      "Okoye T'Challa 3\n",
      "Okoye Shuri 3\n",
      "MJ Peter Parker 3\n",
      "MJ Happy Hogan 3\n",
      "MJ May Parker 3\n",
      "Timothy 'Dum Dum' Dugan Howard Stark 3\n",
      "Timothy 'Dum Dum' Dugan Peggy Carter 4\n",
      "Brock Rumlow Natasha Romanoff 3\n",
      "Brock Rumlow Steve Rogers 3\n",
      "Brock Rumlow Sam Wilson 3\n",
      "M'Baku T'Challa 3\n",
      "M'Baku Shuri 3\n",
      "Jane Foster Thor 3\n",
      "Jane Foster Loki 3\n",
      "Jane Foster Frigga 3\n",
      "Jane Foster Erik Selvig 3\n",
      "Jane Foster Sif 3\n",
      "Jane Foster Darcy Lewis 3\n",
      "Thor Drax 3\n",
      "Thor Korg 3\n",
      "Thor Dr. Stephen Strange 3\n",
      "Thor Wanda Maximoff 3\n",
      "Thor Tony Stark 3\n",
      "Thor Rocket 3\n",
      "Thor Nebula 3\n",
      "Thor Groot 3\n",
      "Thor Peter Quill 3\n",
      "Thor James Rhodes 3\n",
      "Thor Natasha Romanoff 3\n",
      "Thor Loki 4\n",
      "Thor Friday 3\n",
      "Thor Bruce Banner 4\n",
      "Thor Mantis 3\n",
      "Thor Erik Selvig 3\n",
      "Thor Steve Rogers 3\n",
      "Thor Sam Wilson 3\n",
      "Volstagg Hogun 3\n",
      "Volstagg Loki 3\n",
      "Volstagg Fandral 3\n",
      "Volstagg Odin 3\n",
      "Claire Temple Turk Barrett 3\n",
      "Claire Temple Colleen Wing 3\n",
      "Claire Temple Misty Knight 3\n",
      "Claire Temple Foggy Nelson 4\n",
      "Claire Temple Danny Rand 3\n",
      "Claire Temple Jeri Hogarth 4\n",
      "Claire Temple Madame Gao 3\n",
      "Claire Temple Trish Walker 3\n",
      "Howard Stark Tony Stark 3\n",
      "Howard Stark James Rhodes 3\n",
      "Howard Stark Natasha Romanoff 3\n",
      "Howard Stark Steve Rogers 3\n",
      "Howard Stark Nick Fury 3\n",
      "Howard Stark Peggy Carter 4\n",
      "Drax Rocket 5\n",
      "Drax Nebula 5\n",
      "Drax Groot 4\n",
      "Drax Peter Quill 5\n",
      "Drax Gamora 4\n",
      "Drax Mantis 4\n",
      "Turk Barrett Karen Page 3\n",
      "Turk Barrett Foggy Nelson 3\n",
      "Agent Sitwell Maria Hill 3\n",
      "Agent Sitwell Agent Coulson 3\n",
      "Agent Sitwell Nick Fury 3\n",
      "Agent Sitwell Peggy Carter 3\n",
      "T'Challa Wanda Maximoff 3\n",
      "T'Challa Tony Stark 3\n",
      "T'Challa Peter Parker 3\n",
      "T'Challa James Rhodes 3\n",
      "T'Challa Natasha Romanoff 3\n",
      "T'Challa Secretary Ross 3\n",
      "T'Challa Friday 3\n",
      "T'Challa Shuri 3\n",
      "T'Challa Steve Rogers 3\n",
      "T'Challa Sam Wilson 3\n",
      "Maria Hill Tony Stark 3\n",
      "Maria Hill James Rhodes 3\n",
      "Maria Hill Natasha Romanoff 4\n",
      "Maria Hill Bruce Banner 3\n",
      "Maria Hill Clint Barton 3\n",
      "Maria Hill Steve Rogers 4\n",
      "Maria Hill Nick Fury 7\n",
      "Maria Hill Sam Wilson 3\n",
      "Maria Hill Peggy Carter 3\n",
      "Laura Barton Clint Barton 3\n",
      "Wong Dr. Stephen Strange 5\n",
      "Wong Wanda Maximoff 3\n",
      "Wong Peter Parker 3\n",
      "Wong Ned 3\n",
      "Wong Bruce Banner 3\n",
      "Dr. Stephen Strange Wanda Maximoff 3\n",
      "Dr. Stephen Strange Peter Parker 3\n",
      "Dr. Stephen Strange Ned 3\n",
      "Dr. Stephen Strange Loki 3\n",
      "Dr. Stephen Strange Bruce Banner 3\n",
      "Wanda Maximoff Tony Stark 4\n",
      "Wanda Maximoff Peter Parker 3\n",
      "Wanda Maximoff James Rhodes 4\n",
      "Wanda Maximoff Natasha Romanoff 4\n",
      "Wanda Maximoff Secretary Ross 3\n",
      "Wanda Maximoff Friday 4\n",
      "Wanda Maximoff Bruce Banner 3\n",
      "Wanda Maximoff Clint Barton 3\n",
      "Wanda Maximoff Steve Rogers 4\n",
      "Wanda Maximoff Sam Wilson 4\n",
      "JARVIS Tony Stark 4\n",
      "JARVIS Happy Hogan 3\n",
      "JARVIS James Rhodes 3\n",
      "JARVIS Pepper Potts 4\n",
      "JARVIS Agent Coulson 3\n",
      "Tony Stark Peter Parker 4\n",
      "Tony Stark Happy Hogan 5\n",
      "Tony Stark Ned 3\n",
      "Tony Stark James Rhodes 7\n",
      "Tony Stark Natasha Romanoff 6\n",
      "Tony Stark Loki 3\n",
      "Tony Stark Secretary Ross 3\n",
      "Tony Stark Friday 4\n",
      "Tony Stark Bruce Banner 4\n",
      "Tony Stark Pepper Potts 7\n",
      "Tony Stark Clint Barton 4\n",
      "Tony Stark Agent Coulson 3\n",
      "Tony Stark Steve Rogers 5\n",
      "Tony Stark Nick Fury 4\n",
      "Tony Stark Sam Wilson 4\n",
      "Colleen Wing Misty Knight 3\n",
      "Colleen Wing Danny Rand 3\n",
      "Rocket Nebula 5\n",
      "Rocket Groot 4\n",
      "Rocket Peter Quill 5\n",
      "Rocket Gamora 4\n",
      "Rocket Mantis 4\n",
      "Peter Parker Happy Hogan 4\n",
      "Peter Parker Ned 5\n",
      "Peter Parker James Rhodes 3\n",
      "Peter Parker Flash Thompson 3\n",
      "Peter Parker Natasha Romanoff 3\n",
      "Peter Parker Secretary Ross 3\n",
      "Peter Parker Friday 3\n",
      "Peter Parker Pepper Potts 3\n",
      "Peter Parker Steve Rogers 3\n",
      "Peter Parker Sam Wilson 3\n",
      "Peter Parker May Parker 4\n",
      "Hogun Loki 3\n",
      "Hogun Fandral 3\n",
      "Hogun Odin 3\n",
      "Happy Hogan Ned 3\n",
      "Happy Hogan James Rhodes 4\n",
      "Happy Hogan Pepper Potts 5\n",
      "Happy Hogan Nick Fury 3\n",
      "Happy Hogan May Parker 3\n",
      "Nebula Groot 4\n",
      "Nebula Peter Quill 5\n",
      "Nebula Gamora 4\n",
      "Nebula Mantis 4\n",
      "Dr. Arnim Zola Peggy Carter 3\n",
      "Groot Peter Quill 4\n",
      "Groot Gamora 3\n",
      "Groot Mantis 3\n",
      "Ned Pepper Potts 3\n",
      "Peter Quill Gamora 4\n",
      "Peter Quill Mantis 4\n",
      "James Rhodes Natasha Romanoff 5\n",
      "James Rhodes Secretary Ross 3\n",
      "James Rhodes Friday 4\n",
      "James Rhodes Bruce Banner 3\n",
      "James Rhodes Pepper Potts 5\n",
      "James Rhodes Clint Barton 3\n",
      "James Rhodes Steve Rogers 4\n",
      "James Rhodes Nick Fury 4\n",
      "James Rhodes Sam Wilson 5\n",
      "Natasha Romanoff Loki 3\n",
      "Natasha Romanoff Secretary Ross 4\n",
      "Natasha Romanoff Friday 4\n",
      "Natasha Romanoff Bruce Banner 4\n",
      "Natasha Romanoff Pepper Potts 4\n",
      "Natasha Romanoff Clint Barton 4\n",
      "Natasha Romanoff Steve Rogers 6\n",
      "Natasha Romanoff Nick Fury 5\n",
      "Natasha Romanoff Sam Wilson 5\n",
      "Misty Knight Danny Rand 3\n",
      "Loki Bruce Banner 4\n",
      "Loki Pepper Potts 3\n",
      "Loki Fandral 3\n",
      "Loki Odin 3\n",
      "Loki Frigga 3\n",
      "Loki Erik Selvig 3\n",
      "Loki Steve Rogers 3\n",
      "Scott Lang Janet Van Dyne 3\n",
      "Scott Lang Sam Wilson 3\n",
      "Scott Lang Hope Van Dyne 3\n",
      "Gamora Mantis 3\n",
      "Foggy Nelson Jeri Hogarth 3\n",
      "Foggy Nelson Trish Walker 3\n",
      "Secretary Ross Friday 3\n",
      "Secretary Ross Bruce Banner 3\n",
      "Secretary Ross Steve Rogers 3\n",
      "Secretary Ross Sam Wilson 3\n",
      "Friday Bruce Banner 3\n",
      "Friday Clint Barton 3\n",
      "Friday Steve Rogers 4\n",
      "Friday Sam Wilson 4\n",
      "Bruce Banner Pepper Potts 3\n",
      "Bruce Banner Clint Barton 3\n",
      "Bruce Banner Steve Rogers 4\n",
      "Bruce Banner Nick Fury 3\n",
      "Bruce Banner Sam Wilson 3\n",
      "Pepper Potts Agent Coulson 3\n",
      "Pepper Potts Steve Rogers 3\n",
      "Pepper Potts Nick Fury 3\n",
      "Jeri Hogarth Madame Gao 3\n",
      "Fandral Odin 3\n",
      "Clint Barton Steve Rogers 4\n",
      "Clint Barton Nick Fury 3\n",
      "Clint Barton Sam Wilson 3\n",
      "Agent Coulson Nick Fury 4\n",
      "Janet Van Dyne Hope Van Dyne 3\n",
      "Erik Selvig Sif 3\n",
      "Erik Selvig Darcy Lewis 3\n",
      "Steve Rogers Nick Fury 5\n",
      "Steve Rogers Sam Wilson 5\n",
      "Steve Rogers Johann Schmidt 3\n",
      "Steve Rogers Peggy Carter 3\n",
      "Nick Fury Sam Wilson 3\n",
      "Nick Fury Peggy Carter 4\n",
      "Sif Darcy Lewis 3\n"
     ]
    }
   ],
   "source": [
    "l=[0,1]\n",
    "for i in character_nodes:\n",
    "    for j in character_nodes: \n",
    "        l[0]=i\n",
    "        l[1]=j\n",
    "        num = len(list(set([n for n in GT.neighbors(l[0])]) & set([m for m in GT.neighbors(l[1])])))\n",
    "        if num>=3 and G_new.has_edge(i,j)==False and i!=j:\n",
    "            print(i,j, num)\n",
    "            G_new.add_edge(i,j)"
   ]
  },
  {
   "cell_type": "code",
   "execution_count": 11,
   "id": "935707ee",
   "metadata": {},
   "outputs": [
    {
     "name": "stdout",
     "output_type": "stream",
     "text": [
      "854 1397\n"
     ]
    }
   ],
   "source": [
    "print(len(G_new.nodes()), len(G_new.edges()))"
   ]
  },
  {
   "cell_type": "code",
   "execution_count": 12,
   "id": "988f58da",
   "metadata": {},
   "outputs": [
    {
     "data": {
      "image/png": "[encoded data removed]",
      "text/plain": [
       "<Figure size 432x288 with 1 Axes>"
      ]
     },
     "metadata": {},
     "output_type": "display_data"
    }
   ],
   "source": [
    "nx.draw(G_new)"
   ]
  },
  {
   "cell_type": "code",
   "execution_count": 13,
   "id": "b3449e51",
   "metadata": {},
   "outputs": [],
   "source": [
    "avg_deg_new, avg_clstrng_new = avg_deg_cc(G_new) \n",
    "num = 0 \n",
    "for c in nx.connected_components(G_new):\n",
    "    num += nx.average_shortest_path_length(G_new.subgraph(c))*len(G_new.subgraph(c))\n",
    "GT_avg_path_new = num/len(G_new.nodes())"
   ]
  },
  {
   "cell_type": "code",
   "execution_count": 14,
   "id": "8076ba07",
   "metadata": {},
   "outputs": [
    {
     "name": "stdout",
     "output_type": "stream",
     "text": [
      "New Simulated MU Network \n",
      " \n",
      "Average degree 3.271662763466042\n",
      "Average path 5.502214557458918\n",
      "Average clusteirng 0.1840353796304405\n",
      "Newly generated graph diameter is 10\n"
     ]
    }
   ],
   "source": [
    "print(\"New Simulated MU Network \\n \")\n",
    "print(\"Average degree\" ,avg_deg_new)\n",
    "print(\"Average path\", GT_avg_path_new)\n",
    "print(\"Average clusteirng\", avg_clstrng_new)\n",
    "print(\"Newly generated graph diameter is\", max([max(j.values()) for (i,j) in nx.shortest_path_length(G_new)]))#.subgraph(component)))"
   ]
  },
  {
   "cell_type": "code",
   "execution_count": 15,
   "id": "adf28bf6",
   "metadata": {},
   "outputs": [
    {
     "data": {
      "image/png": "[encoded data removed]",
      "text/plain": [
       "<Figure size 432x288 with 1 Axes>"
      ]
     },
     "metadata": {
      "needs_background": "light"
     },
     "output_type": "display_data"
    },
    {
     "data": {
      "image/png": "[encoded data removed]",
      "text/plain": [
       "<Figure size 432x288 with 1 Axes>"
      ]
     },
     "metadata": {
      "needs_background": "light"
     },
     "output_type": "display_data"
    }
   ],
   "source": [
    "deg_dst(G_new)"
   ]
  },
  {
   "cell_type": "code",
   "execution_count": 16,
   "id": "a223c908",
   "metadata": {},
   "outputs": [
    {
     "data": {
      "image/png": "[encoded data removed]",
      "text/plain": [
       "<Figure size 432x288 with 1 Axes>"
      ]
     },
     "metadata": {
      "needs_background": "light"
     },
     "output_type": "display_data"
    }
   ],
   "source": [
    "deg_dst_Graph(G_new)"
   ]
  },
  {
   "cell_type": "markdown",
   "id": "12e6d86f",
   "metadata": {},
   "source": [
    "### Random simulated graph for newly generated graph"
   ]
  },
  {
   "cell_type": "code",
   "execution_count": 17,
   "id": "3fa2c9a5",
   "metadata": {},
   "outputs": [
    {
     "name": "stdout",
     "output_type": "stream",
     "text": [
      "Random model probability value 0.0038354780345440116 and length of nodes 854\n"
     ]
    }
   ],
   "source": [
    "GT_p = avg_deg_new /(len(G_new.nodes())-1) # caliculating probability\n",
    "GT_nodes=len(G_new.nodes())\n",
    "print('Random model probability value',GT_p, 'and length of nodes', GT_nodes)"
   ]
  },
  {
   "cell_type": "code",
   "execution_count": 18,
   "id": "b68b5429",
   "metadata": {},
   "outputs": [],
   "source": [
    "GT_sim_rndm = nx.gnp_random_graph(GT_nodes, GT_p)\n",
    "# Simulated Random \n",
    "avg_deg_sim, avg_clstrng_sim =  avg_deg_cc(GT_sim_rndm)"
   ]
  },
  {
   "cell_type": "markdown",
   "id": "71eda554",
   "metadata": {},
   "source": [
    "### Isolated Graph"
   ]
  },
  {
   "cell_type": "code",
   "execution_count": 19,
   "id": "db17d151",
   "metadata": {},
   "outputs": [
    {
     "data": {
      "text/plain": [
       "32"
      ]
     },
     "execution_count": 19,
     "metadata": {},
     "output_type": "execute_result"
    }
   ],
   "source": [
    "i= nx.number_connected_components(GT_sim_rndm)\n",
    "i"
   ]
  },
  {
   "cell_type": "code",
   "execution_count": 20,
   "id": "636bd6e6",
   "metadata": {},
   "outputs": [],
   "source": [
    "num = 0 \n",
    "for c in nx.connected_components(GT_sim_rndm):\n",
    "    num += nx.average_shortest_path_length(GT_sim_rndm.subgraph(c))*len(GT_sim_rndm.subgraph(c))\n",
    "GT_sim_avg_path = num/len(GT_sim_rndm.nodes())"
   ]
  },
  {
   "cell_type": "code",
   "execution_count": 21,
   "id": "51c6c5e3",
   "metadata": {},
   "outputs": [
    {
     "name": "stdout",
     "output_type": "stream",
     "text": [
      "Updatd Random Simulated MU Network \n",
      " \n",
      "Average degree 3.3278688524590163\n",
      "Average path 5.450119378036153\n",
      "Average clusteirng 0.0025412960609911056\n"
     ]
    }
   ],
   "source": [
    "print(\"Updatd Random Simulated MU Network \\n \")\n",
    "print(\"Average degree\" ,avg_deg_sim)\n",
    "print(\"Average path\", GT_sim_avg_path)\n",
    "print(\"Average clusteirng\", avg_clstrng_sim)"
   ]
  },
  {
   "cell_type": "code",
   "execution_count": 22,
   "id": "2796bb41",
   "metadata": {},
   "outputs": [
    {
     "name": "stdout",
     "output_type": "stream",
     "text": [
      " Average path of Random Model Graph is  0.9905319614713783 times the average path of Marvel Universe\n",
      "Clustering co-efficient of Random graph is 0.013808736483681862 times the Clustering co-efficient of Marvel Uuniverse\n",
      "Newly generated graph diameter is 12\n"
     ]
    }
   ],
   "source": [
    "val1= GT_sim_avg_path/GT_avg_path_new\n",
    "print(' Average path of Random Model Graph is ',val1,'times the average path of Marvel Universe')\n",
    "val2 =  avg_clstrng_sim/avg_clstrng_new\n",
    "print('Clustering co-efficient of Random graph is',val2,'times the Clustering co-efficient of Marvel Uuniverse')\n",
    "print(\"Newly generated graph diameter is\", max([max(j.values()) for (i,j) in nx.shortest_path_length(GT_sim_rndm)]))"
   ]
  },
  {
   "cell_type": "code",
   "execution_count": 23,
   "id": "2c4dbe91",
   "metadata": {},
   "outputs": [
    {
     "data": {
      "image/png": "[encoded data removed]",
      "text/plain": [
       "<Figure size 432x288 with 1 Axes>"
      ]
     },
     "metadata": {
      "needs_background": "light"
     },
     "output_type": "display_data"
    }
   ],
   "source": [
    "deg_dst_Graph(GT_sim_rndm)"
   ]
  },
  {
   "cell_type": "markdown",
   "id": "7d179480",
   "metadata": {},
   "source": [
    "### Prefrential Algorithm Method"
   ]
  },
  {
   "cell_type": "code",
   "execution_count": 24,
   "id": "51d9289b",
   "metadata": {},
   "outputs": [
    {
     "name": "stdout",
     "output_type": "stream",
     "text": [
      "['Jack Russell', 'Elsa Bloodstone', 'Verussa', 'Jovan', 'Azarel', 'Liorn', 'Barasso', 'Billy Swan', 'Ted (The Man-Thing)', 'The Flaming Tuba', 'Ulysses Bloodstone', 'Marc Spector', 'Arthur Harrow', 'Layla El-Faouly', 'Khonshu', 'Bobbi', 'Billy', 'Taweret', 'Selim', 'Crawley', 'Donna', 'Yatzil', 'J.B.', 'Bek', 'Anton Mogart', 'Wendy Spector', 'Sersi', 'Ikaris', 'Thena', 'Ajak', 'Dane Whitman', 'Kingo', 'Sprite', 'Phastos', 'Makkari', 'Druig', 'Gilgamesh', 'Karun', 'Kro', 'Ben', 'Jack', 'Eros', 'Arishem', 'Daimon Helstrom', 'Ana Helstrom', 'Victoria Helstrom', 'Gabriella Rosetti', 'Dr. Louise Hastings', 'Chris Yen', 'Keith Spivey', 'Father Joshua Crow', 'Finn', 'Esther', 'Bryce', 'Officer Derrick Jackson', 'Ellis', 'Jolene Spivey', 'Alex Tilden', 'Archbishop Terrazi', 'Cameron Tate', 'Lee', 'Kthara', 'Papa', 'Aubree Richards', 'Alex Wilder', 'Nico Minoru', 'Karolina Dean', 'Gert Yorkes', 'Chase Stein', 'Molly Hernandez', 'Catherine Wilder', 'Geoffrey Wilder', 'Janet Stein', 'Victor Stein', 'Stacey Yorkes', 'Dale Yorkes', 'Robert Minoru', 'Leslie Dean', 'Tina Minoru', 'Frank Dean', 'Jonah', 'Xavin', 'Tamar', 'Vaughn', 'Darius', 'Frances', 'Aura', 'Morgan le Fay', \"Anthony 'AWOL' Wall\", 'Eiffel', 'Livvie', 'Detective Flores', 'Bronwyn', 'Destiny Gonzalez', 'Amy Minoru', 'Millennial Megan', 'Susan Ellerh', 'Topher', 'Graciela Aguirre', 'Mike on a Bike', 'Dagger', 'Cloak', 'Dagger', 'Cloak', 'Adina Johnson', \"Detective Brigid O'Reilly\", 'Melissa Bowen', 'Detective Connors', 'Evita Fusilier', 'Otis Johnson', 'Auntie Chantelle', 'Nathan Bowen', 'Lia', 'Mina Hess', 'Andre Deschaine', 'Officer Fuchs', 'Liam Walsh', 'Solomon', 'Peter Scarborough', 'Mikayla Bell', 'Duane Porter', 'Ivan Hess', 'Choo Choo Broussard']\n",
      "123\n"
     ]
    }
   ],
   "source": [
    "new_nodes=list()\n",
    "new_nodes1 = list(GT.neighbors('Werewolf by Night*'))\n",
    "for i in new_nodes1: new_nodes.append(i)\n",
    "new_nodes2= list(GT.neighbors('Moon Knight*'))\n",
    "for i in new_nodes2: new_nodes.append(i)\n",
    "new_nodes3= list(GT.neighbors('Eternals*'))\n",
    "for i in new_nodes3: new_nodes.append(i)\n",
    "new_nodes4= list(GT.neighbors('Helstrom*'))\n",
    "for i in new_nodes4: new_nodes.append(i)\n",
    "new_nodes5 = list(GT.neighbors('Runaways*'))\n",
    "for i in new_nodes5: new_nodes.append(i)\n",
    "new_nodes6 = list(GT.neighbors('Cloak & Dagger*'))\n",
    "for i in new_nodes6: new_nodes.append(i)\n",
    "print(new_nodes) # Nodes (actors) adding to the base cluster\n",
    "print(len(new_nodes))"
   ]
  },
  {
   "cell_type": "code",
   "execution_count": 25,
   "id": "b594a7d8",
   "metadata": {},
   "outputs": [
    {
     "name": "stdout",
     "output_type": "stream",
     "text": [
      "Node count in actual MU network 854\n",
      "Removing the nodes including the small clusters titles 123\n",
      "Node count after removing nodes from the MU network 727\n"
     ]
    }
   ],
   "source": [
    "# Removing 'Moon Knight','Eternals', 'Helstrom', 'Cloak & Dagger' & Runaways' and 'Werewolf by Night' clusters from the main graph\n",
    "GT_p = GT.copy()\n",
    "for i in new_nodes: \n",
    "    if i in GT_p.nodes(): GT_p.remove_node(i)\n",
    "GT_p.remove_node('Moon Knight*')\n",
    "GT_p.remove_node('Eternals*')\n",
    "GT_p.remove_node('Helstrom*')\n",
    "GT_p.remove_node('Cloak & Dagger*') \n",
    "GT_p.remove_node('Runaways*')\n",
    "GT_p.remove_node('Werewolf by Night*')\n",
    "print(\"Node count in actual MU network\",len(GT.nodes()))\n",
    "print(\"Removing the nodes including the small clusters titles\",len(new_nodes))\n",
    "print(\"Node count after removing nodes from the MU network\",len(GT_p.nodes()))"
   ]
  },
  {
   "cell_type": "code",
   "execution_count": 26,
   "id": "b9e089e1",
   "metadata": {},
   "outputs": [],
   "source": [
    "def PAM(G,avg_deg,new_nodes):\n",
    "    node_count=len(G.nodes())\n",
    "    G_PAM = nx.Graph\n",
    "    G_PAM = G.copy()\n",
    "    i = node_count-1\n",
    "    G_node_list = np.array((G.nodes()))\n",
    "    #node probability\n",
    "    node_prob =[]\n",
    "    for n in G.nodes():\n",
    "        prob = G.degree(n)/(2*len(G.edges()))\n",
    "        node_prob.append(prob)\n",
    "#node_prob\n",
    "    \n",
    "    for n in range(len(new_nodes)):\n",
    "        i = np.random.choice(new_nodes)\n",
    "        G_PAM.add_node(i)\n",
    "        while (G_PAM.degree(i)!=round(avg_deg)):\n",
    "            j=np.random.choice(G_node_list, p= node_prob)\n",
    "            #print(i,j,G_PAM.degree(i))\n",
    "            G_PAM.add_edge(i,j)\n",
    "        new_nodes.remove(i) \n",
    "        \n",
    "    return G_PAM"
   ]
  },
  {
   "cell_type": "code",
   "execution_count": 27,
   "id": "347c1b00",
   "metadata": {},
   "outputs": [],
   "source": [
    "GT_pp = GT.copy()\n",
    "PAM_MU = PAM(GT_p,avg_deg_new,new_nodes)"
   ]
  },
  {
   "cell_type": "code",
   "execution_count": 28,
   "id": "c26a31b9",
   "metadata": {},
   "outputs": [
    {
     "name": "stdout",
     "output_type": "stream",
     "text": [
      "848 1382\n",
      "PAM-MU Graph \n",
      " \n",
      "Average degree 3.259433962264151\n",
      "Average path 4.525392060769419\n",
      "Average clusteirng 0.00183526327288617\n",
      "Newly generated PAM graph diameter is 8\n"
     ]
    }
   ],
   "source": [
    "avg_deg_PAM, avg_clstrng_PAM = avg_deg_cc(PAM_MU)\n",
    "PAM_avg_path= nx.average_shortest_path_length(PAM_MU)\n",
    "print(len(PAM_MU.nodes()), len(PAM_MU.edges()))\n",
    "print(\"PAM-MU Graph \\n \")\n",
    "print(\"Average degree\" ,avg_deg_PAM )\n",
    "print(\"Average path\", PAM_avg_path)\n",
    "print(\"Average clusteirng\", avg_clstrng_PAM)\n",
    "print(\"Newly generated PAM graph diameter is\", max([max(j.values()) for (i,j) in nx.shortest_path_length(PAM_MU)]))"
   ]
  },
  {
   "cell_type": "code",
   "execution_count": 29,
   "id": "63d40495",
   "metadata": {},
   "outputs": [
    {
     "name": "stdout",
     "output_type": "stream",
     "text": [
      " Average path of PAM_MU Graph is  0.822467392630973 times the average path of Marvel Universe\n",
      "Clustering co-efficient of Random graph is 0.009972339430448333 times the Clustering co-efficient of Marvel Uuniverse\n"
     ]
    }
   ],
   "source": [
    "val1= PAM_avg_path/GT_avg_path_new\n",
    "print(' Average path of PAM_MU Graph is ',val1,'times the average path of Marvel Universe')\n",
    "val2 =  avg_clstrng_PAM/avg_clstrng_new\n",
    "print('Clustering co-efficient of Random graph is',val2,'times the Clustering co-efficient of Marvel Uuniverse')"
   ]
  },
  {
   "cell_type": "code",
   "execution_count": 30,
   "id": "9f0ccacd",
   "metadata": {},
   "outputs": [
    {
     "data": {
      "image/png": "[encoded data removed]",
      "text/plain": [
       "<Figure size 432x288 with 1 Axes>"
      ]
     },
     "metadata": {
      "needs_background": "light"
     },
     "output_type": "display_data"
    }
   ],
   "source": [
    "deg_dst_Graph(PAM_MU)"
   ]
  },
  {
   "cell_type": "code",
   "execution_count": 31,
   "id": "24ba6c60",
   "metadata": {},
   "outputs": [
    {
     "name": "stdout",
     "output_type": "stream",
     "text": [
      "1 23 \n",
      " {'Happy Sam Sawyer', 'Agent Ford', 'Agent Fisher', 'Jack Thompson', 'Hank', 'Rufus', 'Daniel Sousa', 'Jason Wilkes', 'Dottie Underwood', 'Calvin Chadwick', 'Agent Blackwell', 'Carol', 'Hugh Jones', 'Edwin Jarvis', 'Dr. Ivchenko', 'Detective Andrew Henry', 'Ana Jarvis', 'Agent Carter*', 'Roger Dooley', 'Agent Vega', 'Joseph Manfredi', 'Whitney Frost', 'Vernon Masters'}\n",
      "2 4 \n",
      " {'Betty Ross', 'Samuel Sterns', 'The Incredible Hulk*', 'Emil Blonsky'}\n",
      "3 37 \n",
      " {'Iron Man 3*', 'Ying Nan', 'Soo', 'Jon Jon', 'Death Dealer', 'Mrs. Chen', 'Harley Keener', 'Marvel One-Shot: All Hail the King*', 'Maya Hansen', 'Trevor Slattery', 'Pat Kiernan', 'Young Xialing', 'Jackson Norris', 'Li', 'Thomas Roberts', 'Master Guang Bo', 'Shaun', 'Gao Lei', 'Brandt', 'Yuchen', 'Mrs. Davis', 'White Power Dave', 'Savin', 'Waipo', 'Shang-Chi and the Legend of the Ten Rings*', 'Justin Hammer', 'Katy', 'Klev', 'Chancellor Hui', 'Herman', 'Xialing', 'John', 'Ruihua', 'Razor Fist', 'Aldrich Killian', 'Xu Wenwu', 'Fletcher Heggs'}\n",
      "4 21 \n",
      " {'Carson Wolf', 'Rick', 'Marion James', 'Dinah Madani', 'Eliza Schultz', 'Billy Russo', 'David Schultz', 'Col. Morty Bennett', 'Ahmad Zubair', 'Sheriff Hardin', 'Curtis Hoyle', 'John Pilgrim', 'Senator Stan Ori', 'Det. Sgt. Brett Mahoney', \"O'Connor\", 'David Lieberman', 'Sam Stein', 'Krista Dumont', 'William Rawlins', 'Wendy', 'The Punisher*'}\n",
      "5 7 \n",
      " {'Mason', 'Black Widow*', 'Yelena Belova', 'Melina', 'Alexei', 'Dreykov', 'Antonia'}\n",
      "6 28 \n",
      " {'Kamala Khan', 'Ms. Marvel*', 'Zuri', 'Zoe', \"T'Chaka\", 'Agent Deever', 'Black Panther*', 'Red Dagger', 'Auntie Zara', 'Agent Cleary', 'Najma', \"N'Jobu\", 'Erik Killmonger', 'Ulysses Klaue', 'Okoye', 'Auntie Ruby', 'Sana', 'Nakia', 'Aamir', 'Sheikh Abdullah', \"W'Kabi\", 'Kamran', 'Yusuf', 'Shuri', 'Ramonada', 'Muneeba', 'Bruno', \"M'Baku\"}\n",
      "7 134 \n",
      " {'Marilyn', 'Steven Benowitz', 'Oscar Arocho', 'Malcolm Ducasse', 'Kilgrave', \"Henry 'Pop' Hunter\", 'Karen Page', 'Barbara Shlottman', 'Zaya Okonjo', 'Bakuto', 'Misty Knight', 'Clair', 'Ringmaster', 'Inspector Priscilla Ridley', 'Iron Fist*', 'Lei Kung', 'Jessica Jones*', 'Ward Meachum', 'Anansi', 'Emma', 'Willis Stryker', 'Detective Costa', 'Detective Rafael Scarfe', 'Mama Mabel', 'BB', 'Peter Lyonne', \"Maximillian 'Max' Tatum\", 'Comanche', 'Erik Gelden', 'Shane', 'Dana Stryker', 'Robyn', 'Bethany', 'Paul Edmonds', 'Jessica Jones', 'Radovan Bernivig', 'The Defenders*', \"'Pistol Pete' Stokes\", 'Ben Urich', 'Hernan Alvarez', 'Father Lantom', 'Foggy Nelson', 'James Lucas', 'Eric Ambrose', 'Colleen Wing', 'Darryl', 'Thembi Wallace', 'Joy Meachum', 'Andrew Brandt', 'Young Jessica', 'Alexandra Reid', 'Albert Thompson', 'Jerry', 'Lieutenant Perez', 'Dr. Leslie Hansen', 'Elektra Natchios', 'Carlos', 'Luke Cage*', 'Gregory Sallinger', 'Griffin Sinclair', 'Trish Walker', 'Shameek Smith', 'Carlo Eastman', 'D.W. Griffith', 'Dr. Kozlov', 'Wilson Fisk', 'Hai-Qing Yang', 'Mouse', 'Mariah Dillard', 'Alisa Jones', 'Frank Castle', \"Benjamin 'Dex' Poindexter\", 'Dorothy', 'Danny Rand', 'Pam', 'Domingo Colon', 'Sowande', 'Jackson', 'Linda Chao', 'Sharon', 'Claire Temple', 'Sergei', 'Luke Cage', 'Jeri Hogarth', \"Robert 'Whizzer' Coleman\", 'Carl Lucas', 'Dr. Karl Malus', 'Mitchell Ellison', 'Bob Shlottman', 'Dante Chapman', 'Wendell Rand', 'Jack Murdock', 'Detective Mark Bailey', 'Detective Nandi Tyler', 'Justis Ambrose', 'Blake Tower', 'Bobby Fish', 'Dr. Noah Burstein', 'Doctor David Kurata', 'Davos', 'Marci Stahl', 'Albert Rackham', 'Madame Gao', 'Hope Shlottman', 'Ruben', 'Dwayne Blaskowski', 'Inez Green', 'Donald', 'Daredevil*', 'Turk Barrett', 'Det. Oscar Clemons', 'Stick', 'Louise Thompson', 'Kith Lyonne', 'Murakami', 'Will Simpson', 'Cornell Stokes', 'Mary Walker', 'Wendy Ross-Hogarth', 'Captain Tom Ridenhour', 'Mr. Berkowitz', 'Audrey Eastman', 'Benjamin Donovan', 'Tilda Johnson', 'Rosalie Carbone', 'Reva Connors', \"Wilfredo 'Chico' Diaz\", 'Luanne', 'Vido Arocho', \"Raymond 'Piranha' Jones\", 'Harold Meachum', 'Captain Betty Audrey', 'Sal Blaskowski', \"Dontrell 'Cockroach' Hamilton\"}\n",
      "8 36 \n",
      " {'Dennis the Mailman', 'Tommy Maximoff', 'Amalia Chavez', 'Agnes', 'Doctor Strange*', 'Baron Mordo', 'Carol Denvers', 'Norm', 'Black Bolt', 'Agent Monti', 'Elena Chavez', 'Billy Maximoff', 'The Ancient One', 'Director Tyler Hayward', 'WandaVision*', 'Vision', 'Dr. Christine Palmer', 'Jonathan Pangborn', 'Dr. Nic West', 'Agent Rodriguez', 'Daniel Drumm', 'Professor Charles Xavier', 'Herb', 'Beverly', 'Mrs. Hart', 'Peggy Carter-AR', 'The Weasel', 'Phil Jones', 'Master Hamir', 'Kaecilius', 'Reed Richards', 'Dottie Jones', 'Ultron', 'Doctor Strange in the Multiverse of Madness*', 'America Chavez', 'Pietro Maximoff'}\n",
      "9 45 \n",
      " {'Andrew Garner', \"Alphonso 'Mack' Mackenzie\", 'Flint', 'Agent Davis', \"Elena 'Yo-Yo' Rodriguez\", 'Leo Fitz', 'Kasius', 'Mike Peterson', 'Daniel Whitehall', 'Agent Anderson', 'Agents of S.H.I.E.L.D.: Slingshot*', 'Gideon Malick', 'Carl Creel', 'Sinara', 'Giyera', 'Grant Ward', 'Bobbi Morse', 'Lincoln Campbell', 'Daisy Johnson', 'Raina', 'Alpha Dog', 'Agents of S.H.I.E.L.D.*', 'Calvin Zabo', 'Jiaying', 'Lance Hunter', 'General Hale', \"Daisy 'Skye' Johnson\", 'Enoch', 'Melinda May', 'Glenn Talbot', 'Gordon', 'Ghost Rider', 'Holden Radcliffe', 'Aida', 'Antoine Triplett', 'Sunil Bakshi', 'Anton Ivanov', 'Agent Weaver', 'Deke Shaw', 'Ian Quinn', 'Jemma Simmons', 'Colonel Victor Ramon', 'Nathaniel Malick', 'Agent Piper', 'Jeffrey Mace'}\n",
      "10 25 \n",
      " {'Loki', 'Surtur', 'Volstagg', 'Topaz', 'Odin', 'Skurge', 'Jane Foster', 'Thor*', 'Hela', 'Frigga', 'Heimdall', 'Thor: The Dark World*', 'Thor: Ragnarok*', 'Erik Selvig', 'Valkyrie', 'Grandmaster', 'Korg', 'Sif', 'Hogun', 'King Laufey', 'God of Thunder', 'Malekith', 'Algrim', 'Fandral', 'Darcy Lewis'}\n",
      "11 44 \n",
      " {'Triton', 'Inhumans*', 'Scott Lang', 'Audrey', 'Dr. Hank Pym', 'Dr. Bill Foster', 'Karnak', 'Locus', 'Maggie', 'Queen Rynda', 'Crystal', 'Paxton', 'Cassie Lang', 'Gorgon', 'Jen', 'Sonny Burch', 'Jimmy Woo', 'President Ellis', 'Ant-Man*', 'Medusa', 'Dr. Evan Declan', 'Luis', 'Bronaja', 'Tibor', 'Maximus', 'Ava', 'Will Adams', 'Ant-Man and the Wasp*', 'Dale', 'Louise', 'WHIH News Front*', 'Dave', 'Darren Cross', 'Hope Van Dyne', 'King Agon', 'Kitang', 'Eldrac', 'Frank', 'Sammy', 'Janet Van Dyne', 'Mordis', 'Auran', 'Reno', 'Kurt'}\n",
      "12 8 \n",
      " {'Ravonna Renslayer', 'Miss Minutes', 'Loki*', 'Mobius', 'Sylvie', 'Casey', 'Hunter B-15', 'He Who Remains'}\n",
      "13 68 \n",
      " {'Korg-AR', \"Timothy 'Dum Dum' Dugan-AR\", 'Wong-AR', 'The Ancient One-AR', 'Betty Ross-AR', 'Ebony Maw-AR', 'Grandmaster-AR', 'Loki-AR', 'God of Thunder-AR', 'Obadiah Stane-AR', 'Dr. Erskine-AR', 'Sif-AR', 'Peter Parker-AR', 'Brock Rumlow-AR', \"O'Bengh-AR\", 'Hank Pym-AR', 'Happy Hogan-AR', 'Maria Hill-AR', 'Frigga-AR', 'James Rhodes-AR', 'Jane Foster-AR', 'Sharon Carter-AR', 'Proxima Midnight-AR', 'JARVIS-AR', 'Kurt-AR', 'Ego-AR', 'Surtur-AR', 'Agent Coulson-AR', 'Bruce Banner-AR', 'Nick Fury-AR', 'Natasha Romanoff-AR', 'Secretary Ross-AR', 'Pepper Potts-AR', 'Arnim Zola-AR', 'What If...?*', 'Christine Everhart-AR', 'Okoye-AR', 'Darcy-AR', 'Hope Van Dyne-AR', 'Colonel Flynn-AR', 'Korath-AR', 'Carol Denvers-AR', 'Ultron-AR', 'Dr. Christine Palmer-AR', 'Shuri-AR', 'Dr. Stephen Strange-AR', 'Scott Lang-AR', \"T'Challa-AR\", 'Uatu-AR', 'Tony stark-AR', 'Howard Stark-AR', 'Bucky Barnes-AR', 'Thanos-AR', 'Kraglin-AR', 'Queen Ramonada-AR', 'Gamora-AR', 'Howard the Duck-AR', 'Batroc-AR', 'Steve Rogers-AR', 'Erik Killmonger-AR', 'Yondu-AR', 'Ulysses Klaue-AR', 'Clint Barton-AR', 'The Collector-AR', 'Peter Quill-AR', 'Taserface-AR', 'Nebula-AR', \"T'Chaka-AR\"}\n",
      "14 28 \n",
      " {'MIT Assistant Vice Chancellor', 'William Ginter Riva', 'Betty Brant', 'Peter Parker3', 'Mr. Delmar', 'Ned Leeds', 'Spider-Man: No Way Home*', 'Coach Wilson', 'Dr. Curt Connors', 'Janice', 'Flint Marko', 'Dr. Otto Octavius', 'Mr. Harrington', 'Matt Murdock', 'Peter Parker2', 'Quentin Beck', 'Flash Thompson', 'Norman Osborn', 'Victoria', 'Max Dillon', 'Guterman', 'Mr. Dell', 'E.D.I.T.H.', 'Jason Ionello', 'Brad Davis', \"Peter's To-Do List*\", 'Spider-Man: Far from Home*', 'J. Jonah Jameson'}\n",
      "15 17 \n",
      " {'Ivan', 'Detective Caudle', 'Nathaniel Barton', 'Jack Duquesne', 'Eleanor Bishop', 'Kingpin', 'Kazi', 'Yelena Boleva', 'Grills', 'Maya Lopez', 'Hawkeye*', 'Detective Rivera', 'Cooper Barton', 'Lila Barton', 'Tomas', 'Kate Bishop', 'Enrique'}\n",
      "16 41 \n",
      " {'Madisynn', 'Daredevil', 'Cousin Ched', 'Holden Holliway', 'Abomination', 'Eugene Patilio', 'Uncle Tucker', 'Luke Jacobson', 'Wrecker', 'Derek', 'Elaine Walters', 'She-Hulk: Attorney at Law*', \"Augustus 'Pug' Pugliese\", 'Man-Bull', 'Runa', 'Pedro The Bartender', 'Skaar', 'Porcupine', 'El Aguila', 'Dennis Bukowski', 'Saracen', 'Mallory Book', 'Judge Price', 'Alan', 'Cornelius P. Willows', 'Hank Sanderson', 'Mr. Immortal', 'Aunt Melanie', 'Arthur', 'Morris Walters', 'Chuck Donelan', 'Lulu', 'Donny Blaze', 'Noah', 'Skeevy Guy', 'Josh Miller', 'Thunderball', 'Titania', 'Nikki Ramos', 'Heather', 'Jennifer Walters'}\n",
      "17 16 \n",
      " {'Fiz', 'Supreme Intelligence', 'Monica Rambeau', 'FSB Commander', 'Everett K. Ross', 'Minn-Erva', 'Talos', 'Rebel Skrull leader Gravik', 'Captain Marvel*', 'Yon-Rogg', 'Maria Rambeau', 'Special Agent Sonya Falsworth', 'Secret Invasion*', 'Ronan', 'Korath', 'Carol Danvers'}\n",
      "18 4 \n",
      " {'Claire Weiss', 'Marvel One-Shot: Item 47*', 'Agent Blake', 'Bennie Pollock'}\n",
      "19 41 \n",
      " {'Meredith Quill', 'Gamora', 'Hercules', 'Peter Quill', 'Mantis', 'Thor: Love and Thunder*', 'Yondu', 'Yondu Udonta', 'Ayesha', 'Thor', 'Ego', 'I Am Groot*', 'Baby Groot', 'Guardians of the Galaxy Vol. 2*', 'Zeus', 'Habooska the Horrible', 'Miek', 'Iwua', 'Proxima Midnight', 'Gorr', 'Asgardian Stagehand', 'Tiny', 'Nebula', 'Avengers: Infinity War*', 'King Yakan', 'Guardians of the Galaxy*', 'Groot', 'Rocket', 'Thanos', 'Corvus Glaive', 'Ayo', 'Kraglin', 'Nova Prime', 'Taserface', 'King Valkyrie', 'On-Set Rocket', 'Cull Obsidian', 'Ebony Maw', 'The Collector', 'Drax', 'Eitri'}\n",
      "20 72 \n",
      " {'Maria Hill', 'Avengers: Endgame*', 'Alexander Pierce', 'Clint Barton', 'Colonel Chester Phillips', 'Ned', 'James Rhodes', 'Natasha Romanoff', 'Pepper Potts', 'Major Allen', 'Peter Parker', 'Nick Fury', 'Bucky Barnes', 'Zemo', 'Agent Coulson', 'Abu Bakaar', 'Dr. Helen Cho', 'Aaron Davis', 'Raza', 'Jack Rollins', 'Senator Stern', 'Strucker', 'Agent Flynn', 'Sam Wilson', 'Iron Man 2*', 'Captain America: Civil War*', 'Laura Barton', 'Jim Morita', 'Aunt May', 'Wong', 'Dr. Stephen Strange', 'Christine Everhart', 'Howard Stark', 'Wanda Maximoff', 'JARVIS', \"King T'Chaka\", 'Captain America: The First Avenger*', 'Morgan Stark', \"Marvel One-Shot: A Funny Thing Happened on the Way to Thor's Hammer*\", 'Marvel One-Shot: The Consultant*', 'Herman Schultz', 'Hank Pym', 'Spider-Man: Homecoming*', 'Steve Rogers', 'Jarvis', 'Yinsen', 'Captain America: The Winter Soldier*', 'Akihiko', 'MJ', 'The Avengers*', 'Liz', 'Avengers: Age of Ultron*', 'Tony Stark', \"Timothy 'Dum Dum' Dugan\", 'May Parker', 'Happy Hogan', 'Iron Man*', 'Heinz Kruger', 'Night Waitress', 'Ivan Vanko', 'Secretary Ross', 'Friday', 'Brock Rumlow', 'Agent Sitwell', 'Dr. Arnim Zola', 'Obadiah Stane', 'Johann Schmidt', \"T'Challa\", 'Bruce Banner', 'Peggy Carter', 'Marvel One-Shot: Agent Carter*', 'Adrian Toomes'}\n",
      "21 28 \n",
      " {'Battlestar', 'Isaiah Bradley', 'Cass', 'The Falcon and the Winter Soldier*', 'Olivia Walker', 'Dr. Christina Raynor', 'Valentina Allegra de Fontaine', 'Matias', 'Mama Donya', 'Alonso Barber', 'Georges Batroc', 'John Walker', 'Gigi', 'Unique', 'Sharon Carter', 'AJ', 'Karli Morgenthau', 'Sarah Wilson', 'Nico', 'Baron Zemo', 'Diego', 'Eli Bradley', 'DeeDee', 'Sara Haines', 'Joaquin Torres', 'Lennox', 'Senator Atwood', 'Dovich'}\n"
     ]
    }
   ],
   "source": [
    "components1 = sorted(nx.connected_components(G_new), key=len, reverse=True)\n",
    "communities1 = community.louvain_communities(G_new.subgraph(components1[0]))\n",
    "i=1\n",
    "for group in communities1:\n",
    "    print(i,len(group),'\\n',group)\n",
    "    i+=1"
   ]
  },
  {
   "cell_type": "code",
   "execution_count": 32,
   "id": "53d73fa3",
   "metadata": {},
   "outputs": [
    {
     "name": "stdout",
     "output_type": "stream",
     "text": [
      "1 60\n",
      "2 28\n",
      "3 65\n",
      "4 22\n",
      "5 23\n",
      "6 27\n",
      "7 45\n",
      "8 38\n",
      "9 44\n",
      "10 29\n",
      "11 73\n",
      "12 63\n",
      "13 53\n",
      "14 58\n",
      "15 45\n",
      "16 49\n",
      "17 28\n",
      "18 48\n",
      "19 24\n"
     ]
    }
   ],
   "source": [
    "components2 = sorted(nx.connected_components(GT_sim_rndm), key=len, reverse=True)\n",
    "communities2 = community.louvain_communities(GT_sim_rndm.subgraph(components2[0]))\n",
    "i=1\n",
    "for group in communities2:\n",
    "    print(i,len(group))\n",
    "    i+=1"
   ]
  },
  {
   "cell_type": "code",
   "execution_count": 33,
   "id": "0c2d6aed",
   "metadata": {},
   "outputs": [
    {
     "name": "stdout",
     "output_type": "stream",
     "text": [
      "1 43 \n",
      " {'Madisynn', 'Cousin Ched', 'Daredevil', 'Holden Holliway', 'Crawley', 'Abomination', 'Eugene Patilio', 'Derek', 'Wrecker', 'Elaine Walters', 'Betty Ross', 'She-Hulk: Attorney at Law*', 'Man-Bull', \"Augustus 'Pug' Pugliese\", 'Pedro The Bartender', 'Skaar', 'Porcupine', 'Dennis Bukowski', 'Saracen', 'Mallory Book', 'Judge Price', 'Alan', 'Hank Sanderson', 'Cornelius P. Willows', 'Mr. Immortal', 'Aunt Melanie', 'The Incredible Hulk*', 'Morris Walters', 'Lulu', 'Donny Blaze', 'Noah', 'Bruce Banner', 'Emil Blonsky', 'Samuel Sterns', 'Skeevy Guy', 'Josh Miller', 'Thunderball', 'Papa', 'Titania', 'Nikki Ramos', 'Heather', 'Auran', 'Jennifer Walters'}\n",
      "2 61 \n",
      " {\"Timothy 'Dum Dum' Dugan-AR\", 'Andrew Garner', \"Alphonso 'Mack' Mackenzie\", 'Flint', \"Marvel One-Shot: A Funny Thing Happened on the Way to Thor's Hammer*\", 'Justis Ambrose', 'Agent Davis', \"Elena 'Yo-Yo' Rodriguez\", 'Kasius', 'Leo Fitz', 'Mike Peterson', 'Marvel One-Shot: Item 47*', 'Marvel One-Shot: The Consultant*', 'Daniel Whitehall', 'Agent Anderson', 'Agent Blake', 'Agents of S.H.I.E.L.D.: Slingshot*', 'Victoria Helstrom', 'Sinara', 'Runa', 'Giyera', 'Ben', 'Grant Ward', 'Bobbi Morse', 'Lincoln Campbell', 'Daisy Johnson', 'Bennie Pollock', 'Marc Spector', 'Raina', 'Agent Coulson', 'Vaughn', 'Alpha Dog', 'Agents of S.H.I.E.L.D.*', 'The Flaming Tuba', 'Calvin Zabo', 'Jiaying', 'Lance Hunter', 'Night Waitress', 'Linda Chao', \"Daisy 'Skye' Johnson\", 'Claire Weiss', 'Wendy Ross-Hogarth', 'Agent Sitwell', 'Enoch', 'Nathan Bowen', 'Glenn Talbot', 'Melinda May', 'Ghost Rider', 'Holden Radcliffe', 'Aida', 'Liorn', 'Antoine Triplett', 'Sunil Bakshi', 'Deke Shaw', 'Anton Ivanov', 'Ian Quinn', 'Jemma Simmons', 'Nathaniel Malick', 'Taweret', 'Agent Piper', 'Jeffrey Mace'}\n",
      "3 131 \n",
      " {'Marilyn', 'Steven Benowitz', 'Kilgrave', 'Malcolm Ducasse', 'Karen Page', 'Barbara Shlottman', 'Zaya Okonjo', 'Bakuto', 'Misty Knight', 'Ringmaster', 'Daimon Helstrom', 'Inspector Priscilla Ridley', 'Iron Fist*', 'Lei Kung', 'Jessica Jones*', 'Ward Meachum', 'Anansi', 'Emma', 'Willis Stryker', 'Detective Rafael Scarfe', 'Detective Costa', 'Mama Mabel', 'BB', 'Comanche', \"Maximillian 'Max' Tatum\", 'Peter Lyonne', 'Erik Gelden', 'Shane', 'Robyn', 'Bethany', 'Darius', 'Paul Edmonds', 'Jessica Jones', 'Radovan Bernivig', 'The Defenders*', 'Anton Mogart', \"'Pistol Pete' Stokes\", 'Ben Urich', 'Geoffrey Wilder', 'Colonel Flynn-AR', 'Ikaris', 'Foggy Nelson', 'Shaun', 'James Lucas', 'Dr. Evan Declan', 'Eric Ambrose', 'Colleen Wing', 'Thembi Wallace', 'Andrew Brandt', 'Alexandra Reid', 'Albert Thompson', 'Jerry', 'Dr. Leslie Hansen', 'Elektra Natchios', 'Carlos', 'Luke Cage*', 'Gregory Sallinger', 'Griffin Sinclair', 'Trish Walker', 'Shameek Smith', 'Carlo Eastman', 'D.W. Griffith', 'Loki-AR', 'Dr. Kozlov', 'Wilson Fisk', 'Hai-Qing Yang', 'Mouse', 'Alisa Jones', 'Danny Rand', 'Domingo Colon', 'Pam', 'Sowande', 'Jackson', 'Senator Stern', 'James Rhodes-AR', 'Sharon', 'Claire Temple', 'Sergei', 'Luke Cage', 'Jeri Hogarth', 'Millennial Megan', \"Robert 'Whizzer' Coleman\", 'Carl Lucas', 'Dr. Karl Malus', 'Bob Shlottman', 'Dante Chapman', 'Wendell Rand', 'Jack Murdock', 'Detective Mark Bailey', 'Detective Nandi Tyler', 'Ellis', 'Blake Tower', 'Bobby Fish', 'Dr. Noah Burstein', 'Doctor David Kurata', 'Davos', 'Marci Stahl', 'Matt Murdock', 'Albert Rackham', 'Madame Gao', 'Jarvis', 'Hope Shlottman', 'J.B.', 'Ruben', 'Dwayne Blaskowski', 'Inez Green', 'Daredevil*', 'Turk Barrett', 'Det. Oscar Clemons', 'Stick', 'Louise Thompson', 'Kith Lyonne', 'Murakami', 'Cornell Stokes', 'Mary Walker', 'Captain Tom Ridenhour', 'Mr. Berkowitz', 'Audrey Eastman', 'Tilda Johnson', 'Benjamin Donovan', 'Rosalie Carbone', 'Reva Connors', \"Wilfredo 'Chico' Diaz\", 'Luanne', 'Vido Arocho', \"Raymond 'Piranha' Jones\", 'Harold Meachum', 'Captain Betty Audrey', 'Sal Blaskowski', \"Dontrell 'Cockroach' Hamilton\", 'Amy Minoru'}\n",
      "4 26 \n",
      " {'Carson Wolf', 'Rick', 'Marion James', 'Dinah Madani', 'Eliza Schultz', 'Finn', 'Billy Russo', 'David Schultz', 'Col. Morty Bennett', 'Ahmad Zubair', 'Sheriff Hardin', 'Curtis Hoyle', 'John Pilgrim', \"O'Connor\", 'Det. Sgt. Brett Mahoney', 'Senator Stan Ori', 'Arishem', 'David Lieberman', 'Mitchell Ellison', 'Sam Stein', 'Krista Dumont', 'William Rawlins', 'Frank Castle', 'Wendy', 'The Punisher*', 'Whitney Frost'}\n",
      "5 28 \n",
      " {'Scott Lang', 'Destiny Gonzalez', 'Will Adams', 'Dr. Hank Pym', 'Dr. Bill Foster', 'Otis Johnson', 'Ant-Man and the Wasp*', 'Dale', 'Maggie', 'Uncle Tucker', 'WHIH News Front*', 'Dave', 'Darren Cross', 'Paxton', 'Cassie Lang', 'Sersi', 'Frank', 'Sonny Burch', 'Jimmy Woo', 'Billy', 'President Ellis', 'Christine Everhart', 'Makkari', 'Janet Van Dyne', \"Benjamin 'Dex' Poindexter\", 'Ant-Man*', 'Kurt', 'Luis'}\n",
      "6 27 \n",
      " {'Ying Nan', 'Shang-Chi and the Legend of the Ten Rings*', 'Dorothy', 'Klev', 'Katy', 'Soo', 'Will Simpson', 'Jon Jon', 'Death Dealer', 'Chancellor Hui', 'Leslie Dean', 'Young Xialing', 'Karun', 'Li', 'Xialing', 'Lieutenant Perez', 'Ruihua', 'John', 'Razor Fist', 'Kaecilius', 'Master Guang Bo', 'Kthara', 'Gao Lei', 'Phastos', 'Yuchen', 'Waipo', 'Xu Wenwu'}\n",
      "7 38 \n",
      " {'Susan Ellerh', 'Dr. Christina Raynor', 'Hela', 'Peter Scarborough', 'Alonso Barber', \"Henry 'Pop' Hunter\", 'John Walker', 'AJ', 'Sarah Wilson', 'DeeDee', 'Baron Zemo', 'Nico', 'Karli Morgenthau', 'Sara Haines', 'Dr. Christine Palmer-AR', 'Joaquin Torres', 'Senator Atwood', 'Battlestar', 'Isaiah Bradley', 'Cass', 'Brock Rumlow-AR', 'The Falcon and the Winter Soldier*', 'Olivia Walker', 'Janet Stein', 'Mama Donya', 'Matias', 'Valentina Allegra de Fontaine', 'Arthur', 'Jack', 'Gigi', 'Unique', 'Ayo', 'Diego', 'Eli Bradley', 'Xavin', 'Verussa', 'Ebony Maw', 'Peter Quill-AR'}\n",
      "8 69 \n",
      " {'Spider-Man: No Way Home*', 'Elsa Bloodstone', 'Ned', 'Flint Marko', 'Solomon', 'Mr. Harrington', 'Peter Parker2', 'Flash Thompson', 'Molly Hernandez', 'Ivan Hess', 'Vision', 'Mr. Dell', 'Major Allen', 'Jolene Spivey', 'Detective Flores', 'Spider-Man: Far from Home*', 'Peter Parker', 'Zemo', 'Catherine Wilder', 'Karolina Dean', 'Dale Yorkes', 'William Ginter Riva', 'Abu Bakaar', 'Dr. Curt Connors', 'Raza', 'Frigga-AR', 'Sharon Carter-AR', 'Quentin Beck', 'Ana Helstrom', 'Adina Johnson', 'Norman Osborn', 'Captain America: Civil War*', 'Jason Ionello', 'E.D.I.T.H.', 'Brad Davis', 'Kurt-AR', 'J. Jonah Jameson', \"King T'Chaka\", 'Mr. Delmar', 'Herman Schultz', 'Gideon Malick', 'Victoria', 'Max Dillon', 'Spider-Man: Homecoming*', 'Yinsen', 'MJ', 'El Aguila', 'Donald', 'Liz', 'Tony Stark', 'Kate Bishop', 'MIT Assistant Vice Chancellor', 'Choo Choo Broussard', 'Betty Brant', 'Peter Parker3', 'May Parker', 'Ted (The Man-Thing)', 'Happy Hogan', 'Iron Man*', 'Dr. Otto Octavius', 'Secretary Ross', 'Stacey Yorkes', 'Obadiah Stane', 'Sharon Carter', 'Esther', \"Peter's To-Do List*\", 'Azarel', \"M'Baku\", 'Adrian Toomes'}\n",
      "9 28 \n",
      " {'Ivan', 'Detective Caudle', \"O'Bengh-AR\", 'General Hale', 'Nathaniel Barton', 'Tomas', 'Detective Connors', 'Jack Duquesne', 'Cameron Tate', 'Chuck Donelan', 'Luke Jacobson', 'Eleanor Bishop', 'Kingpin', 'Kazi', 'Bobbi', 'Grills', 'Yelena Boleva', 'Laura Barton', 'Maya Lopez', 'Archbishop Terrazi', 'Hawkeye*', 'Officer Derrick Jackson', 'Cooper Barton', 'Lila Barton', 'Melissa Bowen', 'Detective Rivera', 'Jonah', 'Enrique'}\n",
      "10 25 \n",
      " {'Kamala Khan', 'Ms. Marvel*', 'Zoe', 'Darryl', 'Agent Deever', 'Red Dagger', 'Auntie Zara', 'Agent Cleary', 'Najma', 'Maya Hansen', 'Sana', 'Auntie Ruby', 'Barasso', 'Alex Tilden', 'Sheikh Abdullah', 'Aamir', 'Kamran', 'Yusuf', 'Bronwyn', 'Livvie', 'Muneeba', 'Bruno', 'Lennox', 'Duane Porter', 'Ajak'}\n",
      "11 52 \n",
      " {'Happy Sam Sawyer', 'Triton', 'Wendy Spector', \"Anthony 'AWOL' Wall\", 'Inhumans*', 'Kingo', 'Agent Ford', 'Audrey', 'Hank', 'Rufus', 'Karnak', 'Daniel Sousa', 'Queen Rynda', 'Agent Blackwell', 'Calvin Chadwick', 'Dottie Underwood', 'Crystal', 'Carol', 'Father Lantom', 'Edwin Jarvis', 'Gorgon', 'Dr. Ivchenko', 'Liam Walsh', 'Jen', 'Detective Andrew Henry', 'Roger Dooley', 'Agent Vega', 'Joseph Manfredi', 'Tamar', 'Vernon Masters', 'Bronaja', 'Medusa', 'Tibor', 'Maximus', 'Mikayla Bell', 'Coach Wilson', 'Mina Hess', 'Agent Fisher', 'Aaron Davis', 'Ava', 'Jack Thompson', 'Louise', 'Jason Wilkes', 'Hugh Jones', 'Tina Minoru', 'Kitang', 'Eldrac', 'Ana Jarvis', 'Agent Carter*', 'Sammy', 'Mordis', 'Mrs. Chen'}\n",
      "12 49 \n",
      " {'Iron Man 3*', 'Maria Hill', 'Fiz', 'Monica Rambeau', 'Clint Barton', 'FSB Commander', 'Ned Leeds', 'Everett K. Ross', 'Minn-Erva', 'Frank Dean', 'Rebel Skrull leader Gravik', 'Harley Keener', 'Trevor Slattery', 'Marvel One-Shot: All Hail the King*', 'Yon-Rogg', 'James Rhodes', 'Pat Kiernan', 'Lia', 'Jackson Norris', 'Billy Swan', 'Pepper Potts', 'Topher', 'Secret Invasion*', 'Thomas Roberts', 'The Avengers*', 'Brandt', 'Nick Fury', 'Mrs. Davis', 'White Power Dave', 'Savin', 'Graciela Aguirre', 'Supreme Intelligence', 'Justin Hammer', 'Talos', 'Layla El-Faouly', 'Donna', 'Ivan Vanko', 'Captain Marvel*', 'Herman', 'Maria Rambeau', 'Special Agent Sonya Falsworth', 'Iron Man 2*', 'Korg', 'Korath', 'Carol Danvers', 'JARVIS', 'Aldrich Killian', 'Reno', 'Fletcher Heggs'}\n",
      "13 51 \n",
      " {'Surtur', 'Keith Spivey', 'Topaz', 'Skurge', 'Jane Foster', 'Ravonna Renslayer', 'Jack Russell', 'Loki*', 'Hercules', 'Heimdall', 'Ulysses Bloodstone', 'Thor: Love and Thunder*', 'Hernan Alvarez', 'Erik Selvig', 'Thor', 'Sif', 'God of Thunder', 'Chris Yen', 'Sylvie', 'Algrim', 'Hunter B-15', 'Jovan', 'Fandral', 'Zeus', 'Habooska the Horrible', 'Loki', 'Odin', 'Nico Minoru', 'Volstagg', 'Thor*', 'Miek', 'Miss Minutes', 'Frigga', 'Gorr', 'Asgardian Stagehand', 'Casey', 'Thor: The Dark World*', 'King Yakan', 'Thor: Ragnarok*', 'Kraglin', 'Valkyrie', 'Grandmaster', 'Dana Stryker', 'Hogun', 'King Laufey', 'Mobius', 'King Valkyrie', 'Colonel Victor Ramon', 'Mike on a Bike', 'Darcy Lewis', 'He Who Remains'}\n",
      "14 22 \n",
      " {'Zuri', 'Alex Wilder', \"T'Chaka\", 'Black Panther*', 'Joy Meachum', 'Oscar Arocho', 'Kro', 'Locus', \"N'Jobu\", 'Ulysses Klaue', 'Okoye', 'Nakia', \"T'Challa\", 'Carl Creel', 'Robert Minoru', \"Detective Brigid O'Reilly\", 'Shuri', 'Ramonada', 'Malekith', 'Bek', 'Gilgamesh', 'Erik Killmonger'}\n",
      "15 88 \n",
      " {'Meredith Quill', 'Dane Whitman', 'Alexander Pierce', 'Chase Stein', 'Eiffel', 'Avengers: Endgame*', 'Colonel Chester Phillips', 'Gert Yorkes', 'Doctor Strange*', 'Baron Mordo', 'Janice', 'Peter Quill', 'Yondu Udonta', 'Ayesha', 'Natasha Romanoff', 'The Ancient One', 'Ego', 'Guterman', \"W'Kabi\", 'Ronan', 'I Am Groot*', 'Frances', 'Guardians of the Galaxy Vol. 2*', 'Bucky Barnes', 'Daniel Drumm', 'Georges Batroc', 'Arthur Harrow', 'Jack Rollins', 'Proxima Midnight', 'Tiny', 'Agent Flynn', 'Thena', 'Guardians of the Galaxy*', 'Father Joshua Crow', 'King Agon', 'Thanos', 'Sam Wilson', 'Jim Morita', 'Nova Prime', 'Aunt May', 'Selim', 'Lee', 'Wong', 'Dr. Stephen Strange', 'On-Set Rocket', 'Howard Stark', 'Evita Fusilier', 'Cull Obsidian', 'Aubree Richards', 'The Collector', 'Drax', 'Eitri', 'Taserface', 'Dovich', 'Auntie Chantelle', 'Captain America: The First Avenger*', 'Bryce', 'Morgan Stark', 'Gamora', 'Sprite', 'Mantis', 'Yondu', 'Dagger', 'Hank Pym', 'Steve Rogers', 'Morgan le Fay', 'Jonathan Pangborn', 'Captain America: The Winter Soldier*', 'Akihiko', 'Baby Groot', 'Scott Lang-AR', \"Timothy 'Dum Dum' Dugan\", 'Gabriella Rosetti', 'Iwua', 'Heinz Kruger', 'Avengers: Infinity War*', 'Nebula', 'Brock Rumlow', 'Dr. Arnim Zola', 'Groot', 'Rocket', 'Gordon', 'Johann Schmidt', 'Hope Van Dyne', 'Andre Deschaine', 'Aura', 'Peggy Carter', 'Marvel One-Shot: Agent Carter*'}\n",
      "16 52 \n",
      " {'Dennis the Mailman', 'Amalia Chavez', 'Tommy Maximoff', 'Agnes', 'Alexei', 'Carol Denvers', 'Norm', 'Black Bolt', 'Agent Monti', 'Elena Chavez', 'Yatzil', 'Mason', 'Yelena Belova', 'Dr. Louise Hastings', 'Billy Maximoff', 'Director Tyler Hayward', 'WandaVision*', 'Dr. Christine Palmer', 'Clair', 'Eros', 'Druig', 'Dr. Nic West', 'Agent Rodriguez', 'Officer Fuchs', 'Avengers: Age of Ultron*', 'Professor Charles Xavier', 'Khonshu', 'Herb', 'Beverly', 'Dreykov', 'Dr. Helen Cho', 'Mrs. Hart', 'Young Jessica', 'Black Widow*', 'Peggy Carter-AR', 'Melina', 'The Weasel', 'Strucker', 'Friday', 'Phil Jones', 'Master Hamir', 'Corvus Glaive', 'Reed Richards', 'Dottie Jones', 'Cloak', 'Ultron', 'Agent Weaver', 'Doctor Strange in the Multiverse of Madness*', 'Wanda Maximoff', 'America Chavez', 'Antonia', 'Pietro Maximoff'}\n",
      "17 58 \n",
      " {'Korg-AR', 'The Ancient One-AR', 'Wong-AR', 'What If...?*', 'Okoye-AR', 'Christine Everhart-AR', 'Arnim Zola-AR', 'Darcy-AR', 'Betty Ross-AR', 'Ebony Maw-AR', 'Grandmaster-AR', 'Hope Van Dyne-AR', 'Korath-AR', 'God of Thunder-AR', 'Carol Denvers-AR', 'Ultron-AR', 'Dr. Erskine-AR', 'Obadiah Stane-AR', 'Nebula-AR', 'Mariah Dillard', 'Shuri-AR', 'Dr. Stephen Strange-AR', 'Sif-AR', \"T'Challa-AR\", 'Uatu-AR', 'Tony stark-AR', 'Peter Parker-AR', 'Victor Stein', 'Howard Stark-AR', 'Bucky Barnes-AR', 'Thanos-AR', 'Hank Pym-AR', 'Happy Hogan-AR', 'Maria Hill-AR', 'Taserface-AR', 'Kraglin-AR', 'Gamora-AR', 'Queen Ramonada-AR', 'Howard the Duck-AR', 'Jane Foster-AR', 'Secretary Ross-AR', 'Batroc-AR', 'Steve Rogers-AR', 'Proxima Midnight-AR', 'JARVIS-AR', 'Erik Killmonger-AR', 'Yondu-AR', 'Ulysses Klaue-AR', 'Clint Barton-AR', 'Ego-AR', 'The Collector-AR', 'Surtur-AR', 'Agent Coulson-AR', 'Bruce Banner-AR', 'Nick Fury-AR', 'Natasha Romanoff-AR', 'Pepper Potts-AR', \"T'Chaka-AR\"}\n"
     ]
    }
   ],
   "source": [
    "components3 = sorted(nx.connected_components(PAM_MU), key=len, reverse=True)\n",
    "communities3 = community.louvain_communities(PAM_MU.subgraph(components3[0]))\n",
    "i=1\n",
    "for group in communities3:\n",
    "    print(i,len(group),'\\n',group)\n",
    "    i+=1"
   ]
  },
  {
   "cell_type": "code",
   "execution_count": null,
   "id": "e06f1389",
   "metadata": {},
   "outputs": [],
   "source": []
  }
 ],
 "metadata": {
  "kernelspec": {
   "display_name": "Python 3 (ipykernel)",
   "language": "python",
   "name": "python3"
  },
  "language_info": {
   "codemirror_mode": {
    "name": "ipython",
    "version": 3
   },
   "file_extension": ".py",
   "mimetype": "text/x-python",
   "name": "python",
   "nbconvert_exporter": "python",
   "pygments_lexer": "ipython3",
   "version": "3.9.12"
  }
 },
 "nbformat": 4,
 "nbformat_minor": 5
}
