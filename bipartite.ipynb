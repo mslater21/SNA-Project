{
 "cells": [
  {
   "cell_type": "code",
   "execution_count": 1,
   "id": "11aff17e",
   "metadata": {},
   "outputs": [
    {
     "name": "stderr",
     "output_type": "stream",
     "text": [
      "<frozen importlib._bootstrap>:228: RuntimeWarning: scipy._lib.messagestream.MessageStream size changed, may indicate binary incompatibility. Expected 56 from C header, got 64 from PyObject\n"
     ]
    }
   ],
   "source": [
    "import networkx as nx, matplotlib.pyplot as plt\n",
    "import numpy as np, pandas as pd\n",
    "import math, seaborn as sns\n",
    "from scipy import stats\n",
    "from sklearn import cluster as clstr\n",
    "from networkx import edge_betweenness_centrality\n",
    "from networkx.algorithms import community\n",
    "import itertools"
   ]
  },
  {
   "cell_type": "code",
   "execution_count": 2,
   "id": "d88a10b5",
   "metadata": {},
   "outputs": [],
   "source": [
    "df1 = pd.read_csv('C:/Users/saich/OneDrive/Desktop/SNA/project/marvel_characters.csv')\n",
    "df2 = pd.read_csv('C:/Users/saich/OneDrive/Desktop/SNA/project/marvel_titles.csv')"
   ]
  },
  {
   "cell_type": "code",
   "execution_count": 3,
   "id": "22f10e67",
   "metadata": {},
   "outputs": [],
   "source": [
    "GT = nx.Graph()\n",
    "new_G = nx.Graph()\n",
    "#GT.add_nodes_from(df['character'].tolist(),bipartite=1,node_color='w',alpha=0.4,node_shape='d')\n",
    "\n",
    "for index, row in df2.iterrows():\n",
    "  GT.add_node(row['title'] + '*', bipartite=0, media_type=row['type'], release_year=row['release_year'], release_month=row['release_month'], release_day=row['release_day'], rating=row['rating'], length=row['length'], starts=row['stars'], genres=row['genres'])"
   ]
  },
  {
   "cell_type": "code",
   "execution_count": 4,
   "id": "04654591",
   "metadata": {},
   "outputs": [],
   "source": [
    "for index, row in df1.iterrows():\n",
    "  if row['title'] == 'What If...?':\n",
    "    char_name = row['character'] + '-AR'\n",
    "  else:\n",
    "    char_name = row['character']\n",
    "  GT.add_node(char_name, bipartite=1, alias=row['character_alias'], actor=row['actor'])\n",
    "\n",
    "for index, row in df1.iterrows():\n",
    "  if row['title'] == 'What If...?':\n",
    "    char_name = row['character'] + '-AR'\n",
    "  else:\n",
    "    char_name = row['character']\n",
    "  GT.add_edge(row['title'] + '*', char_name)"
   ]
  },
  {
   "cell_type": "code",
   "execution_count": 5,
   "id": "8fd2f0df",
   "metadata": {},
   "outputs": [],
   "source": [
    "character_nodes = {n for n, d in GT.nodes(data=True) if d['bipartite'] == 1}\n",
    "title_nodes = set(GT) - character_nodes "
   ]
  },
  {
   "cell_type": "code",
   "execution_count": 6,
   "id": "1300b90f",
   "metadata": {},
   "outputs": [
    {
     "data": {
      "image/png": "[encoded data removed]",
      "text/plain": [
       "<Figure size 432x288 with 1 Axes>"
      ]
     },
     "metadata": {},
     "output_type": "display_data"
    }
   ],
   "source": [
    "nx.draw(GT)"
   ]
  },
  {
   "cell_type": "code",
   "execution_count": 7,
   "id": "f6fdbde8",
   "metadata": {},
   "outputs": [],
   "source": [
    "def deg_dst(G7): # degree distribution of titles and characters\n",
    "    degrees = [G7.degree(n) for n in title_nodes]\n",
    "    deg,freq = np.unique(degrees,return_counts=True)\n",
    "    plt.plot(deg,freq,label = 'title degree distribution')\n",
    "    plt.legend()\n",
    "    plt.show()\n",
    "    degrees1 = [G7.degree(n) for n in character_nodes]\n",
    "    deg1,freq1 = np.unique(degrees1,return_counts=True)\n",
    "    plt.plot(deg1,freq1,label = 'characters degree distribution')\n",
    "    plt.legend()\n",
    "    plt.show()\n",
    "def avg_deg_cc(G): # average degree and clustering co-efficient\n",
    "    avg_cc_G = nx.transitivity(G)\n",
    "    avg_deg_G = G.degree()\n",
    "    deg_sum_G =0\n",
    "    for j in list(avg_deg_G):\n",
    "        deg_sum_G += j[1]\n",
    "    avg_deg_G =  deg_sum_G/len(G.nodes())\n",
    "    return (avg_deg_G, avg_cc_G)"
   ]
  },
  {
   "cell_type": "code",
   "execution_count": 8,
   "id": "6c5cd2d5",
   "metadata": {},
   "outputs": [],
   "source": [
    "def deg_dst_Graph(G7):\n",
    "    degrees = [G7.degree(n) for n in G7.nodes()]\n",
    "    deg,freq = np.unique(degrees,return_counts=True)\n",
    "    plt.plot(deg,freq,label = 'Total nodes degree distribution')\n",
    "    plt.legend()\n",
    "    plt.show()"
   ]
  },
  {
   "cell_type": "markdown",
   "id": "c2dae819",
   "metadata": {},
   "source": [
    "###  Bi-partite Graph"
   ]
  },
  {
   "cell_type": "code",
   "execution_count": 9,
   "id": "ed6bce60",
   "metadata": {},
   "outputs": [
    {
     "name": "stdout",
     "output_type": "stream",
     "text": [
      "Graph with 794 nodes and 14793 edges\n"
     ]
    }
   ],
   "source": [
    "#copying the graph\n",
    "G_new = nx.bipartite.projected_graph(GT,character_nodes)\n",
    "print(G_new)"
   ]
  },
  {
   "cell_type": "code",
   "execution_count": 10,
   "id": "bc8db855",
   "metadata": {},
   "outputs": [
    {
     "data": {
      "image/png": "[encoded data removed]",
      "text/plain": [
       "<Figure size 432x288 with 1 Axes>"
      ]
     },
     "metadata": {},
     "output_type": "display_data"
    }
   ],
   "source": [
    "nx.draw(G_new)"
   ]
  },
  {
   "cell_type": "code",
   "execution_count": 11,
   "id": "7c9f4008",
   "metadata": {},
   "outputs": [],
   "source": [
    "avg_deg_new, avg_clstrng_new = avg_deg_cc(G_new) \n",
    "num = 0 \n",
    "for c in nx.connected_components(G_new):\n",
    "    num += nx.average_shortest_path_length(G_new.subgraph(c))*len(G_new.subgraph(c))\n",
    "GT_avg_path_new = num/len(G_new.nodes())"
   ]
  },
  {
   "cell_type": "code",
   "execution_count": 12,
   "id": "ede4d10a",
   "metadata": {},
   "outputs": [
    {
     "name": "stdout",
     "output_type": "stream",
     "text": [
      "New Simulated Bi-partite MU Network \n",
      " \n",
      "Average degree 37.26196473551637\n",
      "Average path 2.9716587201631284\n",
      "Average clusteirng 0.7865580748804692\n",
      "Newly generated graph diameter is 5\n"
     ]
    }
   ],
   "source": [
    "print(\"New Simulated Bi-partite MU Network \\n \")\n",
    "print(\"Average degree\" ,avg_deg_new)\n",
    "print(\"Average path\", GT_avg_path_new)\n",
    "print(\"Average clusteirng\", avg_clstrng_new)\n",
    "print(\"Newly generated graph diameter is\", max([max(j.values()) for (i,j) in nx.shortest_path_length(G_new)]))#.subgraph(component)))"
   ]
  },
  {
   "cell_type": "code",
   "execution_count": 13,
   "id": "7e81eac7",
   "metadata": {},
   "outputs": [
    {
     "data": {
      "image/png": "[encoded data removed]",
      "text/plain": [
       "<Figure size 432x288 with 1 Axes>"
      ]
     },
     "metadata": {
      "needs_background": "light"
     },
     "output_type": "display_data"
    }
   ],
   "source": [
    "deg_dst_Graph(G_new)"
   ]
  },
  {
   "cell_type": "markdown",
   "id": "9890eca9",
   "metadata": {},
   "source": [
    "### Random simulated graph for newly generated Bi-partite graph"
   ]
  },
  {
   "cell_type": "code",
   "execution_count": 14,
   "id": "d73fb879",
   "metadata": {},
   "outputs": [
    {
     "name": "stdout",
     "output_type": "stream",
     "text": [
      "Random model probability value 0.04698860622385419 and length of nodes 794\n"
     ]
    }
   ],
   "source": [
    "GT_p = avg_deg_new /(len(G_new.nodes())-1) # caliculating probability\n",
    "GT_nodes=len(G_new.nodes())\n",
    "print('Random model probability value',GT_p, 'and length of nodes', GT_nodes)"
   ]
  },
  {
   "cell_type": "code",
   "execution_count": 15,
   "id": "b6fef3bf",
   "metadata": {},
   "outputs": [],
   "source": [
    "GT_sim_rndm = nx.gnp_random_graph(GT_nodes, GT_p)\n",
    "# Simulated Random \n",
    "avg_deg_sim, avg_clstrng_sim =  avg_deg_cc(GT_sim_rndm)"
   ]
  },
  {
   "cell_type": "markdown",
   "id": "268d9558",
   "metadata": {},
   "source": [
    "### Isolated Graph"
   ]
  },
  {
   "cell_type": "code",
   "execution_count": 16,
   "id": "624cf483",
   "metadata": {},
   "outputs": [
    {
     "data": {
      "text/plain": [
       "1"
      ]
     },
     "execution_count": 16,
     "metadata": {},
     "output_type": "execute_result"
    }
   ],
   "source": [
    "i= nx.number_connected_components(GT_sim_rndm)\n",
    "i"
   ]
  },
  {
   "cell_type": "code",
   "execution_count": 17,
   "id": "497bb8ef",
   "metadata": {},
   "outputs": [],
   "source": [
    "num = 0 \n",
    "for c in nx.connected_components(GT_sim_rndm):\n",
    "    num += nx.average_shortest_path_length(GT_sim_rndm.subgraph(c))*len(GT_sim_rndm.subgraph(c))\n",
    "GT_sim_avg_path = num/len(GT_sim_rndm.nodes())"
   ]
  },
  {
   "cell_type": "code",
   "execution_count": 18,
   "id": "c94923bb",
   "metadata": {},
   "outputs": [
    {
     "name": "stdout",
     "output_type": "stream",
     "text": [
      "Bi-partite Random Simulated MU Network \n",
      " \n",
      "Average degree 37.36272040302267\n",
      "Average path 2.116142188735821\n",
      "Average clusteirng 0.045936459624859476\n"
     ]
    }
   ],
   "source": [
    "print(\"Bi-partite Random Simulated MU Network \\n \")\n",
    "print(\"Average degree\" ,avg_deg_sim)\n",
    "print(\"Average path\", GT_sim_avg_path)\n",
    "print(\"Average clusteirng\", avg_clstrng_sim)"
   ]
  },
  {
   "cell_type": "code",
   "execution_count": 19,
   "id": "b32fea63",
   "metadata": {},
   "outputs": [
    {
     "name": "stdout",
     "output_type": "stream",
     "text": [
      " Average path of Random Model Graph is  0.7121080810449378 times the average path of Marvel Universe\n",
      "Clustering co-efficient of Random graph is 0.058401866425235406 times the Clustering co-efficient of Marvel Uuniverse\n",
      "Newly generated graph diameter is 3\n"
     ]
    }
   ],
   "source": [
    "val1= GT_sim_avg_path/GT_avg_path_new\n",
    "print(' Average path of Random Model Graph is ',val1,'times the average path of Marvel Universe')\n",
    "val2 =  avg_clstrng_sim/avg_clstrng_new\n",
    "print('Clustering co-efficient of Random graph is',val2,'times the Clustering co-efficient of Marvel Uuniverse')\n",
    "print(\"Newly generated graph diameter is\", max([max(j.values()) for (i,j) in nx.shortest_path_length(GT_sim_rndm)]))"
   ]
  },
  {
   "cell_type": "code",
   "execution_count": 20,
   "id": "1fbf2a20",
   "metadata": {},
   "outputs": [
    {
     "data": {
      "image/png": "[encoded data removed]",
      "text/plain": [
       "<Figure size 432x288 with 1 Axes>"
      ]
     },
     "metadata": {
      "needs_background": "light"
     },
     "output_type": "display_data"
    }
   ],
   "source": [
    "deg_dst_Graph(GT_sim_rndm)"
   ]
  },
  {
   "cell_type": "markdown",
   "id": "4b454802",
   "metadata": {},
   "source": [
    "### Prefrential Algorithm Method"
   ]
  },
  {
   "cell_type": "code",
   "execution_count": 21,
   "id": "02b1eb13",
   "metadata": {},
   "outputs": [
    {
     "name": "stdout",
     "output_type": "stream",
     "text": [
      "['Jack Russell', 'Elsa Bloodstone', 'Verussa', 'Jovan', 'Azarel', 'Liorn', 'Barasso', 'Billy Swan', 'Ted (The Man-Thing)', 'The Flaming Tuba', 'Ulysses Bloodstone', 'Marc Spector', 'Arthur Harrow', 'Layla El-Faouly', 'Khonshu', 'Bobbi', 'Billy', 'Taweret', 'Selim', 'Crawley', 'Donna', 'Yatzil', 'J.B.', 'Bek', 'Anton Mogart', 'Wendy Spector', 'Sersi', 'Ikaris', 'Thena', 'Ajak', 'Dane Whitman', 'Kingo', 'Sprite', 'Phastos', 'Makkari', 'Druig', 'Gilgamesh', 'Karun', 'Kro', 'Ben', 'Jack', 'Eros', 'Arishem', 'Daimon Helstrom', 'Ana Helstrom', 'Victoria Helstrom', 'Gabriella Rosetti', 'Dr. Louise Hastings', 'Chris Yen', 'Keith Spivey', 'Father Joshua Crow', 'Finn', 'Esther', 'Bryce', 'Officer Derrick Jackson', 'Ellis', 'Jolene Spivey', 'Alex Tilden', 'Archbishop Terrazi', 'Cameron Tate', 'Lee', 'Kthara', 'Papa', 'Aubree Richards', 'Alex Wilder', 'Nico Minoru', 'Karolina Dean', 'Gert Yorkes', 'Chase Stein', 'Molly Hernandez', 'Catherine Wilder', 'Geoffrey Wilder', 'Janet Stein', 'Victor Stein', 'Stacey Yorkes', 'Dale Yorkes', 'Robert Minoru', 'Leslie Dean', 'Tina Minoru', 'Frank Dean', 'Jonah', 'Xavin', 'Tamar', 'Vaughn', 'Darius', 'Frances', 'Aura', 'Morgan le Fay', \"Anthony 'AWOL' Wall\", 'Eiffel', 'Livvie', 'Detective Flores', 'Bronwyn', 'Destiny Gonzalez', 'Amy Minoru', 'Millennial Megan', 'Susan Ellerh', 'Topher', 'Graciela Aguirre', 'Mike on a Bike', 'Dagger', 'Cloak', 'Dagger', 'Cloak', 'Adina Johnson', \"Detective Brigid O'Reilly\", 'Melissa Bowen', 'Detective Connors', 'Evita Fusilier', 'Otis Johnson', 'Auntie Chantelle', 'Nathan Bowen', 'Lia', 'Mina Hess', 'Andre Deschaine', 'Officer Fuchs', 'Liam Walsh', 'Solomon', 'Peter Scarborough', 'Mikayla Bell', 'Duane Porter', 'Ivan Hess', 'Choo Choo Broussard']\n",
      "123\n"
     ]
    }
   ],
   "source": [
    "new_nodes=list()\n",
    "new_nodes1 = list(GT.neighbors('Werewolf by Night*'))\n",
    "for i in new_nodes1: new_nodes.append(i)\n",
    "new_nodes2= list(GT.neighbors('Moon Knight*'))\n",
    "for i in new_nodes2: new_nodes.append(i)\n",
    "new_nodes3= list(GT.neighbors('Eternals*'))\n",
    "for i in new_nodes3: new_nodes.append(i)\n",
    "new_nodes4= list(GT.neighbors('Helstrom*'))\n",
    "for i in new_nodes4: new_nodes.append(i)\n",
    "new_nodes5 = list(GT.neighbors('Runaways*'))\n",
    "for i in new_nodes5: new_nodes.append(i)\n",
    "new_nodes6 = list(GT.neighbors('Cloak & Dagger*'))\n",
    "for i in new_nodes6: new_nodes.append(i)\n",
    "print(new_nodes) # Nodes (actors) adding to the base cluster\n",
    "print(len(new_nodes))"
   ]
  },
  {
   "cell_type": "code",
   "execution_count": 22,
   "id": "7fb1d741",
   "metadata": {},
   "outputs": [
    {
     "name": "stdout",
     "output_type": "stream",
     "text": [
      "Node count in actual MU network 854\n",
      "Removing the nodes including the small clusters titles 123\n",
      "Node count after removing nodes from the MU network 727\n"
     ]
    }
   ],
   "source": [
    "# Removing 'Moon Knight','Eternals', 'Helstrom', 'Cloak & Dagger' & Runaways' and 'Werewolf by Night' clusters from the main graph\n",
    "GT_p = GT.copy()\n",
    "for i in new_nodes: \n",
    "    if i in GT_p.nodes(): GT_p.remove_node(i)\n",
    "GT_p.remove_node('Moon Knight*')\n",
    "GT_p.remove_node('Eternals*')\n",
    "GT_p.remove_node('Helstrom*')\n",
    "GT_p.remove_node('Cloak & Dagger*') \n",
    "GT_p.remove_node('Runaways*')\n",
    "GT_p.remove_node('Werewolf by Night*')\n",
    "print(\"Node count in actual MU network\",len(GT.nodes()))\n",
    "print(\"Removing the nodes including the small clusters titles\",len(new_nodes))\n",
    "print(\"Node count after removing nodes from the MU network\",len(GT_p.nodes()))"
   ]
  },
  {
   "cell_type": "code",
   "execution_count": 23,
   "id": "310e8fca",
   "metadata": {},
   "outputs": [],
   "source": [
    "def PAM(G,avg_deg,new_nodes):\n",
    "    node_count=len(G.nodes())\n",
    "    G_PAM = nx.Graph\n",
    "    G_PAM = G.copy()\n",
    "    i = node_count-1\n",
    "    G_node_list = np.array((G.nodes()))\n",
    "    #node probability\n",
    "    node_prob =[]\n",
    "    for n in G.nodes():\n",
    "        prob = G.degree(n)/(2*len(G.edges()))\n",
    "        node_prob.append(prob)\n",
    "#node_prob\n",
    "    \n",
    "    for n in range(len(new_nodes)):\n",
    "        i = np.random.choice(new_nodes)\n",
    "        G_PAM.add_node(i)\n",
    "        while (G_PAM.degree(i)!=round(avg_deg)):\n",
    "            j=np.random.choice(G_node_list, p= node_prob)\n",
    "            #print(i,j,G_PAM.degree(i))\n",
    "            G_PAM.add_edge(i,j)\n",
    "        new_nodes.remove(i) \n",
    "        \n",
    "    return G_PAM"
   ]
  },
  {
   "cell_type": "code",
   "execution_count": 24,
   "id": "65b96737",
   "metadata": {},
   "outputs": [],
   "source": [
    "GT_pp = GT.copy()\n",
    "PAM_MU = PAM(GT_p,avg_deg_new,new_nodes)"
   ]
  },
  {
   "cell_type": "code",
   "execution_count": 25,
   "id": "fef5d133",
   "metadata": {},
   "outputs": [
    {
     "name": "stdout",
     "output_type": "stream",
     "text": [
      "848 5496\n",
      "PAM-MU Bi-partite Graph \n",
      " \n",
      "Average degree 12.962264150943396\n",
      "Average path 2.731624935955982\n",
      "Average clusteirng 0.037488714693111304\n",
      "Bi-partite generated PAM graph diameter is 5\n"
     ]
    }
   ],
   "source": [
    "avg_deg_PAM, avg_clstrng_PAM = avg_deg_cc(PAM_MU)\n",
    "PAM_avg_path= nx.average_shortest_path_length(PAM_MU)\n",
    "print(len(PAM_MU.nodes()), len(PAM_MU.edges()))\n",
    "print(\"PAM-MU Bi-partite Graph \\n \")\n",
    "print(\"Average degree\" ,avg_deg_PAM )\n",
    "print(\"Average path\", PAM_avg_path)\n",
    "print(\"Average clusteirng\", avg_clstrng_PAM)\n",
    "print(\"Bi-partite generated PAM graph diameter is\", max([max(j.values()) for (i,j) in nx.shortest_path_length(PAM_MU)]))"
   ]
  },
  {
   "cell_type": "code",
   "execution_count": 26,
   "id": "7493a3b3",
   "metadata": {},
   "outputs": [
    {
     "name": "stdout",
     "output_type": "stream",
     "text": [
      " Average path of PAM_MU Graph is  0.9192256558337326 times the average path of Marvel Universe\n",
      "Clustering co-efficient of Random graph is 0.04766172504021187 times the Clustering co-efficient of Marvel Uuniverse\n",
      "Newly generated graph diameter is 3\n"
     ]
    }
   ],
   "source": [
    "val1= PAM_avg_path/GT_avg_path_new\n",
    "print(' Average path of PAM_MU Graph is ',val1,'times the average path of Marvel Universe')\n",
    "val2 =  avg_clstrng_PAM/avg_clstrng_new\n",
    "print('Clustering co-efficient of Random graph is',val2,'times the Clustering co-efficient of Marvel Uuniverse')\n",
    "print(\"Newly generated graph diameter is\", max([max(j.values()) for (i,j) in nx.shortest_path_length(GT_sim_rndm)]))"
   ]
  },
  {
   "cell_type": "code",
   "execution_count": 27,
   "id": "0f605ad3",
   "metadata": {},
   "outputs": [
    {
     "data": {
      "image/png": "[encoded data removed]",
      "text/plain": [
       "<Figure size 432x288 with 1 Axes>"
      ]
     },
     "metadata": {
      "needs_background": "light"
     },
     "output_type": "display_data"
    }
   ],
   "source": [
    "deg_dst_Graph(PAM_MU)"
   ]
  },
  {
   "cell_type": "code",
   "execution_count": 29,
   "id": "ae3f0929",
   "metadata": {},
   "outputs": [
    {
     "name": "stdout",
     "output_type": "stream",
     "text": [
      "1 40 \n",
      " {'Daredevil', 'Cousin Ched', 'Morris Walters', 'Lulu', 'Mr. Immortal', 'El Aguila', 'Saracen', 'Titania', 'Mallory Book', 'Derek', 'Skeevy Guy', 'Jennifer Walters', 'Josh Miller', 'Holden Holliway', 'Elaine Walters', 'Porcupine', 'Aunt Melanie', 'Thunderball', 'Cornelius P. Willows', 'Alan', 'Nikki Ramos', 'Eugene Patilio', 'Skaar', \"Augustus 'Pug' Pugliese\", 'Arthur', 'Chuck Donelan', 'Runa', 'Donny Blaze', 'Abomination', 'Dennis Bukowski', 'Luke Jacobson', 'Noah', 'Hank Sanderson', 'Madisynn', 'Wrecker', 'Heather', 'Uncle Tucker', 'Man-Bull', 'Judge Price', 'Pedro The Bartender'}\n",
      "2 57 \n",
      " {'Malcolm Ducasse', 'Carlo Eastman', 'Marilyn', 'Audrey Eastman', 'Dr. Leslie Hansen', 'Trish Walker', 'Steven Benowitz', 'Eric Ambrose', 'Jeri Hogarth', 'Sal Blaskowski', 'Kith Lyonne', 'Will Simpson', 'Foggy Nelson', 'Jackson', 'Kilgrave', 'Dorothy', 'Gregory Sallinger', \"Maximillian 'Max' Tatum\", 'Albert Thompson', 'Inez Green', 'Erik Gelden', 'Vido Arocho', 'Emma', \"Robert 'Whizzer' Coleman\", 'Zaya Okonjo', 'Linda Chao', 'Pam', 'Louise Thompson', 'Wendy Ross-Hogarth', 'Griffin Sinclair', 'Shane', 'Luke Cage', 'Det. Oscar Clemons', 'Hope Shlottman', 'Dr. Karl Malus', 'Sharon', 'Dwayne Blaskowski', 'Oscar Arocho', 'Peter Lyonne', 'Robyn', 'Doctor David Kurata', 'Clair', 'Barbara Shlottman', 'Alisa Jones', 'Andrew Brandt', 'Justis Ambrose', 'Reva Connors', 'Donald', 'Jessica Jones', 'Thembi Wallace', 'Ruben', 'Dr. Kozlov', 'Claire Temple', 'Luanne', 'Bob Shlottman', 'Young Jessica', 'Detective Costa'}\n",
      "3 180 \n",
      " {'Friday', 'Yelena Belova', 'Korg', 'Ivan Vanko', 'Herman Schultz', 'Kingpin', 'Bennie Pollock', 'The Ancient One', 'Rocket', 'Maria Hill', 'Proxima Midnight', 'Groot', 'Antonia', 'Miek', 'Strucker', 'Odin', 'Shuri', 'Johann Schmidt', 'Nebula', 'Melina', 'Alexander Pierce', 'The Collector', 'Zuri', 'King Valkyrie', \"N'Jobu\", 'Janet Van Dyne', 'Gamora', 'Talos', 'Taserface', 'Heinz Kruger', 'Peter Quill', 'Detective Caudle', 'Ayesha', 'Kraglin', 'Thor', 'King Laufey', 'FSB Commander', 'Cassie Lang', 'Laura Barton', 'Zeus', \"King T'Chaka\", 'Erik Selvig', 'Justin Hammer', 'Surtur', 'Fiz', 'Bucky Barnes', 'Fandral', 'JARVIS', 'Malekith', 'Howard Stark', 'Ebony Maw', 'Volstagg', 'Happy Hogan', 'Major Allen', 'Habooska the Horrible', 'Nick Fury', 'Jim Morita', 'Asgardian Stagehand', 'Peggy Carter', 'Thanos', 'Erik Killmonger', 'Betty Ross', 'Ego', 'Drax', 'Secretary Ross', 'Frigga', 'Natasha Romanoff', 'Emil Blonsky', 'Topaz', 'Ramonada', 'Brock Rumlow', 'Enrique', 'Brandt', 'Hogun', 'Yelena Boleva', 'Steve Rogers', 'Maya Hansen', 'Wanda Maximoff', \"M'Baku\", 'Harley Keener', 'Iwua', 'Raza', 'James Rhodes', 'Hela', 'Bruce Banner', 'Korath', 'Yondu', 'Kazi', 'Corvus Glaive', 'Hank Pym', 'God of Thunder', 'Agent Flynn', 'Senator Stern', 'Ulysses Klaue', 'Ivan', 'Adrian Toomes', 'Lila Barton', 'Morgan Stark', 'Mason', 'Aldrich Killian', 'Nova Prime', 'Eitri', 'Tony Stark', 'Akihiko', 'Valkyrie', 'Ronan', 'May Parker', 'Jarvis', 'Grills', 'Mantis', 'Claire Weiss', 'Aaron Davis', 'Obadiah Stane', 'Okoye', 'Maria Rambeau', 'Agent Sitwell', 'Liz', 'President Ellis', 'Algrim', 'Dreykov', 'Yon-Rogg', 'Gorr', 'Eleanor Bishop', 'Detective Rivera', 'Heimdall', 'Savin', 'Hope Van Dyne', 'Tiny', 'Ned', 'Special Agent Sonya Falsworth', 'Cull Obsidian', 'Grandmaster', 'Yondu Udonta', 'Everett K. Ross', 'Alexei', 'Dr. Stephen Strange', 'Jane Foster', 'Cooper Barton', 'Dr. Helen Cho', 'Christine Everhart', 'On-Set Rocket', 'Peter Parker', 'Zemo', 'Thomas Roberts', 'Vision', 'Clint Barton', 'Pepper Potts', 'Carol Danvers', 'Tomas', 'Jack Duquesne', 'Colonel Chester Phillips', 'Meredith Quill', 'Abu Bakaar', \"T'Challa\", 'Ultron', 'Scott Lang', 'Yinsen', 'Minn-Erva', 'Baby Groot', 'King Yakan', 'Jack Rollins', 'Rebel Skrull leader Gravik', 'Maya Lopez', 'Nathaniel Barton', 'Will Adams', 'Hercules', 'Kate Bishop', 'Loki', 'Skurge', \"T'Chaka\", 'Agent Blake', 'Mr. Delmar', 'Pat Kiernan', 'Aunt May', 'Supreme Intelligence', \"W'Kabi\", 'Mrs. Davis', 'Samuel Sterns', 'Wong', 'Sam Wilson'}\n",
      "4 65 \n",
      " {'Amalia Chavez', 'Maggie', 'Ava', 'Luis', 'Mrs. Hart', 'Eldrac', 'Frank', 'Agent Monti', 'America Chavez', 'Karnak', 'Darcy Lewis', 'Pietro Maximoff', 'Dennis the Mailman', 'Agent Rodriguez', 'Kaecilius', 'Jonathan Pangborn', 'Crystal', 'Dale', 'Daniel Drumm', 'Kurt', 'Herb', 'The Weasel', 'Kitang', 'Darren Cross', 'Audrey', 'Billy Maximoff', 'Beverly', 'Master Hamir', 'Phil Jones', 'Maximus', 'Black Bolt', 'Medusa', 'Professor Charles Xavier', 'Jimmy Woo', 'Baron Mordo', 'Elena Chavez', 'Dr. Christine Palmer', 'Jen', 'Tommy Maximoff', 'Locus', 'Mordis', 'Dottie Jones', 'Norm', 'Monica Rambeau', 'Dave', 'Triton', 'Sonny Burch', 'King Agon', 'Agnes', 'Louise', 'Paxton', 'Sammy', 'Dr. Nic West', 'Reed Richards', 'Dr. Evan Declan', 'Dr. Bill Foster', 'Dr. Hank Pym', 'Carol Denvers', 'Bronaja', 'Reno', 'Queen Rynda', 'Gorgon', 'Auran', 'Director Tyler Hayward', 'Tibor'}\n",
      "5 28 \n",
      " {'DeeDee', 'Battlestar', 'Senator Atwood', 'Dr. Christina Raynor', 'Eli Bradley', 'Karli Morgenthau', 'Alonso Barber', 'AJ', 'Mama Donya', 'Diego', 'Joaquin Torres', 'Unique', 'Gigi', 'Nico', 'Valentina Allegra de Fontaine', 'Cass', 'John Walker', 'Sharon Carter', 'Ayo', 'Dovich', 'Georges Batroc', 'Olivia Walker', 'Isaiah Bradley', 'Matias', 'Sara Haines', 'Sarah Wilson', 'Baron Zemo', 'Lennox'}\n",
      "6 92 \n",
      " {\"Dontrell 'Cockroach' Hamilton\", 'Blake Tower', 'Mitchell Ellison', 'Murakami', 'Sam Stein', 'Dana Stryker', 'James Lucas', 'Billy Russo', 'Lieutenant Perez', 'Bethany', 'Mariah Dillard', 'Ringmaster', 'Mouse', 'Ben Urich', 'William Rawlins', 'Colleen Wing', 'Hai-Qing Yang', 'Davos', 'Eliza Schultz', 'John Pilgrim', 'Lei Kung', 'BB', 'Anansi', \"O'Connor\", 'Detective Mark Bailey', 'Detective Rafael Scarfe', 'Bakuto', 'Dante Chapman', \"Raymond 'Piranha' Jones\", 'Hernan Alvarez', 'Shameek Smith', 'Domingo Colon', 'Wendell Rand', 'Danny Rand', 'Benjamin Donovan', 'Stick', 'Alexandra Reid', 'Misty Knight', 'Mary Walker', 'Jack Murdock', 'Comanche', 'Sergei', 'Wendy', 'D.W. Griffith', 'Carlos', 'Albert Rackham', 'Darryl', 'Father Lantom', 'Mr. Berkowitz', 'Dr. Noah Burstein', 'Sheriff Hardin', 'Dinah Madani', \"'Pistol Pete' Stokes\", 'Carl Lucas', 'Col. Morty Bennett', 'Willis Stryker', 'David Schultz', 'Karen Page', 'Mama Mabel', 'Captain Tom Ridenhour', 'Harold Meachum', 'Paul Edmonds', 'Curtis Hoyle', \"Wilfredo 'Chico' Diaz\", 'Madame Gao', 'Bobby Fish', \"Benjamin 'Dex' Poindexter\", 'Cornell Stokes', 'Krista Dumont', 'Rick', 'Radovan Bernivig', 'Carson Wolf', 'Det. Sgt. Brett Mahoney', 'Tilda Johnson', 'Elektra Natchios', 'Joy Meachum', 'Rosalie Carbone', 'Senator Stan Ori', 'Turk Barrett', 'Ward Meachum', 'Inspector Priscilla Ridley', 'Captain Betty Audrey', 'Marion James', 'Marci Stahl', 'Detective Nandi Tyler', \"Henry 'Pop' Hunter\", 'Jerry', 'David Lieberman', 'Ahmad Zubair', 'Wilson Fisk', 'Sowande', 'Frank Castle'}\n",
      "7 22 \n",
      " {'Agent Vega', 'Dr. Arnim Zola', 'Ana Jarvis', 'Agent Blackwell', 'Edwin Jarvis', 'Roger Dooley', 'Jason Wilkes', 'Rufus', 'Hank', 'Jack Thompson', 'Agent Fisher', 'Joseph Manfredi', 'Dottie Underwood', 'Carol', 'Agent Ford', 'Detective Andrew Henry', 'Calvin Chadwick', 'Whitney Frost', 'Dr. Ivchenko', 'Happy Sam Sawyer', 'Vernon Masters', 'Hugh Jones'}\n",
      "8 68 \n",
      " {'Secretary Ross-AR', 'Loki-AR', 'Scott Lang-AR', 'Wong-AR', 'Carol Denvers-AR', 'Bucky Barnes-AR', 'Kurt-AR', 'Surtur-AR', 'Brock Rumlow-AR', 'Betty Ross-AR', 'Korg-AR', 'James Rhodes-AR', 'Jane Foster-AR', 'Darcy-AR', 'Kraglin-AR', 'Taserface-AR', 'Ebony Maw-AR', 'Arnim Zola-AR', 'Maria Hill-AR', 'Erik Killmonger-AR', 'Dr. Christine Palmer-AR', \"T'Challa-AR\", 'Hope Van Dyne-AR', 'Okoye-AR', 'The Collector-AR', 'Proxima Midnight-AR', 'Ultron-AR', 'Gamora-AR', 'Ulysses Klaue-AR', 'Dr. Stephen Strange-AR', 'Peggy Carter-AR', 'Shuri-AR', 'Hank Pym-AR', \"O'Bengh-AR\", 'Dr. Erskine-AR', 'Obadiah Stane-AR', 'Frigga-AR', 'Thanos-AR', 'Yondu-AR', 'Colonel Flynn-AR', \"Timothy 'Dum Dum' Dugan-AR\", 'Sif-AR', 'Howard the Duck-AR', 'Peter Parker-AR', 'Nick Fury-AR', 'Sharon Carter-AR', 'Pepper Potts-AR', 'Bruce Banner-AR', 'Uatu-AR', 'Nebula-AR', 'Batroc-AR', 'Christine Everhart-AR', 'Peter Quill-AR', 'Queen Ramonada-AR', 'Tony stark-AR', 'Natasha Romanoff-AR', 'Steve Rogers-AR', 'Grandmaster-AR', 'Ego-AR', 'Clint Barton-AR', 'Agent Coulson-AR', 'Happy Hogan-AR', 'The Ancient One-AR', \"T'Chaka-AR\", 'God of Thunder-AR', 'JARVIS-AR', 'Korath-AR', 'Howard Stark-AR'}\n",
      "9 25 \n",
      " {'Herman', 'Klev', 'Young Xialing', 'John', 'Master Guang Bo', 'Xialing', 'Death Dealer', 'Yuchen', 'Ruihua', 'Trevor Slattery', 'Li', 'Ying Nan', 'Soo', 'Gao Lei', 'Jon Jon', 'White Power Dave', 'Katy', 'Shaun', 'Xu Wenwu', 'Waipo', 'Fletcher Heggs', 'Mrs. Chen', 'Jackson Norris', 'Chancellor Hui', 'Razor Fist'}\n",
      "10 41 \n",
      " {'Mr. Dell', 'Kamran', 'Peter Parker3', 'Najma', 'Dr. Otto Octavius', 'Auntie Ruby', 'Kamala Khan', 'Aamir', 'Victoria', 'Red Dagger', 'Sheikh Abdullah', 'Zoe', 'Yusuf', 'Flint Marko', 'E.D.I.T.H.', 'Matt Murdock', 'Norman Osborn', 'Auntie Zara', 'Max Dillon', 'J. Jonah Jameson', 'Bruno', 'Dr. Curt Connors', 'Mr. Harrington', 'Agent Cleary', 'Quentin Beck', 'Jason Ionello', 'Ned Leeds', 'Janice', 'Peter Parker2', 'Betty Brant', 'Sana', 'William Ginter Riva', 'MJ', 'Coach Wilson', 'MIT Assistant Vice Chancellor', 'Guterman', 'Flash Thompson', 'Agent Deever', 'Muneeba', 'Brad Davis', 'Nakia'}\n",
      "11 7 \n",
      " {'Miss Minutes', 'Sylvie', 'Mobius', 'Hunter B-15', 'Casey', 'He Who Remains', 'Ravonna Renslayer'}\n",
      "12 48 \n",
      " {'Agent Davis', 'Nathaniel Malick', 'Holden Radcliffe', 'Agent Weaver', 'Flint', 'Ghost Rider', 'Jemma Simmons', \"Alphonso 'Mack' Mackenzie\", 'Gordon', 'Antoine Triplett', 'Anton Ivanov', \"Daisy 'Skye' Johnson\", 'Colonel Victor Ramon', 'Daniel Whitehall', 'Kasius', 'Lance Hunter', 'Bobbi Morse', 'Sinara', 'Sunil Bakshi', 'Ian Quinn', 'Mike Peterson', 'Gideon Malick', 'Lincoln Campbell', 'Raina', 'Jiaying', 'General Hale', 'Aida', 'Agent Piper', 'Night Waitress', \"Timothy 'Dum Dum' Dugan\", 'Agent Anderson', 'Leo Fitz', 'Daniel Sousa', \"Elena 'Yo-Yo' Rodriguez\", 'Enoch', 'Agent Coulson', 'Carl Creel', 'Giyera', 'Daisy Johnson', 'Melinda May', 'Glenn Talbot', 'Deke Shaw', 'Sif', 'Alpha Dog', 'Grant Ward', 'Andrew Garner', 'Calvin Zabo', 'Jeffrey Mace'}\n"
     ]
    }
   ],
   "source": [
    "components1 = sorted(nx.connected_components(G_new), key=len, reverse=True)\n",
    "communities1 = community.louvain_communities(G_new.subgraph(components1[0]))\n",
    "i=1\n",
    "for group in communities1:\n",
    "    print(i,len(group),'\\n',group)\n",
    "    i+=1"
   ]
  },
  {
   "cell_type": "code",
   "execution_count": 30,
   "id": "086c2624",
   "metadata": {},
   "outputs": [
    {
     "name": "stdout",
     "output_type": "stream",
     "text": [
      "1 72\n",
      "2 76\n",
      "3 81\n",
      "4 36\n",
      "5 62\n",
      "6 76\n",
      "7 69\n",
      "8 92\n",
      "9 113\n",
      "10 117\n"
     ]
    }
   ],
   "source": [
    "components2 = sorted(nx.connected_components(GT_sim_rndm), key=len, reverse=True)\n",
    "communities2 = community.louvain_communities(GT_sim_rndm.subgraph(components2[0]))\n",
    "i=1\n",
    "for group in communities2:\n",
    "    print(i,len(group))\n",
    "    i+=1"
   ]
  },
  {
   "cell_type": "code",
   "execution_count": 31,
   "id": "923d1f5d",
   "metadata": {},
   "outputs": [
    {
     "name": "stdout",
     "output_type": "stream",
     "text": [
      "1 105 \n",
      " {'Malcolm Ducasse', 'Agent Davis', 'Blake Tower', 'Ava', 'Lulu', 'Holden Radcliffe', 'Ivan Vanko', 'Eldrac', 'Secretary Ross-AR', 'Dana Stryker', 'Gilgamesh', 'Death Dealer', 'Jason Wilkes', 'Tony Stark', 'Maria Hill', 'Will Simpson', 'Janet Stein', 'Otis Johnson', 'Strucker', 'Odin', 'Inez Green', 'Marvel One-Shot: The Consultant*', 'Jolene Spivey', 'Darcy Lewis', 'Gert Yorkes', 'Iron Man 2*', 'Agent Sitwell', 'Dale', 'Dante Chapman', 'Ruihua', 'Captain America: The First Avenger*', 'Gorr', 'Thor: The Dark World*', 'King Laufey', 'William Ginter Riva', 'Avengers: Age of Ultron*', 'Valentina Allegra de Fontaine', 'Mary Walker', 'Erik Selvig', 'Ravonna Renslayer', 'Anton Mogart', 'Sif', 'Calvin Chadwick', 'Marvel One-Shot: Agent Carter*', 'JARVIS', 'Dr. Helen Cho', 'Howard Stark', 'Nakia', 'Yatzil', 'Zemo', 'Thomas Roberts', 'Volstagg', 'Eiffel', 'Pepper Potts', 'Detective Flores', 'Peggy Carter', 'Nick Fury', 'Flint', 'Jim Morita', 'Carl Lucas', 'Esther', 'Red Dagger', 'The Avengers*', 'Cloak', 'Thor*', 'Aunt Melanie', 'Natasha Romanoff', 'Topaz', 'Ultron', 'Thanos-AR', 'Emma', 'Hogun', 'Minn-Erva', 'Isaiah Bradley', 'Steve Rogers', 'Jovan', 'Dr. Karl Malus', 'Tilda Johnson', 'Raza', 'James Rhodes', 'Hela', 'Loki', 'Adina Johnson', 'Captain America: The Winter Soldier*', \"Timothy 'Dum Dum' Dugan\", 'Arishem', 'Alex Tilden', 'Crawley', 'Agent Coulson', 'God of Thunder', 'MIT Assistant Vice Chancellor', 'Pat Kiernan', 'Senator Stern', 'Dr. Evan Declan', 'Bek', 'The Ancient One-AR', 'Reno', 'Millennial Megan', 'Uncle Tucker', 'Thor: Ragnarok*', 'Mrs. Davis', 'JARVIS-AR', 'Fletcher Heggs', 'Iron Man*', 'Iron Man 3*'}\n",
      "2 54 \n",
      " {'Albert Rackham', 'Cousin Ched', 'Trish Walker', 'James Lucas', 'Mallory Book', 'Derek', 'Skeevy Guy', 'Ultron-AR', 'Thunderball', \"Wilfredo 'Chico' Diaz\", 'Mouse', 'Miek', 'Ben Urich', 'Vido Arocho', 'Colonel Flynn-AR', \"Robert 'Whizzer' Coleman\", 'Howard the Duck-AR', \"Detective Brigid O'Reilly\", 'Nikki Ramos', 'Arthur', 'She-Hulk: Attorney at Law*', 'James Rhodes-AR', 'Anansi', 'Baron Zemo', 'Agent Cleary', 'Rebel Skrull leader Gravik', 'Detective Mark Bailey', 'Darius', 'Raina', 'Detective Rafael Scarfe', 'Darcy-AR', \"Raymond 'Piranha' Jones\", 'Daimon Helstrom', 'Kate Bishop', 'Senator Stan Ori', 'Hernan Alvarez', 'Edwin Jarvis', 'Luke Cage*', 'Domingo Colon', 'Queen Ramonada-AR', 'Abomination', 'Director Tyler Hayward', 'Auntie Chantelle', 'Hank Sanderson', 'Marci Stahl', 'J.B.', 'Comanche', 'Heather', 'Gorgon', 'Mikayla Bell', 'David Lieberman', 'Makkari', 'Korath-AR', 'Wendy'}\n",
      "3 50 \n",
      " {'Kamran', 'Nova Prime', 'Agent Weaver', 'Clint Barton', 'Tomas', 'Agent Blackwell', 'Jack Duquesne', 'Mr. Berkowitz', 'Jen', 'Kingpin', 'David Schultz', 'Jack', 'Vaughn', \"O'Bengh-AR\", 'Frigga-AR', 'Grills', 'Frigga', 'Hai-Qing Yang', 'Karnak', 'Surtur-AR', 'Brock Rumlow-AR', 'Yelena Boleva', 'Betty Ross-AR', 'Maria Rambeau', 'Agent Vega', 'Maya Lopez', 'Sharon', 'Archbishop Terrazi', 'Melissa Bowen', 'President Ellis', 'Eli Bradley', 'Carlos', 'General Hale', 'Korath', 'Herb', 'Robert Minoru', 'FSB Commander', 'Captain Marvel*', 'WHIH News Front*', 'Keith Spivey', 'Daniel Sousa', \"King T'Chaka\", 'Captain Betty Audrey', 'Yondu Udonta', 'Ivan', 'Aura', 'Bronaja', 'Lila Barton', 'Hawkeye*', 'Sprite'}\n",
      "4 34 \n",
      " {'Luis', 'Ant-Man and the Wasp*', 'Major Allen', 'Azarel', 'Peter Scarborough', \"Daisy 'Skye' Johnson\", 'Stacey Yorkes', 'Erik Gelden', 'Scott Lang', 'Max Dillon', 'Eliza Schultz', 'Olivia Walker', 'Dave', 'Choo Choo Broussard', 'Lei Kung', 'Janet Van Dyne', 'DeeDee', 'Runa', 'Senator Atwood', 'Aida', 'Paxton', 'Kurt', 'Ant-Man*', 'Hope Van Dyne', 'Skurge', 'Darren Cross', 'Ego-AR', 'Jon Jon', 'Jack Murdock', 'Cull Obsidian', 'Dr. Hank Pym', 'Grant Ward', 'Brad Davis', 'Mrs. Chen'}\n",
      "5 42 \n",
      " {'Amalia Chavez', 'Najma', 'Jack Russell', 'Murakami', 'Verussa', 'Joaquin Torres', 'The Falcon and the Winter Soldier*', 'Unique', 'Zoe', 'Dottie Jones', 'Ayo', 'Spider-Man: No Way Home*', 'Xu Wenwu', 'Matias', 'Griffin Sinclair', 'Skaar', 'Sarah Wilson', 'Lennox', 'Jason Ionello', 'King Agon', 'Battlestar', 'Catherine Wilder', 'Agent Piper', 'Peter Parker2', 'Christine Everhart-AR', 'Kazi', 'Savin', 'Barasso', 'Ned', 'Zeus', \"Peter's To-Do List*\", 'Agent Coulson-AR', 'Coach Wilson', 'Happy Hogan-AR', 'Dr. Kozlov', 'Mr. Delmar', 'Grandmaster', 'Cass', 'Flash Thompson', 'Dovich', 'Okoye-AR', 'Sara Haines'}\n",
      "6 98 \n",
      " {'Sam Stein', 'Jemma Simmons', 'Bennie Pollock', 'Titania', 'Auntie Ruby', 'Li', 'Valkyrie', 'Hank', 'Akihiko', 'Josh Miller', \"Alphonso 'Mack' Mackenzie\", 'Agents of S.H.I.E.L.D.*', 'Yusuf', 'Antoine Triplett', 'Soo', \"Maximillian 'Max' Tatum\", 'Ms. Marvel*', 'Claire Weiss', 'Lance Hunter', 'Shaun', 'Linda Chao', 'Donna', 'Shane', \"Augustus 'Pug' Pugliese\", 'Nico Minoru', 'Ajak', 'Lincoln Campbell', 'Yon-Rogg', 'Papa', 'Donny Blaze', 'Kitang', 'Gigi', 'Ying Nan', 'Karolina Dean', 'Daisy Johnson', 'Giyera', 'Agent Ford', 'Ellis', 'Beverly', 'Melinda May', 'Agent Deever', 'Deke Shaw', 'Waipo', 'Diego', 'Dr. Christine Palmer', 'Nathaniel Malick', 'Audrey Eastman', 'Marvel One-Shot: Item 47*', 'Tommy Maximoff', 'Dr. Stephen Strange-AR', 'Ghost Rider', 'Col. Morty Bennett', \"'Pistol Pete' Stokes\", 'Willis Stryker', 'Hank Pym-AR', 'Agents of S.H.I.E.L.D.: Slingshot*', 'Kamala Khan', 'Gordon', 'Obadiah Stane-AR', 'Nico', 'Gao Lei', 'Anton Ivanov', 'Abu Bakaar', 'Daniel Whitehall', 'Auntie Zara', 'Dr. Louise Hastings', 'Wendy Ross-Hogarth', 'Maya Hansen', 'Eugene Patilio', 'King Yakan', 'Sunil Bakshi', 'Chancellor Hui', 'Ian Quinn', 'Livvie', 'Young Xialing', 'Master Guang Bo', 'Will Adams', 'Oscar Arocho', 'Rosalie Carbone', 'Jiaying', 'Cameron Tate', 'Nebula-AR', 'Klev', 'Xialing', 'Justis Ambrose', 'Agent Anderson', 'Agent Blake', 'Dr. Nic West', 'Ruben', 'Reed Richards', 'Shang-Chi and the Legend of the Ten Rings*', 'Katy', 'Muneeba', 'Eros', 'Andrew Garner', 'Alan', 'Ben', 'Destiny Gonzalez'}\n",
      "7 79 \n",
      " {'Mr. Dell', 'Mitchell Ellison', 'Daredevil', 'Mr. Immortal', 'Arthur Harrow', 'The Defenders*', \"Anthony 'AWOL' Wall\", 'Kith Lyonne', 'Lieutenant Perez', 'Victoria', 'Tamar', 'Colonel Victor Ramon', 'Shuri', 'Colleen Wing', 'Kthara', 'Talos', 'Dr. Arnim Zola', 'Algrim', 'Bakuto', 'Ayesha', 'Heimdall', 'Sana', 'Danny Rand', 'Stick', 'Cassie Lang', 'Secret Invasion*', 'Jack Thompson', 'Xavin', 'Carl Creel', 'Noah', \"T'Challa-AR\", 'Fiz', 'The Flaming Tuba', 'Susan Ellerh', 'Alpha Dog', 'Jimmy Woo', 'Carlo Eastman', 'Sheriff Hardin', 'Dinah Madani', 'Jeri Hogarth', 'Dr. Otto Octavius', 'Karen Page', 'Frances', 'Billy', \"Marvel One-Shot: A Funny Thing Happened on the Way to Thor's Hammer*\", 'Foggy Nelson', 'Captain Tom Ridenhour', 'Father Joshua Crow', 'The Punisher*', 'Flint Marko', 'Porcupine', 'Madame Gao', 'E.D.I.T.H.', \"Benjamin 'Dex' Poindexter\", 'Cornell Stokes', 'Matt Murdock', 'Krista Dumont', 'Dr. Curt Connors', 'Carson Wolf', 'Daredevil*', 'Det. Sgt. Brett Mahoney', 'Harley Keener', 'Iwua', 'Gideon Malick', 'Elektra Natchios', 'Turk Barrett', 'Peter Quill-AR', 'Reva Connors', 'Jessica Jones', 'Enoch', 'Marion James', 'Luke Jacobson', 'Dr. Bill Foster', 'Bob Shlottman', 'Dane Whitman', 'Mina Hess', 'Amy Minoru', 'Alex Wilder', 'Frank Castle'}\n",
      "8 90 \n",
      " {'Maggie', 'Peter Parker3', 'Yelena Belova', 'Spider-Man: Far from Home*', 'Frank', 'Saracen', 'Liorn', 'Aamir', 'Loki-AR', 'Antonia', 'Scott Lang-AR', 'Elaine Walters', 'Thena', 'Wong-AR', 'Carol Denvers-AR', 'What If...?*', 'Mike on a Bike', 'America Chavez', 'J. Jonah Jameson', 'Kurt-AR', 'Melina', 'Dr. Ivchenko', 'Bobbi Morse', 'Korg-AR', \"O'Connor\", 'Evita Fusilier', 'Bryce', 'Janice', 'Ebony Maw-AR', 'Elsa Bloodstone', 'Black Widow*', 'Audrey', 'Special Agent Sonya Falsworth', 'Erik Killmonger-AR', 'Dr. Christine Palmer-AR', 'Alexei', 'Kro', 'Hope Van Dyne-AR', 'The Collector-AR', 'Medusa', 'John', 'Chris Yen', 'Happy Hogan', 'Dr. Leslie Hansen', 'Shuri-AR', 'Locus', 'Mama Mabel', 'Dr. Erskine-AR', 'Druig', 'Jackson', 'Curtis Hoyle', 'Geoffrey Wilder', 'Cornelius P. Willows', 'Yondu-AR', 'Enrique', 'Yinsen', 'Sif-AR', 'Monica Rambeau', 'Peter Parker-AR', 'Det. Oscar Clemons', 'Chuck Donelan', 'Triton', \"M'Baku\", 'Sharon Carter-AR', 'Nick Fury-AR', 'Ned Leeds', 'Joy Meachum', 'Clair', 'Batroc-AR', 'Mama Donya', 'Andrew Brandt', 'Betty Brant', 'Tony stark-AR', 'Frank Dean', 'Steve Rogers-AR', 'Grandmaster-AR', \"Elena 'Yo-Yo' Rodriguez\", 'Clint Barton-AR', 'Liam Walsh', 'Guterman', 'Aunt May', 'Glenn Talbot', \"Henry 'Pop' Hunter\", 'Jerry', \"T'Chaka-AR\", 'God of Thunder-AR', 'Mason', 'Aldrich Killian', 'Dreykov', 'Howard Stark-AR'}\n",
      "9 46 \n",
      " {'Dr. Christina Raynor', 'Marilyn', 'Alonso Barber', 'Eric Ambrose', 'Sal Blaskowski', 'Agent Monti', 'Khonshu', 'Kilgrave', 'Ego', 'Taweret', 'Gregory Sallinger', 'Albert Thompson', 'Jessica Jones*', 'Norm', 'WandaVision*', 'Kasius', \"Timothy 'Dum Dum' Dugan-AR\", 'Dagger', 'Zaya Okonjo', 'Bruno', 'Louise Thompson', 'Happy Sam Sawyer', 'Lia', 'Pam', 'Vernon Masters', 'Dennis the Mailman', 'Luke Cage', 'Sinara', 'Agent Rodriguez', 'Pepper Potts-AR', 'Robyn', 'Barbara Shlottman', 'Nathan Bowen', 'Night Waitress', 'Alisa Jones', 'Inspector Priscilla Ridley', 'Thembi Wallace', 'Billy Maximoff', 'Luanne', 'Phil Jones', 'Fandral', 'Maximus', 'Young Jessica', 'Wilson Fisk', 'Leslie Dean', 'Bronwyn'}\n",
      "10 82 \n",
      " {'Friday', 'Morris Walters', 'Korg', 'Rocket', 'Ronan', 'Proxima Midnight', 'Mariah Dillard', 'Groot', 'Jarvis', 'Billy Swan', 'Mantis', 'I Am Groot*', 'Johann Schmidt', 'Nebula', 'Pietro Maximoff', 'Alexander Pierce', 'The Collector', 'Detective Connors', 'Aaron Davis', 'Bobbi', 'King Valkyrie', 'Okoye', 'Gamora', 'Ted (The Man-Thing)', 'Taserface', 'Sam Wilson', 'Peter Quill', 'Kraglin', 'Thor', 'Gabriella Rosetti', 'Victoria Helstrom', 'Laura Barton', 'Claire Temple', 'Molly Hernandez', 'Bucky Barnes', 'Jane Foster', 'Proxima Midnight-AR', 'On-Set Rocket', 'Elena Chavez', 'Peter Parker', 'Ebony Maw', 'Vision', 'Victor Stein', 'Father Lantom', 'Dr. Noah Burstein', 'Ikaris', 'Asgardian Stagehand', 'Peggy Carter-AR', 'Guardians of the Galaxy*', 'Meredith Quill', 'Thanos', 'Selim', 'Avengers: Endgame*', 'Captain America: Civil War*', 'Drax', 'Secretary Ross', 'Phastos', 'Ramonada', \"T'Challa\", 'Brock Rumlow', 'Ivan Hess', 'Brandt', 'Rick', 'Mr. Harrington', 'Baby Groot', 'Wanda Maximoff', 'Guardians of the Galaxy Vol. 2*', 'Kingo', 'Sonny Burch', 'Nathaniel Barton', 'Bruce Banner-AR', 'Avengers: Infinity War*', 'Bruce Banner', 'Corvus Glaive', 'Hank Pym', 'Officer Derrick Jackson', 'Thor: Love and Thunder*', 'Morgan Stark', 'Auran', 'Wong', 'Morgan le Fay', 'Tibor'}\n",
      "11 91 \n",
      " {'Karli Morgenthau', 'Yuchen', 'The Ancient One', 'Miss Minutes', 'Jennifer Walters', 'Bethany', 'Ringmaster', 'Dottie Underwood', 'Bucky Barnes-AR', 'Carol', 'Davos', 'Black Panther*', 'Zuri', 'Obadiah Stane', 'Kaecilius', \"N'Jobu\", 'Andre Deschaine', 'Dwayne Blaskowski', 'Chase Stein', 'Jonathan Pangborn', 'Quentin Beck', 'Jane Foster-AR', 'Ana Jarvis', 'Daniel Drumm', 'Agent Carter*', 'Detective Caudle', 'Kraglin-AR', 'Roger Dooley', 'The Weasel', 'He Who Remains', 'Shameek Smith', 'Eleanor Bishop', 'Rufus', 'Benjamin Donovan', 'Wendell Rand', 'Alexandra Reid', 'Misty Knight', 'Arnim Zola-AR', 'Karun', 'Ana Helstrom', 'Sylvie', 'Solomon', 'Surtur', 'Master Hamir', 'Dr. Stephen Strange', 'Wrecker', 'Sergei', 'Christine Everhart', 'Doctor Strange in the Multiverse of Madness*', 'Officer Fuchs', 'Doctor Strange*', 'Professor Charles Xavier', 'Baron Mordo', 'Detective Costa', 'D.W. Griffith', 'Darryl', 'Mobius', 'Carol Danvers', 'Habooska the Horrible', 'Colonel Chester Phillips', 'Erik Killmonger', 'Harold Meachum', 'Paul Edmonds', 'Sheikh Abdullah', 'Agent Fisher', 'Jonah', 'Layla El-Faouly', 'Detective Andrew Henry', 'Georges Batroc', 'Iron Fist*', 'Tina Minoru', 'Hope Shlottman', 'Mike Peterson', 'Hunter B-15', 'Hercules', 'Yondu', 'Ward Meachum', 'Leo Fitz', \"T'Chaka\", 'Dennis Bukowski', 'Agent Flynn', 'Ulysses Klaue', 'Carol Denvers', 'Casey', 'Whitney Frost', 'Ahmad Zubair', \"W'Kabi\", 'Loki*', 'Sowande', 'Man-Bull', 'Duane Porter'}\n",
      "12 40 \n",
      " {'Graciela Aguirre', 'Spider-Man: Homecoming*', 'The Incredible Hulk*', 'Herman Schultz', 'Finn', 'Eitri', 'Billy Russo', 'Mordis', 'May Parker', 'Betty Ross', 'Dorothy', 'Emil Blonsky', 'Bobby Fish', 'William Rawlins', 'John Pilgrim', 'Radovan Bernivig', 'Jack Rollins', 'Aubree Richards', 'Hugh Jones', 'Razor Fist', 'Liz', 'Crystal', 'Louise', 'Dale Yorkes', 'Detective Rivera', 'Natasha Romanoff-AR', 'MJ', 'Donald', 'Maria Hill-AR', 'Sharon Carter', 'Madisynn', 'Adrian Toomes', 'Detective Nandi Tyler', 'Queen Rynda', 'Black Bolt', 'Malekith', 'Lee', 'Samuel Sterns', 'Pedro The Bartender', 'Inhumans*'}\n",
      "13 37 \n",
      " {\"Dontrell 'Cockroach' Hamilton\", 'Herman', 'Ulysses Bloodstone', 'Mrs. Hart', 'Gamora-AR', 'Ulysses Klaue-AR', 'Marc Spector', 'El Aguila', 'Steven Benowitz', 'AJ', 'Holden Holliway', 'Topher', 'White Power Dave', 'Norman Osborn', 'BB', 'Agnes', 'Peter Lyonne', 'Doctor David Kurata', 'Uatu-AR', 'Heinz Kruger', 'Sammy', 'Taserface-AR', 'Trevor Slattery', 'Tiny', 'Joseph Manfredi', 'Wendy Spector', 'Justin Hammer', 'John Walker', 'Everett K. Ross', 'Marvel One-Shot: All Hail the King*', 'Supreme Intelligence', 'Cooper Barton', 'Calvin Zabo', 'Jeffrey Mace', 'Jackson Norris', 'Sersi', 'Judge Price'}\n"
     ]
    }
   ],
   "source": [
    "components3 = sorted(nx.connected_components(PAM_MU), key=len, reverse=True)\n",
    "communities3 = community.louvain_communities(PAM_MU.subgraph(components3[0]))\n",
    "i=1\n",
    "for group in communities3:\n",
    "    print(i,len(group),'\\n',group)\n",
    "    i+=1"
   ]
  },
  {
   "cell_type": "code",
   "execution_count": null,
   "id": "8dfac61c",
   "metadata": {},
   "outputs": [],
   "source": []
  },
  {
   "cell_type": "code",
   "execution_count": null,
   "id": "9b3bb016",
   "metadata": {},
   "outputs": [],
   "source": []
  }
 ],
 "metadata": {
  "kernelspec": {
   "display_name": "Python 3 (ipykernel)",
   "language": "python",
   "name": "python3"
  },
  "language_info": {
   "codemirror_mode": {
    "name": "ipython",
    "version": 3
   },
   "file_extension": ".py",
   "mimetype": "text/x-python",
   "name": "python",
   "nbconvert_exporter": "python",
   "pygments_lexer": "ipython3",
   "version": "3.9.12"
  }
 },
 "nbformat": 4,
 "nbformat_minor": 5
}
