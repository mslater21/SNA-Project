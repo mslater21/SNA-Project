{
  "nbformat": 4,
  "nbformat_minor": 0,
  "metadata": {
    "colab": {
      "provenance": [],
      "toc_visible": true,
      "authorship_tag": "ABX9TyPIyRZw9Vgla3nxdF3Z04U5",
      "include_colab_link": true
    },
    "kernelspec": {
      "name": "python3",
      "display_name": "Python 3"
    },
    "language_info": {
      "name": "python"
    }
  },
  "cells": [
    {
      "cell_type": "markdown",
      "metadata": {
        "id": "view-in-github",
        "colab_type": "text"
      },
      "source": [
        "<a href=\"https://colab.research.google.com/github/mslater21/SNA-Project/blob/main/bipartite.ipynb\" target=\"_parent\"><img src=\"https://colab.research.google.com/assets/colab-badge.svg\" alt=\"Open In Colab\"/></a>"
      ]
    },
    {
      "cell_type": "markdown",
      "source": [
        "# Graph creation"
      ],
      "metadata": {
        "id": "AcoQdBWMvxii"
      }
    },
    {
      "cell_type": "code",
      "execution_count": 23,
      "metadata": {
        "id": "jrn2Gd2elsA8"
      },
      "outputs": [],
      "source": [
        "import networkx as nx\n",
        "import pandas as pd\n",
        "import matplotlib.pyplot as plt\n",
        "import numpy as np"
      ]
    },
    {
      "cell_type": "code",
      "source": [
        "characters = pd.read_csv('marvel_characters.csv')\n",
        "titles = pd.read_csv('marvel_titles.csv')"
      ],
      "metadata": {
        "id": "Yt1XbrA8mvBY"
      },
      "execution_count": 2,
      "outputs": []
    },
    {
      "cell_type": "code",
      "source": [
        "characters.head()"
      ],
      "metadata": {
        "colab": {
          "base_uri": "https://localhost:8080/",
          "height": 206
        },
        "id": "ChG6BylPn7Vb",
        "outputId": "57ad3227-b056-45a1-e461-d9930785cc77"
      },
      "execution_count": 3,
      "outputs": [
        {
          "output_type": "execute_result",
          "data": {
            "text/plain": [
              "                                title                      character  \\\n",
              "0  Captain America: The First Avenger                Captain America   \n",
              "1  Captain America: The First Avenger                   Peggy Carter   \n",
              "2  Captain America: The First Avenger  James Buchanan 'Bucky' Barnes   \n",
              "3  Captain America: The First Avenger       Colonel Chester Phillips   \n",
              "4  Captain America: The First Avenger                 Johann Schmidt   \n",
              "\n",
              "  character_alias            actor  \n",
              "0    Steve Rogers      Chris Evans  \n",
              "1             NaN    Hayley Atwell  \n",
              "2             NaN   Sebastian Stan  \n",
              "3             NaN  Tommy Lee Jones  \n",
              "4       Red Skull     Hugo Weaving  "
            ],
            "text/html": [
              "\n",
              "  <div id=\"df-b2fd4f77-2376-4144-a8e1-73abbaa914e0\">\n",
              "    <div class=\"colab-df-container\">\n",
              "      <div>\n",
              "<style scoped>\n",
              "    .dataframe tbody tr th:only-of-type {\n",
              "        vertical-align: middle;\n",
              "    }\n",
              "\n",
              "    .dataframe tbody tr th {\n",
              "        vertical-align: top;\n",
              "    }\n",
              "\n",
              "    .dataframe thead th {\n",
              "        text-align: right;\n",
              "    }\n",
              "</style>\n",
              "<table border=\"1\" class=\"dataframe\">\n",
              "  <thead>\n",
              "    <tr style=\"text-align: right;\">\n",
              "      <th></th>\n",
              "      <th>title</th>\n",
              "      <th>character</th>\n",
              "      <th>character_alias</th>\n",
              "      <th>actor</th>\n",
              "    </tr>\n",
              "  </thead>\n",
              "  <tbody>\n",
              "    <tr>\n",
              "      <th>0</th>\n",
              "      <td>Captain America: The First Avenger</td>\n",
              "      <td>Captain America</td>\n",
              "      <td>Steve Rogers</td>\n",
              "      <td>Chris Evans</td>\n",
              "    </tr>\n",
              "    <tr>\n",
              "      <th>1</th>\n",
              "      <td>Captain America: The First Avenger</td>\n",
              "      <td>Peggy Carter</td>\n",
              "      <td>NaN</td>\n",
              "      <td>Hayley Atwell</td>\n",
              "    </tr>\n",
              "    <tr>\n",
              "      <th>2</th>\n",
              "      <td>Captain America: The First Avenger</td>\n",
              "      <td>James Buchanan 'Bucky' Barnes</td>\n",
              "      <td>NaN</td>\n",
              "      <td>Sebastian Stan</td>\n",
              "    </tr>\n",
              "    <tr>\n",
              "      <th>3</th>\n",
              "      <td>Captain America: The First Avenger</td>\n",
              "      <td>Colonel Chester Phillips</td>\n",
              "      <td>NaN</td>\n",
              "      <td>Tommy Lee Jones</td>\n",
              "    </tr>\n",
              "    <tr>\n",
              "      <th>4</th>\n",
              "      <td>Captain America: The First Avenger</td>\n",
              "      <td>Johann Schmidt</td>\n",
              "      <td>Red Skull</td>\n",
              "      <td>Hugo Weaving</td>\n",
              "    </tr>\n",
              "  </tbody>\n",
              "</table>\n",
              "</div>\n",
              "      <button class=\"colab-df-convert\" onclick=\"convertToInteractive('df-b2fd4f77-2376-4144-a8e1-73abbaa914e0')\"\n",
              "              title=\"Convert this dataframe to an interactive table.\"\n",
              "              style=\"display:none;\">\n",
              "        \n",
              "  <svg xmlns=\"http://www.w3.org/2000/svg\" height=\"24px\"viewBox=\"0 0 24 24\"\n",
              "       width=\"24px\">\n",
              "    <path d=\"M0 0h24v24H0V0z\" fill=\"none\"/>\n",
              "    <path d=\"M18.56 5.44l.94 2.06.94-2.06 2.06-.94-2.06-.94-.94-2.06-.94 2.06-2.06.94zm-11 1L8.5 8.5l.94-2.06 2.06-.94-2.06-.94L8.5 2.5l-.94 2.06-2.06.94zm10 10l.94 2.06.94-2.06 2.06-.94-2.06-.94-.94-2.06-.94 2.06-2.06.94z\"/><path d=\"M17.41 7.96l-1.37-1.37c-.4-.4-.92-.59-1.43-.59-.52 0-1.04.2-1.43.59L10.3 9.45l-7.72 7.72c-.78.78-.78 2.05 0 2.83L4 21.41c.39.39.9.59 1.41.59.51 0 1.02-.2 1.41-.59l7.78-7.78 2.81-2.81c.8-.78.8-2.07 0-2.86zM5.41 20L4 18.59l7.72-7.72 1.47 1.35L5.41 20z\"/>\n",
              "  </svg>\n",
              "      </button>\n",
              "      \n",
              "  <style>\n",
              "    .colab-df-container {\n",
              "      display:flex;\n",
              "      flex-wrap:wrap;\n",
              "      gap: 12px;\n",
              "    }\n",
              "\n",
              "    .colab-df-convert {\n",
              "      background-color: #E8F0FE;\n",
              "      border: none;\n",
              "      border-radius: 50%;\n",
              "      cursor: pointer;\n",
              "      display: none;\n",
              "      fill: #1967D2;\n",
              "      height: 32px;\n",
              "      padding: 0 0 0 0;\n",
              "      width: 32px;\n",
              "    }\n",
              "\n",
              "    .colab-df-convert:hover {\n",
              "      background-color: #E2EBFA;\n",
              "      box-shadow: 0px 1px 2px rgba(60, 64, 67, 0.3), 0px 1px 3px 1px rgba(60, 64, 67, 0.15);\n",
              "      fill: #174EA6;\n",
              "    }\n",
              "\n",
              "    [theme=dark] .colab-df-convert {\n",
              "      background-color: #3B4455;\n",
              "      fill: #D2E3FC;\n",
              "    }\n",
              "\n",
              "    [theme=dark] .colab-df-convert:hover {\n",
              "      background-color: #434B5C;\n",
              "      box-shadow: 0px 1px 3px 1px rgba(0, 0, 0, 0.15);\n",
              "      filter: drop-shadow(0px 1px 2px rgba(0, 0, 0, 0.3));\n",
              "      fill: #FFFFFF;\n",
              "    }\n",
              "  </style>\n",
              "\n",
              "      <script>\n",
              "        const buttonEl =\n",
              "          document.querySelector('#df-b2fd4f77-2376-4144-a8e1-73abbaa914e0 button.colab-df-convert');\n",
              "        buttonEl.style.display =\n",
              "          google.colab.kernel.accessAllowed ? 'block' : 'none';\n",
              "\n",
              "        async function convertToInteractive(key) {\n",
              "          const element = document.querySelector('#df-b2fd4f77-2376-4144-a8e1-73abbaa914e0');\n",
              "          const dataTable =\n",
              "            await google.colab.kernel.invokeFunction('convertToInteractive',\n",
              "                                                     [key], {});\n",
              "          if (!dataTable) return;\n",
              "\n",
              "          const docLinkHtml = 'Like what you see? Visit the ' +\n",
              "            '<a target=\"_blank\" href=https://colab.research.google.com/notebooks/data_table.ipynb>data table notebook</a>'\n",
              "            + ' to learn more about interactive tables.';\n",
              "          element.innerHTML = '';\n",
              "          dataTable['output_type'] = 'display_data';\n",
              "          await google.colab.output.renderOutput(dataTable, element);\n",
              "          const docLink = document.createElement('div');\n",
              "          docLink.innerHTML = docLinkHtml;\n",
              "          element.appendChild(docLink);\n",
              "        }\n",
              "      </script>\n",
              "    </div>\n",
              "  </div>\n",
              "  "
            ]
          },
          "metadata": {},
          "execution_count": 3
        }
      ]
    },
    {
      "cell_type": "code",
      "source": [
        "G = nx.Graph()"
      ],
      "metadata": {
        "id": "MiW6zzNPnl-0"
      },
      "execution_count": 10,
      "outputs": []
    },
    {
      "cell_type": "code",
      "source": [
        "for index, row in titles.iterrows():\n",
        "  G.add_node(row['title'] + '*', bipartite=0, media_type=row['type'], release_year=row['release_year'], release_month=row['release_month'], release_day=row['release_day'], rating=row['rating'], length=row['length'], starts=row['stars'], genres=row['genres'])"
      ],
      "metadata": {
        "id": "FieqyxcVnod8"
      },
      "execution_count": 11,
      "outputs": []
    },
    {
      "cell_type": "code",
      "source": [
        "for index, row in characters.iterrows():\n",
        "  G.add_node(row['character'], bipartite=1, alias=row['character_alias'], actor=row['actor'])"
      ],
      "metadata": {
        "id": "uyqdPiS8pAFN"
      },
      "execution_count": 12,
      "outputs": []
    },
    {
      "cell_type": "code",
      "source": [
        "for index, row in characters.iterrows():\n",
        "  G.add_edge(row['title'] + '*', row['character'])"
      ],
      "metadata": {
        "id": "snuFuUOIpXI4"
      },
      "execution_count": 13,
      "outputs": []
    },
    {
      "cell_type": "code",
      "source": [
        "character_nodes = {n for n, d in G.nodes(data=True) if d['bipartite'] == 1}\n",
        "title_nodes = set(G) - character_nodes"
      ],
      "metadata": {
        "id": "XlHIZ_Cipo0I"
      },
      "execution_count": 59,
      "outputs": []
    },
    {
      "cell_type": "markdown",
      "source": [
        "# Graph Statistics"
      ],
      "metadata": {
        "id": "LCi_5hCiv2Lb"
      }
    },
    {
      "cell_type": "markdown",
      "source": [
        "## Graph Makeup"
      ],
      "metadata": {
        "id": "oSAeP_btD99m"
      }
    },
    {
      "cell_type": "code",
      "source": [
        "print('Total number of nodes:', G.number_of_nodes())\n",
        "print('Total number of edges:', G.number_of_edges())\n",
        "\n",
        "print('Number of character nodes:', len(character_nodes))\n",
        "print('Number of title nodes:', len(title_nodes))"
      ],
      "metadata": {
        "colab": {
          "base_uri": "https://localhost:8080/"
        },
        "id": "Bt1LocsXD7aU",
        "outputId": "f0513c4e-6ef9-4446-a780-8ed64ce77868"
      },
      "execution_count": 73,
      "outputs": [
        {
          "output_type": "stream",
          "name": "stdout",
          "text": [
            "Total number of nodes: 1933\n",
            "Total number of edges: 2307\n",
            "Number of character nodes: 1873\n",
            "Number of title nodes: 60\n"
          ]
        }
      ]
    },
    {
      "cell_type": "markdown",
      "source": [
        "## Density"
      ],
      "metadata": {
        "id": "JFvwbPnMv7xn"
      }
    },
    {
      "cell_type": "code",
      "source": [
        "print('Density:', nx.bipartite.density(G, character_nodes))"
      ],
      "metadata": {
        "colab": {
          "base_uri": "https://localhost:8080/"
        },
        "id": "Js-IbR8_laln",
        "outputId": "de1afca3-4d7c-4a8b-bf8d-e9d9f07217e6"
      },
      "execution_count": 60,
      "outputs": [
        {
          "output_type": "stream",
          "name": "stdout",
          "text": [
            "Density: 0.020528563801388146\n"
          ]
        }
      ]
    },
    {
      "cell_type": "markdown",
      "source": [
        "## Degrees"
      ],
      "metadata": {
        "id": "MUhC5Dn0wNHl"
      }
    },
    {
      "cell_type": "code",
      "source": [
        "title_degrees, character_degrees = nx.bipartite.degrees(G, character_nodes)"
      ],
      "metadata": {
        "id": "CHOzyEtiwo2P"
      },
      "execution_count": 67,
      "outputs": []
    },
    {
      "cell_type": "markdown",
      "source": [
        "### Character Nodes"
      ],
      "metadata": {
        "id": "7wurPvxkwki5"
      }
    },
    {
      "cell_type": "code",
      "source": [
        "# Average Degree\n",
        "sum([d for (n,d) in character_degrees]) / len(character_nodes)"
      ],
      "metadata": {
        "colab": {
          "base_uri": "https://localhost:8080/"
        },
        "id": "5BQR3JuHwm1j",
        "outputId": "a172db1e-5f89-4ccd-bbc6-376121091439"
      },
      "execution_count": 68,
      "outputs": [
        {
          "output_type": "execute_result",
          "data": {
            "text/plain": [
              "1.2317138280832889"
            ]
          },
          "metadata": {},
          "execution_count": 68
        }
      ]
    },
    {
      "cell_type": "code",
      "source": [
        "# Node Degree Distribution\n",
        "\n",
        "fig, ax = plt.subplots(1, 2)\n",
        "ax[0].scatter(*np.unique([d for (n,d) in character_degrees], return_counts=True))\n",
        "ax[0].set_xlabel('Degree')\n",
        "ax[0].set_ylabel('Number of Nodes')\n",
        "ax[0].set_title('Characters')\n",
        "\n",
        "ax[1].scatter(*np.unique([d for (n,d) in character_degrees], return_counts=True))\n",
        "ax[1].set_xlabel('Degree')\n",
        "ax[1].set_title('Characters (log)')\n",
        "ax[1].set_xscale('log')"
      ],
      "metadata": {
        "colab": {
          "base_uri": "https://localhost:8080/",
          "height": 299
        },
        "id": "I_0Ju4Wmlzv9",
        "outputId": "eb064882-b52f-42be-ac9c-7eb04b03c243"
      },
      "execution_count": 69,
      "outputs": [
        {
          "output_type": "display_data",
          "data": {
            "text/plain": [
              "<Figure size 432x288 with 2 Axes>"
            ],
            "image/png": "[encoded data removed]"
          },
          "metadata": {
            "needs_background": "light"
          }
        }
      ]
    },
    {
      "cell_type": "markdown",
      "source": [
        "### Title Nodes"
      ],
      "metadata": {
        "id": "cxXpsd4vxCpI"
      }
    },
    {
      "cell_type": "code",
      "source": [
        "# Average Degree\n",
        "sum([d for (n,d) in title_degrees]) / len(title_nodes)"
      ],
      "metadata": {
        "colab": {
          "base_uri": "https://localhost:8080/"
        },
        "id": "7p1TD_OyxGEW",
        "outputId": "571999d4-f2ad-448b-c9e3-797dd4bb6fa8"
      },
      "execution_count": 70,
      "outputs": [
        {
          "output_type": "execute_result",
          "data": {
            "text/plain": [
              "38.45"
            ]
          },
          "metadata": {},
          "execution_count": 70
        }
      ]
    },
    {
      "cell_type": "code",
      "source": [
        "# Node Degree Distribution\n",
        "fig, ax = plt.subplots(1, 2)\n",
        "ax[0].scatter(*np.unique([d for (n,d) in title_degrees], return_counts=True))\n",
        "ax[0].set_xlabel('Degree')\n",
        "ax[0].set_ylabel('Number of Nodes')\n",
        "ax[0].set_title('Titles')\n",
        "\n",
        "ax[1].scatter(*np.unique([d for (n,d) in title_degrees], return_counts=True))\n",
        "ax[1].set_xlabel('Degree')\n",
        "ax[1].set_title('Titles (log)')\n",
        "ax[1].set_xscale('log')"
      ],
      "metadata": {
        "colab": {
          "base_uri": "https://localhost:8080/",
          "height": 299
        },
        "id": "3MRqlui0q2CF",
        "outputId": "70b48948-63d8-4301-947d-93d40c926caf"
      },
      "execution_count": 71,
      "outputs": [
        {
          "output_type": "display_data",
          "data": {
            "text/plain": [
              "<Figure size 432x288 with 2 Axes>"
            ],
            "image/png": "[encoded data removed]"
          },
          "metadata": {
            "needs_background": "light"
          }
        }
      ]
    },
    {
      "cell_type": "markdown",
      "source": [
        "# Character Projected Graph\n"
      ],
      "metadata": {
        "id": "pgHqtuBuJFJ4"
      }
    },
    {
      "cell_type": "code",
      "source": [
        "G_char = nx.bipartite.projected_graph(G, character_nodes)\n",
        "print(G_char)"
      ],
      "metadata": {
        "colab": {
          "base_uri": "https://localhost:8080/"
        },
        "id": "pmn4MbFKJISS",
        "outputId": "77773063-c362-45a7-8586-d2f18b3c79b8"
      },
      "execution_count": 75,
      "outputs": [
        {
          "output_type": "stream",
          "name": "stdout",
          "text": [
            "Graph with 1873 nodes and 168694 edges\n"
          ]
        }
      ]
    },
    {
      "cell_type": "code",
      "source": [
        "# Average Degree\n",
        "sum([d for (n,d) in nx.degree(G_char)]) / G_char.number_of_nodes()"
      ],
      "metadata": {
        "colab": {
          "base_uri": "https://localhost:8080/"
        },
        "id": "0Y63Q9ILKUYl",
        "outputId": "7213c2f7-5aab-475a-e966-9f7e645303bc"
      },
      "execution_count": 77,
      "outputs": [
        {
          "output_type": "execute_result",
          "data": {
            "text/plain": [
              "180.13240790176187"
            ]
          },
          "metadata": {},
          "execution_count": 77
        }
      ]
    },
    {
      "cell_type": "code",
      "source": [
        "# Node Degree Distribution\n",
        "fig, ax = plt.subplots(1, 2)\n",
        "ax[0].scatter(*np.unique([d for (n,d) in nx.degree(G_char)], return_counts=True))\n",
        "ax[0].set_xlabel('Degree')\n",
        "ax[0].set_ylabel('Number of Nodes')\n",
        "ax[0].set_title('Titles')\n",
        "\n",
        "ax[1].scatter(*np.unique([d for (n,d) in nx.degree(G_char)], return_counts=True))\n",
        "ax[1].set_xlabel('Degree')\n",
        "ax[1].set_title('Titles (log)')\n",
        "ax[1].set_xscale('log')"
      ],
      "metadata": {
        "colab": {
          "base_uri": "https://localhost:8080/",
          "height": 299
        },
        "id": "htZFhXT0Kkrx",
        "outputId": "3c72b68e-8004-41db-82bb-355d20566ea8"
      },
      "execution_count": 78,
      "outputs": [
        {
          "output_type": "display_data",
          "data": {
            "text/plain": [
              "<Figure size 432x288 with 2 Axes>"
            ],
            "image/png": "[encoded data removed]"
          },
          "metadata": {
            "needs_background": "light"
          }
        }
      ]
    },
    {
      "cell_type": "code",
      "source": [
        "# Components\n",
        "components = nx.connected_components(G_char)\n",
        "for component in components:\n",
        "  print(component)"
      ],
      "metadata": {
        "colab": {
          "base_uri": "https://localhost:8080/"
        },
        "id": "Kn79TGHHK4P1",
        "outputId": "66931f4b-2400-4db3-be2d-9e10246e7111"
      },
      "execution_count": 87,
      "outputs": [
        {
          "output_type": "stream",
          "name": "stdout",
          "text": [
            "{'The Other', 'Soldier #1', 'Hela', 'Sheriff Hardin', 'Durant', 'Spider', 'James Wesley', 'Mordo', 'Mary Walker', 'Joey Gutierrez', 'Misty Knight', 'Chuck Donelan', 'Roy Healy', 'Ruben', 'Blake Tower', 'Agent Ryan', 'Ray Nadeem', 'Dum-Dum Dugan', 'Dog of Hell', 'Kith Lyonne', 'Sophia', 'Mita Nansari', 'Captain William Dole', 'Agent Hauer', 'Rocket', 'Tina', 'Senator Ellen Nadeer', 'Iwua', 'Tat', 'Qajax', 'Tullk', 'Hogan', 'Jesse Fletcher', 'Trevor Slattery', 'Alya', 'Yon-Rogg', 'Halfnut', 'Sami Nadeem', 'Gillian', 'Katy', 'Agent Prince', 'Serious Man', 'Corvus Glaive', 'General Fischer', 'Martinex', 'Dr. Bill Foster', 'Mrs. Elizabeth De Luca', 'Ronald Garcia', 'Security Chief Liu', 'Young Wilson Fisk', 'Mama Donya', 'William May', 'Agent Burleigh', 'Robert', 'Saleem', 'Colonel James Rhodes', 'Danny Rand', 'Alpha Dog', 'Laurent Lyonne', 'Young Yelena', 'Thanos', 'Vijay Nadeer', 'Detective Rivera', 'Dwayne Blaskowski', 'The Watcher', 'Agent Deever', 'Robert Gonzales', 'Officer Carvalho', 'Charles Hinton', 'Councilman Yen', 'Megan', 'Marcus Daniels', 'Jan', 'Judge Cynthia Batzer', 'Ancient Shop Manager', 'Karen Page', 'Captain Tom Ridenhour', 'Gabe Reyes', 'Honest Eddie', 'Donny Blaze', 'Sarah Lieberman', 'Detective Donnie Chang', 'Melinda May', 'Sheldon McFee', 'Baron Von Strucker', 'Brock Rumlow', 'Tom', 'Vice President Rodriguez', 'Gene Burchell', 'Mystery Woman', 'Bethany', 'Emil Blonsky', 'Young Sana', 'Dmitry', 'Mrs. Hillman', \"Augustus 'Pug' Pugliese\", 'Jeri Hogarth', 'Detective Hoffman', 'Debonair Gentleman', 'Grandmaster', 'Burrows', 'Kebo', 'Zhi', 'Goon One', 'Dennis the Mailman', 'Agent Butch Wallace', 'Faulnak', 'Rebecca Pilgrim', 'Grandpa', 'Aisha Axton', 'Erik Gelden', 'Female Reporter', 'Zip', 'FBI Agent Jurmain', 'Father Sean Okamoto', 'Makkari', 'Black Bolt', '12 Year Old Danny', 'Agent Delancey', 'Jiaying', 'Dr. Hank Pym', 'Eleanor Bishop', 'Dana', 'Baron Zemo', 'The Amazing Mertz', 'Young Xialing', 'Akihiko', 'Violet', 'Khonshu', 'Hugo', \"Agent O'Brien\", 'Agent Blackwell', 'Watchdog Alpha', 'Brunette Zealot', 'French Pirate #1', 'Peter Lyonne', 'Lorelei', 'Amy Bendix', 'Ikaris', 'Lucian', 'Jolene Spivey', 'Rooster', \"Wilfredo 'Chico' Diaz\", 'Ms. Warren', 'Scientist Morocco 2', 'Muneeba', 'Polly Hinton', 'King Agon', 'Dr. Grant', \"Robert 'Whizzer' Coleman\", 'J.B.', 'Jane Foster', 'Dana Stryker', 'Agent Rivera', 'Grills', 'Julie Barnes', 'Josie', 'Englishman', 'James Lucas', 'Roger Browning', 'Senator Stern', 'Mr. Harrington', 'Mrs. Zeller', 'Agent Rodriguez', 'Eugene', 'Alex Doobin', 'Actor Odin', 'Scientist', 'On-Set She-Hulk Reference', 'Victoria Helstrom', 'Zylak', 'Roy Olsky', 'Taylor', 'French Pirate #2', 'Doctor Evans', \"King T'Chaka\", 'Peter Quill', 'Bill Maher', 'Agent Keller', 'Tooms', 'Norman Osborn', 'Agent Moore', 'Lucy Bauer', 'Morris Walters', 'Aubree Richards', 'Elias Spector', 'Deputy Dobbs', 'Marlena Olin', 'Thomas Nash', 'Geiger', 'Yama', 'Uncle Rasheed', 'Clair', 'Shirley', 'Scientist Morocco 1', 'Vanessa Marianna', 'Lord Manzini', 'Agent Markham', 'Rudy', 'Gert Yorkes', 'Major', 'Ellen King', 'Eugene Patilio', 'Yondu', 'Abu Bakaar', 'Louisa Delgado', 'Skaar', 'He Who Remains', 'Darryl', 'General Jacobs', 'Mika Prada', 'David', 'Kara Lynn Palamas', 'Dr. Van Kempen', 'Jeremy', \"M'Baku\", 'Amos', 'Linda Chao', 'John Garrett', 'King Yakan', 'Kro', 'Minn-Erva', 'Amalia Chavez', 'Rockwell', 'Karen', 'Aura', 'Francine', 'Retch', 'Leo Fitz', 'Guard', 'Groot', 'Cusi', 'Daniel Sousa', 'Case', 'Wendell Levi', 'Mr. Hillman', 'Elias', 'Nikki Ramos', 'Captain Betty Audrey', 'Geoffrey Wilder', 'Luke Cage', 'Audrey', 'Kree Watch Commander', 'Father Lantom', 'Wanda Maximoff', 'Officer Zbyszewski', 'José', 'Kirk Vogel', 'Col. Morty Bennett', \"Wilfred 'Freddy' Malick\", 'Jonathan Pangborn', 'Dwight Frye', 'Calvin Chadwick', 'Sergei', 'Mitchell Ellison', 'Sneeper Madame', 'Jamel Shabazz', 'Ross Lieutenant', 'Victor', 'Roger Dooley', 'DeeDee', 'Izel', 'Dr. Tiboldt', 'Happy Hogan', 'Det. Sgt. Brett Mahoney', 'Agent Anderson', 'Tomas', 'Sibyl', 'Yori', 'Chase Stein', 'Rollo', 'Admiral Jolnes', 'Mr. Dell', 'Edwin Dunlap', 'Kusack', 'General Rick Stoner', 'Deputy Murphy', 'Pulsus', 'Boy', 'Sylvie', 'Agent Rebecca Stevens', 'Eros', 'Billy', 'Jones', 'Zaya Okonjo', 'Laura', 'Yuchen', 'Dum Dum Dugan', 'Lieutenant Evans', 'Steve Rogers', 'Norex', 'Makani', 'Shannon', 'Foggy Nelson', 'Young Adult Pop', 'Cajun', 'Robin', 'Bar Monkey', 'Louise', 'Mitchell Carson', 'Canelo', 'John Hammer', 'Watchdog Victor', 'FSO Agent', 'C-Money', 'Dr. Noah Burstein', 'Reva Connors', 'Johann Schmidt', 'Charlie', 'Phil Jones', 'Gina', 'Roscoe Sweeney', 'Joe the Orderly', 'Kraglin', 'William Lopez', 'Philip Cabroni', 'Vaughn', 'Additional Voices', 'Eitri', 'Detective Imada', \"'Pistol Pete' Stokes\", 'Amy', 'Steve Wilson', 'Mrs. Davis', 'Marion James', 'Bucky Barnes', 'Oeznik', 'Young Bill', 'Murakami', 'Edwin Jarvis', 'Pete Boggs', 'Latimer Zyl', 'Shane', 'Agent Brandon Gamble', 'Mayan', 'Sandra', 'Crawley', 'Maria Rodriguez', 'Eva Belyakov', 'El Aguila', 'Hai-Qing Yang', 'AJ', 'Agent Noelle Walters', 'Hipster Earl', 'Wrecker', 'Waipo', 'Daimon Helstrom', 'Dale Yorkes', 'Billy Russo', 'Reporter', 'Michelle Caldwell', 'Uncle Tucker', 'Grill', 'Dr. Andrew Lee', 'The Vicar', 'Agent Shaw', 'Sarah Wilson', 'Shuri', 'Bob Shlottman', 'Sara', 'Adina Johnson', 'Bartender', 'Aisha', 'Sharon Carter', 'Lexi Raymond', 'Lady Karaba', 'Damon Boone', 'Peng', 'Father Joshua Crow', 'Chen Wu', 'Topaz', 'Dylan', 'Bron-Char', 'Felix Blake', 'Haruto Yakimura', 'Rosie', 'Maria Stark', 'Francisco', 'Mrs. Mahoney', 'Actor Loki', 'Nonna Manfredi', 'General Cole', \"Lt. Col. James 'Rhodey' Rhodes\", 'Iron Man', 'Estella', 'Detective Defford', 'Leah', 'Kthara', 'Nesbitt', 'Jack Murdock', 'Khonshu Performer', 'Howard Stark', 'Meredith Quill', 'Ebony Maw', 'Tiago', 'Jasper Evans', 'Agent Winn', 'Nobu', 'Senator Gaius Ponarian', 'Bynum', 'Dr. Fitzgibbon', 'Ana Helstrom', 'Mark Higgins', 'Hogun', 'Watchdog Oscar', 'Det. Oscar Clemons', 'Priya', 'Molly Hernandez', 'Kingpin', 'Young Antonia', 'David Ellerh', 'Computer Tech', 'Armed S.H.I.E.L.D. Guard', 'Justin Hammer', 'Inspector Priscilla Ridley', 'Bereet', 'Calvin Zabo', 'Mr. Cardozo', 'Missy', 'Zack', 'MIT Assistant Vice Chancellor', 'Heavy', 'Agent McCafferty', 'Undersecretary Walter Thomas', 'Gunner', 'Victoria', 'Sakas', 'Angie Martinelli', 'Bailiff', 'Pretorious Pryce', 'Chief Wellins', 'Kree Doctor', 'Young Matt', 'Lash', 'Yatzil', \"Colleen O'Brien\", 'Catherine Wilder', 'Prime Minister Olshenko', 'Father Delgado', 'Melina', 'Henry Yip', 'Young Daimon', 'Maddie', 'Liz', 'Agent Flynn', 'Ador', 'Edison Po', 'Detective Prendergast', 'Hercules', 'Secretary of State Thaddeus Ross', 'Philip', 'Comanche', 'Gabe Jones', 'Sinara Guard', 'Catherine Starr', 'Agnes', 'Leo Lieberman', 'Mouse', 'Alexander Pierce', 'C.J. Powell', 'Thomas Gloucester', 'Gale', 'Leet Brannis', 'Papa', 'Stoner Chronicom', 'Seema Nadeem', 'Young Adult Cottonmouth', 'John', 'John Pilgrim', 'Jack Duquesne', 'Mike Peterson', 'Ace Peterson', 'D.W. Griffith', 'Candace', 'Samuel Sterns', 'Lisa Castle', 'Domingo Colon', 'Isaiah', 'Nicole Mackenzie', 'Mr. Delmar', 'Aamir', 'Bruno', 'Bryce', 'Kenneth Turgeon', 'Katie Thompson', 'Jacques Dernier', 'General Hale', 'Battlestar', \"Sergeant Jacob 'Jake' Smith\", 'Thena', 'Harold Meachum', 'Tina Minoru', 'Kimball', 'Kaya', 'Dr. Helen Cho', 'Darcy Lewis', 'Lance Hunter', 'Ava', 'Russell Feldman', 'Queen Rynda', 'BB', 'Bobby', 'Vladimir Ranskahov', 'David Schultz', 'Beautiful Woman', 'Private Tilden', \"Hernan 'Shades' Alvarez\", 'Angry Man', 'The Seamstress', 'Gerald Sharpe', 'Dorothy', 'Diaz', 'Natalie Rushman', 'Jack', \"Cliff 'Method Man' Smith\", 'Dr. Abraham Erskine', 'Pam', 'Petra Larsen', 'Darren Cross', 'Destiny', 'Griffin Sinclair', 'Colonel Flynn', 'Ravonna Renslayer', 'Topher', 'Cindy', 'Antonia', 'Kurt', 'Marilyn', 'Marcus Scarlotti', 'Andrea Morales', 'Kourtney', 'Kilgrave', 'Brett Latour', 'Dutton', 'Mr. Edwards', 'Dr. Garrison', 'Colonel Ernst Mueller', 'Gamora', 'Thembi Wallace', 'Inn Keeper', 'Agent Kaminsky', 'Thomas Roberts', 'Dapper Dan', 'Adrian Toomes', 'Mike on a Bike', 'Dr. Weiss', 'Kasius', 'Inez Green', 'The Broker', 'Lian May', 'Jonah', 'Hero Torfan', 'Donnie Gill', 'Officer Bowie', 'Young Hope', 'Agent Alvarez', 'Frances', \"W'Kabi\", 'Ursa', 'Norm', 'Strucker', 'Mrs. Lee', 'Dr. Broussard', 'Concierge', 'Lady Sif', 'Alan', 'Loretta Dooley', \"T'Challa\", 'Tucker Shockley', 'Flash Thompson', 'Cosmo the Space Dog', 'Agent Mike Li', 'George Bach', 'Young Janet', 'Vernon Masters', 'Tillman', 'Santino', 'Rose', \"Meredith's Brother\", 'Agent Sitwell', 'Agent Oliver', 'Charles', 'Luke', 'Agent Fox', 'Baby Groot', 'Lana', 'Charles Wallace', 'Sergei Konchevsky', 'Mason', 'Julia Price', 'Todd Chesterfield', 'Cop', 'Bronaja', 'Neville', 'Boyle', 'Kora', 'Thomas', 'Maximus', 'Zoe', 'Warden Riggle', 'SAC Tammy Hattley', 'Agent Pinksy', 'Sam', 'Mr. Berkowitz', 'Judge Amanda Garmon', 'Christian Ward', 'Marci Stahl', 'Shepard', 'Young Dex', 'Frank Levin', 'Kazi', 'Atarah', 'Antoine Triplett', \"Detective Brigid O'Reilly\", 'Ramonda', 'Rex', 'Wyatt', 'Sif', 'Holden', 'Tiny', 'Manuel Silva', 'Tony Diaz', 'Bill Fisk', 'Detective Connors', 'Shawn', 'Ruihua', 'Agent Quan', 'Camilla Reyes', 'Mrs. Chen', 'Blondie', 'Tony Caine', 'Victoria Hand', 'Olga Pachinko', 'Jakob Nystrom', 'Layla El-Faouly', 'Katya', 'Emily Deville', 'Cornelius P. Willows', 'Detective Andrew Henry', 'Flash', 'Dr. Bruner', \"Brianna 'Berry' Gelden\", 'Qovas', 'Sunjna Nadeer', 'Torx', 'Chief Ronnie Velasco', 'Rosalie Carbone', 'Saracen', 'Brunette Woman', 'Alexandra Reid', 'Connie Lin', 'Lennox', 'Young Kilgrave', 'Davos', 'Ray Krzeminski', 'Agent Mack', 'Jack Rollins', 'Bobbi', 'Dr. Fine', 'Agent Fisher', 'Ahmad', 'Santino Noguera', 'Grant Ward', \"Henry 'Pop' Hunter\", 'Hank', 'Odin', 'Dr. Gregory Tepper', 'Hirochi', 'Vincent', 'Zainab', 'Derek Bishop', 'Blonde Zealot', 'Daredevil', 'Luanne', 'Kate Bishop', 'Li', 'Owais', \"Maitre d'\", 'Greaseball', 'Cassandra', \"Mortimer 'Mr. Fish' Norris\", 'Habooska the Horrible', 'Phastos', 'Eldrac', 'Protester #1', '12 Year Old Davos', 'Yelena', \"James Buchanan 'Bucky' Barnes\", 'Assistant', 'Vido Arocho', 'Nicole', 'Eli Bradley', 'Jason', 'Mr. Kitson', 'Doctor Ford', 'Francis', 'Young Quill', 'Alice Hernandez', 'Pax', 'Dr. Erskine', 'Special Agent Sonya Falsworth', 'Talos', 'Candice Lee', 'Officer Pike', 'Agent Cale', 'Vanchat', 'Fortress Soldier', 'Brahl', 'Caleb', 'Yinsen', 'Tommy Maximoff', 'Squabbles aka Reggie', 'L.T. Koenig', \"John 'Bushmaster' McIver\", 'Hugh Jones', 'Senator Atwood', 'Akela Amador', 'Major Kathleen Sparr', 'Sprite', 'Aito', 'Senator Cherryh', 'Uncle Bud', 'Sonny Burch', 'Mantis', 'Bek', 'James Rhodes', 'Senator Brandt', 'Agent Garrett', 'Ivan', \"Young T'Challa\", 'Nate', 'Sam Stein', 'Felix', 'Chronicom Hunter #1', 'Gigi', 'Aaron Davis', 'Bret Johnson', 'Agent Hart', 'Reno', 'Crixon', \"Isabelle 'Izzy' Hartley\", \"Benjamin 'Dex' Poindexter\", 'Lulu', 'Werner von Strucker', 'Derek', 'Bjorn', 'Joe', 'Motel Clerk', 'Taserface', 'Nigel Garrison', 'Bronwyn', 'Sokovian Acid Student', 'Baker', 'Jackson Norris', 'Officer Fitzgibbon', 'Arthur', 'Dr. Grady', 'Agent Jemma Simmons', 'MJ', 'Kevin Singleton', 'Agent Tanner', 'Denarian Saal', 'Sandi Ann', 'Taryan', 'Janet Van Dyne', 'Cadet Officer', 'Young Pym', 'Rebel Leader', 'Young Molly', 'Patrick', 'Dallas Wyatt', 'Maston-Dar', 'Elektra Natchios', 'Eiffel', 'Greg Pressfield', 'Alisa Jones', 'Keith', 'Agent Johnson', 'Mr. Ho', 'Donald Hooper', 'Black Widow', 'Maya Lopez', 'Male Reporter', 'Louise Thompson', 'Barbara Shlottman', 'Matias', 'Kyle', 'Mr. Wilson', 'Director Jeffrey Mace', 'Josh Miller', 'Will Daniels', 'Chief Bernie', 'Mr. Zhang', \"Anthony 'AWOL' Wall\", 'Auran', 'Aunt Cindy', 'Vin-Tak', 'Saanvi Nadeem', 'Heather Rand', 'Lopes', 'Millennial Megan', 'Skeevy Guy', 'Young Elektra', 'Crank', 'Agent Jones', 'Xavin', 'Lila', 'Paripan', 'Sally', 'Caretaker', 'Tamar', 'Gor', 'Government Official', 'Agent Arinori', 'Ruby', 'Serene Inhuman', 'Ultron', 'Audrey Nathan', 'Fandral', 'Alpha', 'Janis', 'Nova Prime', 'Agent Crawford', 'Clea', 'Brad Davis', 'Caldwell', 'Alisha Whitley', 'Darnell', 'Hunter B-15', 'Secretary Ross', \"Jiaying's Assistant\", 'Jim Morita', 'Ahmad Zubair', 'Officer Cooper', 'Nathan Bowen', 'Paxton', 'Jaco', 'Spectre 3', 'Andrew Garner', 'Algrim', 'Jin Lin', 'Captain Marvel', 'Hydra Buyer', 'Cole', \"Elena 'Yo-Yo' Rodriguez\", 'Frank Castle', 'Supreme Intelligence', 'Stakar Ogord', 'Elena', 'Master Guang Bo', 'Paxton Page', 'Professor Elliot Randolph', 'Brandt', 'Young Trish', 'Anibal Izqueda', 'Aadam', 'Pepper Potts', 'Torre', 'James Montgomery Falsworth', 'Graciela Aguirre', 'Vinny', 'Rowan Hamilton', 'Selvig', 'Brandon', 'Kaecilius', 'Dr. Leslie Hansen', 'Mysterious Man', 'Eric Ambrose', 'Sugar', 'Agent Weaver', 'Miriam Fry', 'Albert', 'Lilla Mackenzie', 'Jimmy Mackenzie', 'Eric Fraser', 'Styler', 'Mobius', 'Detective Lemieux', 'Jackson Brice', 'George Stephanopoulos', 'Dr. Nicodemus West', 'Tye', 'Colleen Wing', 'Agent Calderon', 'Dr. Franklin Hall', 'Maria Castle', 'Lonnie Wilson', 'Carlos', 'Michael', 'Stephanie Malick', 'Red Skull (Stonekeeper)', 'Anatoly', 'Char', 'Justin', 'Valentina Allegra de Fontaine', 'Mac Gargan', 'Beth Quinn', 'Grace', 'Sara Haines', 'Joseph Manfredi', 'Korg', 'Lerato', 'Daniel Gibson', 'Fiz', 'Arnim Zola', 'Peanut Vendor', 'Pedro The Bartender', 'Keith Spivey', 'Lieutenant Perez', 'Jon Jon', 'Ben', 'Luis', 'Agent Piper', 'David Angar', 'Friday', 'Lucio', 'Mancini', 'Rafael Hernandez', 'Zev', 'Herman', 'Elena Rodriguez', 'Zach', 'Scott Lang', 'Adam Cross', 'Snowflake', 'Nico Minoru', 'Lewis Walcott', 'Nikola', 'Loan Officer', 'Agent Stoltz', 'Aunt Melanie', 'Arishem', 'Officer Pickett', 'Crystal', \"Daisy 'Skye' Johnson\", 'Justin Boden', 'Cloak', 'Captain America', 'Javier', 'Sissy Garcia', 'Voice of The Incredible Hulk', 'Soo', 'Qolpakc', 'Paul', 'Baal-Gad', 'Sebastian', 'Hope Shlottman', 'The Collector', 'Mrs. Yang', 'Gorgon', 'Monica Rambeau', 'Dottie Underwood', 'Drea Powell', 'Oksana', 'Cameron Tate', 'Nomble', 'Ian', 'Flint', 'Ignacio', 'Morgan le Fay', 'Dr. Kozlov', 'Abe', 'Selwyn', 'Harley Keener', 'Idaho', 'Agent Barbour', 'Koko', 'Claire Temple', 'Michael Pilgrim', 'Qasim Zaghlul', 'Alonso Barber', 'Female Prostitute', \"O'Bengh\", 'Hannah', 'Coach Wilson', 'King Valkyrie', 'Trok', 'Judge Price', 'Tweaky', 'Frank Dean', 'Malcolm Ducasse', 'Mordis', 'Young Hank', 'Birdie', 'Soh-Larr', 'Livvie', 'Nebula', 'Todd', 'Jimmy Woo', 'Miriam', 'Volstagg', 'Daniel Whitehall', 'Ex-Hydra Follower #1', 'Pat Kiernan', 'Matt Murdock', 'Robyn', 'Lieutenant Ferrara', 'Horuz', 'Young Carol (13 Years Old)', 'Teenage Willis Stryker', 'Phil Coulson', 'Agent Yauch', 'Spud', 'Ernesto The Barber', 'Eliza Schultz', 'Madame B', 'Director Tyler Hayward', 'Little Kazi', 'Josh', 'Beta', 'Jerome Deschamps', 'Danny', 'Cassie Lang', 'Sunil Bakshi', 'Father', 'Bobbi Morse', 'Loyolis', 'Chen', 'George Kotsiopoulos', 'Young Elena', \"Meredith's Best Friend\", 'Marc Spector', 'Dr. Seth Honicky', 'Ned Leeds', 'Brian Jones', 'Holden Radcliffe', 'Protester #2', 'Torrance', 'Agent Lim', 'Camper #4', 'Hank Sanderson', 'Dr. Stephen Strange', 'Kingo', 'Ronnie Chang', 'Elena Chavez', 'Doris Toomes', 'Dr. Evan Declan', 'Dave', 'Brendan', 'Yuri Zaikin', 'Steven Benowitz', 'Barb', 'Xialing', 'Police Officer', 'Colonel Victor Ramon', 'Agent Monti', 'Felix Manning', 'Death Dealer', 'Neils', 'Trish Walker', 'Costel', 'Young Tandy', 'Natasha Romanoff', 'Uncle Timmy Nelson', 'Michael Carter', 'Sheldon', 'Narblik', 'Stan Gibson', 'Ovechkin', 'Copper', 'Emma', 'Nathaniel Pietro Barton', 'Savin', 'Okoye', 'Cass', 'Dr. Jazuat', 'Lucas', 'Strieber', 'Actor Hela', 'Sofia', 'Zoha', 'Toad', 'Alexei', 'Agent Lumley', 'D.K.', 'Young Black Bolt', 'Sonia', 'Oscar Arocho', 'Martha', 'Tyr', 'Eric Hong', 'Janet Stein', 'Reid Pearson', 'Gideon Shaw', 'Joan Rivers', 'White Power Dave', 'Young Grant', 'Frigga', 'Agent Rick Ramirez', 'Samuel Voss', 'Tone', 'George Talbot', 'Ingrid', 'Chad', 'Josh Elliott', 'Thunderball', 'Ellis', 'Darius', 'Agent Foster', 'Xiao Chen', 'Beverly', 'Auntie Ingrid', 'Agent Ford', 'Karla Faye Gideon', 'Brian Hayward', 'Hameed', 'Loki', 'Shaun', 'General Ross', 'Diego', 'Wong', 'Dagger', 'Doris', 'Taweret', 'Wilma Cully', 'Mama Mabel', 'The Sheikh', 'Joy Meachum', 'Nurse Brad', 'Gedrick', 'Tibor', 'Colonel', 'Seymour', 'Young Tyrone', 'Dreykov', 'Karun', 'Dan Hartlett', 'Mikayla', 'Tony Stark', 'Sway Calloway', 'Kropsky', 'Esther', 'Young Ava', 'Michelle Raymond', 'Roxy Glass', 'Officer Derrick Jackson', 'Dennis Bukowski', 'Pablo', 'Dove', 'Tess', 'John Mackenzie', 'Trooper', 'Vicar', 'Antoine', 'Black Panther', 'Coach Alphona', 'Leonard', 'Semyon', 'Surtur', \"General 'Thunderbolt' Ross\", 'Alex Wilder', 'Cameraman', 'Agent King', 'Janice', 'Wendy Ross-Hogarth', 'Dr. List', 'Ghost Rider', 'Marlene Fisk', 'Anderson Schultz', \"Meredith's Mother\", 'Alicia', 'Recruit #1', 'Dr. Goodman', 'Bridget', 'Krista Dumont', 'Joseph Bauer', 'Falcon', 'Colonel Chester Phillips', 'Melvin Potter', 'Monica Rambeau (11 Years Old)', 'Seth Dormer', 'Agent Slate', 'Agent Maria Hill', 'Crony', 'Auntie Ruby', 'Phineas Mason', 'Toshiro Mori', 'Gorr', 'Chief Duchamp', 'Sol Rama', 'Lt. Carpenter', 'Ben Urich', 'Zemo', 'Tilda Johnson', 'Alistair Fitz', 'Pedestrian', 'Marta', 'Nurse Billy', 'Carson Wolf', 'Iridia', 'Shane Larson', 'Anna Nelson', 'Heimdall', 'Randy', 'Ivan Hess', 'Edwin Abbott', 'Sana', 'Burnell', 'Dr. Nic West', 'Stirling', 'Alex Tilden', 'Agent Melinda May', 'Carol', 'Little Maya', 'Chan Ho Yin', 'Shawna Lynde', 'Ayesha', 'Mr. Cobbwell', 'Maggie', 'Gabriella Rosetti', 'Triton', 'Gabriel Soto', 'Morgan Stark', 'Brick', 'Albert Thompson', 'Porcupine', 'Holo', 'Jano', 'David Lieberman', 'Buyer', 'Cab Driver', 'Detective Blake', 'Kerry Duggan', 'Uzman', 'Maureen Denton', 'Elliot', 'Archeologist', 'Gordon', 'Ted', 'Queen Ramonda', 'Agent Coulson', 'Rosalind Price', 'Zrinka', 'Clint Barton', \"Qasim's Translator\", 'Agent Mulcahey', 'Ward Meachum', 'Dr. Torres', 'Councilwoman Hawley', 'Joaquin Torres', 'Clay Wilson', 'Hex', 'Teenage Carl Lucas', 'Benjamin Donovan', 'Stewart', 'Killmonger', 'Maria', 'Isaac', 'Aiko', 'Pryce Cheng', 'Strucker Mercenary', 'Deputy Ken Ogden', 'Prison Guard', 'Dr. Irene Bickell', 'Jason Ionello', 'Dr. Chung', 'Roger', 'Ronan', 'Whitney Frost', 'Christopher Roth', 'Adian Younge', 'Chauncey', 'Guterman', 'Alex Wesley', 'Dr. Samberly', 'Dr. Lawrence', 'Mrs. Vistain', 'Gao Lei', 'Chris Yen', 'Schneider', 'Frederick', 'Nathi Zuma', 'Thor', 'Gene Hernandez', 'Officer Kennedy', 'Anton Mogart', 'John Bruno', 'Dr. Arnim Zola', 'Wendy', 'Young Mariah', 'Michael Kemp', 'Gary', 'Larry', 'Flora', 'Esther Falb', 'Jen', 'Doctor David Kurata', 'E.D.I.T.H.', 'Etta Lucas', 'Ethan', 'Brett Mahoney', 'Jimbo', 'Debbie', 'Stacey Yorkes', 'Amit', 'Drax', 'Lee', 'Linda', 'Carlo Eastman', 'Vision', 'Huhtar', 'William Rawlins', 'Pip the Troll', 'Detective', 'Gregory Sallinger', 'Yat-Sen', 'Agent Diaz', 'Agent Jackson', 'Michelle', 'Colonel Ray Schoonover', 'Runa', 'Gef', 'Herman Schultz', 'Big Chief Roland Duplantier', 'Lincoln Campbell', 'America Chavez', 'Edward Tate', 'Ana Silva', 'King Laufey', 'Committee Chairperson', 'Skinny Steve', 'Lila Barton', 'Heather', 'Ott', 'Hek-Sel', 'Kamar-Taj Teacher', 'Lemuel Pilgrim', 'Laura Barton', 'Director Kenneth', 'Parish Landman', 'Betty Ross', 'General Andaz', 'Nathaniel Malick', 'Kree Captain', 'Fariha', 'Viro', 'Olivia Walker', 'Martina', 'Jemma Simmons', 'Yasmin', 'Anton Petrov', 'Yondu Udonta', 'Peter Scarborough', 'Tommy Chang', 'Radovan Bernivig', 'Dovich', 'Valkyrie', 'Nico', 'Lindsay', 'Jerry', 'Neda Kazemi', 'Christine Everhart', 'Rick', 'Briggs', 'Agent Daisy Johnson', 'Jasper Sitwell', 'Faith Evans', 'Tawni', 'Dr. Lingenfelter', 'Selim', 'Dr. Eileen Mercer', 'Sebastian Derik', 'Sharon', 'Stephanie aka Billie', 'Male Prostitute', 'Franklin Delano Roosevelt', 'Archer Cavallo', 'Vilca', 'Bobby Fish', 'Luke Jacobson', 'Agent Nathanson', 'Reporter 2', 'Councilman Rockwell', 'Lori Henson', 'Hope Mackenzie', 'Rufus', 'Dr. Streiten', 'Adamo Dioli', 'Theo', 'Oscar', 'J. Jonah Jameson', 'Sasha Demidov', 'Bakuto', 'Lieutenant Lucas', 'Howard the Duck', \"Raymond 'Piranha' Jones\", 'Agent Leo Fitz', 'Doyle', 'Octavian Bloom', 'Lord Thornally', 'Kitang', 'Rory', 'Anitolov', 'Arthur Harrow', 'Detective Rafael Scarfe', 'Megan McClaren', 'Agent Phil Coulson', 'Chase Brunski', 'Detective Dorsey', 'Jack Thompson', \"Timothy 'Dum Dum' Dugan\", 'Titania', 'John Walker', 'Sister Maggie', 'Lead SVR Agent', 'Young Gideon Malick', 'Ringmaster', 'Wendy Spector', 'Dr. Karl Malus', 'Wilson Fisk', 'Ying Nan', 'Sequoia', 'Carina', 'Sersi', 'Avalon', 'Catering Captain Gary', 'Thomas Blaskowski', 'Agent Doyle', 'Ayla', 'Anansi', 'Maynard', 'Young Danny Rand', 'Abby', 'Forger', 'Richie', 'Miss Minutes', 'Dr. Otto Octavius', 'Ulysses Klaue', 'Amy Minoru', 'Cricket', 'The Baroness', 'Orville', 'Auntie Zara', \"Maximillian 'Max' Tatum\", 'Anton Ivanov', 'Sonya', 'Becca', 'May Parker', 'Keely', 'Tobias', 'Lars', 'D.A. Samantha Reyes', 'Mr. Kazemi', 'Deke Shaw', \"N'Jobu\", 'Dr. Pascal Vega', 'Olaf', 'Agent Tyler', 'Stick', 'Long-Haired Gambler', 'Shameek Smith', 'Officer Carl Nussbaumer', 'Raza', 'Major Allen', 'Karli Morgenthau', 'Dr. Marcus Benson', 'Najma', 'Andre', 'Ivan Vanko', 'Klev', 'Happy Sam Sawyer', 'Najaf', 'Detective Mark Bailey', 'Tinker', 'Navid', 'Miles Lydon', 'Evita Fusilier', 'Batroc', 'ESU Lieutenant Mario Green', 'Steve Danvers', 'Ned', 'Albert Rackham', 'Biff', 'Frank Castle Jr.', 'Officer Anderson', 'Agent Kim', 'Justis Ambrose', 'Agent Vega', 'Tina Adams', 'Mina Hess', 'Black Sky', 'Dornfeld', 'Tyesha', 'Isaiah Bradley', 'Karnak', 'Goon Three', 'Doctor Zakarian', 'Luther Banks', 'Andrew Brandt', 'Jessica Jones', 'Young Medusa', 'Agent Harlan', 'Darcy', 'FSB Commander', 'Master Hamir', 'Dinah Madani', 'Karine', \"Jimmy 'The Bear'\", 'Peter Parker', 'Detective Costa', 'Francisco Rodriguez', 'Crispus Thug', 'Ego', 'Armand VII', 'Maggie Lang', 'Dr. Hamid Madani', 'Soledad', 'Hamir', 'Hasan', 'Yusuf', 'Robin Hinton', 'Knox', 'Agent Harris', 'Walt Cooper', 'Abomination', 'Turk Barrett', 'Doctor Strange', 'The Weasel', 'Noah', 'Unique', 'Razor Fist', 'Curtis Hoyle', 'Dr. Patel', 'Theo Nelson', 'Young Natasha', 'Choo Choo Broussard', 'Chris Murray', 'Farah Madani', 'Montalban', 'Ho Yinsen', 'Gretchen', 'Kevin Page', 'Att-Lass', 'Maury Tuttlebaum', 'John Epps', 'Sheikh Abdullah', 'Dale', 'Sam Wilson', 'Ammit', 'Leslie Dean', 'Bert Hunter', 'Arthur Walsh', 'Asgardian Stagehand', 'Audrey Eastman', 'Heinz Kruger', 'Skurge', \"T'Chaka\", 'Dr. Ivchenko', 'Harold Simcoe', 'Adrian', 'Charles Bradley', 'Diontey', 'Limbani', 'Len Sirkes', 'Ariann', 'Spectre 1', 'Young Gamora', 'Leland Owlsley', 'Megan Henderson', 'Andre Deschaine', 'Silvio', 'Thomas Ward', 'Yusef Hadad', 'Carla Talbot', 'Aldrich Killian', 'Mallory Book', 'Nakia', 'State Senator Asa Henderson', 'Christiane Amanpour', 'Lei Kung', 'Kevin', 'Aida', 'Officer Fuchs', 'Francis Noche', 'Solomon', 'Silke', 'Zeus', 'Officer Stuart', 'Kalinda Porter', 'Fletcher Heggs', 'Otto Mink', 'Quinton the Great', 'Reese', 'Detective Flores', 'A.U.S.A. Colin Dunbar', 'Kamala Khan', 'Wendell Rand', 'Anne Marie Hoag', 'Nicholas Lee', 'Cooper Barton', 'Hank Pym', 'Gilmore Hodge', 'Frank', 'Paul Edmonds', 'Eliza', 'Jennifer Walters', 'Reed Richards', 'Edward Nelson', 'Robert Minoru', 'Joseph Danvers', \"Cornell 'Cottonmouth' Stokes\", 'Ian Boothby', 'Will Adams', 'Kate', 'Maria Hill', 'Leticia', 'Doctor Stephen Strange', 'Corpsman Dey', 'Giyera', 'Ajak', 'Herb', 'Nazi General', 'Steve Scott', 'Darryl the Tour Guide', 'Asgard Tourist', 'Aunt May', 'Kincaid', 'William Ginter Riva', 'Agent Wellers', 'Isodyne Receptionist', 'Darrell Mitchell', 'Young Maximus', 'General Joe Greller', 'Madame Gao', \"Agent O'Connor\", 'Will Simpson', 'Betty Carver (Radio Actor)', 'Jackson', 'Joel Spurlock', 'Armand III', 'Weems', 'Duane Porter', 'Kyle Zeller', 'Cecilio', 'Chronicom', 'Main Guard', 'Graham', 'Peggy Carter', 'Miek', 'Eli Morrow', 'Jeffrey Mace', 'Julien Beckers', 'Senator Stan Ori', 'Lia', 'Gilgamesh', 'Agent Julian', 'Officer', 'Sal Blaskowski', 'President Ellis', 'Chip Womack', 'Proxima Midnight', 'Rhodey', 'Agent Phelps', 'Erik Killmonger', 'Rintrah', 'Captain Carter', 'Maya Hansen', 'Auntie Chantelle', 'Stan Lee', 'Stone', 'Jarvis', 'Ruben Mackenzie', 'Casey', 'Detective Sgt. Thompson', 'Anton', 'Billy Maximoff', \"Willis 'Diamondback' Stryker\", 'The Ancient One', 'Archbishop Terrazi', 'Billy Koenig', 'Bruce Banner', 'Zach Lieberman', 'Malekith', 'Marcus', 'Quentin Beck', 'Police Officer #1', 'Professor Steger', 'News Reporter', 'Daniel Drumm', 'Aunt Jeanie', 'Randall Spector', 'Zuri', 'Victor Stein', 'Hope Van Dyne', 'JARVIS', 'Mrs. Shelby', 'Dimitri', 'Ian Quinn', 'Pizza Poppa', 'Young Ana', 'Jennifer Fisher', 'Obadiah Stane', 'Nick Fury', 'Tall Zealot', 'Jace Montero', \"Alphonso 'Mack' Mackenzie\", 'Grotto', 'Karolina Dean', 'Dante Chapman', 'Kamran', 'Councilman Singh', 'Armed Guard', 'Ant-Man', 'Hangar Guard #2', 'Jake Nelson', 'Glenn Talbot', 'Betty', 'Genesis', 'Dr. Curt Connors', 'Miles Van Ert', 'Stanley', 'Luca Russo', 'Locus', 'Red Dagger', 'General Androvich', 'Medusa', 'John Donnelly', 'Viola', 'Lieutenant James Rhodes', 'Carl Creel', 'Pietro Maximoff', 'Agent More', 'Druig', 'Elihas Starr', 'Dr. Christina Raynor', 'Agent Thomas', 'Sinara', 'Patricia Wilson', 'Korath', 'Lawrence Wilkins', 'Airman Richardson', 'Manny', 'Eddie Axton', 'Agent Baylin', 'Principal Morita', 'Mother', \"Arturo 'El Rey' Gomez III\", 'Bus Driver', 'Chancellor Hui', 'Delores', 'Mrs. Hart', 'Actor Thor', 'Otis Johnson', 'Virgil', 'Madisynn', 'Agent Jacobson', 'Christine Palmer', 'Ryhno', 'Agent Davis', 'Donald', 'Eir', 'Sowande', 'Smithsonian Guard', 'J.T. James', 'Engine Pirate', 'Young Jessica', 'Doctor Wu', 'Tech', 'D-Nice', 'Carol Danvers', 'Agent Wahl', 'Yelena Belova', 'Detective Tomas Ciancio', 'Dane Whitman', 'Tyler', 'Trevor Khan', 'Mr. Immortal', 'Isabela Alvarez', 'Vic Jusufi', 'Ayo', 'FDNY Paramedic', 'Betty Brant', 'Melissa Bowen', 'Dr. Gabe Krasner', 'Night Waitress', 'Dr. Wilton', 'Laura Hayward', 'Sivian Foreman', 'Older Man', 'Getty', 'Oblo', \"O'Connor\", 'Hank Thompson', 'Spectre 2', 'Donna', \"Agent Alphonso 'Mack' Mackenzie\", 'Leon', 'Clint', 'Tim Maguire', 'Royal Guard Sergeant', 'Cull Obsidian', 'Susanna', 'Malachi', 'Susan Ellerh', 'Elena Cardenas', 'French Radio Pirate', 'Erik Selvig', \"Dontrell 'Cockroach' Hamilton\", 'Miguel', 'Basha', 'Benny', 'George Ashland', 'Elaine Walters', 'Rebel Skrull leader Gravik', 'Mistress', 'Maria Rambeau', 'Norma', 'Jason Wilkes', 'Detective Nandi Tyler', 'Russell', 'Raina', 'Radio Announcer', 'Nurse Smith', 'Detective Caudle', 'Flint Marko', 'Specialist Cameron Klein', 'General Gabriel', 'Lloyd Rathman', 'Dr. Gallo', 'Aunt Mindy', 'Man-Bull', 'Sammy', 'Anon', 'Cassie', 'Enoch', 'Holden Holliway', 'Senator Boynton', 'Max Dillon', 'Everett K. Ross', 'Ana Jarvis', 'Callie Hannigan', 'Nichelle', 'Holt', 'Lieutenant Decker', 'Xu Wenwu', 'Gideon Malick', 'Dottie Jones', 'Dr. Louise Hastings', 'Professor Charles Xavier', 'Vladimir', 'Finn', 'Detective Sunday', 'Baron Mordo', 'On Set Groot', 'Enrique', 'Cousin Ched', 'Nathaniel Barton', 'Liam Walsh', 'Samantha Reyes', 'On-Set Rocket', 'Dr. Christine Palmer', 'Bernie Walker', 'Agent Cleary', 'Mariah Dillard', 'Georges Batroc', 'Young Gordon', 'Chris Adler', 'Airman Whitley'}\n",
            "{'Jovan', 'Jack Russell', 'The Flaming Tuba', 'Azarel', 'Liorn', 'Ulysses Bloodstone', 'Barasso', 'Billy Swan', 'Ted (The Man-Thing)', 'Elsa Bloodstone', 'Verussa'}\n",
            "{'Agent Blake', 'Bennie Pollock', 'Agent Jasper Sitwell', 'Claire Weiss'}\n"
          ]
        }
      ]
    },
    {
      "cell_type": "code",
      "source": [
        "#Diameter of largest component\n",
        "components = sorted(nx.connected_components(G_char), key=len, reverse=True)\n",
        "diameter = nx.diameter(G_char.subgraph(components[0]))\n",
        "print('Diameter of largest connected component:', diameter)"
      ],
      "metadata": {
        "colab": {
          "base_uri": "https://localhost:8080/"
        },
        "id": "KAS1a2iILLsF",
        "outputId": "cf1cde98-6945-457f-b8bf-bf2bf669ff86"
      },
      "execution_count": 92,
      "outputs": [
        {
          "output_type": "stream",
          "name": "stdout",
          "text": [
            "Diameter of largest connected component: 5\n"
          ]
        }
      ]
    },
    {
      "cell_type": "code",
      "source": [
        "# Average shortest path length of largest component\n",
        "components = sorted(nx.connected_components(G_char), key=len, reverse=True)\n",
        "nx.average_shortest_path_length(G_char.subgraph(components[0]))"
      ],
      "metadata": {
        "colab": {
          "base_uri": "https://localhost:8080/"
        },
        "id": "P43uicL7OHQ5",
        "outputId": "9166b236-7f40-4c9d-9c90-d6f2586d1b5a"
      },
      "execution_count": 94,
      "outputs": [
        {
          "output_type": "execute_result",
          "data": {
            "text/plain": [
              "2.5147995569088657"
            ]
          },
          "metadata": {},
          "execution_count": 94
        }
      ]
    },
    {
      "cell_type": "code",
      "source": [
        "# What is that crazy outlier?\n",
        "print(sorted(G_char.degree(), key=lambda pair: pair[1], reverse=True))\n",
        "\n",
        "# Looks like its pretty much all of the Agents of S.H.I.E.L.D characters. The relationships would probably be better if we could split up characters by episode, but we don't really have any way to do that. Could talk about possible ways to deal with that in the report."
      ],
      "metadata": {
        "colab": {
          "base_uri": "https://localhost:8080/"
        },
        "id": "UpBBTfekTHDn",
        "outputId": "dbeb4c9f-6fd9-483c-e12b-fab2c0267f4f"
      },
      "execution_count": 102,
      "outputs": [
        {
          "output_type": "stream",
          "name": "stdout",
          "text": [
            "[('Nick Fury', 696), ('Peggy Carter', 668), ('Maria Hill', 652), ('Mouse', 624), ('Joe', 624), ('Sergei', 614), ('Thomas', 614), ('Ruby', 614), ('Jerry', 614), ('Marilyn', 612), ('Jackson', 612), ('Rick', 591), ('Dum Dum Dugan', 560), ('Lady Sif', 559), ('Brick', 559), ('Gunner', 554), ('Diego', 553), ('Daniel Sousa', 552), ('Agent Fisher', 552), ('Agent Ford', 552), ('Darryl', 545), ('Tiny', 534), ('Noah', 533), ('Assistant', 530), ('Bruno', 523), ('Dr. List', 519), ('President Ellis', 517), ('Ava', 515), ('Jasper Sitwell', 513), ('Li', 510), ('Ben', 510), ('Jim Morita', 504), ('Agent Anderson', 500), ('Colonel Victor Ramon', 500), ('Soldier #1', 490), ('Durant', 490), ('Joey Gutierrez', 490), ('Captain William Dole', 490), ('Agent Hauer', 490), ('Senator Ellen Nadeer', 490), ('Tat', 490), ('Qajax', 490), ('Jesse Fletcher', 490), ('Alya', 490), ('Agent Prince', 490), ('Serious Man', 490), ('General Fischer', 490), ('William May', 490), ('Vijay Nadeer', 490), ('Robert Gonzales', 490), ('Officer Carvalho', 490), ('Charles Hinton', 490), ('Marcus Daniels', 490), ('Jan', 490), ('Gabe Reyes', 490), ('Honest Eddie', 490), ('Melinda May', 490), ('Baron Von Strucker', 490), ('Tom', 490), ('Mystery Woman', 490), ('Debonair Gentleman', 490), ('Burrows', 490), ('Kebo', 490), ('Zhi', 490), ('Faulnak', 490), ('FBI Agent Jurmain', 490), ('Jiaying', 490), ('Dana', 490), ('The Amazing Mertz', 490), ('Hugo', 490), (\"Agent O'Brien\", 490), ('Watchdog Alpha', 490), ('Lorelei', 490), ('Rooster', 490), ('Polly Hinton', 490), ('Agent Rivera', 490), ('Englishman', 490), ('Roger Browning', 490), ('Mrs. Zeller', 490), ('Scientist', 490), ('Taylor', 490), ('Agent Keller', 490), ('Agent Moore', 490), ('Lucy Bauer', 490), ('Thomas Nash', 490), ('Lord Manzini', 490), ('Ellen King', 490), ('General Jacobs', 490), ('Kara Lynn Palamas', 490), ('Dr. Van Kempen', 490), ('John Garrett', 490), ('Leo Fitz', 490), ('Guard', 490), ('Cusi', 490), ('Case', 490), ('Wendell Levi', 490), ('Elias', 490), ('Kree Watch Commander', 490), ('Officer Zbyszewski', 490), ('Kirk Vogel', 490), (\"Wilfred 'Freddy' Malick\", 490), ('Dwight Frye', 490), ('Izel', 490), ('Sibyl', 490), ('Rollo', 490), ('Admiral Jolnes', 490), ('General Rick Stoner', 490), ('Boy', 490), ('Agent Rebecca Stevens', 490), ('Jones', 490), ('Laura', 490), ('Lieutenant Evans', 490), ('Robin', 490), ('Canelo', 490), ('Watchdog Victor', 490), ('FSO Agent', 490), ('Amy', 490), ('Steve Wilson', 490), ('Pete Boggs', 490), ('Agent Brandon Gamble', 490), ('Mayan', 490), ('Eva Belyakov', 490), ('Agent Noelle Walters', 490), ('Michelle Caldwell', 490), ('Grill', 490), ('The Vicar', 490), ('Agent Shaw', 490), ('Bartender', 490), ('Lady Karaba', 490), ('Peng', 490), ('Felix Blake', 490), ('Haruto Yakimura', 490), ('Rosie', 490), ('Francisco', 490), ('General Cole', 490), ('Estella', 490), ('Tiago', 490), ('Senator Gaius Ponarian', 490), ('Bynum', 490), ('Watchdog Oscar', 490), ('Armed S.H.I.E.L.D. Guard', 490), ('Calvin Zabo', 490), ('Mr. Cardozo', 490), ('Heavy', 490), ('Agent McCafferty', 490), ('Undersecretary Walter Thomas', 490), ('Pretorious Pryce', 490), ('Chief Wellins', 490), ('Kree Doctor', 490), ('Lash', 490), ('Prime Minister Olshenko', 490), ('Ador', 490), ('Edison Po', 490), ('Sinara Guard', 490), ('Stoner Chronicom', 490), ('Mike Peterson', 490), ('Ace Peterson', 490), ('Isaiah', 490), ('Nicole Mackenzie', 490), ('Kenneth Turgeon', 490), ('Katie Thompson', 490), ('General Hale', 490), ('Kimball', 490), ('Kaya', 490), ('Lance Hunter', 490), ('Russell Feldman', 490), ('Beautiful Woman', 490), ('Private Tilden', 490), ('Angry Man', 490), ('Gerald Sharpe', 490), ('Diaz', 490), ('Petra Larsen', 490), ('Marcus Scarlotti', 490), ('Inn Keeper', 490), ('Agent Kaminsky', 490), ('Kasius', 490), ('Lian May', 490), ('Donnie Gill', 490), ('Officer Bowie', 490), ('Mrs. Lee', 490), ('Concierge', 490), ('Tucker Shockley', 490), ('Tillman', 490), ('Agent Oliver', 490), ('Luke', 490), ('Agent Fox', 490), ('Lana', 490), ('Julia Price', 490), ('Todd Chesterfield', 490), ('Cop', 490), ('Boyle', 490), ('Kora', 490), ('Agent Pinksy', 490), ('Christian Ward', 490), ('Shepard', 490), ('Atarah', 490), ('Antoine Triplett', 490), ('Tony Diaz', 490), ('Agent Quan', 490), ('Camilla Reyes', 490), ('Blondie', 490), ('Tony Caine', 490), ('Victoria Hand', 490), ('Olga Pachinko', 490), ('Jakob Nystrom', 490), ('Katya', 490), ('Emily Deville', 490), ('Qovas', 490), ('Sunjna Nadeer', 490), ('Agent Mack', 490), ('Santino Noguera', 490), ('Grant Ward', 490), ('Vincent', 490), (\"Maitre d'\", 490), ('Greaseball', 490), ('Mr. Kitson', 490), ('Doctor Ford', 490), ('Pax', 490), ('Candice Lee', 490), ('Vanchat', 490), ('L.T. Koenig', 490), ('Akela Amador', 490), ('Felix', 490), ('Chronicom Hunter #1', 490), ('Agent Hart', 490), ('Crixon', 490), (\"Isabelle 'Izzy' Hartley\", 490), ('Werner von Strucker', 490), ('Bjorn', 490), ('Motel Clerk', 490), ('Baker', 490), ('Dr. Grady', 490), ('Agent Tanner', 490), ('Taryan', 490), ('Dallas Wyatt', 490), ('Maston-Dar', 490), ('Will Daniels', 490), ('Aunt Cindy', 490), ('Vin-Tak', 490), ('Agent Jones', 490), ('Audrey Nathan', 490), ('Alpha', 490), ('Agent Crawford', 490), ('Alisha Whitley', 490), (\"Jiaying's Assistant\", 490), ('Jaco', 490), ('Spectre 3', 490), ('Andrew Garner', 490), (\"Elena 'Yo-Yo' Rodriguez\", 490), ('Elena', 490), ('Professor Elliot Randolph', 490), ('Rowan Hamilton', 490), ('Agent Weaver', 490), ('Lilla Mackenzie', 490), ('Jimmy Mackenzie', 490), ('George Stephanopoulos', 490), ('Tye', 490), ('Agent Calderon', 490), ('Dr. Franklin Hall', 490), ('Michael', 490), ('Stephanie Malick', 490), ('Justin', 490), ('Agent Piper', 490), ('David Angar', 490), ('Lucio', 490), ('Mancini', 490), ('Zev', 490), ('Adam Cross', 490), ('Snowflake', 490), (\"Daisy 'Skye' Johnson\", 490), ('Javier', 490), ('Qolpakc', 490), ('Baal-Gad', 490), ('Flint', 490), ('Ignacio', 490), ('Selwyn', 490), ('Idaho', 490), ('Agent Barbour', 490), ('Qasim Zaghlul', 490), ('Hannah', 490), ('Trok', 490), ('Daniel Whitehall', 490), ('Ex-Hydra Follower #1', 490), ('Phil Coulson', 490), ('Spud', 490), ('Ernesto The Barber', 490), ('Beta', 490), ('Jerome Deschamps', 490), ('Sunil Bakshi', 490), ('Father', 490), ('Bobbi Morse', 490), ('Chen', 490), ('Young Elena', 490), ('Holden Radcliffe', 490), ('Camper #4', 490), ('Ronnie Chang', 490), ('Yuri Zaikin', 490), ('Barb', 490), ('Neils', 490), ('Copper', 490), ('Dr. Jazuat', 490), ('Sofia', 490), ('Toad', 490), ('Agent Lumley', 490), ('Martha', 490), ('Young Grant', 490), ('Samuel Voss', 490), ('George Talbot', 490), ('Chad', 490), ('Xiao Chen', 490), ('Karla Faye Gideon', 490), ('Brian Hayward', 490), ('The Sheikh', 490), ('Gedrick', 490), ('Colonel', 490), ('Kropsky', 490), ('Roxy Glass', 490), ('Tess', 490), ('John Mackenzie', 490), ('Trooper', 490), ('Agent King', 490), ('Ghost Rider', 490), ('Recruit #1', 490), ('Dr. Goodman', 490), ('Bridget', 490), ('Joseph Bauer', 490), ('Seth Dormer', 490), ('Agent Slate', 490), ('Toshiro Mori', 490), ('Lt. Carpenter', 490), ('Alistair Fitz', 490), ('Marta', 490), ('Shane Larson', 490), ('Edwin Abbott', 490), ('Burnell', 490), ('Chan Ho Yin', 490), ('Gabriel Soto', 490), ('Elliot', 490), ('Archeologist', 490), ('Gordon', 490), ('Rosalind Price', 490), (\"Qasim's Translator\", 490), ('Agent Mulcahey', 490), ('Maria', 490), ('Prison Guard', 490), ('Roger', 490), ('Schneider', 490), ('Frederick', 490), ('Nathi Zuma', 490), ('Officer Kennedy', 490), ('John Bruno', 490), ('Gary', 490), ('Ethan', 490), ('Debbie', 490), ('Amit', 490), ('Yat-Sen', 490), ('Agent Diaz', 490), ('Lincoln Campbell', 490), ('Committee Chairperson', 490), ('Ott', 490), ('Hek-Sel', 490), ('General Andaz', 490), ('Nathaniel Malick', 490), ('Kree Captain', 490), ('Viro', 490), ('Jemma Simmons', 490), ('Anton Petrov', 490), ('Tommy Chang', 490), ('Lindsay', 490), ('Briggs', 490), ('Tawni', 490), ('Dr. Lingenfelter', 490), ('Sebastian Derik', 490), ('Franklin Delano Roosevelt', 490), ('Vilca', 490), ('Agent Nathanson', 490), ('Hope Mackenzie', 490), ('Lori Henson', 490), ('Dr. Streiten', 490), ('Adamo Dioli', 490), ('Theo', 490), ('Oscar', 490), ('Lieutenant Lucas', 490), ('Doyle', 490), ('Octavian Bloom', 490), ('Lord Thornally', 490), ('Lead SVR Agent', 490), ('Young Gideon Malick', 490), ('Sequoia', 490), ('Maynard', 490), ('Abby', 490), ('Cricket', 490), ('The Baroness', 490), ('Anton Ivanov', 490), ('Tobias', 490), ('Lars', 490), ('Deke Shaw', 490), ('Dr. Pascal Vega', 490), ('Olaf', 490), ('Agent Tyler', 490), ('Long-Haired Gambler', 490), ('Dr. Marcus Benson', 490), ('Tinker', 490), ('Miles Lydon', 490), ('Biff', 490), ('Officer Anderson', 490), ('Agent Kim', 490), ('Tina Adams', 490), ('Luther Banks', 490), ('Agent Harlan', 490), ('Karine', 490), ('Francisco Rodriguez', 490), ('Robin Hinton', 490), ('Agent Harris', 490), ('Montalban', 490), ('Gretchen', 490), ('Harold Simcoe', 490), ('Spectre 1', 490), ('Thomas Ward', 490), ('Yusef Hadad', 490), ('Carla Talbot', 490), ('Kevin', 490), ('Aida', 490), ('Francis Noche', 490), ('Officer Stuart', 490), ('Reese', 490), ('Eliza', 490), ('Leticia', 490), ('Giyera', 490), ('Kyle Zeller', 490), ('Chronicom', 490), ('Main Guard', 490), ('Graham', 490), ('Eli Morrow', 490), ('Jeffrey Mace', 490), ('Julien Beckers', 490), ('Agent Julian', 490), ('Officer', 490), ('Chip Womack', 490), ('Agent Phelps', 490), ('Ruben Mackenzie', 490), ('Billy Koenig', 490), ('Marcus', 490), ('Professor Steger', 490), ('News Reporter', 490), ('Ian Quinn', 490), (\"Alphonso 'Mack' Mackenzie\", 490), ('Armed Guard', 490), ('Hangar Guard #2', 490), ('Glenn Talbot', 490), ('Genesis', 490), ('Luca Russo', 490), ('General Androvich', 490), ('John Donnelly', 490), ('Viola', 490), ('Carl Creel', 490), ('Agent More', 490), ('Agent Thomas', 490), ('Sinara', 490), ('Airman Richardson', 490), ('Agent Baylin', 490), ('Virgil', 490), ('Agent Jacobson', 490), ('Agent Davis', 490), ('J.T. James', 490), ('Agent Wahl', 490), ('Trevor Khan', 490), ('Dr. Wilton', 490), ('Laura Hayward', 490), ('Sivian Foreman', 490), ('Older Man', 490), ('Getty', 490), ('Hank Thompson', 490), ('Spectre 2', 490), ('Tim Maguire', 490), ('Susanna', 490), ('Malachi', 490), ('Basha', 490), ('Raina', 490), ('Lloyd Rathman', 490), ('Aunt Mindy', 490), ('Anon', 490), ('Enoch', 490), ('Callie Hannigan', 490), ('Holt', 490), ('Lieutenant Decker', 490), ('Gideon Malick', 490), ('Vladimir', 490), ('Young Gordon', 490), ('Chris Adler', 490), ('Airman Whitley', 490), ('Claire Temple', 431), ('Foggy Nelson', 384), ('Turk Barrett', 331), ('Jeri Hogarth', 310), ('Thembi Wallace', 301), ('Luke Cage', 270), ('Trish Walker', 270), ('Blake Tower', 257), ('Rosalie Carbone', 257), ('Benjamin Donovan', 257), ('Victor', 252), ('Reva Connors', 252), ('Todd', 231), ('Wong', 217), ('Howard Stark', 215), ('Karen Page', 206), ('Misty Knight', 203), ('Danny Rand', 203), ('Colleen Wing', 203), ('Bruce Banner', 195), ('Madame Gao', 194), ('Happy Hogan', 192), ('Mitchell Ellison', 188), ('Bobby', 188), ('Frank Castle', 188), ('Hai-Qing Yang', 185), ('Pepper Potts', 184), ('Bucky Barnes', 183), ('Peter Parker', 181), ('Thor', 175), ('Tony Stark', 167), ('Peter Quill', 166), ('Nebula', 166), ('Matt Murdock', 165), ('Clint Barton', 163), ('Miguel', 160), ('Loki', 157), ('Finn', 156), ('Gamora', 149), ('Jane Foster', 146), ('Father Lantom', 145), ('Marci Stahl', 145), ('Elektra Natchios', 145), ('Malcolm Ducasse', 145), ('Stick', 145), ('Jessica Jones', 145), ('Dale', 144), ('Natasha Romanoff', 141), ('Doctor Strange', 140), ('Hope Van Dyne', 139), ('Wanda Maximoff', 136), ('Robert', 135), ('Captain Tom Ridenhour', 135), ('Detective Donnie Chang', 135), ('Brock Rumlow', 135), ('Goon One', 135), ('Aisha Axton', 135), ('Female Reporter', 135), ('Zip', 135), (\"Wilfredo 'Chico' Diaz\", 135), ('Dana Stryker', 135), ('James Lucas', 135), ('Amos', 135), ('Captain Betty Audrey', 135), ('Jamel Shabazz', 135), ('Young Adult Pop', 135), ('C-Money', 135), ('Dr. Noah Burstein', 135), (\"'Pistol Pete' Stokes\", 135), ('Damon Boone', 135), ('Mark Higgins', 135), ('Inspector Priscilla Ridley', 135), ('Comanche', 135), ('C.J. Powell', 135), ('Young Adult Cottonmouth', 135), ('D.W. Griffith', 135), ('Candace', 135), ('Domingo Colon', 135), (\"Sergeant Jacob 'Jake' Smith\", 135), (\"Hernan 'Shades' Alvarez\", 135), (\"Cliff 'Method Man' Smith\", 135), ('Dapper Dan', 135), ('Neville', 135), ('Judge Amanda Garmon', 135), ('Connie Lin', 135), (\"Henry 'Pop' Hunter\", 135), (\"Mortimer 'Mr. Fish' Norris\", 135), ('Protester #1', 135), ('Squabbles aka Reggie', 135), (\"John 'Bushmaster' McIver\", 135), ('James Rhodes', 135), ('Nate', 135), ('Nigel Garrison', 135), ('Male Reporter', 135), ('Lopes', 135), ('Janis', 135), ('Darnell', 135), ('Jin Lin', 135), ('Anibal Izqueda', 135), ('Torre', 135), ('Sugar', 135), ('Eric Fraser', 135), ('Styler', 135), ('Lonnie Wilson', 135), ('Lieutenant Perez', 135), ('Drea Powell', 135), ('Koko', 135), ('Teenage Willis Stryker', 135), ('Protester #2', 135), ('Brendan', 135), ('Police Officer', 135), ('Sheldon', 135), ('Eric Hong', 135), ('Gideon Shaw', 135), ('Tone', 135), ('Auntie Ingrid', 135), ('Mama Mabel', 135), ('Sway Calloway', 135), ('Cameraman', 135), ('Alicia', 135), ('Tilda Johnson', 135), ('Kerry Duggan', 135), ('Teenage Carl Lucas', 135), ('Adian Younge', 135), ('Chauncey', 135), ('Alex Wesley', 135), ('Young Mariah', 135), ('Larry', 135), ('Etta Lucas', 135), ('Detective', 135), ('Faith Evans', 135), ('Stephanie aka Billie', 135), ('Bobby Fish', 135), ('Reporter 2', 135), (\"Raymond 'Piranha' Jones\", 135), ('Detective Rafael Scarfe', 135), ('Megan McClaren', 135), ('Chase Brunski', 135), ('Detective Dorsey', 135), ('Anansi', 135), ('Keely', 135), ('Shameek Smith', 135), ('Detective Mark Bailey', 135), ('ESU Lieutenant Mario Green', 135), ('Albert Rackham', 135), ('Goon Three', 135), ('Crispus Thug', 135), ('Soledad', 135), ('Chris Murray', 135), ('John Epps', 135), ('Bert Hunter', 135), ('Diontey', 135), ('Charles Bradley', 135), ('Kalinda Porter', 135), ('A.U.S.A. Colin Dunbar', 135), (\"Cornell 'Cottonmouth' Stokes\", 135), ('Darrell Mitchell', 135), ('Joel Spurlock', 135), (\"Willis 'Diamondback' Stryker\", 135), ('Dante Chapman', 135), ('Patricia Wilson', 135), ('Manny', 135), ('Eddie Axton', 135), ('Mother', 135), (\"Arturo 'El Rey' Gomez III\", 135), ('D-Nice', 135), ('Detective Tomas Ciancio', 135), ('FDNY Paramedic', 135), ('Dr. Gabe Krasner', 135), (\"Dontrell 'Cockroach' Hamilton\", 135), ('Detective Nandi Tyler', 135), ('Mariah Dillard', 135), ('Sharon Carter', 134), ('Korg', 131), ('Frigga', 131), ('Sam Wilson', 131), ('Rocket', 129), ('Jarvis', 129), ('Drax', 128), ('James Wesley', 127), ('Ray Nadeem', 127), ('Dog of Hell', 127), ('Sami Nadeem', 127), ('Young Wilson Fisk', 127), ('Judge Cynthia Batzer', 127), ('Dmitry', 127), ('Detective Hoffman', 127), ('Julie Barnes', 127), ('Josie', 127), ('Roy Olsky', 127), ('Shirley', 127), ('Vanessa Marianna', 127), ('Agent Markham', 127), ('Louisa Delgado', 127), ('John Hammer', 127), ('Roscoe Sweeney', 127), ('Kraglin', 127), ('Philip Cabroni', 127), ('Latimer Zyl', 127), ('Dr. Andrew Lee', 127), ('Mrs. Mahoney', 127), ('Nesbitt', 127), ('Jack Murdock', 127), ('Jasper Evans', 127), ('Agent Winn', 127), ('Nobu', 127), ('Bailiff', 127), ('Young Matt', 127), ('Seema Nadeem', 127), ('Vladimir Ranskahov', 127), ('Andrea Morales', 127), ('Dutton', 127), ('Agent Alvarez', 127), ('George Bach', 127), ('Santino', 127), ('Warden Riggle', 127), ('SAC Tammy Hattley', 127), ('Young Dex', 127), ('Bill Fisk', 127), ('Dr. Gregory Tepper', 127), ('Hirochi', 127), ('Francis', 127), ('Aito', 127), ('Senator Cherryh', 127), (\"Benjamin 'Dex' Poindexter\", 127), ('Agent Johnson', 127), ('Chief Bernie', 127), ('Saanvi Nadeem', 127), ('Young Elektra', 127), ('Agent Arinori', 127), ('Caldwell', 127), ('Paxton Page', 127), ('Anatoly', 127), ('Daniel Gibson', 127), ('Agent Lim', 127), ('Felix Manning', 127), ('Uncle Timmy Nelson', 127), ('Stan Gibson', 127), ('Doris', 127), ('Semyon', 127), ('Marlene Fisk', 127), ('Melvin Potter', 127), ('Ben Urich', 127), ('Anna Nelson', 127), ('Detective Blake', 127), ('Stewart', 127), ('Christopher Roth', 127), ('Mrs. Vistain', 127), ('Michael Kemp', 127), ('Esther Falb', 127), ('Brett Mahoney', 127), ('Colonel Ray Schoonover', 127), ('Parish Landman', 127), ('Neda Kazemi', 127), ('Dr. Eileen Mercer', 127), ('Rory', 127), ('Sister Maggie', 127), ('Wilson Fisk', 127), ('Agent Doyle', 127), ('Mr. Kazemi', 127), ('Black Sky', 127), (\"Jimmy 'The Bear'\", 127), ('Theo Nelson', 127), ('Kevin Page', 127), ('Leland Owlsley', 127), ('Silvio', 127), ('Silke', 127), ('Nicholas Lee', 127), ('Edward Nelson', 127), ('Agent Wellers', 127), (\"Agent O'Connor\", 127), ('Stone', 127), ('Detective Sgt. Thompson', 127), ('The Ancient One', 127), ('Police Officer #1', 127), ('Aunt Jeanie', 127), ('Mrs. Shelby', 127), ('Jennifer Fisher', 127), ('Grotto', 127), ('Vic Jusufi', 127), ('Leon', 127), ('Clint', 127), ('Elena Cardenas', 127), ('Norma', 127), ('Samantha Reyes', 127), ('Bernie Walker', 127), ('Shuri', 125), ('Okoye', 125), ('Agent Coulson', 125), ('Steve Rogers', 124), ('Roy Healy', 123), ('Ruben', 123), ('Kith Lyonne', 123), ('Tina', 123), ('Gillian', 123), ('Mrs. Elizabeth De Luca', 123), ('Ronald Garcia', 123), ('Laurent Lyonne', 123), ('Dwayne Blaskowski', 123), ('Gene Burchell', 123), ('Erik Gelden', 123), ('Peter Lyonne', 123), (\"Robert 'Whizzer' Coleman\", 123), ('Eugene', 123), ('Clair', 123), ('Linda Chao', 123), ('Francine', 123), ('Dr. Tiboldt', 123), ('Zaya Okonjo', 123), ('Gina', 123), ('Detective Imada', 123), ('Shane', 123), ('Bob Shlottman', 123), ('Detective Defford', 123), ('Det. Oscar Clemons', 123), ('Zack', 123), ('Dorothy', 123), ('Pam', 123), ('Griffin Sinclair', 123), ('Kourtney', 123), ('Kilgrave', 123), ('Inez Green', 123), ('Charles Wallace', 123), ('Frank Levin', 123), ('Wyatt', 123), ('Holden', 123), ('Manuel Silva', 123), (\"Brianna 'Berry' Gelden\", 123), ('Chief Ronnie Velasco', 123), ('Young Kilgrave', 123), ('Luanne', 123), ('Vido Arocho', 123), ('Nicole', 123), ('Alisa Jones', 123), ('Keith', 123), ('Louise Thompson', 123), ('Barbara Shlottman', 123), ('Lila', 123), ('Gor', 123), ('Officer Cooper', 123), ('Young Trish', 123), ('Dr. Leslie Hansen', 123), ('Eric Ambrose', 123), ('Char', 123), ('Grace', 123), ('Officer Pickett', 123), ('Justin Boden', 123), ('Sissy Garcia', 123), ('Hope Shlottman', 123), ('Ian', 123), ('Dr. Kozlov', 123), ('Female Prostitute', 123), ('Tweaky', 123), ('Birdie', 123), ('Robyn', 123), ('Brian Jones', 123), ('Steven Benowitz', 123), ('Emma', 123), ('Sonia', 123), ('Oscar Arocho', 123), ('Reid Pearson', 123), ('Nurse Brad', 123), ('Antoine', 123), ('Wendy Ross-Hogarth', 123), ('Pedestrian', 123), ('Stirling', 123), ('Albert Thompson', 123), ('Maureen Denton', 123), ('Dr. Torres', 123), ('Pryce Cheng', 123), ('Dr. Irene Bickell', 123), ('Doctor David Kurata', 123), ('Carlo Eastman', 123), ('Gregory Sallinger', 123), ('Ana Silva', 123), ('Sharon', 123), ('Male Prostitute', 123), ('Dr. Karl Malus', 123), ('Thomas Blaskowski', 123), ('Richie', 123), (\"Maximillian 'Max' Tatum\", 123), ('D.A. Samantha Reyes', 123), ('Officer Carl Nussbaumer', 123), ('Justis Ambrose', 123), ('Doctor Zakarian', 123), ('Andrew Brandt', 123), ('Detective Costa', 123), ('Maury Tuttlebaum', 123), ('Audrey Eastman', 123), ('Adrian', 123), ('Len Sirkes', 123), ('Will Simpson', 123), ('Sal Blaskowski', 123), ('Jace Montero', 123), ('Donald', 123), ('Young Jessica', 123), ('Russell', 123), ('Dr. Gallo', 123), ('Nichelle', 123), ('Detective Sunday', 123), ('Ultron', 120), ('The Collector', 118), ('Thanos', 117), ('Ebony Maw', 117), ('Heimdall', 115), ('Korath', 112), ('Mantis', 111), ('Kurt', 110), ('Ulysses Klaue', 110), ('Groot', 109), ('Scott Lang', 109), ('Hank Pym', 107), ('Dr. Arnim Zola', 103), ('Lila Barton', 102), ('Laura Barton', 102), ('Cooper Barton', 102), ('Proxima Midnight', 101), ('Ned', 99), ('Carlos', 98), ('Friday', 98), ('Captain Marvel', 96), ('Captain Carter', 96), ('Ayo', 96), ('Janet Van Dyne', 94), ('Wendy', 94), ('Christine Everhart', 94), ('Yondu', 92), (\"T'Challa\", 92), ('Taserface', 92), ('Howard the Duck', 92), ('Ego', 92), ('Cloak', 88), ('Dagger', 88), ('May Parker', 88), ('Captain America', 87), ('Pat Kiernan', 86), ('Nathaniel Barton', 86), (\"T'Chaka\", 85), ('Frank', 84), (\"M'Baku\", 83), ('Secretary of State Thaddeus Ross', 83), ('Betty Ross', 82), ('Rhodey', 82), ('Obadiah Stane', 82), ('Carol Danvers', 82), ('Grandmaster', 81), ('Topaz', 81), ('Surtur', 81), ('Alexander Pierce', 79), ('Dave', 79), ('Agent Sitwell', 77), ('Bakuto', 77), ('Cassie Lang', 76), ('Vision', 75), ('Corvus Glaive', 73), ('The Watcher', 73), ('Additional Voices', 73), ('Iron Man', 73), ('Tina Minoru', 73), ('Colonel Flynn', 73), ('Dr. Erskine', 73), (\"Young T'Challa\", 73), ('Black Widow', 73), ('Red Skull (Stonekeeper)', 73), ('Arnim Zola', 73), (\"O'Bengh\", 73), ('General Ross', 73), ('Black Panther', 73), ('Queen Ramonda', 73), ('Killmonger', 73), ('Carina', 73), ('Batroc', 73), ('Darcy', 73), ('Nazi General', 73), ('Ant-Man', 73), ('Christine Palmer', 73), ('On-Set Rocket', 73), ('Ramonda', 72), ('Cindy', 71), ('Sally', 71), ('Valkyrie', 71), ('Darcy Lewis', 70), ('Georges Batroc', 68), ('Black Bolt', 66), ('Mr. Harrington', 66), ('Sheriff Hardin', 65), ('Agent Ryan', 65), ('Dum-Dum Dugan', 65), ('Sarah Lieberman', 65), ('Sheldon McFee', 65), ('Agent Butch Wallace', 65), ('Rebecca Pilgrim', 65), ('Violet', 65), ('Agent Blackwell', 65), ('Amy Bendix', 65), ('Alex Doobin', 65), ('Doctor Evans', 65), ('Deputy Dobbs', 65), ('Marlena Olin', 65), ('Geiger', 65), ('José', 65), ('Col. Morty Bennett', 65), ('Calvin Chadwick', 65), ('Roger Dooley', 65), ('Det. Sgt. Brett Mahoney', 65), ('Kusack', 65), ('Deputy Murphy', 65), ('Marion James', 65), ('Edwin Jarvis', 65), ('Billy Russo', 65), ('Nonna Manfredi', 65), ('Computer Tech', 65), ('Angie Martinelli', 65), (\"Colleen O'Brien\", 65), ('Detective Prendergast', 65), ('Philip', 65), ('Leo Lieberman', 65), ('Thomas Gloucester', 65), ('Leet Brannis', 65), ('John Pilgrim', 65), ('Lisa Castle', 65), ('David Schultz', 65), ('Mr. Edwards', 65), ('Colonel Ernst Mueller', 65), ('Loretta Dooley', 65), ('Agent Mike Li', 65), ('Vernon Masters', 65), ('Rose', 65), ('Sergei Konchevsky', 65), ('Rex', 65), ('Detective Andrew Henry', 65), ('Ray Krzeminski', 65), ('Hank', 65), ('Officer Pike', 65), ('Hugh Jones', 65), ('Uncle Bud', 65), ('Sam Stein', 65), ('Ahmad Zubair', 65), ('Miriam Fry', 65), ('Albert', 65), ('Maria Castle', 65), ('Beth Quinn', 65), ('Joseph Manfredi', 65), ('Rafael Hernandez', 65), ('Nikola', 65), ('Lewis Walcott', 65), ('Dottie Underwood', 65), ('Michael Pilgrim', 65), ('Lieutenant Ferrara', 65), ('Agent Yauch', 65), ('Eliza Schultz', 65), ('Danny', 65), ('Dr. Seth Honicky', 65), ('Torrance', 65), ('Michael Carter', 65), ('Ovechkin', 65), ('Agent Rick Ramirez', 65), ('Wilma Cully', 65), ('Anderson Schultz', 65), ('Krista Dumont', 65), ('Carson Wolf', 65), ('Carol', 65), ('David Lieberman', 65), ('Clay Wilson', 65), ('Isaac', 65), ('Deputy Ken Ogden', 65), ('Dr. Chung', 65), ('Whitney Frost', 65), ('Dr. Samberly', 65), ('Jimbo', 65), ('William Rawlins', 65), ('Lemuel Pilgrim', 65), ('Director Kenneth', 65), ('Rufus', 65), ('Sasha Demidov', 65), ('Jack Thompson', 65), ('Happy Sam Sawyer', 65), ('Frank Castle Jr.', 65), ('Agent Vega', 65), ('Dinah Madani', 65), ('Dr. Hamid Madani', 65), ('Walt Cooper', 65), ('Curtis Hoyle', 65), ('Farah Madani', 65), ('Arthur Walsh', 65), ('Dr. Ivchenko', 65), ('Otto Mink', 65), ('Isodyne Receptionist', 65), ('Betty Carver (Radio Actor)', 65), ('Weems', 65), ('Senator Stan Ori', 65), ('Anton', 65), ('Zach Lieberman', 65), ('Jake Nelson', 65), ('Miles Van Ert', 65), ('Tech', 65), (\"O'Connor\", 65), ('Mistress', 65), ('Jason Wilkes', 65), ('Radio Announcer', 65), ('Ana Jarvis', 65), ('Akihiko', 61), ('Morgan Stark', 61), ('Aunt May', 61), ('Billy', 59), ('Stan Lee', 59), ('Erik Selvig', 58), ('Mary Walker', 55), ('Sophia', 55), ('Security Chief Liu', 55), ('Megan', 55), ('Bethany', 55), ('12 Year Old Danny', 55), ('Mika Prada', 55), ('Shannon', 55), ('Joe the Orderly', 55), ('Maria Rodriguez', 55), ('Chen Wu', 55), ('Priya', 55), ('Henry Yip', 55), ('Harold Meachum', 55), ('BB', 55), ('Sam', 55), ('Torx', 55), ('Davos', 55), ('12 Year Old Davos', 55), ('Caleb', 55), ('Kevin Singleton', 55), ('Sandi Ann', 55), ('Mr. Ho', 55), ('Donald Hooper', 55), ('Kyle', 55), ('Heather Rand', 55), ('Crank', 55), ('Peanut Vendor', 55), ('Mrs. Yang', 55), ('D.K.', 55), ('Joy Meachum', 55), ('Ward Meachum', 55), ('Hex', 55), ('Aiko', 55), ('Radovan Bernivig', 55), ('Ringmaster', 55), ('Avalon', 55), ('Young Danny Rand', 55), ('Becca', 55), ('Lei Kung', 55), ('Wendell Rand', 55), ('Paul Edmonds', 55), ('Lawrence Wilkins', 55), ('Ryhno', 55), ('Nurse Smith', 55), ('Agent Cleary', 53), ('Mita Nansari', 52), ('Gert Yorkes', 52), ('Aura', 52), ('Geoffrey Wilder', 52), ('Chase Stein', 52), ('Vaughn', 52), ('Hipster Earl', 52), ('Dale Yorkes', 52), ('Reporter', 52), ('Molly Hernandez', 52), ('David Ellerh', 52), ('Catherine Wilder', 52), ('Destiny', 52), ('Topher', 52), ('Mike on a Bike', 52), ('Jonah', 52), ('Frances', 52), ('Sif', 52), ('Cassandra', 52), ('Alice Hernandez', 52), ('Bronwyn', 52), ('Young Molly', 52), ('Eiffel', 52), (\"Anthony 'AWOL' Wall\", 52), ('Millennial Megan', 52), ('Xavin', 52), ('Tamar', 52), ('Graciela Aguirre', 52), ('Brandon', 52), ('Mysterious Man', 52), ('Nico Minoru', 52), ('Morgan le Fay', 52), ('Frank Dean', 52), ('Livvie', 52), ('Lucas', 52), ('Janet Stein', 52), ('Darius', 52), ('Coach Alphona', 52), ('Alex Wilder', 52), ('Gene Hernandez', 52), ('Stacey Yorkes', 52), ('Amy Minoru', 52), ('Andre', 52), ('Leslie Dean', 52), ('Quinton the Great', 52), ('Detective Flores', 52), ('Robert Minoru', 52), ('Kincaid', 52), ('Victor Stein', 52), ('Karolina Dean', 52), ('Susan Ellerh', 52), ('Pietro Maximoff', 49), ('Trevor Slattery', 48), ('Coach Wilson', 48), ('Nakia', 48), ('Ronan', 46), ('Everett K. Ross', 46), ('Dr. Christine Palmer', 46), ('Meredith Quill', 45), ('Eitri', 44), ('Selvig', 44), ('Young Gamora', 44), ('Bus Driver', 44), ('Cull Obsidian', 44), ('Chuck Donelan', 43), ('Mama Donya', 43), ('Ancient Shop Manager', 43), ('Donny Blaze', 43), (\"Augustus 'Pug' Pugliese\", 43), ('Baron Zemo', 43), ('On-Set She-Hulk Reference', 43), ('Morris Walters', 43), ('Yama', 43), ('Rudy', 43), ('Major', 43), ('Eugene Patilio', 43), ('Skaar', 43), ('Nikki Ramos', 43), ('DeeDee', 43), ('Yori', 43), ('Oeznik', 43), ('El Aguila', 43), ('AJ', 43), ('Wrecker', 43), ('Uncle Tucker', 43), ('Sarah Wilson', 43), ('Leah', 43), ('Battlestar', 43), ('Alan', 43), ('Cornelius P. Willows', 43), ('Saracen', 43), ('Lennox', 43), ('Daredevil', 43), ('Eli Bradley', 43), ('Senator Atwood', 43), ('Gigi', 43), ('Lulu', 43), ('Derek', 43), ('Arthur', 43), ('Matias', 43), ('Josh Miller', 43), ('Skeevy Guy', 43), ('Government Official', 43), ('Valentina Allegra de Fontaine', 43), ('Sara Haines', 43), ('Pedro The Bartender', 43), ('Loan Officer', 43), ('Aunt Melanie', 43), ('Nomble', 43), ('Alonso Barber', 43), ('Judge Price', 43), ('Jimmy Woo', 43), ('Hank Sanderson', 43), ('Cass', 43), ('Thunderball', 43), ('Dennis Bukowski', 43), ('Falcon', 43), ('Crony', 43), ('Porcupine', 43), ('Joaquin Torres', 43), ('Runa', 43), ('Heather', 43), ('Olivia Walker', 43), ('Dovich', 43), ('Nico', 43), ('Luke Jacobson', 43), ('John Walker', 43), ('Titania', 43), ('Ayla', 43), ('Karli Morgenthau', 43), ('Isaiah Bradley', 43), ('Abomination', 43), ('Unique', 43), ('Mallory Book', 43), ('Jennifer Walters', 43), ('Dr. Christina Raynor', 43), ('Madisynn', 43), ('Mr. Immortal', 43), ('Elaine Walters', 43), ('Man-Bull', 43), ('Holden Holliway', 43), ('Cousin Ched', 43), ('Tommy Maximoff', 42), ('Billy Maximoff', 42), ('JARVIS', 42), ('John', 41), ('King Agon', 40), ('Audrey', 40), ('Pulsus', 40), ('Makani', 40), ('Louise', 40), ('Sakas', 40), ('Queen Rynda', 40), ('Bronaja', 40), ('Maximus', 40), ('Eldrac', 40), ('Reno', 40), ('Rebel Leader', 40), ('Auran', 40), ('Paripan', 40), ('Serene Inhuman', 40), ('Crystal', 40), ('Gorgon', 40), ('Mordis', 40), ('Loyolis', 40), ('Dr. Evan Declan', 40), ('Young Black Bolt', 40), ('Tibor', 40), ('Pablo', 40), ('Iridia', 40), ('Triton', 40), ('Holo', 40), ('Ted', 40), ('Flora', 40), ('Jen', 40), ('Kitang', 40), ('Karnak', 40), ('Young Medusa', 40), ('William Ginter Riva', 40), ('Young Maximus', 40), ('Locus', 40), ('Medusa', 40), ('Royal Guard Sergeant', 40), ('George Ashland', 40), ('Sammy', 40), ('Dr. Hank Pym', 39), ('Senator Stern', 39), ('Flash Thompson', 39), ('Paxton', 39), ('Luis', 39), ('Ned Leeds', 39), ('Mr. Dell', 38), ('Hogun', 38), ('Odin', 38), ('MJ', 38), ('Fandral', 38), ('Volstagg', 38), ('J. Jonah Jameson', 38), ('Betty Brant', 38), ('David', 37), ('Jeremy', 37), ('Rockwell', 37), ('Edwin Dunlap', 37), ('Adina Johnson', 37), ('Father Delgado', 37), ('Brett Latour', 37), ('Thomas Roberts', 37), (\"Detective Brigid O'Reilly\", 37), ('Detective Connors', 37), ('Brunette Woman', 37), ('Greg Pressfield', 37), ('Nathan Bowen', 37), ('Young Tandy', 37), ('Young Tyrone', 37), ('Dan Hartlett', 37), ('Mikayla', 37), ('Chief Duchamp', 37), ('Ivan Hess', 37), ('Big Chief Roland Duplantier', 37), ('Peter Scarborough', 37), ('Evita Fusilier', 37), ('Mina Hess', 37), ('Choo Choo Broussard', 37), ('Andre Deschaine', 37), ('State Senator Asa Henderson', 37), ('Officer Fuchs', 37), ('Solomon', 37), ('Duane Porter', 37), ('Lia', 37), ('Auntie Chantelle', 37), ('Otis Johnson', 37), ('Melissa Bowen', 37), ('Benny', 37), ('Liam Walsh', 37), ('Mr. Delmar', 34), ('Saleem', 33), ('Agent Deever', 33), ('Young Sana', 33), ('Mrs. Hillman', 33), ('Muneeba', 33), ('Uncle Rasheed', 33), ('Mr. Hillman', 33), ('Aisha', 33), ('Aamir', 33), ('Zoe', 33), ('Shawn', 33), ('Zainab', 33), ('Owais', 33), ('Mr. Wilson', 33), ('Aadam', 33), ('Paul', 33), ('Hameed', 33), ('Auntie Ruby', 33), ('Sana', 33), ('Fariha', 33), ('Auntie Zara', 33), ('Najma', 33), ('Najaf', 33), ('Tyesha', 33), ('Hasan', 33), ('Yusuf', 33), ('Sheikh Abdullah', 33), ('Kamala Khan', 33), ('Kamran', 33), ('Red Dagger', 33), ('Ms. Warren', 32), ('Karen', 32), ('Liz', 32), ('Dr. Helen Cho', 32), ('Adrian Toomes', 32), ('Strucker', 32), ('Charles', 32), ('Flash', 32), ('Jason', 32), ('Fortress Soldier', 32), ('Aaron Davis', 32), ('Sokovian Acid Student', 32), ('Jackson Brice', 32), ('Mac Gargan', 32), ('Abe', 32), ('Madame B', 32), ('Doris Toomes', 32), ('Costel', 32), ('Nathaniel Pietro Barton', 32), ('Agent Foster', 32), ('Seymour', 32), ('Phineas Mason', 32), ('Randy', 32), ('Mr. Cobbwell', 32), ('Zrinka', 32), ('Strucker Mercenary', 32), ('Michelle', 32), ('Herman Schultz', 32), ('Anne Marie Hoag', 32), ('Betty', 32), ('Principal Morita', 32), ('Detective Rivera', 29), ('Father Sean Okamoto', 29), ('Eleanor Bishop', 29), ('Jolene Spivey', 29), ('Grills', 29), ('Victoria Helstrom', 29), ('Tooms', 29), ('Aubree Richards', 29), ('Tomas', 29), ('William Lopez', 29), ('Daimon Helstrom', 29), ('Father Joshua Crow', 29), ('Kthara', 29), ('Ana Helstrom', 29), ('Kingpin', 29), ('Missy', 29), ('Young Daimon', 29), ('Papa', 29), ('Jack Duquesne', 29), ('Bryce', 29), ('Kazi', 29), ('Ahmad', 29), ('Derek Bishop', 29), ('Kate Bishop', 29), ('Yelena', 29), ('Talos', 29), ('Ivan', 29), ('Maya Lopez', 29), ('Caretaker', 29), ('Keith Spivey', 29), ('Cameron Tate', 29), ('Little Kazi', 29), ('Ellis', 29), ('Esther', 29), ('Officer Derrick Jackson', 29), ('Alex Tilden', 29), ('Little Maya', 29), ('Gabriella Rosetti', 29), ('Dr. Lawrence', 29), ('Chris Yen', 29), ('Lee', 29), ('Edward Tate', 29), ('Archer Cavallo', 29), ('Agent Phil Coulson', 29), ('Catering Captain Gary', 29), ('Orville', 29), ('Sonya', 29), ('Armand VII', 29), ('Armand III', 29), ('Archbishop Terrazi', 29), ('Young Ana', 29), ('Detective Caudle', 29), ('Dr. Louise Hastings', 29), ('Enrique', 29), ('Murakami', 28), ('Lexi Raymond', 28), ('Mr. Berkowitz', 28), ('Alexandra Reid', 28), ('Mr. Zhang', 28), ('Cole', 28), ('Strieber', 28), ('Michelle Raymond', 28), ('Delores', 28), ('Sowande', 28), ('Actor Odin', 27), ('King Yakan', 27), ('Actor Loki', 27), ('Victoria', 27), ('Hercules', 27), ('The Seamstress', 27), ('Baby Groot', 27), ('Habooska the Horrible', 27), ('Brad Davis', 27), ('Zach', 27), ('Sebastian', 27), ('King Valkyrie', 27), ('Josh', 27), ('Actor Hela', 27), ('Zoha', 27), ('Janice', 27), ('Gorr', 27), ('Jason Ionello', 27), ('Guterman', 27), ('E.D.I.T.H.', 27), ('Yasmin', 27), ('Asgardian Stagehand', 27), ('Zeus', 27), ('Darryl the Tour Guide', 27), ('Asgard Tourist', 27), ('Miek', 27), ('Quentin Beck', 27), ('Dimitri', 27), ('Actor Thor', 27), ('Tyler', 27), ('Tullk', 26), ('Halfnut', 26), ('Martinex', 26), ('Councilman Yen', 26), ('French Pirate #1', 26), ('Zylak', 26), ('French Pirate #2', 26), ('Amalia Chavez', 26), ('Retch', 26), ('Sneeper Madame', 26), ('Charlie', 26), ('Sara', 26), ('Jack Rollins', 26), ('Dr. Fine', 26), ('Brahl', 26), ('Officer Fitzgibbon', 26), ('Clea', 26), ('Stakar Ogord', 26), ('Vinny', 26), ('Elena Chavez', 26), ('Narblik', 26), ('Dr. Nic West', 26), ('Ayesha', 26), ('Councilwoman Hawley', 26), ('Huhtar', 26), ('Gef', 26), ('America Chavez', 26), ('Skinny Steve', 26), ('Kamar-Taj Teacher', 26), ('Councilman Rockwell', 26), ('Master Hamir', 26), ('The Weasel', 26), ('Ariann', 26), ('Reed Richards', 26), ('Kate', 26), ('Doctor Stephen Strange', 26), ('Rintrah', 26), ('Pizza Poppa', 26), ('Councilman Singh', 26), ('Smithsonian Guard', 26), ('Engine Pirate', 26), ('Oblo', 26), ('French Radio Pirate', 26), ('Specialist Cameron Klein', 26), ('Professor Charles Xavier', 26), ('Baron Mordo', 26), ('Dr. Bill Foster', 25), ('Agent Burleigh', 25), ('Grandpa', 25), ('Young Bill', 25), ('Dr. Fitzgibbon', 25), ('Bereet', 25), ('Catherine Starr', 25), ('Darren Cross', 25), ('The Broker', 25), ('Young Hope', 25), ('Cosmo the Space Dog', 25), ('Young Janet', 25), (\"Meredith's Brother\", 25), ('Young Quill', 25), ('Sonny Burch', 25), ('Denarian Saal', 25), ('Nova Prime', 25), ('Agent Stoltz', 25), ('Young Hank', 25), ('Horuz', 25), (\"Meredith's Best Friend\", 25), ('Young Ava', 25), (\"Meredith's Mother\", 25), ('Maggie', 25), ('Uzman', 25), ('Yondu Udonta', 25), ('Anitolov', 25), ('Knox', 25), ('Corpsman Dey', 25), ('Elihas Starr', 25), ('Cassie', 25), ('On Set Groot', 25), (\"King T'Chaka\", 24), ('Maria Stark', 24), ('Dr. Broussard', 24), ('Miriam', 24), ('Vicar', 24), ('Zemo', 24), ('Lieutenant James Rhodes', 24), ('Spider', 22), ('Yon-Rogg', 22), ('Colonel James Rhodes', 22), ('Vice President Rodriguez', 22), ('Khonshu', 22), ('Dr. Grant', 22), ('J.B.', 22), ('Bill Maher', 22), ('Elias Spector', 22), ('Minn-Erva', 22), ('Norex', 22), ('Cajun', 22), ('Mrs. Davis', 22), ('Crawley', 22), ('Dylan', 22), ('Bron-Char', 22), ('Khonshu Performer', 22), ('Yatzil', 22), ('Hero Torfan', 22), ('Layla El-Faouly', 22), ('Bobbi', 22), ('Bek', 22), ('Bret Johnson', 22), ('Cadet Officer', 22), ('Supreme Intelligence', 22), ('Brandt', 22), ('Harley Keener', 22), ('Soh-Larr', 22), ('Young Carol (13 Years Old)', 22), ('George Kotsiopoulos', 22), ('Marc Spector', 22), ('Savin', 22), ('Joan Rivers', 22), ('Josh Elliott', 22), ('Taweret', 22), ('Monica Rambeau (11 Years Old)', 22), ('Anton Mogart', 22), ('Selim', 22), ('Arthur Harrow', 22), ('Wendy Spector', 22), ('Forger', 22), ('Steve Danvers', 22), ('Dornfeld', 22), ('Ho Yinsen', 22), ('Att-Lass', 22), ('Ammit', 22), ('Megan Henderson', 22), ('Aldrich Killian', 22), ('Joseph Danvers', 22), ('Maya Hansen', 22), ('Randall Spector', 22), ('Doctor Wu', 22), ('Donna', 22), ('Maria Rambeau', 22), ('Mordo', 21), ('Makkari', 21), ('Brunette Zealot', 21), ('Ikaris', 21), ('Lucian', 21), ('Kro', 21), ('Jonathan Pangborn', 21), ('Eros', 21), ('Mitchell Carson', 21), ('Sandra', 21), ('Maddie', 21), ('Gale', 21), ('Thena', 21), ('Jack', 21), ('Dr. Garrison', 21), ('Dr. Weiss', 21), ('Dr. Bruner', 21), ('Blonde Zealot', 21), ('Phastos', 21), ('Sprite', 21), ('Young Pym', 21), ('Patrick', 21), ('Algrim', 21), ('Hydra Buyer', 21), ('Kaecilius', 21), ('Dr. Nicodemus West', 21), ('Arishem', 21), ('Dr. Stephen Strange', 21), ('Kingo', 21), ('Tyr', 21), ('Karun', 21), ('Sol Rama', 21), ('Nurse Billy', 21), ('Jano', 21), ('Buyer', 21), ('Cab Driver', 21), ('Pip the Troll', 21), ('Sersi', 21), ('Navid', 21), ('Maggie Lang', 21), ('Hamir', 21), ('Dr. Patel', 21), ('Ian Boothby', 21), ('Ajak', 21), ('Steve Scott', 21), ('Gilgamesh', 21), ('Malekith', 21), ('Daniel Drumm', 21), ('Tall Zealot', 21), ('Druig', 21), ('Eir', 21), ('Dane Whitman', 21), ('Katy', 20), ('Young Xialing', 20), ('Norman Osborn', 20), ('Yuchen', 20), ('Waipo', 20), ('Justin Hammer', 20), ('MIT Assistant Vice Chancellor', 20), ('Ruihua', 20), ('Mrs. Chen', 20), ('Master Guang Bo', 20), ('Jon Jon', 20), ('Soo', 20), ('Xialing', 20), ('Death Dealer', 20), ('Shaun', 20), ('Gao Lei', 20), ('Ying Nan', 20), ('Dr. Otto Octavius', 20), ('Klev', 20), ('Razor Fist', 20), ('Dr. Curt Connors', 20), ('Chancellor Hui', 20), ('Flint Marko', 20), ('Max Dillon', 20), ('Xu Wenwu', 20), ('Agent Delancey', 19), ('Agent Cale', 19), ('Agent Garrett', 19), ('Agent Jackson', 19), ('King Laufey', 19), ('Isabela Alvarez', 19), ('The Other', 18), ('Dennis the Mailman', 18), ('Agent Rodriguez', 18), ('Phil Jones', 18), ('Agnes', 18), ('Norm', 18), ('Monica Rambeau', 18), ('Director Tyler Hayward', 18), ('Agent Monti', 18), ('Beverly', 18), ('Agent Maria Hill', 18), ('Shawna Lynde', 18), ('Herb', 18), ('Mrs. Hart', 18), ('Senator Boynton', 18), ('Dottie Jones', 18), ('Young Yelena', 17), ('Scientist Morocco 2', 17), ('Scientist Morocco 1', 17), ('Ross Lieutenant', 17), ('Young Antonia', 17), ('Melina', 17), ('Antonia', 17), ('Ursa', 17), ('Mason', 17), ('Secretary Ross', 17), ('Lerato', 17), ('Oksana', 17), ('Alexei', 17), ('Ingrid', 17), ('Dreykov', 17), ('Young Natasha', 17), ('Yelena Belova', 17), ('Johann Schmidt', 16), ('Gabe Jones', 16), ('Jacques Dernier', 16), ('Dr. Abraham Erskine', 16), (\"James Buchanan 'Bucky' Barnes\", 16), ('Senator Brandt', 16), ('James Montgomery Falsworth', 16), ('Colonel Chester Phillips', 16), (\"Timothy 'Dum Dum' Dugan\", 16), ('Heinz Kruger', 16), ('Gilmore Hodge', 16), ('Hela', 15), (\"W'Kabi\", 15), ('Linda', 15), (\"N'Jobu\", 15), ('Skurge', 15), ('Limbani', 15), ('Erik Killmonger', 15), ('Zuri', 15), (\"Lt. Col. James 'Rhodey' Rhodes\", 14), ('Natalie Rushman', 14), ('Detective Lemieux', 14), ('Ivan Vanko', 14), ('Christiane Amanpour', 14), ('Hogan', 13), ('Abu Bakaar', 13), ('Yinsen', 13), ('Raza', 13), ('Major Allen', 13), ('General Gabriel', 13), ('Alpha Dog', 11), ('Agent Jemma Simmons', 11), ('Director Jeffrey Mace', 11), ('Elena Rodriguez', 11), ('Agent Melinda May', 11), ('Agent Daisy Johnson', 11), ('Agent Leo Fitz', 11), ('Cecilio', 11), (\"Agent Alphonso 'Mack' Mackenzie\", 11), ('Jovan', 10), ('Emil Blonsky', 10), ('Elsa Bloodstone', 10), ('Barasso', 10), ('Liorn', 10), ('Samuel Sterns', 10), ('Azarel', 10), ('Major Kathleen Sparr', 10), ('Jack Russell', 10), ('Voice of The Incredible Hulk', 10), ('Leonard', 10), (\"General 'Thunderbolt' Ross\", 10), ('Martina', 10), ('The Flaming Tuba', 10), ('Billy Swan', 10), ('Ted (The Man-Thing)', 10), ('General Joe Greller', 10), ('Verussa', 10), ('Stanley', 10), ('Ulysses Bloodstone', 10), ('Special Agent Sonya Falsworth', 8), ('Fiz', 8), ('FSB Commander', 8), ('Rebel Skrull leader Gravik', 8), ('He Who Remains', 7), ('Sylvie', 7), ('Ravonna Renslayer', 7), ('Hunter B-15', 7), ('Mobius', 7), ('Miss Minutes', 7), ('Casey', 7), ('Bar Monkey', 6), ('Jackson Norris', 6), ('Herman', 6), ('White Power Dave', 6), ('Fletcher Heggs', 6), ('Dove', 5), ('Will Adams', 5), ('Agent Blake', 3), ('Agent Flynn', 3), ('Claire Weiss', 3), ('Bennie Pollock', 3), ('Agent Jasper Sitwell', 3), ('Iwua', 2), ('Night Waitress', 2)]\n"
          ]
        }
      ]
    }
  ]
}